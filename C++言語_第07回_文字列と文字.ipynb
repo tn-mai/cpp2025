{
  "nbformat": 4,
  "nbformat_minor": 0,
  "metadata": {
    "colab": {
      "provenance": [],
      "toc_visible": true
    },
    "kernelspec": {
      "name": "python3",
      "display_name": "Python 3"
    },
    "language_info": {
      "name": "python"
    }
  },
  "cells": [
    {
      "cell_type": "markdown",
      "source": [
        "# 文字列と文字"
      ],
      "metadata": {
        "id": "kJlH7Oyme9KI"
      }
    },
    {
      "cell_type": "markdown",
      "source": [
        "## キーポイント\n",
        "\n",
        "* 「文字列」は、文章を`\"`(ダブルクォーテーション)記号で囲んだもの。\n",
        "* 文字列を変数として扱うには`string`型を使う。\n",
        "* `string`型変数を足し算すると、文字列を順番につないだ新しい文字列ができる。\n",
        "* 「文字」は、ひとつの文字を`'`(シングルクォーテーション)記号で囲んだもの。\n",
        "* それぞれの「文字」には「ASCII(アスキー)コード」という番号が割り当てられている。\n",
        "* 「数字の文字」を整数に変換するには、文字`0`を引く。\n",
        "* `string`型には、文字列を操作するための様々な機能がある。\n",
        "* 文字列同士、または文字同士は比較できる。結果は「辞書順」で判定される。\n"
      ],
      "metadata": {
        "id": "apb5_O11e_Xe"
      }
    },
    {
      "cell_type": "markdown",
      "source": [
        "----\n",
        "\n",
        "## 1 文字列\n",
        "\n",
        "----\n",
        "\n",
        "`abc`や`hello`、`あいうえお`のように、文字が順番に並んでいるもののことを「文字列(もじれつ)」といいます。<br>\n",
        "C++言語で文字列をあらわすには、文章を`\"`(ダブル・クォーテーション)で囲みます。\n",
        "\n",
        "```cpp\n",
        "\"これは文字列\"\n",
        "```\n",
        "\n",
        "```cpp\n",
        "これは文字列じゃない\n",
        "```\n",
        "\n",
        "なお、プログラミングの世界では、`\"`で囲まれた文字列のように「数値や文字列を直接書いたもの」のことを「リテラル」といいます。`\"abc\"`のような文字列は「文字列リテラル」、`'a'`のような文字は「文字リテラル」、`1`や`3.14`のような数値は「数値リテラル」といいます。\n"
      ],
      "metadata": {
        "id": "R1xBZMeKfBGt"
      }
    },
    {
      "cell_type": "markdown",
      "source": [
        "### 1.1 string型\n",
        "\n",
        "「文字列を変数として扱う」には、`string`(ストリング)型を使います。<br>\n",
        "`string`型の変数は、文字列を代入したり、標準入力`cin`から文字列を読み込んだり、標準出力`cout`に文字列を出力したりできます。\n",
        "\n",
        "`string`型を使うには、`string`という名前のファイルをインクルードしなくてはなりません。\n",
        "\n",
        "**コード**\n",
        "\n",
        "```cpp\n",
        "#include <iostream>\n",
        "#include <string> // stringファイルをインクルードする\n",
        "using namespace std;\n",
        "\n",
        "int main() {\n",
        "  string a = \"Hello\";\n",
        "\n",
        "  string b;\n",
        "  cin >> b;\n",
        "\n",
        "  cout << a << \", \" << b << \"!\" << endl;\n",
        "}\n",
        "```\n",
        "\n",
        "**入力データ**\n",
        "\n",
        "```txt\n",
        "Colab\n",
        "```\n",
        "\n",
        "**実行結果**\n",
        "\n",
        "```txt\n",
        "Hello, Colab!\n",
        "```\n"
      ],
      "metadata": {
        "id": "aK2SOv9OqDnp"
      }
    },
    {
      "cell_type": "markdown",
      "source": [
        "### 1.2 string型の比較\n",
        "\n",
        "`string`型同士は比較可能です。`string`型で使える比較演算子は、次の表のとおりです。\n",
        "\n",
        "| 演算子 | 意味 |\n",
        "|:------:|:-----|\n",
        "| ==     | 2つの文字列が完全に一致している |\n",
        "| !=     | 2つの文字列に違いがある |\n",
        "| <      | 辞書順で比較したとき、左辺のほうが右辺より小さい |\n",
        "| <=     | 辞書順で比較したとき、左辺は右辺以下 |\n",
        "| >      | 辞書順で比較したとき、左辺のほうが右辺より大きい |\n",
        "| >=     | 辞書順で比較したとき、左辺は右辺以上 |\n",
        "\n",
        "「辞書順(じしょじゅん)」とは、簡単にいうと「辞書に載っている順番」です。<br>\n",
        "つまり、辞書で前の方に載っていそうな単語ほど、小さいと判定されます。\n",
        "\n",
        "ただし、大文字と小文字は区別され、「大文字のほうが小さい」と判定されます。<br>\n",
        "例えば、小文字の`a`と大文字の`Z`では、大文字の`Z`のほうが小さいです。<br>\n",
        "また、数字は大文字より小さいと判定されます。\n",
        "\n",
        ">0～9, A～Z, a～z の順番になっている辞書だと考えてください。\n",
        "\n",
        "**コード**\n",
        "\n",
        "```cpp\n",
        "#include <iostream>\n",
        "#include <string>\n",
        "using namespace std;\n",
        "\n",
        "int main() {\n",
        "  string a = \"abc\";\n",
        "\n",
        "  if (a == \"abc\") {\n",
        "    cout << \"変数aと文字列abcは等しい\" << endl;\n",
        "  }\n",
        "  if (a != \"ABC\") {\n",
        "    cout << \"変数aと文字列ABCは異なる\" << endl;\n",
        "  }\n",
        "\n",
        "  string b = \"abc\";\n",
        "  if (a == b) {\n",
        "    cout << \"変数aと変数bは等しい\" << endl;\n",
        "  }\n",
        "\n",
        "  string c = \"XYZ\";\n",
        "  if (a != c) {\n",
        "    cout << \"変数aと変数cは異なる\" << endl;\n",
        "  }\n",
        "\n",
        "  string d = \"Abc\"\n",
        "  if (a > d) {\n",
        "    cout << \"abcはAbcより大きい\" << endl;\n",
        "  }\n",
        "}\n",
        "```\n",
        "\n",
        "**実行結果**\n",
        "\n",
        "```txt\n",
        "変数aと文字列abcは等しい\n",
        "変数aと文字列ABCは異なる\n",
        "変数aと変数bは等しい\n",
        "変数aと変数cは異なる\n",
        "abcはAbcより大きい\n",
        "```\n"
      ],
      "metadata": {
        "id": "zQyOA9uG-8ox"
      }
    },
    {
      "cell_type": "markdown",
      "source": [
        "### 1.3 string型の足し算\n",
        "\n",
        "`string`型に使える演算は「足し算」だけです。`string`型を足し算すると、２つの文字列を連結した、新しい文字列が作られます。\n",
        "\n",
        ">引き算、掛け算、割り算はコンパイルエラーになります。\n",
        "\n",
        "**コード**\n",
        "\n",
        "```cpp\n",
        "#include <iostream>\n",
        "#include <string>\n",
        "using namespace std;\n",
        "\n",
        "int main() {\n",
        "  string a = \"Hello\";\n",
        "  string b = a + \", world!\";\n",
        "  cout << b << endl;\n",
        "}\n",
        "```\n",
        "\n",
        "**実行結果**\n",
        "\n",
        "```txt\n",
        "Hello, world!\n",
        "```\n",
        "\n",
        "`+=`演算子も使えます。`+=`演算子を使うと、左辺の文字列の末尾に、右辺の文字列をコピーします。\n",
        "\n",
        "**コード**\n",
        "\n",
        "```cpp\n",
        "#include <iostream>\n",
        "#include <string>\n",
        "using namespace std;\n",
        "\n",
        "int main() {\n",
        "  string a = \"Hello\";\n",
        "  a += \", string!\";\n",
        "  cout << a << endl;\n",
        "}\n",
        "```\n",
        "\n",
        "**実行結果**\n",
        "\n",
        "```txt\n",
        "Hello, string!\n",
        "```\n",
        "\n",
        "\n",
        "\n",
        "\n",
        "\n"
      ],
      "metadata": {
        "id": "7kwspTLpB7GP"
      }
    },
    {
      "cell_type": "markdown",
      "source": [
        "----\n",
        "\n",
        "## 2 文字\n",
        "\n",
        "----\n",
        "\n",
        "文字列をあらわす場合は`\"`で囲むのでした。<br>\n",
        "同様に、「文字」をあらわす場合には、文字を`'`(シングル・クォーテーション)で囲みます。\n",
        "\n",
        "```cpp\n",
        "'a' // これは文字\n",
        "```\n",
        "\n",
        "```cpp\n",
        "a  // これは文字じゃない\n",
        "```\n",
        "\n",
        ">**【charの読みかた】**<br>\n",
        ">これは欧米でも決まっていないようで、「ケア」や「カー」と読む人もいるようです。<br>\n",
        ">(とりあえず通じればいいらしい。ただ、「キャラ」と読むのは日本人だけらしい。)\n"
      ],
      "metadata": {
        "id": "11eqcZv-Huek"
      }
    },
    {
      "cell_type": "markdown",
      "source": [
        "### 2.1 char型\n",
        "\n",
        "「文字」を変数として扱うには`char`(チャー、キャラ)型を使います。<br>\n",
        "`char`は「組み込み型」なので、何もインクルードしなくても使えます。\n",
        "\n",
        "プログラムで文字をあらわすには、`'`(シングルクォーテーション, Shiftを押しながら7キー)記号で文字を囲みます。\n",
        "\n",
        "```cpp\n",
        "'a' // 文字a\n",
        "'*' // 文字*\n",
        "' ' // 空白文字\n",
        "```\n",
        "\n",
        "**コード**\n",
        "\n",
        "```cpp\n",
        "#include <iostream>\n",
        "using namespace std;\n",
        "\n",
        "int main() {\n",
        "  char a = 'a';\n",
        "\n",
        "  char b;\n",
        "  cin >> b;\n",
        "\n",
        "  cout << a << b << endl;\n",
        "}\n",
        "```\n",
        "\n",
        "**入力データ**\n",
        "\n",
        "```txt\n",
        "A\n",
        "```\n",
        "\n",
        "**実行結果**\n",
        "\n",
        "```txt\n",
        "aA\n",
        "```\n"
      ],
      "metadata": {
        "id": "RQYDfhx2qKc-"
      }
    },
    {
      "cell_type": "markdown",
      "source": [
        "### 2.2 char型の比較\n",
        "\n",
        "`char`型は、実際には「整数型」の一種です。そのため、`int`や`double`と同じように比較や四則演算ができます。<br>\n",
        "コンピューターは「文字を数値として扱う」からです。\n",
        "\n",
        "**コード**\n",
        "\n",
        "```cpp\n",
        "#include <iostream>\n",
        "using namespace std;\n",
        "\n",
        "int main() {\n",
        "  char a = 'Z';\n",
        "  char b = 'a';\n",
        "\n",
        "  if (a < b) {\n",
        "    cout << \"Zはaより小さい\" << endl;\n",
        "  }\n",
        "}\n",
        "```\n",
        "\n",
        "**実行結果**\n",
        "\n",
        "```txt\n",
        "Zはaより小さい\n",
        "```\n"
      ],
      "metadata": {
        "id": "3ZS5OiCZIF2p"
      }
    },
    {
      "cell_type": "markdown",
      "source": [
        "### 2.3 文字コード\n",
        "\n",
        "文字を数値として扱うために、すべての文字には「文字コード」と呼ばれる番号が割り当てられています。2025年現在、ほとんどのアプリでは、「ASCII(アスキー)」と「UTF-8(ユーティーエフ・はち)」と呼ばれる文字コードが採用されています。\n",
        "\n",
        "扱いやすさのために、これらの文字コードでは、数字やアルファベットには連続した番号が割り当てられています。<br>\n",
        "例えば`a`は97番、`b`は98番、`c`は99番、...`z`は122番、などです。\n",
        "\n",
        "文字を`int`型として出力すると、割り当てられた番号が分かります。\n",
        "\n",
        "**コード**\n",
        "\n",
        "```cpp\n",
        "#include <iostream>\n",
        "using namespace std;\n",
        "\n",
        "int main() {\n",
        "  int a = '0';\n",
        "  int b = 'A', c = 'B';\n",
        "  int d = 'a', e = 'b';\n",
        "\n",
        "  cout << \"0の文字コードは\" << a << endl;\n",
        "  cout << \"Aの文字コードは\" << b << endl;\n",
        "  cout << \"Bの文字コードは\" << c << endl;\n",
        "  cout << \"aの文字コードは\" << d << endl;\n",
        "  cout << \"bの文字コードは\" << e << endl;\n",
        "}\n",
        "```\n",
        "\n",
        "**実行結果**\n",
        "\n",
        "```txt\n",
        "0の文字コードは48\n",
        "Aの文字コードは65\n",
        "Bの文字コードは66\n",
        "aの文字コードは97\n",
        "bの文字コードは98\n",
        "```\n",
        "\n",
        ">ASCIIコードは「半角英数字と記号」に番号を割り当てた文字コードです。UTF-8は、ASCIIコードを拡張して「日本語を含めた世界中の文字」に番号を割り当てたものです。そのため、英数字と記号は、どちらの文字コードでも同じ番号になります。\n"
      ],
      "metadata": {
        "id": "OOBkIy5ooDlU"
      }
    },
    {
      "cell_type": "markdown",
      "source": [
        "### 2.4 char型の演算\n",
        "\n",
        "文字コードで説明したように、文字はアルファベット順で数値化されています。そのため、例えば文字`A`に1を足すと文字`B`になります。\n",
        "\n",
        "**コード**\n",
        "\n",
        "```cpp\n",
        "#include <iostream>\n",
        "using namespace std;\n",
        "\n",
        "int main() {\n",
        "  char a = 'S';\n",
        "\n",
        "  char b = a + 1; // Sの次の文字にする\n",
        "  cout << b << endl;\n",
        "\n",
        "  a -= 6; // Sの6個前の文字にする\n",
        "  cout << a << endl;\n",
        "}\n",
        "```\n",
        "\n",
        "**実行結果**\n",
        "\n",
        "```txt\n",
        "T\n",
        "M\n",
        "```\n",
        "\n",
        "また、ある文字から別の文字を引くと、２つの文字が何文字離れているかを計算できます。\n",
        "\n",
        "**コード**\n",
        "\n",
        "```cpp\n",
        "#include <iostream>\n",
        "using namespace std;\n",
        "\n",
        "int main() {\n",
        "  char a = 'D';\n",
        "  char b = 'G';\n",
        "\n",
        "  cout << b << \"は\" << a << \"から\" << b - a << \"文字離れています\" << endl;\n",
        "}\n",
        "```\n",
        "\n",
        "**実行結果**\n",
        "\n",
        "```txt\n",
        "GはDから3文字離れています\n",
        "```\n",
        "\n",
        "他にも、乗算や除算、剰余(あまり)も計算できます。ただ、できるからといって意味があるかというと、大抵は無意味です。<br>\n",
        "例えば、「文字`a`を3で割る」という操作が役立つ場面は、あまり思いつかないでしょう。\n",
        "\n",
        ">昔のRPGでは、名前からキャラクターのパラメータを計算することがありました。<br>\n",
        ">このようなゲームでは、文字に数値を掛けたり割ったりすることに意味がある、と言えるでしょう。\n",
        "\n"
      ],
      "metadata": {
        "id": "z0FrYHllKj8L"
      }
    },
    {
      "cell_type": "markdown",
      "source": [
        "### 2.5 数字の文字コードを整数に変換する\n",
        "\n",
        "ASCIIコードやUTF-8では、文字`0`の文字コードは48です。そのため、標準入力に`0`を入力し、それを`char`や`string`で読み込むと、<br>\n",
        "実際には48が読み込まれます。\n",
        "\n",
        "文字から数値に変換するには、48または`'0'`を引きます(48は文字0の番号)。<br>\n",
        "数値に変換するためには、`int`などの「`char`以外の整数型」に代入しなくてはならない点に注意してください。\n",
        "\n",
        "**コード**\n",
        "\n",
        "```cpp\n",
        "#include <iostream>\n",
        "using namespace std;\n",
        "\n",
        "int main() {\n",
        "  char a = '0';\n",
        "  int b = a;\n",
        "\n",
        "  cout << a << \"の文字コードは\" << b << endl;\n",
        "  cout << \"文字\" << a << \"から整数の48を引くと整数の\" << a - 48 << \"になる\" << endl;\n",
        "  cout << \"文字\" << a << \"から文字0を引くと整数の\" << a - '0' << \"になる\" << endl;\n",
        "}\n",
        "```\n",
        "\n",
        "**実行結果**\n",
        "\n",
        "```txt\n",
        "0の文字コードは48\n",
        "文字0から整数の48を引くと整数の0になる\n",
        "文字0から文字0を引くと整数の0になる\n",
        "```\n",
        "\n",
        "反対に、数値から文字に変換するには、48または`0`を足します。<br>\n",
        "文字にするためには、`char`型に代入しなくてはならない点に注意してください。\n",
        "\n",
        "**コード**\n",
        "\n",
        "```cpp\n",
        "#include <iostream>\n",
        "using namespace std;\n",
        "\n",
        "int main() {\n",
        "  int a = 0;\n",
        "  char b = a + 48;\n",
        "  char c = a + '0';\n",
        "\n",
        "  cout << \"整数の\" << a << \"に整数の48を足すと文字\" << b << \"になる\" << endl;\n",
        "  cout << \"整数の\" << a << \"に文字0を足すと文字\" << c << \"になる\" << endl;\n",
        "}\n",
        "```\n",
        "\n",
        "**実行結果**\n",
        "\n",
        "```txt\n",
        "0の文字コードは48\n",
        "整数の0に整数の48を足すと文字0になる\n",
        "整数の0に文字0を足すと文字0になる\n",
        "```\n",
        "\n",
        "数値を`int`などの整数型に読み込むときは、「文字から数値への変換」が自動的に行われます。<br>\n",
        "反対に、数値を出力するときは、「数値から文字への変換」が自動的に行われます。<br>\n",
        "`char`や`string`で読み書きすることは、「文字コードを変換しないでそのまま扱う」方法だといえます。\n",
        "\n",
        "\n"
      ],
      "metadata": {
        "id": "tB4aDf48pIxm"
      }
    },
    {
      "cell_type": "markdown",
      "source": [
        "----\n",
        "\n",
        "## 3 string型の機能\n",
        "\n",
        "----\n",
        "\n",
        "`string`型には、`int`や`double`, `char`にはない、文字列を操作するための便利な機能がそなわっています。\n",
        "\n",
        "例えば、通常の代入による初期化だけでなく、次のように丸カッコを使った初期化が可能です。\n",
        "\n",
        "```cpp\n",
        "string s(5, 'a'); // 文字列aaaaaで初期化される\n",
        "```\n",
        "\n",
        "この丸カッコによる初期化では、最初に「文字の数」、次に「文字」を指定します。\n",
        "\n",
        "以下の表に、`string`型の代表的な機能を示します。\n",
        "\n",
        "| 名前 | 機能 |\n",
        "|:-----|:-----|\n",
        "| []   | 特定の位置の文字を操作する |\n",
        "| size() | 文字列の長さ(文字数)を調べる |\n",
        "| substr() | 文字列の一部をコピーする |\n",
        "| clear() | 文字列を削除する(空の文字列にする) |\n",
        "| insert() | 文字や文字列を挿入する |\n",
        "| erase() | 指定した位置の文字を削除する |\n",
        "\n",
        "`string`型の機能は他にもたくさんあります。<br>\n",
        "Web検索で`basic_string`と入力すると詳細な文書が見つかるので、一度確認してみるとよいでしょう。\n"
      ],
      "metadata": {
        "id": "6JkyKcE9LVLJ"
      }
    },
    {
      "cell_type": "markdown",
      "source": [
        "### 3.1 i番目の文字\n"
      ],
      "metadata": {
        "id": "7SnWAZmWTXbd"
      }
    },
    {
      "cell_type": "markdown",
      "source": [
        "#### 文字の書き換え\n",
        "\n",
        "文字列のどこかにある文字を書き換えたい、という場合は次のように書きます。\n",
        "\n",
        "**コード**\n",
        "\n",
        "```cpp\n",
        "#include <iostream>\n",
        "#include <string>\n",
        "using namespace std;\n",
        "\n",
        "int main() {\n",
        "  string s = \"stop\";\n",
        "  s[2] = 'e`;        // 2文字目を`e`にする\n",
        "  cout << s << endl;\n",
        "}\n",
        "```\n",
        "\n",
        "**実行結果**\n",
        "\n",
        "```txt\n",
        "step\n",
        "```\n",
        "\n",
        "記号`[]`は「添字演算子(そえじ・えんざんし)」といいます。<br>\n",
        "`[`と`]`のあいだの数字は「添字(そえじ)」と呼ばれます(上のプログラムでは`2`です)。\n",
        "\n",
        "添字の場合、先頭を指す数値は`0`です。`1`ではないので注意してください。\n",
        "\n",
        "| 添字 | 0 | 1 | 2 | 3 |\n",
        "|:----:|:-:|:-:|:-:|:-:|\n",
        "| 文字 | s | t | o | p |\n",
        "\n",
        "C++言語にかぎらず、多くのプログラミング言語では`0`が先頭です。間違えないように気をつけましょう。\n"
      ],
      "metadata": {
        "id": "ZDMmnR0J-C0D"
      }
    },
    {
      "cell_type": "markdown",
      "source": [
        "#### 文字の読み出し\n",
        "\n",
        "書き換えるだけでなく、読み出すこともできます。\n",
        "\n",
        "**コード**\n",
        "\n",
        "```cpp\n",
        "#include <iostream>\n",
        "#include <string>\n",
        "using namespace std;\n",
        "\n",
        "int main() {\n",
        "  string s = \"abc\";\n",
        "  cout << s[2] << s[0] << s[1] << endl;\n",
        "}\n",
        "```\n",
        "\n",
        "**実行結果**\n",
        "\n",
        "```txt\n",
        "cab\n",
        "```\n",
        "\n",
        "なお、添字演算子を使って読み書きするのは「文字」です。文字列ではないので、間違えないようにしましょう。\n"
      ],
      "metadata": {
        "id": "0A_gM_KP99RE"
      }
    },
    {
      "cell_type": "markdown",
      "source": [
        "#### 添字に変数を使う\n",
        "\n",
        "また、添字には、整数型の「変数」や「式」も使えます。for文と組み合わせると便利です。\n",
        "\n",
        "**コード**\n",
        "\n",
        "```cpp\n",
        "#include <iostream>\n",
        "#include <string>\n",
        "using namespace std;\n",
        "\n",
        "int main() {\n",
        "  string s = \"ABCabc\";\n",
        "  for (int i = 0; i < 6; i++) {\n",
        "    s[i] = s[i] + 3;         // i文字目を3文字ずらす\n",
        "  }\n",
        "  cout << s << endl;\n",
        "}\n",
        "```\n",
        "\n",
        "**実行結果**\n",
        "\n",
        "```txt\n",
        "DEFdef\n",
        "```\n"
      ],
      "metadata": {
        "id": "paIYMPLk950C"
      }
    },
    {
      "cell_type": "markdown",
      "source": [
        "#### 添字の範囲に注意\n",
        "\n",
        "文字列の範囲を超える添字を使うと、実行時エラーになる場合があります。\n",
        "\n",
        "```cpp\n",
        "#include <iostream>\n",
        "#include <string>\n",
        "using namespace std;\n",
        "\n",
        "int main() {\n",
        "  string s = \"01234\";\n",
        "  cout << s[-1] << endl; // 実行時エラー? 添字の最小値である0を下回る値を使っている\n",
        "  cout << s[100] << endl; // 実行時エラー? 添字の最大値である「文字列sの長さ - 1」を超える値を使っている\n",
        "}\n",
        "```\n",
        "\n",
        "範囲外の添字のやっかいなところは、「毎回必ず実行時エラーが起きるとは限らない」点です。<br>\n",
        "実行時エラーにならなかったとしても、ほとんどの場合で、意図した動作にならない「論理エラー」になります。\n",
        "\n",
        "いずれにしても、「文字列ではない位置を読み書きした」時点で、正しい動作になる可能性は低いです。<br>\n",
        "範囲外の添字を使わないように注意しましょう。\n"
      ],
      "metadata": {
        "id": "EMsScBtXQzYy"
      }
    },
    {
      "cell_type": "markdown",
      "source": [
        "### 3.2 文字列の長さ\n",
        "\n",
        "文字列の長さ、つまり「文字数」を調べるには、`size`(サイズ)という機能を使って次のように書きます。\n",
        "\n",
        "```cpp\n",
        "string型の変数名.size()\n",
        "```\n",
        "\n",
        "**コード**\n",
        "\n",
        "```cpp\n",
        "#include <iostream>\n",
        "#include <string>\n",
        "using namespace std;\n",
        "\n",
        "int main() {\n",
        "  string s = \"Hello, string!\";\n",
        "  cout << s.size() << endl;\n",
        "}\n",
        "```\n",
        "\n",
        "**実行結果**\n",
        "\n",
        "```txt\n",
        "14\n",
        "```\n",
        "\n",
        "変数名の直後に`.`(ドット)を書き、次に`size()`を書きます。これで文字数が調べられます。\n",
        "\n",
        "この書き方は、C++言語の「メンバ関数」という機能を使っています。詳しくは「クラス」を学習するときに説明します。<br>\n",
        "とりあえず、「ドットに続けて機能名とカッコを書くと、便利な機能が使える」と覚えておいてください。\n",
        "\n",
        "文字列の長さは、for文の「ループ回数」として使うことができます。\n",
        "\n",
        "**コード**\n",
        "\n",
        "```cpp\n",
        "#include <iostream>\n",
        "#include <string>\n",
        "using namespace std;\n",
        "\n",
        "int main() {\n",
        "  string s = \"aabbccabcaab\";\n",
        "\n",
        "  // 文字aの数をかぞえる\n",
        "  int a = 0;\n",
        "  for (int i = 0; i < (int)s.size(); i++) {\n",
        "    if (s[i] == 'a') {\n",
        "      a++;\n",
        "    }\n",
        "  }\n",
        "  cout << a << endl;\n",
        "}\n",
        "```\n",
        "\n",
        "**実行結果**\n",
        "\n",
        "```txt\n",
        "5\n",
        "```\n"
      ],
      "metadata": {
        "id": "CNBwZ_JClKxj"
      }
    },
    {
      "cell_type": "markdown",
      "source": [
        "#### キャスト\n",
        "\n",
        "上記のプログラムのfor文の中に、`(int)`という部分がありますが、これは「キャスト」という操作です。<br>\n",
        "キャストは「変数の値を指定された型で読み取る」という指示です。\n",
        "\n",
        "キャストを使うと、「符号なし型を符号付き型に変換」したり、逆に「符号付き型を符号なし型に変換」できます。<br>\n",
        "\n",
        "実は、`size`機能を使って得られる数値の型は「符号なし整数」です。<br>\n",
        "そして、`int`型のような「符号付き型」と「符号なし型」を比較しようとすると、コンパイラは警告を発する場合があります。\n",
        "\n",
        "これは、C++言語の比較に関する以下のルールが原因です。\n",
        "\n",
        ">「符号付き型」と「符号なし型」を比較するときは、「符号付き型」が自動的に「符号なし型」に変換される\n",
        "\n",
        "もし「符号付き型」の変数がマイナスの値を持っていた場合、「符号なし型」はマイナスを表現できないため、正しく変換できません。<br>\n",
        "だから、コンパイラは警告を出すのです。\n",
        "\n",
        "ですが、上記のプログラムのように「符号付き型」がマイナスにならない場合、この警告はただのおせっかいです。<br>\n",
        "そこで、キャストによって型を一致させることで、警告を回避しています。\n"
      ],
      "metadata": {
        "id": "USveVtHKHD1H"
      }
    },
    {
      "cell_type": "markdown",
      "source": [
        "### 3.3 文字列の一部をコピーする\n",
        "\n",
        "`substr`(サブスター)を使うと、文字列の一部を取り出せます。\n",
        "\n",
        "**コード**\n",
        "\n",
        "```cpp\n",
        "#include <iostream>\n",
        "#include <string>\n",
        "using namespace std;\n",
        "\n",
        "int main() {\n",
        "  string s = \"Keep it simple.\";\n",
        "  cout << s.substr(5, 2) << endl;\n",
        "}\n",
        "```\n",
        "\n",
        "**実行結果**\n",
        "\n",
        "```txt\n",
        "it\n",
        "```\n",
        "\n",
        "`substr`のカッコ内には、「取り出す範囲の先頭」と「取り出す文字数」を`,`で区切って指定します。<br>\n",
        "上のプログラムの場合`substr(5, 2)`なので、「5文字目から2文字を取り出す」という意味になります。\n",
        "\n",
        "なお、添字と同じで、先頭は「0文字目」です。\n",
        "\n",
        ">**【substrの読みかた】**<br>\n",
        ">サブスター、サブストア、サブステア、サブエスティーアール、など、どれでもお好みの読みかたでどうぞ。言いたいことは文脈で分かるので、読み方は誰も気にしません。\n"
      ],
      "metadata": {
        "id": "4UvW0D5kek0z"
      }
    },
    {
      "cell_type": "markdown",
      "source": [
        "### 3.4 文字列を削除する\n",
        "\n",
        "`clear`(クリア)を使うと、文字列を消去できます。\n",
        "\n",
        "**コード**\n",
        "\n",
        "```cpp\n",
        "#include <iostream>\n",
        "#include <string>\n",
        "using namespace std;\n",
        "\n",
        "int main() {\n",
        "  string s = \"Test first.\";\n",
        "  s.clear();\n",
        "  cout << \"sの内容:\" << s << endl;\n",
        "  cout << \"sの長さ:\" << s.size() << endl;\n",
        "}\n",
        "```\n",
        "\n",
        "**実行結果**\n",
        "\n",
        "```txt\n",
        "sの内容:\n",
        "sの長さ:0\n",
        "```\n",
        "\n",
        "`clear`を使うと文字列は消えます。出力しようとしても、何も表示されません。<br>\n",
        "文字列の長さは`0`になります。\n"
      ],
      "metadata": {
        "id": "Twsh2Xgu2CqF"
      }
    },
    {
      "cell_type": "markdown",
      "source": [
        "### 3.4 文字を追加する\n",
        "\n",
        "`insert`(インサート)を使うと、好きな位置に文字や文字列を追加できます。<br>\n",
        "次のプログラムは、文字列を追加する例です。\n",
        "\n",
        "**コード**\n",
        "\n",
        "```cpp\n",
        "#include <iostream>\n",
        "#include <string>\n",
        "using namespace std;\n",
        "\n",
        "int main() {\n",
        "  string s = \"Do repeat yourself.\";\n",
        "  s.insert(2, \"not \");\n",
        "  cout << s << endl;\n",
        "}\n",
        "```\n",
        "\n",
        "**実行結果**\n",
        "\n",
        "```txt\n",
        "Do not repeat yourself.\n",
        "```\n",
        "\n",
        "`insert`のカッコ内には、「追加する位置」と「追加する文字または文字列」を、`,`で区切って指定します。<br>\n",
        "追加する位置は、文字列の先頭を「0文字目」として数えます。\n",
        "\n",
        "次のプログラムは、文字を追加する例です。\n",
        "\n",
        "**コード**\n",
        "\n",
        "```cpp\n",
        "#include <iostream>\n",
        "#include <string>\n",
        "using namespace std;\n",
        "\n",
        "int main() {\n",
        "  string s = \"lng!\";\n",
        "  s.insert(1, 5, 'o');\n",
        "  cout << s << endl;\n",
        "}\n",
        "```\n",
        "\n",
        "**実行結果**\n",
        "\n",
        "```txt\n",
        "looooong!\n",
        "```\n",
        "\n",
        "文字を追加する場合、カッコ内には「追加する位置」、「追加する文字数」、「追加する文字」を`,`で区切って指定します。<br>\n",
        "文字を追加する場合も、追加する位置は先頭を「0文字目」として数えます。\n",
        "\n",
        ">「追加する文字数」を指定し忘れないように注意。\n"
      ],
      "metadata": {
        "id": "mFYz8s8w2vcU"
      }
    },
    {
      "cell_type": "markdown",
      "source": [
        "### 3.5 文字を削除する\n",
        "\n",
        "`erase`(イレース)を使うと、好きな位置の文字を削除できます。\n",
        "\n",
        "**コード**\n",
        "\n",
        "```cpp\n",
        "#include <iostream>\n",
        "#include <string>\n",
        "using namespace std;\n",
        "\n",
        "int main() {\n",
        "  string s = \"emeth\";\n",
        "  s.erase(0, 1);\n",
        "  cout << s << endl;\n",
        "}\n",
        "```\n",
        "\n",
        "**実行結果**\n",
        "\n",
        "```txt\n",
        "meth\n",
        "```\n",
        "\n",
        "`erase`のカッコ内には、「削除する範囲の先頭」と「削除する文字数」を、`,`で区切って指定します。<br>\n",
        "範囲の先頭は、文字列の先頭を「0文字目」として数えます。\n",
        "\n",
        ">「削除する文字数」を指定し忘れると、「削除する範囲の先頭」から後ろが全て削除されます。"
      ],
      "metadata": {
        "id": "jkkBWtDu58h0"
      }
    },
    {
      "cell_type": "markdown",
      "source": [
        "----\n",
        "\n",
        "## 4 知っておくと役立つあれこれ\n",
        "\n",
        "----\n"
      ],
      "metadata": {
        "id": "gJYzwjiENWDo"
      }
    },
    {
      "cell_type": "markdown",
      "source": [
        "### 4.1 文字列と文字は比較できない\n",
        "\n",
        "文字列と文字は比較できません。たとえ1文字しかない文字列だったとしても、です。<br>\n",
        "もし比較しようとすると、コンパイルエラーになります。\n",
        "\n",
        "```cpp\n",
        "\"test\" == 't' // コンパイルエラー\n",
        "```\n",
        "\n",
        "`==`に限らず、比較演算子は全て使えません。\n"
      ],
      "metadata": {
        "id": "DXnMhWDKNjab"
      }
    },
    {
      "cell_type": "markdown",
      "source": [
        "### 4.2 全角文字の扱い\n",
        "\n",
        "全角文字は、コンピューターからは「複数の半角文字の集まり」として認識されます。<br>\n",
        "漢字を含めた日本語の文字は数十万以上で、`char`型であらわせる`-128`～`127`の`256`個では到底足りないからです。\n",
        "\n",
        "もし全角文字を`char`型の変数に代入しようとすると、全角文字を構成する2～4個の半角文字のうち、先頭の半角文字だけが代入されます。<br>\n",
        "ですから、全角文字を扱うには`string`型を使う必要があります。\n",
        "\n",
        "```cpp\n",
        "char a = 'あ';   // これはうまくいかない\n",
        "string b = \"あ\"; // これはうまくいく\n",
        "```\n",
        "\n",
        "おなじ理由で、添字演算子を使って1文字取り出す、という操作もうまくいきません。\n",
        "\n",
        "**コード**\n",
        "\n",
        "```cpp\n",
        "#include <iostream>\n",
        "#include <string>\n",
        "using namespace std;\n",
        "\n",
        "int main() {\n",
        "  string a = \"あいうえお\";\n",
        "  cout << a[1] << endl; // `い`を出力したい\n",
        "}\n",
        "```\n",
        "\n",
        "**実行結果**\n",
        "\n",
        "```txt\n",
        "```\n",
        "\n",
        "文字列`あいうえお`の1文字目を出力しようとして`a[1]`と書きましたが、実行結果には何も出力されません。<br>\n",
        "このプログラムをGoogle Colabで実行したの場合、`a[1]`は、「あ」を構成する半角3文字の2番目のデータになります。<br>\n",
        "必要なデータの1/3しかないので、何も表示されないのです。\n",
        "\n",
        "このように、`char`型は全角文字には使えません。全角文字を扱う場合は`string`型を使ってください。\n"
      ],
      "metadata": {
        "id": "MSPwb-C2NqgT"
      }
    },
    {
      "cell_type": "markdown",
      "source": [
        "### 4.3 エスケープ・シーケンス\n",
        "\n",
        "エスケープシーケンスは、文字の前に`\\`記号を書くことで、文字の特別な効果を打ち消したり、逆に特殊な文字として扱う機能です。\n",
        "\n",
        "例えば、文字列は`\"`で囲ったものなので、そのままでは`\"`を入れられません。<br>\n",
        "そこで、エスケープシーケンスを使って`\\\"`のように書きます。`\\`記号自体をあらわす場合は`\\\\`と書きます。\n",
        "\n",
        "同様に、`'`記号を文字として扱いたい場合は`\\'`と書きます。\n",
        "\n",
        ">文字列`\"'\"`と文字`'\"'`のように、文字列中の`'`や、文字としての`\"`については、エスケープシーケンスは不要です。\n",
        "\n",
        "**コード**\n",
        "\n",
        "```cpp\n",
        "#include <iostream>\n",
        "using namespace std;\n",
        "\n",
        "int main() {\n",
        "  cout << \"He say \\\"I love \\\\.\\\"\" << endl;\n",
        "  cout << '\\'' << endl;\n",
        "}\n",
        "```\n",
        "\n",
        "**実行結果**\n",
        "\n",
        "```txt\n",
        "He say \"I love \\\"\n",
        "'\n",
        "```\n",
        "\n",
        "また、複数行の文章を作るために改行を入れるには`\\n`と書きます。\n",
        "\n",
        "**コード**\n",
        "\n",
        "```cpp\n",
        "#include <iostream>\n",
        "using namespace std;\n",
        "\n",
        "int main() {\n",
        "  cout << \"This\\nis\\na\\npen\\n.\" << endl;\n",
        "}\n",
        "```\n",
        "\n",
        "**実行結果**\n",
        "\n",
        "```txt\n",
        "This\n",
        "is\n",
        "a\n",
        "pen\n",
        ".\n",
        "```\n",
        "\n",
        "エスケープシーケンスで使える特殊文字は他にもありますが、ここで説明したもの以外はほとんど使いません。\n"
      ],
      "metadata": {
        "id": "wW1r_lhMQjGO"
      }
    },
    {
      "cell_type": "markdown",
      "source": [
        "### 4.4 行単位で読み込む\n",
        "\n",
        "標準入力からの読み込みでは、空白や改行が区切りとして扱われます。<br>\n",
        "空白も含めて読み込みたい場合は`getline`(ゲット・ライン)という機能を使います。\n",
        "\n",
        "**コード**\n",
        "\n",
        "```cpp\n",
        "#include <iostream>\n",
        "#include <string>\n",
        "using namespace std;\n",
        "\n",
        "int main() {\n",
        "  string s;\n",
        "\n",
        "  getline(cin, s);\n",
        "\n",
        "  cout << s << endl;\n",
        "\n",
        "  getline(cin, s);\n",
        "\n",
        "  cout << s << endl;\n",
        "}\n",
        "```\n",
        "\n",
        "**入力データ**\n",
        "\n",
        "```txt\n",
        "dog cat bird fish\n",
        "1 2 3 4 5\n",
        "```\n",
        "\n",
        "**実行結果**\n",
        "\n",
        "```txt\n",
        "dog cat bird fish\n",
        "1 2 3 4 5\n",
        "```\n",
        "\n",
        "`getline`のカッコ内には、標準入力`cin`と、読み込み先の`string`型変数名を、`,`で区切って指定します。\n",
        "\n",
        "`getline`を使うと、変数`s`の以前の内容は削除されて、新しく読み込んだデータで上書きされます。\n"
      ],
      "metadata": {
        "id": "SZyCxDRQQl_9"
      }
    },
    {
      "cell_type": "markdown",
      "source": [
        "----\n",
        "\n",
        "## 4 練習問題\n",
        "\n",
        "----\n",
        "\n",
        "以下の手順にしたがって、各問題のプログラムを完成させなさい。\n",
        "\n",
        "1. `%%writefile ...`の下の行からがプログラムです。問題文に従ってプログラムを修正、または追加してください。\n",
        "2. プログラムを修正したら、セルの右側にある`▶`をクリックします。すると、ファイルが保存されます。\n",
        "3. 「動作テスト」セルの`▶`をクリックすると、2で保存したファイルがコンパイル＆実行され、実行結果が表示されます。<br>\n",
        "   このセルは、修正したプログラムの動作を確認するために使ってください。\n",
        "4. 「実行」セルの`▶`をクリックすると、2で保存したファイルがコンパイル＆実行され、結果の成否が判定されます。\n",
        "5. 判定に成功したら`AC`と表示されます。次の問題に進んでください。\n",
        "6. 失敗したら`WA`と表示されます(その前にエラーメッセージが表示される場合もあります)。<br>\n",
        "   これは、プログラムのどこかにエラーがあることを意味します。<br>\n",
        "   「動作テスト」を使ってエラーを修正し、`AC`を目指してください。\n"
      ],
      "metadata": {
        "id": "XrDYvWRJ-MgO"
      }
    },
    {
      "cell_type": "markdown",
      "source": [
        "### ❓️問題１ 鳴き声\n",
        "\n",
        "1個の文字列が入力されます。<br>\n",
        "入力された文字列が`dog`のときは`ワンワン`、`cat`のときは`ニャーニャー`、それ以外のときは`ガオー`と出力するプログラムを作成しなさい。\n",
        "\n",
        "| 入力 | 出力する文字列 |\n",
        "|:----:|:---------------|\n",
        "| <font size=2>dog</font> | ワンワン     |\n",
        "| <font size=2>cat</font> | ニャーニャー |\n",
        "| その他                  | ガオー       |\n",
        "\n",
        "<br><details><summary>🗝️(クリックでヒントを見る)</summary>\n",
        "\n",
        "**プログラム例**\n",
        "\n",
        "1. `string`型の変数`s`を定義する\n",
        "2. if文を使って、`s`が文字列`dog`と等しい場合は、標準出力`cout`に文字列`ワンワン`を出力する\n",
        "3. else if文を使って、`s`が文字列`cat`と等しい場合は、標準出力`cout`に文字列`ニャーニャー`を出力する\n",
        "4. else句を使って、標準出力`cout`に文字列`ガオー`を出力する\n",
        "\n",
        "</details><br>\n",
        "\n",
        "**入力データ例（１）**\n",
        "\n",
        "```\n",
        "dog\n",
        "```\n",
        "\n",
        "**出力例（１）**\n",
        "\n",
        "```txt\n",
        "ワンワン\n",
        "```\n",
        "\n",
        "**入力データ例（２）**\n",
        "\n",
        "```\n",
        "cat\n",
        "```\n",
        "\n",
        "**出力例（２）**\n",
        "\n",
        "```txt\n",
        "ニャーニャー\n",
        "```\n",
        "\n",
        "**入力データ例（３）**\n",
        "\n",
        "```\n",
        "doggie\n",
        "```\n",
        "\n",
        "**出力例（３）**\n",
        "\n",
        "```txt\n",
        "ガオー\n",
        "```\n"
      ],
      "metadata": {
        "id": "RnTTS8R1APhR"
      }
    },
    {
      "cell_type": "code",
      "source": [
        "%%writefile practice_01a.cpp\n",
        "#include <iostream>\n",
        "#include <string>\n",
        "using namespace std;\n",
        "\n",
        "int main() {\n",
        "  // この下に、文字列を読み込んで鳴き声を出力するプログラムを書く\n",
        "\n",
        "}"
      ],
      "metadata": {
        "id": "aZKGwoKdDCQv"
      },
      "execution_count": null,
      "outputs": []
    },
    {
      "cell_type": "code",
      "source": [
        "# @title 動作テスト\n",
        "!g++ -std=c++20 -O2 -Wall -Wextra -o practice_01a practice_01a.cpp && echo \"この下をクリックして、動物の名前を入力\" && ./practice_01a"
      ],
      "metadata": {
        "cellView": "form",
        "id": "RcN7Wavoee1J"
      },
      "execution_count": null,
      "outputs": []
    },
    {
      "cell_type": "code",
      "source": [
        "# @title 実行\n",
        "!diff -Z <(echo -e \"ワンワン\\nニャーニャー\\nガオー\") <(g++ -std=c++20 -O2 -Wall -Wextra -o practice_01a practice_01a.cpp && echo \"dog\" | ./practice_01a && echo \"cat\" | ./practice_01a && echo \"human\" | ./practice_01a) > nil && test $? -eq 0 && echo -e \"\\033[32;1mAC\" || echo -e \"\\033[31;1mWA\""
      ],
      "metadata": {
        "cellView": "form",
        "id": "UACB1zePNew-"
      },
      "execution_count": null,
      "outputs": []
    },
    {
      "cell_type": "code",
      "source": [
        "# @title 🔒解答例(どうしても問題を解けない場合に見てください)\n",
        "%%writefile practice_01a.cpp\n",
        "#include <iostream>\n",
        "#include <string>\n",
        "using namespace std;\n",
        "\n",
        "int main() {\n",
        "  // この下に、文字列を読み込んで鳴き声を出力するプログラムを書く\n",
        "  string s;\n",
        "  cin >> s;\n",
        "\n",
        "  if (s == \"dog\") {\n",
        "    cout << \"ワンワン\" << endl;\n",
        "  } else if (s == \"cat\") {\n",
        "    cout << \"ニャーニャー\" << endl;\n",
        "  } else {\n",
        "    cout << \"ガオー\" << endl;\n",
        "  }\n",
        "}"
      ],
      "metadata": {
        "cellView": "form",
        "id": "pO96k065l9rf"
      },
      "execution_count": null,
      "outputs": []
    },
    {
      "cell_type": "markdown",
      "source": [
        "### ❓️問題２ 比較\n",
        "\n",
        "数値A, 記号`==`または`!=`, 数値Bの順で入力されます。<br>\n",
        "記号Sに対応する比較結果が真の場合は`1`を、偽の場合は`0`を出力するプログラムを作成しなさい。\n",
        "\n",
        "なお、入力される記号は`==`, `!=`のどちらかに限られ、他の記号が入力されることはないものとします。\n",
        "\n",
        "<br><details><summary>🗝️(クリックでヒントを見る)</summary>\n",
        "\n",
        "**プログラム例**\n",
        "\n",
        "1. `int`型の変数`a`と`b`を宣言する\n",
        "2. `string`型の変数`s`を定義する\n",
        "3. 標準入力`cin`から、変数`a`、変数`s`、変数`b`の順でデータを読み込む\n",
        "4. if文を使って、`s`が文字列`==`と等しいなら、標準出力`cout`に式`(a == b)`を出力する\n",
        "5. else if文を使って、`s`が文字列`!=`と等しいなら、標準出力`cout`に式`(a != b)`を出力する\n",
        "\n",
        ">比較演算子より入出力演算子が優先されるため、比較の式をカッコで囲む必要がある。\n",
        "\n",
        "</details><br>\n",
        "\n",
        "**入力データ例（１）**\n",
        "\n",
        "```\n",
        "3 == 3\n",
        "```\n",
        "\n",
        "**出力例（１）**\n",
        "\n",
        "```txt\n",
        "1\n",
        "```\n",
        "\n",
        "**入力データ例（２）**\n",
        "\n",
        "```\n",
        "9 != 9\n",
        "```\n",
        "\n",
        "**出力例（２）**\n",
        "\n",
        "```txt\n",
        "0\n",
        "```\n",
        "\n",
        "**入力データ例（３）**\n",
        "\n",
        "```\n",
        "12 == 34\n",
        "```\n",
        "\n",
        "**出力例（３）**\n",
        "\n",
        "```txt\n",
        "0\n",
        "```\n"
      ],
      "metadata": {
        "id": "dVJeXyYc2mgE"
      }
    },
    {
      "cell_type": "code",
      "source": [
        "%%writefile practice_01b.cpp\n",
        "#include <iostream>\n",
        "#include <string>\n",
        "using namespace std;\n",
        "\n",
        "int main() {\n",
        "  // この下に、数字の比較結果を出力するプログラムを書く\n",
        "\n",
        "}"
      ],
      "metadata": {
        "id": "z2Qy4Fpu2mgF"
      },
      "execution_count": null,
      "outputs": []
    },
    {
      "cell_type": "code",
      "source": [
        "# @title 動作テスト\n",
        "!g++ -std=c++20 -O2 -Wall -Wextra -o practice_01b practice_01b.cpp && echo \"この下をクリックして、数字、==または!=、数字の順で入力\" && ./practice_01b"
      ],
      "metadata": {
        "cellView": "form",
        "id": "2kxvrTL32mgF"
      },
      "execution_count": null,
      "outputs": []
    },
    {
      "cell_type": "code",
      "source": [
        "# @title 実行\n",
        "!diff -Z <(echo -e \"0\\n1\\n0\\n1\") <(g++ -std=c++20 -O2 -Wall -Wextra -o practice_01b practice_01b.cpp && echo \"0 == 1\" | ./practice_01b && echo \"10 == 10\" | ./practice_01b && echo \"23 != 23\" | ./practice_01b && echo \"12 != 34\" | ./practice_01b) > nil && test $? -eq 0 && echo -e \"\\033[32;1mAC\" || echo -e \"\\033[31;1mWA\""
      ],
      "metadata": {
        "cellView": "form",
        "id": "aCsJHPHc2mgF"
      },
      "execution_count": null,
      "outputs": []
    },
    {
      "cell_type": "code",
      "source": [
        "# @title 🔒解答例(どうしても問題を解けない場合に見てください)\n",
        "%%writefile practice_01b.cpp\n",
        "#include <iostream>\n",
        "#include <string>\n",
        "using namespace std;\n",
        "\n",
        "int main() {\n",
        "  // この下に、数字の比較結果を出力するプログラムを書く\n",
        "  int a, b;\n",
        "  string s;\n",
        "  cin >> a >> s >> b;\n",
        "\n",
        "  if (s == \"==\") {\n",
        "    cout << (a == b) << endl;\n",
        "  } else if (s == \"!=\") {\n",
        "    cout << (a != b) << endl;\n",
        "  }\n",
        "\n",
        "  // 比較演算の結果をintまたはbool変数に代入して、その変数を出力する方法もある\n",
        "}"
      ],
      "metadata": {
        "cellView": "form",
        "id": "O3jTSheS2mgF"
      },
      "execution_count": null,
      "outputs": []
    },
    {
      "cell_type": "markdown",
      "source": [
        "### ❓️問題３ 文字列の連結\n",
        "\n",
        "以下のプログラムは、入力される3つの文字列をA, B, Cを`+`演算子で連結して出力します。<br>\n",
        "変数`ba`, `ac`, `cba`に、以下の指示のとおりに文字列を連結して代入するプログラムを追加して、プログラムを完成させなさい。\n",
        "\n",
        "| 変数 | 代入する値 |\n",
        "|:----:|:-----------|\n",
        "| <font size=3>ba</font> | <font size=3>B→Aの順で連結した文字列</font> |\n",
        "| <font size=3>ac</font> | <font size=3>A→Cの順で連結した文字列</font> |\n",
        "| <font size=3>cba</font> | <font size=3>C→B→Aの順で連結した文字列</font> |\n",
        "\n",
        "\n",
        "<br><details><summary>🗝️(クリックでヒントを見る)</summary>\n",
        "\n",
        "**プログラム例**\n",
        "\n",
        "1. 変数`ba`に`b + a`を代入する\n",
        "2. 変数`ac`に`a + c`を代入する\n",
        "3. 変数`cba`に`c + b + a`を代入する\n",
        "\n",
        "</details><br>\n",
        "\n",
        "**入力データ例（１）**\n",
        "\n",
        "```\n",
        "aaa bbb ccc\n",
        "```\n",
        "\n",
        "**出力例（１）**\n",
        "\n",
        "```txt\n",
        "bbbaaa aaaccc cccbbbaaa\n",
        "```\n",
        "\n",
        "**入力データ例（２）**\n",
        "\n",
        "```\n",
        "Sword Long Magic\n",
        "```\n",
        "\n",
        "**出力例（２）**\n",
        "\n",
        "```txt\n",
        "LongSword SwordMagic MagicLongSword\n",
        "```\n"
      ],
      "metadata": {
        "id": "m6Ccx1Cewusl"
      }
    },
    {
      "cell_type": "code",
      "source": [
        "%%writefile practice_01c.cpp\n",
        "#include <iostream>\n",
        "#include <string>\n",
        "using namespace std;\n",
        "\n",
        "int main() {\n",
        "  string a, b, c;\n",
        "  cin >> a >> b >> c;\n",
        "\n",
        "  string ba, ac, cba;\n",
        "  // ここから上は変更しない\n",
        "\n",
        "  // この下に、文字列を連結するプログラムを書く\n",
        "\n",
        "\n",
        "  // ここから下は変更しない\n",
        "  cout << ba << ' ' << ac << ' ' << cba << endl;\n",
        "}"
      ],
      "metadata": {
        "id": "dIkdTRhrwusm"
      },
      "execution_count": null,
      "outputs": []
    },
    {
      "cell_type": "code",
      "source": [
        "# @title 動作テスト\n",
        "!g++ -std=c++20 -O2 -Wall -Wextra -o practice_01c practice_01c.cpp && echo \"この下をクリックして、3個の文字列を入力\" && ./practice_01c"
      ],
      "metadata": {
        "id": "004Yfg91wusm",
        "cellView": "form"
      },
      "execution_count": null,
      "outputs": []
    },
    {
      "cell_type": "code",
      "source": [
        "# @title 実行\n",
        "!diff -Z <(echo -e \"bbbaaa aaaccc cccbbbaaa\\nLongSword SwordMagic MagicLongSword\\n21 13 321\") <(g++ -std=c++20 -O2 -Wall -Wextra -o practice_01c practice_01c.cpp && echo \"aaa bbb ccc\" | ./practice_01c && echo \"Sword Long Magic\" | ./practice_01c && echo \"1 2 3\" | ./practice_01c) > nil && test $? -eq 0 && echo -e \"\\033[32;1mAC\" || echo -e \"\\033[31;1mWA\""
      ],
      "metadata": {
        "id": "BPxahh3Twusn",
        "cellView": "form"
      },
      "execution_count": null,
      "outputs": []
    },
    {
      "cell_type": "code",
      "source": [
        "# @title 🔒解答例(どうしても問題を解けない場合に見てください)\n",
        "%%writefile practice_01c.cpp\n",
        "#include <iostream>\n",
        "#include <string>\n",
        "using namespace std;\n",
        "\n",
        "int main() {\n",
        "  string a, b, c;\n",
        "  cin >> a >> b >> c;\n",
        "\n",
        "  string ba, ac, cba;\n",
        "  // ここから上は変更しない\n",
        "\n",
        "  // この下に、文字列を連結するプログラムを書く\n",
        "  ba = b + a;\n",
        "  ac = a + c;\n",
        "  cba = c + b + a;\n",
        "\n",
        "  // ここから下は変更しない\n",
        "  cout << ba << ' ' << ac << ' ' << cba << endl;\n",
        "}"
      ],
      "metadata": {
        "id": "od1aL7sMwusn",
        "cellView": "form"
      },
      "execution_count": null,
      "outputs": []
    },
    {
      "cell_type": "markdown",
      "source": [
        "### ❓️問題４ 文字コード\n",
        "\n",
        "1個の文字が入力されます。入力された文字の「文字コード」を出力し、改行しなさい。\n",
        "\n",
        "<br><details><summary>🗝️(クリックでヒントを見る)</summary>\n",
        "\n",
        "* 文字コードのまま読み込むには`char`型を使う。\n",
        "* `char`型の変数を`int`型の変数に代入すると、文字コードを整数として扱える。\n",
        "\n",
        "</details><br>\n",
        "\n",
        "**入力データ例（１）**\n",
        "\n",
        "```\n",
        "0\n",
        "```\n",
        "\n",
        "**出力例（１）**\n",
        "\n",
        "```txt\n",
        "48\n",
        "```\n",
        "\n",
        "**入力データ例（２）**\n",
        "\n",
        "```\n",
        "A\n",
        "```\n",
        "\n",
        "**出力例（２）**\n",
        "\n",
        "```txt\n",
        "65\n",
        "```\n",
        "\n",
        "**入力データ例（３）**\n",
        "\n",
        "```\n",
        "m\n",
        "```\n",
        "\n",
        "**出力例（３）**\n",
        "\n",
        "```txt\n",
        "109\n",
        "```\n"
      ],
      "metadata": {
        "id": "ncil5AEx8CAk"
      }
    },
    {
      "cell_type": "code",
      "source": [
        "%%writefile practice_01d.cpp\n",
        "#include <iostream>\n",
        "using namespace std;\n",
        "\n",
        "int main() {\n",
        "  // この下に、文字コードを出力するプログラムを書く\n",
        "\n",
        "}"
      ],
      "metadata": {
        "id": "-09wS31I8CAl"
      },
      "execution_count": null,
      "outputs": []
    },
    {
      "cell_type": "code",
      "source": [
        "# @title 動作テスト\n",
        "!g++ -std=c++20 -O2 -Wall -Wextra -o practice_01d practice_01d.cpp && echo \"この下をクリックして、1個の文字を入力\" && ./practice_01d"
      ],
      "metadata": {
        "cellView": "form",
        "id": "NikFW9Ny8CAl"
      },
      "execution_count": null,
      "outputs": []
    },
    {
      "cell_type": "code",
      "source": [
        "# @title 実行\n",
        "!diff -Z <(echo -e \"48\\n65\\n109\\n90\") <(g++ -std=c++20 -O2 -Wall -Wextra -o practice_01d practice_01d.cpp && echo \"0\" | ./practice_01d && echo \"A\" | ./practice_01d && echo \"m\" | ./practice_01d && echo \"Z\" | ./practice_01d) > nil && test $? -eq 0 && echo -e \"\\033[32;1mAC\" || echo -e \"\\033[31;1mWA\""
      ],
      "metadata": {
        "cellView": "form",
        "id": "mkda8STv8CAm"
      },
      "execution_count": null,
      "outputs": []
    },
    {
      "cell_type": "code",
      "source": [
        "# @title 🔒解答例(どうしても問題を解けない場合に見てください)\n",
        "%%writefile practice_01d.cpp\n",
        "#include <iostream>\n",
        "using namespace std;\n",
        "\n",
        "int main() {\n",
        "  // この下に、文字コードを出力するプログラムを書く\n",
        "  char a;\n",
        "  cin >> a;\n",
        "\n",
        "  int b = a;\n",
        "  cout << b << endl;\n",
        "}"
      ],
      "metadata": {
        "cellView": "form",
        "id": "uoPCuRVo8CAm"
      },
      "execution_count": null,
      "outputs": []
    },
    {
      "cell_type": "markdown",
      "source": [
        "### ❓️問題５ N個離れた文字\n",
        "\n",
        "1個の英小文字Aと1個の数字Nが入力されるので、英小文字Aに数字Nを足した文字Bを出力するプログラムを作成しなさい。<br>\n",
        "ただし、出力する文字Bが「文字`a`より小さい」または「文字`z`より大きい」場合は、文字Bの代わりに`error`と出力しなさい。\n",
        "\n",
        "<br><details><summary>🗝️(クリックでヒントを見る)</summary>\n",
        "\n",
        "**プログラム例**\n",
        "\n",
        "1. `char`型の変数`a`を宣言し、標準入力`cin`から変数`a`に文字を読み込む\n",
        "2. `int`型の変数`n`を宣言し、標準入力`cin`から変数`n`に数字を読み込む\n",
        "3. `char`型の変数`b`を宣言し、`a + n`で初期化する。\n",
        "4. if文を使って、変数`b`が文字`a`未満、または文字`z`より大きい場合、文字列`error`を出力して改行する\n",
        "5. else句を使って、変数`b`を出力して改行する\n",
        "\n",
        "</details><br>\n",
        "\n",
        "**入力データ例（１）**\n",
        "\n",
        "```\n",
        "x 2\n",
        "```\n",
        "\n",
        "**出力例（１）**\n",
        "\n",
        "```txt\n",
        "z\n",
        "```\n",
        "\n",
        "**入力データ例（２）**\n",
        "\n",
        "```\n",
        "c -2\n",
        "```\n",
        "\n",
        "**出力例（２）**\n",
        "\n",
        "```txt\n",
        "a\n",
        "```\n",
        "\n",
        "**入力データ例（３）**\n",
        "\n",
        "```\n",
        "z 1\n",
        "```\n",
        "\n",
        "**出力例（３）**\n",
        "\n",
        "```txt\n",
        "error\n",
        "```\n"
      ],
      "metadata": {
        "id": "IFGz7hsp11N8"
      }
    },
    {
      "cell_type": "code",
      "source": [
        "%%writefile practice_01e.cpp\n",
        "#include <iostream>\n",
        "#include <string>\n",
        "using namespace std;\n",
        "\n",
        "int main() {\n",
        "  // この下に、文字Bまたは文字列errorを出力するプログラムを書く\n",
        "\n",
        "}"
      ],
      "metadata": {
        "id": "Hb4jCEgm11N8"
      },
      "execution_count": null,
      "outputs": []
    },
    {
      "cell_type": "code",
      "source": [
        "# @title 動作テスト\n",
        "!g++ -std=c++20 -O2 -Wall -Wextra -o practice_01e practice_01e.cpp && echo \"この下をクリックして、文字と数字を入力\" && ./practice_01e"
      ],
      "metadata": {
        "cellView": "form",
        "id": "tMk3v0PM11N9"
      },
      "execution_count": null,
      "outputs": []
    },
    {
      "cell_type": "code",
      "source": [
        "# @title 実行\n",
        "!diff -Z <(echo -e \"z\\na\\nerror\\nerror\") <(g++ -std=c++20 -O2 -Wall -Wextra -o practice_01e practice_01e.cpp && echo \"x 2\" | ./practice_01e && echo \"f -5\" | ./practice_01e && echo \"c -3\" | ./practice_01e && echo \"b 25\" | ./practice_01e) > nil && test $? -eq 0 && echo -e \"\\033[32;1mAC\" || echo -e \"\\033[31;1mWA\""
      ],
      "metadata": {
        "cellView": "form",
        "id": "wxyQY-b611N9"
      },
      "execution_count": null,
      "outputs": []
    },
    {
      "cell_type": "code",
      "source": [
        "# @title 🔒解答例(どうしても問題を解けない場合に見てください)\n",
        "%%writefile practice_01e.cpp\n",
        "#include <iostream>\n",
        "using namespace std;\n",
        "\n",
        "int main() {\n",
        "  // この下に、文字Bまたは文字列errorを出力するプログラムを書く\n",
        "  char a;\n",
        "  cin >> a;\n",
        "\n",
        "  int n;\n",
        "  cin >> n;\n",
        "\n",
        "  char b = a + n;\n",
        "  if (b < 'a' || b > 'z') {\n",
        "    cout << \"error\" << endl;\n",
        "  } else {\n",
        "    cout << b << endl;\n",
        "  }\n",
        "}"
      ],
      "metadata": {
        "cellView": "form",
        "id": "3MGmBW5411N9"
      },
      "execution_count": null,
      "outputs": []
    },
    {
      "cell_type": "markdown",
      "source": [
        "### ❓️問題６ 16進数\n",
        "\n",
        "2桁の16進数が入力されます。入力された16進数を、10進数に変換して出力しなさい。\n",
        "\n",
        "16進数と10進数の対応表:\n",
        "\n",
        "| 16進数 | 10進数 |\n",
        "|:-:|:-:|\n",
        "| 0 | 0 |\n",
        "| 1 | 1 |\n",
        "| 2 | 2 |\n",
        "| 3 | 3 |\n",
        "| 4 | 4 |\n",
        "| 5 | 5 |\n",
        "| 6 | 6 |\n",
        "| 7 | 7 |\n",
        "| 8 | 8 |\n",
        "| 9 | 9 |\n",
        "| A | 10 |\n",
        "| B | 11 |\n",
        "| C | 12 |\n",
        "| D | 13 |\n",
        "| E | 14 |\n",
        "| F | 15 |\n",
        "\n",
        "\n",
        "<br><details><summary>🗝️(クリックでヒントを見る)</summary>\n",
        "\n",
        "\n",
        "</details><br>\n",
        "\n",
        "**入力データ例（１）**\n",
        "\n",
        "```\n",
        "A\n",
        "```\n",
        "\n",
        "**出力例（１）**\n",
        "\n",
        "```txt\n",
        "10\n",
        "```\n",
        "\n",
        "**入力データ例（２）**\n",
        "\n",
        "```\n",
        "10\n",
        "```\n",
        "\n",
        "**出力例（２）**\n",
        "\n",
        "```txt\n",
        "16\n",
        "```\n",
        "\n",
        "**入力データ例（３）**\n",
        "\n",
        "```\n",
        "FF\n",
        "```\n",
        "\n",
        "**出力例（３）**\n",
        "\n",
        "```txt\n",
        "255\n",
        "```\n"
      ],
      "metadata": {
        "id": "DniSH-fv10c2"
      }
    },
    {
      "cell_type": "code",
      "source": [
        "%%writefile practice_01f.cpp\n",
        "#include <iostream>\n",
        "#include <string>\n",
        "using namespace std;\n",
        "\n",
        "int main() {\n",
        "  // この下に、文字コードを文字に変換して出力するプログラムを書く\n",
        "\n",
        "}"
      ],
      "metadata": {
        "id": "DX0FTT3V10c3"
      },
      "execution_count": null,
      "outputs": []
    },
    {
      "cell_type": "code",
      "source": [
        "# @title 動作テスト\n",
        "!g++ -std=c++20 -O2 -Wall -Wextra -o practice_01f practice_01f.cpp && echo \"この下をクリックして、文字と数字を入力\" && ./practice_01f"
      ],
      "metadata": {
        "cellView": "form",
        "id": "zJeTpTwg10c3"
      },
      "execution_count": null,
      "outputs": []
    },
    {
      "cell_type": "code",
      "source": [
        "# @title 実行\n",
        "!diff -Z <(echo -e \"z\\na\\nerror\\nerror\") <(g++ -std=c++20 -O2 -Wall -Wextra -o practice_01f practice_01f.cpp && echo \"x 2\" | ./practice_01f && echo \"f -5\" | ./practice_01f && echo \"c -3\" | ./practice_01f && echo \"b 25\" | ./practice_01f) > nil && test $? -eq 0 && echo -e \"\\033[32;1mAC\" || echo -e \"\\033[31;1mWA\""
      ],
      "metadata": {
        "cellView": "form",
        "id": "85N1JYyA10c3"
      },
      "execution_count": null,
      "outputs": []
    },
    {
      "cell_type": "code",
      "source": [
        "# @title 🔒解答例(どうしても問題を解けない場合に見てください)\n",
        "%%writefile practice_01f.cpp\n",
        "#include <iostream>\n",
        "using namespace std;\n",
        "\n",
        "int main() {\n",
        "  // この下に、文字コードを文字に変換して出力するプログラムを書く\n",
        "  int n;\n",
        "  cin >> n;\n",
        "\n",
        "  for (int i = 0; i < n; i++) {\n",
        "    int a;\n",
        "    cin >> a;\n",
        "    char b = a;\n",
        "    cout << b;\n",
        "  }\n",
        "  cout << endl;\n",
        "}"
      ],
      "metadata": {
        "id": "FHrTDyUN10c3"
      },
      "execution_count": null,
      "outputs": []
    },
    {
      "cell_type": "markdown",
      "source": [
        "### ❓️問題５ 文字を隠す\n",
        "\n",
        "長さが3文字以上の文字列Sが入力されます。<br>\n",
        "文字列Sの先頭から3文字を`*`(アスタリスク)に置き換えた文字列を出力するプログラムを作成しなさい。\n",
        "\n",
        "<br><details><summary>🗝️(クリックでヒントを見る)</summary>\n",
        "\n",
        "**プログラム例**\n",
        "\n",
        "1. `string`型の変数`s`を宣言し、標準入力`cin`から変数`s`に文字列を読み込む\n",
        "2. 添字演算子`[]`を使って、変数`s`の0番目に文字`*`を代入\n",
        "3. 添字演算子`[]`を使って、変数`s`の1番目に文字`*`を代入\n",
        "4. 添字演算子`[]`を使って、変数`s`の2番目に文字`*`を代入\n",
        "5. 標準出力`cout`に変数`s`を出力し、改行する\n",
        "\n",
        "</details><br>\n",
        "\n",
        "**入力データ例（１）**\n",
        "\n",
        "```\n",
        "password\n",
        "```\n",
        "\n",
        "**出力例（１）**\n",
        "\n",
        "```txt\n",
        "***sword\n",
        "```\n",
        "\n",
        "**入力データ例（２）**\n",
        "\n",
        "```\n",
        "abc\n",
        "```\n",
        "\n",
        "**出力例（２）**\n",
        "\n",
        "```txt\n",
        "***\n",
        "```\n"
      ],
      "metadata": {
        "id": "VIDLlKedbXHJ"
      }
    },
    {
      "cell_type": "code",
      "source": [
        "%%writefile practice_02a.cpp\n",
        "#include <iostream>\n",
        "#include <string>\n",
        "using namespace std;\n",
        "\n",
        "int main() {\n",
        "  // この下に、文字列の先頭3文字をアスタリスクに変えて出力するプログラムを書く\n",
        "\n",
        "}"
      ],
      "metadata": {
        "id": "U-YxgCGFbXHK"
      },
      "execution_count": null,
      "outputs": []
    },
    {
      "cell_type": "code",
      "source": [
        "# @title 動作テスト\n",
        "!g++ -std=c++20 -O2 -Wall -Wextra -o practice_02a practice_02a.cpp && echo \"この下をクリックして、3文字以上の文字列を入力\" && ./practice_02a"
      ],
      "metadata": {
        "cellView": "form",
        "id": "9JQ91TccbXHK"
      },
      "execution_count": null,
      "outputs": []
    },
    {
      "cell_type": "code",
      "source": [
        "# @title 実行\n",
        "!diff -Z <(echo -e \"***sword\\n***\\n***t\") <(g++ -std=c++20 -O2 -Wall -Wextra -o practice_02a practice_02a.cpp && echo \"password\" | ./practice_02a && echo \"abc\" | ./practice_02a && echo \"test\" | ./practice_02a) > nil && test $? -eq 0 && echo -e \"\\033[32;1mAC\" || echo -e \"\\033[31;1mWA\""
      ],
      "metadata": {
        "cellView": "form",
        "id": "Cy0BHOxZbXHK"
      },
      "execution_count": null,
      "outputs": []
    },
    {
      "cell_type": "code",
      "source": [
        "# @title 🔒解答例(どうしても問題を解けない場合に見てください)\n",
        "%%writefile practice_02a.cpp\n",
        "#include <iostream>\n",
        "#include <string>\n",
        "using namespace std;\n",
        "\n",
        "int main() {\n",
        "  // この下に、文字列の先頭3文字をアスタリスクに変えて出力するプログラムを書く\n",
        "  string s;\n",
        "  cin >> s;\n",
        "\n",
        "  s[0] = '*';\n",
        "  s[1] = '*';\n",
        "  s[2] = '*';\n",
        "\n",
        "  cout << s << endl;\n",
        "}"
      ],
      "metadata": {
        "cellView": "form",
        "id": "VSWvcCMTbXHK"
      },
      "execution_count": null,
      "outputs": []
    },
    {
      "cell_type": "markdown",
      "source": [
        "### ❓️問題６ A番目の文字\n",
        "\n",
        "文字列Sと、数字Aが入力されます。<br>\n",
        "文字列Sの先頭からA番目の文字を出力するプログラムを作成しなさい。\n",
        "\n",
        "* この問題では、文字列の先頭を「1番目」と数えます。\n",
        "* 文字列の範囲を超える数字は入力されないものとします。\n",
        "\n",
        "<br><details><summary>🗝️(クリックでヒントを見る)</summary>\n",
        "\n",
        "**プログラム例**\n",
        "\n",
        "1. `string`型の変数`s`を宣言し、標準入力`cin`から変数`s`に文字列を読み込む\n",
        "2. `int`型の変数`a`を宣言し、標準入力`cin`から変数`a`に数字を読み込む\n",
        "3. 標準出力`cout`に、変数`s`の添字`a - 1`の位置の文字を出力し、改行する\n",
        "\n",
        "</details><br>\n",
        "\n",
        "**入力データ例（１）**\n",
        "\n",
        "```\n",
        "abcdef 3\n",
        "```\n",
        "\n",
        "**出力例（１）**\n",
        "\n",
        "```txt\n",
        "c\n",
        "```\n",
        "\n",
        "**入力データ例（２）**\n",
        "\n",
        "```\n",
        "practice 8\n",
        "```\n",
        "\n",
        "**出力例（２）**\n",
        "\n",
        "```txt\n",
        "e\n",
        "```\n"
      ],
      "metadata": {
        "id": "Q6m6xvQACooz"
      }
    },
    {
      "cell_type": "code",
      "source": [
        "%%writefile practice_02b.cpp\n",
        "#include <iostream>\n",
        "#include <string>\n",
        "using namespace std;\n",
        "\n",
        "int main() {\n",
        "  // この下に、文字列SのA番目の文字を出力するプログラムを書く\n",
        "\n",
        "}"
      ],
      "metadata": {
        "id": "6u9STs2VCoo0"
      },
      "execution_count": null,
      "outputs": []
    },
    {
      "cell_type": "code",
      "source": [
        "# @title 動作テスト\n",
        "!g++ -std=c++20 -O2 -Wall -Wextra -o practice_02b practice_02b.cpp && echo \"この下をクリックして、文字列と数字を入力\" && ./practice_02b"
      ],
      "metadata": {
        "cellView": "form",
        "id": "KpNMfNZRCoo0"
      },
      "execution_count": null,
      "outputs": []
    },
    {
      "cell_type": "code",
      "source": [
        "# @title 実行\n",
        "!diff -Z <(echo -e \"c\\ne\\ni\") <(g++ -std=c++20 -O2 -Wall -Wextra -o practice_02b practice_02b.cpp && echo \"abcdef 3\" | ./practice_02b && echo \"practice 8\" | ./practice_02b && echo \"index 1\" | ./practice_02b) > nil && test $? -eq 0 && echo -e \"\\033[32;1mAC\" || echo -e \"\\033[31;1mWA\""
      ],
      "metadata": {
        "cellView": "form",
        "id": "ykOkGbO0Coo0"
      },
      "execution_count": null,
      "outputs": []
    },
    {
      "cell_type": "code",
      "source": [
        "# @title 🔒解答例(どうしても問題を解けない場合に見てください)\n",
        "%%writefile practice_02b.cpp\n",
        "#include <iostream>\n",
        "#include <string>\n",
        "using namespace std;\n",
        "\n",
        "int main() {\n",
        "  // この下に、文字列SのA番目の文字を出力するプログラムを書く\n",
        "  string s;\n",
        "  cin >> s;\n",
        "\n",
        "  int a;\n",
        "  cin >> a;\n",
        "\n",
        "  cout << s[a - 1] << endl;\n",
        "}"
      ],
      "metadata": {
        "cellView": "form",
        "id": "Qx2qUYvZCoo0"
      },
      "execution_count": null,
      "outputs": []
    },
    {
      "cell_type": "markdown",
      "source": [
        "### ❓️問題７ 文字の交換\n",
        "\n",
        "文字列Sと、2つの数字A, Bが入力されます。<br>\n",
        "文字列Sの先頭からA番目の文字と、B番目の文字を入れ替えた文字列を出力するプログラムを作成しなさい。\n",
        "\n",
        "* この問題では、文字列の先頭を「1番目」と数えます。\n",
        "* 文字列の範囲を超える数字は入力されないものとします。\n",
        "\n",
        "<br><details><summary>🗝️(クリックでヒントを見る)</summary>\n",
        "\n",
        "**プログラム例**\n",
        "\n",
        "1. `string`型の変数`s`を宣言し、標準入力`cin`から変数`s`に文字列を読み込む\n",
        "2. `int`型の変数`a`と`b`を宣言し、標準入力`cin`から変数`a`, `b`に数字を読み込む\n",
        "3. `char`型の変数`c`を宣言し、文字列`s`の添字`a - 1`の位置の文字で初期化する\n",
        "4. 文字列`s`の添字`a - 1`の位置に、添字`b - 1`の位置の文字を代入する\n",
        "5. 文字列`s`の添字`b - 1`の位置に、変数`c`を代入する\n",
        "6. 標準出力`cout`に変数`s`を出力し、改行する\n",
        "\n",
        "</details><br>\n",
        "\n",
        "**入力データ例（１）**\n",
        "\n",
        "```\n",
        "tape 1 3\n",
        "```\n",
        "\n",
        "**出力例（１）**\n",
        "\n",
        "```txt\n",
        "pate\n",
        "```\n",
        "\n",
        "**入力データ例（２）**\n",
        "\n",
        "```\n",
        "slime 2 4\n",
        "```\n",
        "\n",
        "**出力例（２）**\n",
        "\n",
        "```txt\n",
        "smile\n",
        "```\n"
      ],
      "metadata": {
        "id": "oz_BkVjEPHCB"
      }
    },
    {
      "cell_type": "code",
      "source": [
        "%%writefile practice_02c.cpp\n",
        "#include <iostream>\n",
        "#include <string>\n",
        "using namespace std;\n",
        "\n",
        "int main() {\n",
        "  // この下に、文字列SのA番目とB番目を交換して出力するプログラムを書く\n",
        "\n",
        "}"
      ],
      "metadata": {
        "id": "cQhIhi6BPHCC"
      },
      "execution_count": null,
      "outputs": []
    },
    {
      "cell_type": "code",
      "source": [
        "# @title 動作テスト\n",
        "!g++ -std=c++20 -O2 -Wall -Wextra -o practice_02c practice_02c.cpp && echo \"この下をクリックして、文字列と２つの数字を入力\" && ./practice_02c"
      ],
      "metadata": {
        "cellView": "form",
        "id": "mhF_vwpePHCD"
      },
      "execution_count": null,
      "outputs": []
    },
    {
      "cell_type": "code",
      "source": [
        "# @title 実行\n",
        "!diff -Z <(echo -e \"pate\\nsmile\\nfbcdea\") <(g++ -std=c++20 -O2 -Wall -Wextra -o practice_02c practice_02c.cpp && echo \"tape 1 3\" | ./practice_02c && echo \"slime 2 4\" | ./practice_02c && echo \"abcdef 1 6\" | ./practice_02c) > nil && test $? -eq 0 && echo -e \"\\033[32;1mAC\" || echo -e \"\\033[31;1mWA\""
      ],
      "metadata": {
        "cellView": "form",
        "id": "kBHvv2gEPHCD"
      },
      "execution_count": null,
      "outputs": []
    },
    {
      "cell_type": "code",
      "source": [
        "# @title 🔒解答例(どうしても問題を解けない場合に見てください)\n",
        "%%writefile practice_02c.cpp\n",
        "#include <iostream>\n",
        "#include <string>\n",
        "using namespace std;\n",
        "\n",
        "int main() {\n",
        "  // この下に、文字列SのA番目とB番目を交換して出力するプログラムを書く\n",
        "  string s;\n",
        "  cin >> s;\n",
        "\n",
        "  int a, b;\n",
        "  cin >> a >> b;\n",
        "\n",
        "  char c = s[a - 1];\n",
        "  s[a - 1] = s[b - 1];\n",
        "  s[b - 1] = c;\n",
        "\n",
        "  cout << s << endl;\n",
        "}"
      ],
      "metadata": {
        "cellView": "form",
        "id": "dmdyqu5uPHCD"
      },
      "execution_count": null,
      "outputs": []
    },
    {
      "cell_type": "markdown",
      "source": [
        "### ❓️問題８ 長さ\n",
        "\n",
        "文字列Sが入力されます。<br>\n",
        "文字列の長さを出力するプログラムを作成しなさい。\n",
        "\n",
        "<br><details><summary>🗝️(クリックでヒントを見る)</summary>\n",
        "\n",
        "**プログラム例**\n",
        "\n",
        "1. `string`型の変数`s`を宣言し、標準入力`cin`から変数`s`に文字列を読み込む\n",
        "2. 標準出力`cout`に、`string`型の`size`機能を使って変数`s`の長さを出力し、改行する\n",
        "\n",
        "</details><br>\n",
        "\n",
        "**入力データ例（１）**\n",
        "\n",
        "```\n",
        "start\n",
        "```\n",
        "\n",
        "**出力例（１）**\n",
        "\n",
        "```txt\n",
        "5\n",
        "```\n",
        "\n",
        "**入力データ例（２）**\n",
        "\n",
        "```\n",
        "internationalization\n",
        "```\n",
        "\n",
        "**出力例（２）**\n",
        "\n",
        "```txt\n",
        "20\n",
        "```\n"
      ],
      "metadata": {
        "id": "2PH44IWyHWIz"
      }
    },
    {
      "cell_type": "code",
      "source": [
        "%%writefile practice_03a.cpp\n",
        "#include <iostream>\n",
        "#include <string>\n",
        "using namespace std;\n",
        "\n",
        "int main() {\n",
        "  // この下に、文字列の長さを出力するプログラムを書く\n",
        "\n",
        "}"
      ],
      "metadata": {
        "id": "wM2Q9zN_HWIz"
      },
      "execution_count": null,
      "outputs": []
    },
    {
      "cell_type": "code",
      "source": [
        "# @title 動作テスト\n",
        "!g++ -std=c++20 -O2 -Wall -Wextra -o practice_03a practice_03a.cpp && echo \"この下をクリックして、文字列を入力\" && ./practice_03a"
      ],
      "metadata": {
        "cellView": "form",
        "id": "PKeiCOYZHWIz"
      },
      "execution_count": null,
      "outputs": []
    },
    {
      "cell_type": "code",
      "source": [
        "# @title 実行\n",
        "!diff -Z <(echo -e \"5\\n3\\n20\") <(g++ -std=c++20 -O2 -Wall -Wextra -o practice_03a practice_03a.cpp && echo \"start\" | ./practice_03a && echo \"abc\" | ./practice_03a && echo \"internationalization\" | ./practice_03a) > nil && test $? -eq 0 && echo -e \"\\033[32;1mAC\" || echo -e \"\\033[31;1mWA\""
      ],
      "metadata": {
        "cellView": "form",
        "id": "YuXEBICxHWI0"
      },
      "execution_count": null,
      "outputs": []
    },
    {
      "cell_type": "code",
      "source": [
        "# @title 🔒解答例(どうしても問題を解けない場合に見てください)\n",
        "%%writefile practice_03a.cpp\n",
        "#include <iostream>\n",
        "#include <string>\n",
        "using namespace std;\n",
        "\n",
        "int main() {\n",
        "  // この下に、文字列の長さを出力するプログラムを書く\n",
        "  string s;\n",
        "  cin >> s;\n",
        "\n",
        "  cout << s.size() << endl;\n",
        "}"
      ],
      "metadata": {
        "cellView": "form",
        "id": "3WwOUeJLHWI0"
      },
      "execution_count": null,
      "outputs": []
    },
    {
      "cell_type": "markdown",
      "source": [
        "### ❓️問題９ 建物の数\n",
        "\n",
        "ABC建築会社は道路をつくる仕事を受けました。道路の予定区画にはいくつか建物があり、それらを壊さないと道路を作れません。<br>\n",
        "予算に影響するので、壊す必要のある建物の数を調べるプログラムをつくることにしました。\n",
        "\n",
        "予定区画のなにもない部分を`.`、建物を`#`であらわした文字列Sが入力されます。<br>\n",
        "文字列Sに含まれる`#`の個数を計算し、出力するプログラムを作成しなさい。\n",
        "\n",
        "<br><details><summary>🗝️(クリックでヒントを見る)</summary>\n",
        "\n",
        "**プログラム例**\n",
        "\n",
        "1. `string`型の変数`s`を宣言し、標準入力`cin`から変数`s`に文字列を読み込む\n",
        "2. `int`型の変数`a`を宣言し、`0`で初期化する\n",
        "3. for文を使って、次の処理を`s.size()`回行う\n",
        "   1. if文を使って、添字`i`の位置の文字が`#`なら、変数`a`を1増やす\n",
        "4. 標準出力`cout`に変数`a`を出力し、改行する\n",
        "\n",
        "</details><br>\n",
        "\n",
        "**入力データ例（１）**\n",
        "\n",
        "```\n",
        "..#..##.\n",
        "```\n",
        "\n",
        "**出力例（１）**\n",
        "\n",
        "```txt\n",
        "3\n",
        "```\n",
        "\n",
        "**入力データ例（２）**\n",
        "\n",
        "```\n",
        "......\n",
        "```\n",
        "\n",
        "**出力例（２）**\n",
        "\n",
        "```txt\n",
        "0\n",
        "```\n"
      ],
      "metadata": {
        "id": "6wWuwwLi9DVM"
      }
    },
    {
      "cell_type": "code",
      "source": [
        "%%writefile practice_03b.cpp\n",
        "#include <iostream>\n",
        "#include <string>\n",
        "using namespace std;\n",
        "\n",
        "int main() {\n",
        "  // この下に、#の数を計算して出力するプログラムを書く\n",
        "\n",
        "}"
      ],
      "metadata": {
        "id": "OrELF_re9DVM"
      },
      "execution_count": null,
      "outputs": []
    },
    {
      "cell_type": "code",
      "source": [
        "# @title 動作テスト\n",
        "!g++ -std=c++20 -O2 -Wall -Wextra -o practice_03b practice_03b.cpp && echo \"この下をクリックして、文字列を入力\" && ./practice_03b"
      ],
      "metadata": {
        "cellView": "form",
        "id": "IZ7bwOwT9DVN"
      },
      "execution_count": null,
      "outputs": []
    },
    {
      "cell_type": "code",
      "source": [
        "# @title 実行\n",
        "!diff -Z <(echo -e \"3\\n0\\n1\") <(g++ -std=c++20 -O2 -Wall -Wextra -o practice_03b practice_03b.cpp && echo \"...#.##.\" | ./practice_03b && echo \".....\" | ./practice_03b && echo \"#\" | ./practice_03b) > nil && test $? -eq 0 && echo -e \"\\033[32;1mAC\" || echo -e \"\\033[31;1mWA\""
      ],
      "metadata": {
        "cellView": "form",
        "id": "UyfnPfow9DVN"
      },
      "execution_count": null,
      "outputs": []
    },
    {
      "cell_type": "code",
      "source": [
        "# @title 🔒解答例(どうしても問題を解けない場合に見てください)\n",
        "%%writefile practice_03b.cpp\n",
        "#include <iostream>\n",
        "#include <string>\n",
        "using namespace std;\n",
        "\n",
        "int main() {\n",
        "  // この下に、#の数を計算して出力するプログラムを書く\n",
        "  string s;\n",
        "  cin >> s;\n",
        "\n",
        "  int a = 0;\n",
        "  for (int i = 0; i < (int)s.size(); i++) {\n",
        "    if (s[i] == '#') {\n",
        "      a++;\n",
        "    }\n",
        "  }\n",
        "\n",
        "  cout << a << endl;\n",
        "}"
      ],
      "metadata": {
        "cellView": "form",
        "id": "laXp3hK59DVN"
      },
      "execution_count": null,
      "outputs": []
    },
    {
      "cell_type": "markdown",
      "source": [
        "### ❓️問題１０ 部分文字列\n",
        "\n",
        "文字列Sと2つの数字A, Bが入力されます。<br>\n",
        "文字列のA番目からB個の文字だけを出力するプログラムを作成しなさい。\n",
        "\n",
        "* この問題では、文字列の先頭を「1番目」と数えます。\n",
        "* 文字列の範囲を超える数字は入力されないものとします。\n",
        "\n",
        "<br><details><summary>🗝️(クリックでヒントを見る)</summary>\n",
        "\n",
        "**プログラム例**\n",
        "\n",
        "1. `string`型の変数`s`を宣言し、標準入力`cin`から変数`s`に文字列を読み込む\n",
        "2. `int`型の変数`a`と`b`を宣言し、標準入力`cin`から変数`a`, `b`に数字を読み込む\n",
        "3. 標準出力`cout`に、`string`型の`substr`機能を使って、変数`s`の添字`a - 1`の位置から`b`個の文字を取り出して出力し、改行する\n",
        "\n",
        "</details><br>\n",
        "\n",
        "**入力データ例（１）**\n",
        "\n",
        "```\n",
        "substring 1 6\n",
        "```\n",
        "\n",
        "**出力例（１）**\n",
        "\n",
        "```txt\n",
        "substr\n",
        "```\n",
        "\n",
        "**入力データ例（２）**\n",
        "\n",
        "```\n",
        "standard 3 3\n",
        "```\n",
        "\n",
        "**出力例（２）**\n",
        "\n",
        "```txt\n",
        "and\n",
        "```\n"
      ],
      "metadata": {
        "id": "V81QjTZGI3UZ"
      }
    },
    {
      "cell_type": "code",
      "source": [
        "%%writefile practice_03c.cpp\n",
        "#include <iostream>\n",
        "#include <string>\n",
        "using namespace std;\n",
        "\n",
        "int main() {\n",
        "  // この下に、文字列SのA番目からB個の文字を出力するプログラムを書く\n",
        "\n",
        "}"
      ],
      "metadata": {
        "id": "-jr3VCQjI3UZ"
      },
      "execution_count": null,
      "outputs": []
    },
    {
      "cell_type": "code",
      "source": [
        "# @title 動作テスト\n",
        "!g++ -std=c++20 -O2 -Wall -Wextra -o practice_03c practice_03c.cpp && echo \"この下をクリックして、文字列と２つの数字を入力\" && ./practice_03c"
      ],
      "metadata": {
        "cellView": "form",
        "id": "7qn1BnlBI3Ua"
      },
      "execution_count": null,
      "outputs": []
    },
    {
      "cell_type": "code",
      "source": [
        "# @title 実行\n",
        "!diff -Z <(echo -e \"substr\\nand\\ngraphical\") <(g++ -std=c++20 -O2 -Wall -Wextra -o practice_03c practice_03c.cpp && echo \"substring 1 6\" | ./practice_03c && echo \"standard 3 3\" | ./practice_03c && echo \"lexicographicalcompare 7 9\" | ./practice_03c) > nil && test $? -eq 0 && echo -e \"\\033[32;1mAC\" || echo -e \"\\033[31;1mWA\""
      ],
      "metadata": {
        "cellView": "form",
        "id": "KCEJLz2yI3Ua"
      },
      "execution_count": null,
      "outputs": []
    },
    {
      "cell_type": "code",
      "source": [
        "# @title 🔒解答例(どうしても問題を解けない場合に見てください)\n",
        "%%writefile practice_03c.cpp\n",
        "#include <iostream>\n",
        "#include <string>\n",
        "using namespace std;\n",
        "\n",
        "int main() {\n",
        "  // この下に、文字列SのA番目からB個の文字を出力するプログラムを書く\n",
        "  string s;\n",
        "  cin >> s;\n",
        "\n",
        "  int a, b;\n",
        "  cin >> a >> b;\n",
        "\n",
        "  cout << s.substr(a - 1, b) << endl;\n",
        "\n",
        "  // for文を使って、次のように書いても良い\n",
        "  //for (int i = 0; i < b; i++) {\n",
        "  //  cout << s[a - 1 + i];\n",
        "  //}\n",
        "  //cout << endl;\n",
        "}"
      ],
      "metadata": {
        "cellView": "form",
        "id": "ttTDLOWPI3Ua"
      },
      "execution_count": null,
      "outputs": []
    },
    {
      "cell_type": "markdown",
      "source": [
        "### ❓️問題１１ 好きな文字列\n",
        "\n",
        "ハオくんには好きな文字列があります。<br>\n",
        "彼は、あらゆる文字列の真ん中に「好きな文字列」を追加したいと思っています。\n",
        "\n",
        "好きな文字列Sと、ある文字列Tが入力されます。<br>\n",
        "文字列Tの真ん中に文字列Sを追加し、できた文字列を出力するプログラムを作成しなさい。\n",
        "\n",
        "* 文字列Tの長さは常に偶数とします。長さが奇数の文字列は入力されません。\n",
        "\n",
        "<br><details><summary>🗝️(クリックでヒントを見る)</summary>\n",
        "\n",
        "**プログラム例**\n",
        "\n",
        "1. `string`型の変数`s`と`t`を宣言し、標準入力`cin`から変数`s`と`t`に文字列を読み込む\n",
        "2. `int`型の変数`a`を宣言し、文字列変数`t`の長さの半分で初期化する\n",
        "3. `string`型の`insert`機能を使って、文字列変数`t`の添字`a`の位置に、文字列変数`s`を追加する\n",
        "6. 標準出力`cout`に変数`t`を出力し、改行する\n",
        "\n",
        "</details><br>\n",
        "\n",
        "**入力データ例（１）**\n",
        "\n",
        "```\n",
        "game season\n",
        "```\n",
        "\n",
        "**出力例（１）**\n",
        "\n",
        "```txt\n",
        "seagameson\n",
        "```\n",
        "\n",
        "**入力データ例（２）**\n",
        "\n",
        "```\n",
        "nara osakakyoto\n",
        "```\n",
        "\n",
        "**出力例（２）**\n",
        "\n",
        "```txt\n",
        "osakanarakyoto\n",
        "```\n"
      ],
      "metadata": {
        "id": "hq-I37MiMjWh"
      }
    },
    {
      "cell_type": "code",
      "source": [
        "%%writefile practice_03d.cpp\n",
        "#include <iostream>\n",
        "#include <string>\n",
        "using namespace std;\n",
        "\n",
        "int main() {\n",
        "  // この下に、文字列Tの真ん中に文字列Sを追加した文字列を出力するプログラムを書く\n",
        "\n",
        "}"
      ],
      "metadata": {
        "id": "-wfYlfhyMjWi"
      },
      "execution_count": null,
      "outputs": []
    },
    {
      "cell_type": "code",
      "source": [
        "# @title 動作テスト\n",
        "!g++ -std=c++20 -O2 -Wall -Wextra -o practice_03d practice_03d.cpp && echo \"この下をクリックして、文字列Sと文字列Tを入力\" && ./practice_03d"
      ],
      "metadata": {
        "cellView": "form",
        "id": "q9D79ILuMjWi"
      },
      "execution_count": null,
      "outputs": []
    },
    {
      "cell_type": "code",
      "source": [
        "# @title 実行\n",
        "!diff -Z <(echo -e \"seagameson\\nosakanarakyoto\\nazb\") <(g++ -std=c++20 -O2 -Wall -Wextra -o practice_03d practice_03d.cpp && echo \"game season\" | ./practice_03d && echo \"nara osakakyoto\" | ./practice_03d && echo \"z ab\" | ./practice_03d) > nil && test $? -eq 0 && echo -e \"\\033[32;1mAC\" || echo -e \"\\033[31;1mWA\""
      ],
      "metadata": {
        "cellView": "form",
        "id": "vqE71gb-MjWi"
      },
      "execution_count": null,
      "outputs": []
    },
    {
      "cell_type": "code",
      "source": [
        "# @title 🔒解答例(どうしても問題を解けない場合に見てください)\n",
        "%%writefile practice_03d.cpp\n",
        "#include <iostream>\n",
        "#include <string>\n",
        "using namespace std;\n",
        "\n",
        "int main() {\n",
        "  // この下に、文字列Tの真ん中に文字列Sを追加した文字列を出力するプログラムを書く\n",
        "  string s, t;\n",
        "  cin >> s >> t;\n",
        "\n",
        "  int a = t.size() / 2;\n",
        "\n",
        "  t.insert(a, s);\n",
        "  cout << t << endl;\n",
        "}"
      ],
      "metadata": {
        "cellView": "form",
        "id": "-i0oC_mQMjWj"
      },
      "execution_count": null,
      "outputs": []
    },
    {
      "cell_type": "markdown",
      "source": [
        "### ❓️問題１２ 追加と削除\n",
        "\n",
        "文字列Sと2つの数字A, B、そして文字Cが入力されます。<br>\n",
        "文字列SからA番目の文字を1個削除し、次にB番目に文字Cを1個追加した文字列を出力するプログラムを作成しなさい。\n",
        "\n",
        "* この問題では、文字列の先頭を「1番目」と数えます。\n",
        "* 文字列の範囲を超える数字は入力されないものとします。\n",
        "\n",
        "<br><details><summary>🗝️(クリックでヒントを見る)</summary>\n",
        "\n",
        "**プログラム例**\n",
        "\n",
        "1. `string`型の変数`s`を宣言し、標準入力`cin`から変数`s`に文字列を読み込む\n",
        "2. `int`型の変数`a`と`b`を宣言し、標準入力`cin`から変数`a`, `b`に数字を読み込む\n",
        "3. `char`型の変数`c`を宣言し、標準入力`cin`から変数`c`に文字を読み込む\n",
        "4. `string`型の`erase`機能を使って、変数`s`から添字`a - 1`の位置の1文字を削除する\n",
        "5. `string`型の`insert`機能を使って、変数`s`の添字`b - 1`の位置に文字`c`を1個追加する\n",
        "6. 標準出力`cout`に変数`s`を出力し、改行する\n",
        "\n",
        "</details><br>\n",
        "\n",
        "**入力データ例（１）**\n",
        "\n",
        "```\n",
        "wait 3 1 s\n",
        "```\n",
        "\n",
        "**出力例（１）**\n",
        "\n",
        "```txt\n",
        "swat\n",
        "```\n",
        "\n",
        "**入力データ例（２）**\n",
        "\n",
        "```\n",
        "standard 3 3\n",
        "```\n",
        "\n",
        "**出力例（２）**\n",
        "\n",
        "```txt\n",
        "and\n",
        "```\n"
      ],
      "metadata": {
        "id": "s9S2AE0CRjpn"
      }
    },
    {
      "cell_type": "code",
      "source": [
        "%%writefile practice_03e.cpp\n",
        "#include <iostream>\n",
        "#include <string>\n",
        "using namespace std;\n",
        "\n",
        "int main() {\n",
        "  // この下に、文字列SからA番目の文字を削除し、B番目に文字Cを追加した文字列を出力するプログラムを書く\n",
        "\n",
        "}"
      ],
      "metadata": {
        "id": "JHgBaNAzRjpn"
      },
      "execution_count": null,
      "outputs": []
    },
    {
      "cell_type": "code",
      "source": [
        "# @title 動作テスト\n",
        "!g++ -std=c++20 -O2 -Wall -Wextra -o practice_03e practice_03e.cpp && echo \"この下をクリックして、文字列、２つの数字、文字を入力\" && ./practice_03e"
      ],
      "metadata": {
        "cellView": "form",
        "id": "BOLHQu8GRjpn"
      },
      "execution_count": null,
      "outputs": []
    },
    {
      "cell_type": "code",
      "source": [
        "# @title 実行\n",
        "!diff -Z <(echo -e \"swat\\nand\\ngraphical\") <(g++ -std=c++20 -O2 -Wall -Wextra -o practice_03e practice_03e.cpp && echo \"wait 3 1 s\" | ./practice_03e && echo \"standard 3 3\" | ./practice_03e && echo \"lexicographicalcompare 7 9\" | ./practice_03e) > nil && test $? -eq 0 && echo -e \"\\033[32;1mAC\" || echo -e \"\\033[31;1mWA\""
      ],
      "metadata": {
        "cellView": "form",
        "id": "aSAm4GIXRjpo"
      },
      "execution_count": null,
      "outputs": []
    },
    {
      "cell_type": "code",
      "source": [
        "# @title 🔒解答例(どうしても問題を解けない場合に見てください)\n",
        "%%writefile practice_03e.cpp\n",
        "#include <iostream>\n",
        "#include <string>\n",
        "using namespace std;\n",
        "\n",
        "int main() {\n",
        "  // この下に、文字列SからA番目の文字を削除し、B番目に文字Cを追加した文字列を出力するプログラムを書く\n",
        "  string s;\n",
        "  cin >> s;\n",
        "\n",
        "  int a, b;\n",
        "  cin >> a >> b;\n",
        "\n",
        "  char c;\n",
        "  cin >> c;\n",
        "\n",
        "  s.erase(a - 1, 1);\n",
        "  s.insert(b - 1, 1, c);\n",
        "  cout << s << endl;\n",
        "}"
      ],
      "metadata": {
        "cellView": "form",
        "id": "Y_8WNdthRjpo"
      },
      "execution_count": null,
      "outputs": []
    },
    {
      "cell_type": "markdown",
      "source": [
        "### ❓️問題１３ エスケープシーケンス\n",
        "\n",
        "1つの文字列Sと、`d`, `q`, `y`, `n`のいずれか1文字が与えられます。<br>\n",
        "以下の表にしたがって、文字列を文字に対応するエスケープシーケンスで囲んで出力するプログラムを作成しなさい。\n",
        "\n",
        "| 文字 | 対応するエスケープシーケンス |\n",
        "|:----:|:------------:|\n",
        "| d    | ダブルクォーテーション |\n",
        "| q    | シングルクォーテーション |\n",
        "| y    | 円記号 |\n",
        "| n    | 改行 |\n",
        "\n",
        "<br><details><summary>🗝️(クリックでヒントを見る)</summary>\n",
        "\n",
        "**プログラム例**\n",
        "\n",
        "1. `string`型の変数`s`を宣言し、標準入力`cin`から変数`s`に文字列を読み込む\n",
        "2. `char`型の変数`c`を宣言し、標準入力`cin`から変数`c`に文字を読み込む\n",
        "3. if文を使って、変数`c`が文字`d`と等しい場合、標準出力`cout`に`\"\\\"\"`, 変数`s`, `\"\\\"\"`の順で出力し、改行する\n",
        "4. else if文を使って、変数`c`が文字`q`と等しい場合、標準出力`cout`に`\"'\"`, 変数`s`, `\"'\"`の順で出力し、改行する\n",
        "5. else if文を使って、変数`c`が文字`y`と等しい場合、標準出力`cout`に`\"\\\\\"`, 変数`s`, `\"\\\\\"`の順で出力し、改行する\n",
        "6. else if文を使って、変数`c`が文字`n`と等しい場合、標準出力`cout`に`\"\\n\"`, 変数`s`, `\"\\n\"`の順で出力し、改行する\n",
        "\n",
        "</details><br>\n",
        "\n",
        "**入力データ例（１）**\n",
        "\n",
        "```\n",
        "april d\n",
        "```\n",
        "\n",
        "**出力例（１）**\n",
        "\n",
        "```txt\n",
        "\"april\"\n",
        "```\n",
        "\n",
        "**入力データ例（２）**\n",
        "\n",
        "```\n",
        "return n\n",
        "```\n",
        "\n",
        "**出力例（２）**\n",
        "\n",
        "```txt\n",
        "\n",
        "return\n",
        "\n",
        "\n",
        "```\n"
      ],
      "metadata": {
        "id": "AvVUI-MUZNI2"
      }
    },
    {
      "cell_type": "code",
      "source": [
        "%%writefile practice_04a.cpp\n",
        "#include <iostream>\n",
        "#include <string>\n",
        "using namespace std;\n",
        "\n",
        "int main() {\n",
        "  // この下に、文字列Sをエスケープシーケンスで囲んで出力するプログラムを書く\n",
        "\n",
        "}"
      ],
      "metadata": {
        "id": "jFWbqWUzZNI3"
      },
      "execution_count": null,
      "outputs": []
    },
    {
      "cell_type": "code",
      "source": [
        "# @title 動作テスト\n",
        "!g++ -std=c++20 -O2 -Wall -Wextra -o practice_04a practice_04a.cpp && echo \"この下をクリックして、文字列と文字を入力\" && ./practice_04a"
      ],
      "metadata": {
        "cellView": "form",
        "id": "NCnQAAPkZNI3"
      },
      "execution_count": null,
      "outputs": []
    },
    {
      "cell_type": "code",
      "source": [
        "# @title 実行\n",
        "!diff -Z <(echo -e \"\\\"april\\\"\\n\\nreturn\\n\\n'quote'\\n\\\\yen\\\\\") <(g++ -std=c++20 -O2 -Wall -Wextra -o practice_04a practice_04a.cpp && echo \"april d\" | ./practice_04a && echo \"return n\" | ./practice_04a && echo \"quote q\" | ./practice_04a && echo \"yen y\" | ./practice_04a) > nil && test $? -eq 0 && echo -e \"\\033[32;1mAC\" || echo -e \"\\033[31;1mWA\""
      ],
      "metadata": {
        "cellView": "form",
        "id": "bVe72GHYZNI3"
      },
      "execution_count": null,
      "outputs": []
    },
    {
      "cell_type": "code",
      "source": [
        "# @title 🔒解答例(どうしても問題を解けない場合に見てください)\n",
        "%%writefile practice_04a.cpp\n",
        "#include <iostream>\n",
        "#include <string>\n",
        "using namespace std;\n",
        "\n",
        "int main() {\n",
        "  // この下に、文字列Sをエスケープシーケンスで囲んで出力するプログラムを書く\n",
        "  string s;\n",
        "  cin >> s;\n",
        "\n",
        "  char c;\n",
        "  cin >> c;\n",
        "\n",
        "  if (c == 'd') {\n",
        "    cout << \"\\\"\" << s << \"\\\"\" << endl;\n",
        "  } else if (c == 'q') {\n",
        "    cout << \"'\" << s << \"'\" << endl;\n",
        "  } else if (c == 'y') {\n",
        "    cout << \"\\\\\" << s << \"\\\\\" << endl;\n",
        "  } else if (c == 'n') {\n",
        "    cout << \"\\n\" << s << \"\\n\" << endl;\n",
        "  }\n",
        "}"
      ],
      "metadata": {
        "cellView": "form",
        "id": "93y8G0LwZNI3"
      },
      "execution_count": null,
      "outputs": []
    },
    {
      "cell_type": "markdown",
      "source": [
        "### ❓️問題１４ 空白の数\n",
        "\n",
        "`getline`という機能を使えば、1行を空白ごと読み込めると聞いたスペースさんは、1行に含まれる空白の数を調べたいと思いました。<br>\n",
        "スペースさんの代わりに、`getline`を使って、1行に含まれる空白の数をかぞえるプログラムを作成してください。\n",
        "\n",
        "<br><details><summary>🗝️(クリックでヒントを見る)</summary>\n",
        "\n",
        "**プログラム例**\n",
        "\n",
        "1. `string`型の変数`s`を宣言する\n",
        "2. `getline`機能を使って、標準入力`cin`から変数`s`に1行読み込む\n",
        "3. `int`型の変数`a`を宣言し、数値`0`で初期化する\n",
        "4. for文を使って、次の処理を文「字列の長さ」だけ繰り返す\n",
        "   1. if文を使って、文字列変数`s`の添字`i`番目が文字` `(空白)と等しければ、変数`a`を1増やす\n",
        "5. 標準出力`cout`に変数`a`を出力し、改行する\n",
        "\n",
        "</details><br>\n",
        "\n",
        "**入力データ例（１）**\n",
        "\n",
        "```\n",
        "This is a pen.\n",
        "```\n",
        "\n",
        "**出力例（１）**\n",
        "\n",
        "```txt\n",
        "3\n",
        "```\n",
        "\n",
        "**入力データ例（２）**\n",
        "\n",
        "```\n",
        "long          space\n",
        "```\n",
        "\n",
        "**出力例（２）**\n",
        "\n",
        "```txt\n",
        "10\n",
        "```\n"
      ],
      "metadata": {
        "id": "RlU3dltyt1nC"
      }
    },
    {
      "cell_type": "code",
      "source": [
        "%%writefile practice_04b.cpp\n",
        "#include <iostream>\n",
        "#include <string>\n",
        "using namespace std;\n",
        "\n",
        "int main() {\n",
        "  // この下に、1行に含まれる空白の数を出力するプログラムを書く\n",
        "\n",
        "}"
      ],
      "metadata": {
        "id": "iuHLksaCt1nC"
      },
      "execution_count": null,
      "outputs": []
    },
    {
      "cell_type": "code",
      "source": [
        "# @title 動作テスト\n",
        "!g++ -std=c++20 -O2 -Wall -Wextra -o practice_04b practice_04b.cpp && echo \"この下をクリックして、文字列を入力\" && ./practice_04b"
      ],
      "metadata": {
        "cellView": "form",
        "id": "sqR_cXxRt1nC"
      },
      "execution_count": null,
      "outputs": []
    },
    {
      "cell_type": "code",
      "source": [
        "# @title 実行\n",
        "!diff -Z <(echo -e \"3\\n10\\n0\\n3\") <(g++ -std=c++20 -O2 -Wall -Wextra -o practice_04b practice_04b.cpp && echo \"This is a pen.\" | ./practice_04b && echo \"long          space\" | ./practice_04b && echo \"nospace\" | ./practice_04b && echo \"   \" | ./practice_04b) > nil && test $? -eq 0 && echo -e \"\\033[32;1mAC\" || echo -e \"\\033[31;1mWA\""
      ],
      "metadata": {
        "cellView": "form",
        "id": "19nxq0e3t1nD"
      },
      "execution_count": null,
      "outputs": []
    },
    {
      "cell_type": "code",
      "source": [
        "# @title 🔒解答例(どうしても問題を解けない場合に見てください)\n",
        "%%writefile practice_04b.cpp\n",
        "#include <iostream>\n",
        "#include <string>\n",
        "using namespace std;\n",
        "\n",
        "int main() {\n",
        "  // この下に、1行に含まれる空白の数を出力するプログラムを書く\n",
        "  string s;\n",
        "  getline(cin, s);\n",
        "\n",
        "  int a = 0;\n",
        "  for (int i = 0; i < (int)s.size(); i++) {\n",
        "    if (s[i] == ' ') {\n",
        "      a++;\n",
        "    }\n",
        "  }\n",
        "  cout << a << endl;\n",
        "}"
      ],
      "metadata": {
        "cellView": "form",
        "id": "BsSjQXSjt1nD"
      },
      "execution_count": null,
      "outputs": []
    },
    {
      "cell_type": "markdown",
      "source": [
        "### ❓️問題１５ 装飾\n",
        "\n",
        "物書きのエンクロージャ氏は、文章を目立たせるために、上下左右を`*`記号で囲むことを思いつきました。<br>\n",
        "エンクロージャ氏の代わりに、入力された文章の周囲を`*`記号で囲んで出力するプログラムを作成しなさい。\n",
        "\n",
        "<br><details><summary>🗝️(クリックでヒントを見る)</summary>\n",
        "\n",
        "**プログラム例**\n",
        "\n",
        "1. `string`型の変数`s`を宣言する\n",
        "2. `getline`機能を使って、標準入力`cin`から変数`s`に1行読み込む\n",
        "4. `string`型の変数`t`を宣言し、丸カッコ初期化を使って`*`記号が「文字列変数`s`の長さ + 4」個の文字列を作る\n",
        "5. 標準出力`cout`に変数`t`を出力し、改行する\n",
        "6. 標準出力`cout`に、文字列\"\\* \"、変数`s`、文字列\" \\*\"の順で出力し、改行する\n",
        "7. 標準出力`cout`に変数`t`を出力し、改行する\n",
        "\n",
        "</details><br>\n",
        "\n",
        "**入力データ例（１）**\n",
        "\n",
        "```\n",
        "Demon Slayer\n",
        "```\n",
        "\n",
        "**出力例（１）**\n",
        "\n",
        "```txt\n",
        "****************\n",
        "* Demon Slayer *\n",
        "****************\n",
        "```\n",
        "\n",
        "**入力データ例（２）**\n",
        "\n",
        "```\n",
        "The Wonderful Wizard of Oz\n",
        "```\n",
        "\n",
        "**出力例（２）**\n",
        "\n",
        "```txt\n",
        "******************************\n",
        "* The Wonderful Wizard of Oz *\n",
        "******************************\n",
        "```\n"
      ],
      "metadata": {
        "id": "Kyd9Lj-Ze7qw"
      }
    },
    {
      "cell_type": "code",
      "source": [
        "%%writefile practice_04c.cpp\n",
        "#include <iostream>\n",
        "#include <string>\n",
        "using namespace std;\n",
        "\n",
        "int main() {\n",
        "  // この下に、1行に含まれる空白の数を出力するプログラムを書く\n",
        "\n",
        "}"
      ],
      "metadata": {
        "id": "bavuUI6Ze7qw"
      },
      "execution_count": null,
      "outputs": []
    },
    {
      "cell_type": "code",
      "source": [
        "# @title 動作テスト\n",
        "!g++ -std=c++20 -O2 -Wall -Wextra -o practice_04c practice_04c.cpp && echo \"この下をクリックして、文字列を入力\" && ./practice_04c"
      ],
      "metadata": {
        "cellView": "form",
        "id": "6_LU3nsQe7qx"
      },
      "execution_count": null,
      "outputs": []
    },
    {
      "cell_type": "code",
      "source": [
        "# @title 実行\n",
        "!diff -Z <(echo -e \"****************\\n* Demon Slayer *\\n****************\\n******************************\\n* The Wonderful Wizard of Oz *\\n******************************\\n*****\\n* X *\\n*****\") <(g++ -std=c++20 -O2 -Wall -Wextra -o practice_04c practice_04c.cpp && echo \"Demon Slayer\" | ./practice_04c && echo \"The Wonderful Wizard of Oz\" | ./practice_04c && echo \"X\" | ./practice_04c) > nil && test $? -eq 0 && echo -e \"\\033[32;1mAC\" || echo -e \"\\033[31;1mWA\""
      ],
      "metadata": {
        "cellView": "form",
        "id": "NvmP1aM8e7qx"
      },
      "execution_count": null,
      "outputs": []
    },
    {
      "cell_type": "code",
      "source": [
        "# @title 🔒解答例(どうしても問題を解けない場合に見てください)\n",
        "%%writefile practice_04c.cpp\n",
        "#include <iostream>\n",
        "#include <string>\n",
        "using namespace std;\n",
        "\n",
        "int main() {\n",
        "  // この下に、1行に含まれる空白の数を出力するプログラムを書く\n",
        "  string s;\n",
        "  getline(cin, s);\n",
        "\n",
        "  string t(s.size() + 4, '*');\n",
        "  cout << t << endl;\n",
        "  cout << \"* \" << s << \" *\" << endl;\n",
        "  cout << t << endl;\n",
        "}"
      ],
      "metadata": {
        "cellView": "form",
        "id": "YUJUhVTKe7qx"
      },
      "execution_count": null,
      "outputs": []
    }
  ]
}