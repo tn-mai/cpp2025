{
  "nbformat": 4,
  "nbformat_minor": 0,
  "metadata": {
    "colab": {
      "provenance": [],
      "toc_visible": true
    },
    "kernelspec": {
      "name": "python3",
      "display_name": "Python 3"
    },
    "language_info": {
      "name": "python"
    }
  },
  "cells": [
    {
      "cell_type": "markdown",
      "source": [
        "# 前期総合テスト\n"
      ],
      "metadata": {
        "id": "mX0yjDMMu9Om"
      }
    },
    {
      "cell_type": "markdown",
      "source": [
        "----\n",
        "\n",
        "## テストの手順\n",
        "\n",
        "----\n",
        "\n",
        "以下の手順にしたがって、各問題のプログラムを完成させなさい。\n",
        "\n",
        "1. `%%writefile ...`の下の行からがプログラムです。問題文に従ってプログラムを修正、または追加してください。\n",
        "2. プログラムを修正したら、セルの右側にある`▶`をクリックします。すると、ファイルが保存されます。\n",
        "3. 「動作テスト」セルの`▶`をクリックすると、2で保存したファイルがコンパイル＆実行され、実行結果が表示されます。<br>\n",
        "   このセルは、修正したプログラムの動作を確認するために使ってください。\n",
        "4. 「実行」セルの`▶`をクリックすると、2で保存したファイルがコンパイル＆実行され、結果の成否が判定されます。\n",
        "5. 判定に成功したら`AC`と表示されます。次の問題に進んでください。\n",
        "6. 失敗したら`WA`と表示されます(その前にエラーメッセージが表示される場合もあります)。<br>\n",
        "   これは、プログラムのどこかにエラーがあることを意味します。<br>\n",
        "   「動作テスト」を使ってエラーを修正し、`AC`を目指してください。\n"
      ],
      "metadata": {
        "id": "cbO2uhC2sQYs"
      }
    },
    {
      "cell_type": "markdown",
      "source": [
        "### ❓️問題２－３ 摂取カロリー\n",
        "\n",
        "100mlあたり50kカロリーの飲み物を350ml飲み、100gあたり240kカロリーの食べ物を180g食べました。\n",
        "\n",
        "この食事で摂取したカロリーを計算するプログラムを完成させなさい。"
      ],
      "metadata": {
        "id": "LjA-buu_Qyi4"
      }
    },
    {
      "cell_type": "code",
      "source": [
        "%%writefile practice_01c.cpp\n",
        "#include <iostream>\n",
        "using namespace std;\n",
        "\n",
        "int main() {\n",
        "  //     ↓この空白部分に、カロリーを計算する式を書く\n",
        "  cout << 50 * 350 / 100 + 240 * 180 / 100 << \"kカロリー摂取しました\" << endl;\n",
        "}"
      ],
      "metadata": {
        "id": "TbfbjtCFQyi4"
      },
      "execution_count": null,
      "outputs": []
    },
    {
      "cell_type": "code",
      "source": [
        "# @title 動作テスト\n",
        "!g++ -std=c++20 -O2 -Wall -Wextra -o practice_01c practice_01c.cpp && ./practice_01c"
      ],
      "metadata": {
        "cellView": "form",
        "id": "mEvChhrhQyi4"
      },
      "execution_count": null,
      "outputs": []
    },
    {
      "cell_type": "code",
      "source": [
        "# @title 実行\n",
        "!diff <(echo \"607kカロリー摂取しました\") <(g++ -std=c++20 -O2 -Wall -Wextra -o practice_01c practice_01c.cpp && ./practice_01c) > /dev/null && test $? -eq 0 && (echo -e \"\\033[32;1mAC\" && echo \"2-3\" >> result.txt)  || echo -e \"\\033[31;1mWA\""
      ],
      "metadata": {
        "cellView": "form",
        "id": "DqrsxXTyQyi5"
      },
      "execution_count": null,
      "outputs": []
    },
    {
      "cell_type": "markdown",
      "source": [
        "### ❓️問題２－８ なにも出力されない\n",
        "\n",
        "`a / (b + c)`を計算するプログラムがあります。しかし、何も出力されません。<br>\n",
        "`a / (b + c)`が出力されるように、プログラムを修正しなさい。\n"
      ],
      "metadata": {
        "id": "Vcz4gTAkhPm7"
      }
    },
    {
      "cell_type": "code",
      "source": [
        "%%writefile practice_05.cpp\n",
        "#include <iostream>\n",
        "using namespace std;\n",
        "\n",
        "int main() {\n",
        "  int a = 12;\n",
        "  int b = 3;\n",
        "  int c = 3;\n",
        "  cout << \"a / (b + c) = \" << a / (b - c) << endl;\n",
        "}"
      ],
      "metadata": {
        "id": "ONSup500hVQ0"
      },
      "execution_count": null,
      "outputs": []
    },
    {
      "cell_type": "code",
      "source": [
        "# @title 動作テスト\n",
        "!g++ -std=c++20 -O2 -Wall -Wextra -o practice_05 practice_05.cpp && ./practice_05"
      ],
      "metadata": {
        "cellView": "form",
        "id": "1SBs2156hU_u"
      },
      "execution_count": null,
      "outputs": []
    },
    {
      "cell_type": "code",
      "source": [
        "# @title 実行\n",
        "!diff <(echo -e \"a / (b + c) = 2\") <(g++ -std=c++20 -O2 -Wall -Wextra -o practice_05 practice_05.cpp && ./practice_05) > /dev/null && test $? -eq 0&& (echo -e \"\\033[32;1mAC\" && echo \"2-8\" >> result.txt) || echo -e \"\\033[31;1mWA\""
      ],
      "metadata": {
        "cellView": "form",
        "id": "5EwOH9LjhU19"
      },
      "execution_count": null,
      "outputs": []
    },
    {
      "cell_type": "markdown",
      "source": [
        "### ❓️問題３－６ さまざまな型の変数の宣言と代入\n",
        "\n",
        "以下のプログラムは未完成です。次の1～6の手順にしたがって、プログラムを完成させなさい。\n",
        "\n",
        "1. `int`型の変数`a`を宣言する\n",
        "2. 変数`a`に整数`2`を代入する\n",
        "3. `string`型の変数`b`を宣言する\n",
        "4. 変数`b`に、文字列`\"平方根\"`を代入する\n",
        "5. `double`型の変数`c`を宣言する\n",
        "6. 変数`c`に、小数`1.4142`を代入する\n",
        "\n",
        "**出力例**\n",
        "\n",
        "```txt\n",
        "2の平方根は1.4142\n",
        "```\n"
      ],
      "metadata": {
        "id": "fpzmrGZKLj4h"
      }
    },
    {
      "cell_type": "code",
      "source": [
        "%%writefile practice_01f.cpp\n",
        "#include <iostream>\n",
        "#include <string>\n",
        "using namespace std;\n",
        "\n",
        "int main() {\n",
        "  // この下に、1～6を行うプログラムを書く\n",
        "\n",
        "  // --- ここから下は変更しないこと ---\n",
        "  cout << a << \"の\" << b << \"は\" << c << endl;\n",
        "}"
      ],
      "metadata": {
        "id": "E0p7GpScLj4i"
      },
      "execution_count": null,
      "outputs": []
    },
    {
      "cell_type": "code",
      "source": [
        "# @title 動作テスト\n",
        "!g++ -std=c++20 -O2 -Wall -Wextra -o practice_01f practice_01f.cpp && ./practice_01f"
      ],
      "metadata": {
        "cellView": "form",
        "id": "wqc3yCoBLj4i"
      },
      "execution_count": null,
      "outputs": []
    },
    {
      "cell_type": "code",
      "source": [
        "# @title 実行\n",
        "!diff -Z <(echo -e \"2の平方根は1.4142\") <(g++ -std=c++20 -O2 -Wall -Wextra -o practice_01f practice_01f.cpp && ./practice_01f) > /dev/null && test $? -eq 0 && (echo -e \"\\033[32;1mAC\" && echo \"3-6\" >> result.txt) || echo -e \"\\033[31;1mWA\""
      ],
      "metadata": {
        "cellView": "form",
        "id": "QuaDmqXgLj4i"
      },
      "execution_count": null,
      "outputs": []
    },
    {
      "cell_type": "markdown",
      "source": [
        "### ❓️問題３－１６ コンテナの運搬\n",
        "\n",
        "Nキログラム以下の荷物を運べるトラックがあります。このトラックは、荷物の総重量がNキログラムを超えると動きません。\n",
        "\n",
        "このトラックで1つXキログラムのコンテナを運ぶとき、一度に載せられるコンテナの最大数を計算するプログラムを作成しなさい。\n",
        "\n",
        "<br><details><summary>🗝️(クリックでヒントを見る)</summary>\n",
        "\n",
        "**プログラム例**\n",
        "\n",
        "1. トラックの積載量をあらわす変数`n`を宣言する\n",
        "2. コンテナの重量をあらわす変数`x`を宣言する\n",
        "3. `cin`と`>>`記号を使って、トラックの積載量、コンテナの重量、の順番でデータを読み込む\n",
        "4. 最大数をあらわす変数`a`を宣言する\n",
        "5. トラックに一度に載せられるコンテナの最大数を計算し、変数`a`に代入する\n",
        "6. `cout`と`<<`記号を使って、最大数を出力する\n",
        "7. `endl`で改行を出力する\n",
        "\n",
        "</details><br>\n",
        "\n",
        "**入力データ例（１）**\n",
        "\n",
        "```txt\n",
        "300 10\n",
        "```\n",
        "\n",
        "**出力例（１）**\n",
        "\n",
        "```txt\n",
        "30\n",
        "```\n",
        "\n",
        "300キロ÷10キロ=30個で、運べる最大数は30個となります。\n",
        "\n",
        "**入力データ例（２）**\n",
        "\n",
        "```txt\n",
        "1000 130\n",
        "```\n",
        "\n",
        "**出力例（２）**\n",
        "\n",
        "```txt\n",
        "7\n",
        "```\n",
        "\n",
        "1000キロ÷130キロ=7.69...個で、運べる最大数は端数切り捨てで7個となります。\n"
      ],
      "metadata": {
        "id": "Sjgxd-L5ELY-"
      }
    },
    {
      "cell_type": "code",
      "source": [
        "%%writefile practice_04f.cpp\n",
        "#include <iostream>\n",
        "using namespace std;\n",
        "\n",
        "int main() {\n",
        "  // この下に、一度に載せられるコンテナの最大数を計算するプログラムを書く\n",
        "\n",
        "}"
      ],
      "metadata": {
        "id": "BF8OBoztELY-"
      },
      "execution_count": null,
      "outputs": []
    },
    {
      "cell_type": "code",
      "source": [
        "# @title 動作テスト\n",
        "!g++ -std=c++20 -O2 -Wall -Wextra -o practice_04f practice_04f.cpp && echo \"この下の点滅をクリックして、トラックの積載量とコンテナの重量を入力:\" && ./practice_04f"
      ],
      "metadata": {
        "cellView": "form",
        "id": "C2UNnhNbELY-"
      },
      "execution_count": null,
      "outputs": []
    },
    {
      "cell_type": "code",
      "source": [
        "# @title 実行\n",
        "!diff -Z <(echo -e \"30\\n7\\n0\") <(g++ -std=c++20 -O2 -Wall -Wextra -o practice_04f practice_04f.cpp && echo 300 10 | ./practice_04f && echo 1000 130 | ./practice_04f && echo 500 1000 | ./practice_04f) > /dev/null && test $? -eq 0 && (echo -e \"\\033[32;1mAC\" && echo \"3-16\" >> result.txt) || echo -e \"\\033[31;1mWA\""
      ],
      "metadata": {
        "cellView": "form",
        "id": "sv3FSsSlELY-"
      },
      "execution_count": null,
      "outputs": []
    },
    {
      "cell_type": "markdown",
      "source": [
        "### ❓️問題４－６ 天秤\n",
        "\n",
        "2つの物体XとYの重さを比較し、以下の結果を出力するプログラムを作成しなさい。<br>\n",
        "出力する単語の大文字と小文字を正確に書くこと。\n",
        "\n",
        "| <font size=3>関係</font> | <font size=3>出力する文字列</font> |\n",
        "|:----:|:---------------|\n",
        "| X > Y  | <font size=3>Left</font> |\n",
        "| X < Y  | <font size=3>Right</font> |\n",
        "| X == Y | <font size=3>Balanced</font> |\n",
        "\n",
        "<br><details><summary>🗝️(クリックでヒントを見る)</summary>\n",
        "\n",
        "**プログラム例**\n",
        "\n",
        "1. 物体の重さをあらわす変数`x`と`y`を宣言する\n",
        "2. `cin`と`>>`記号を使って、`x`, `y`の順で重量を読み込む\n",
        "3. `x`のほうが`y`より重いときは`Left`と出力し、改行する\n",
        "4. `x`と`y`の重さが等しいときは`Balanced`と出力し、改行する\n",
        "5. `y`のほうが`x`より重いときは`Right`と出力し、改行する\n",
        "\n",
        "</details><br>\n",
        "\n",
        "**入力データ例（１）**\n",
        "\n",
        "```txt\n",
        "2 1\n",
        "```\n",
        "\n",
        "**出力例（１）**\n",
        "\n",
        "```txt\n",
        "Left\n",
        "```\n",
        "\n",
        "**入力データ例（２）**\n",
        "\n",
        "```txt\n",
        "5 5\n",
        "```\n",
        "\n",
        "**出力例（２）**\n",
        "\n",
        "```txt\n",
        "Balanced\n",
        "```\n",
        "\n",
        "**入力データ例（３）**\n",
        "\n",
        "```txt\n",
        "99 100\n",
        "```\n",
        "\n",
        "**出力例（３）**\n",
        "\n",
        "```txt\n",
        "Right\n",
        "```\n"
      ],
      "metadata": {
        "id": "n0t3bbe2hZ3_"
      }
    },
    {
      "cell_type": "code",
      "source": [
        "%%writefile practice_02b.cpp\n",
        "#include <iostream>\n",
        "using namespace std;\n",
        "\n",
        "int main() {\n",
        "  // この下に、重さを比較した結果を出力するプログラムを書く\n",
        "\n",
        "}"
      ],
      "metadata": {
        "id": "XsHqbHhUhcWV"
      },
      "execution_count": null,
      "outputs": []
    },
    {
      "cell_type": "code",
      "source": [
        "# @title 動作テスト\n",
        "!g++ -std=c++20 -O2 -Wall -Wextra -o practice_02b practice_02b.cpp && echo \"この下をクリックして、2つの物体の重量を入力:\" && ./practice_02b"
      ],
      "metadata": {
        "cellView": "form",
        "id": "0lx9eHgPBoLK"
      },
      "execution_count": null,
      "outputs": []
    },
    {
      "cell_type": "code",
      "source": [
        "# @title 実行\n",
        "!diff -Z <(echo -e \"Left\\nRight\\nBalanced\") <(g++ -std=c++20 -O2 -Wall -Wextra -o practice_02b practice_02b.cpp && echo 2 1 | ./practice_02b && echo 3 4 | ./practice_02b && echo 5 5 | ./practice_02b) > /dev/null && test $? -eq 0 && (echo -e \"\\033[32;1mAC\" && echo \"4-6\" >> result.txt) || echo -e \"\\033[31;1mWA\""
      ],
      "metadata": {
        "cellView": "form",
        "id": "vXWQOkD8jAWb"
      },
      "execution_count": null,
      "outputs": []
    },
    {
      "cell_type": "markdown",
      "source": [
        "### ❓️問題４－１１ 両生類と爬虫類\n",
        "\n",
        "両生類と爬虫類を判定するプログラムがあります。入力された名前が以下のリストのいずれかと一致する場合は「両生類」、それ以外は「爬虫類」と出力されるように、if文の`()`の中に適切な条件式を書きなさい。\n",
        "\n",
        "| 両生類のリスト |\n",
        "|:---------------|\n",
        "| カエル         |\n",
        "| イモリ         |\n",
        "| サンショウウオ |\n",
        "\n",
        "**入力データ例（１）**\n",
        "\n",
        "```txt\n",
        "イモリ\n",
        "```\n",
        "\n",
        "**出力例（１）**\n",
        "\n",
        "```txt\n",
        "両生類\n",
        "```\n",
        "\n",
        "**入力データ例（２）**\n",
        "\n",
        "```txt\n",
        "ヤモリ\n",
        "```\n",
        "\n",
        "**出力例（２）**\n",
        "\n",
        "```txt\n",
        "爬虫類\n",
        "```\n"
      ],
      "metadata": {
        "id": "ZqvDyzsTsjoU"
      }
    },
    {
      "cell_type": "code",
      "source": [
        "%%writefile practice_03b.cpp\n",
        "#include <iostream>\n",
        "#include <string>\n",
        "using namespace std;\n",
        "\n",
        "int main() {\n",
        "  // この下のプログラムは変更しないこと\n",
        "  string name;\n",
        "  cin >> name;\n",
        "\n",
        "  // 以下の空欄の()の中に、適切な条件式を書く\n",
        "  // それ以外は変更しないこと\n",
        "  if () {\n",
        "    cout << \"両生類\" << endl;\n",
        "  } else {\n",
        "    cout << \"爬虫類\" << endl;\n",
        "  }\n",
        "}"
      ],
      "metadata": {
        "id": "AqeHmHAQsjoV"
      },
      "execution_count": null,
      "outputs": []
    },
    {
      "cell_type": "code",
      "source": [
        "# @title 動作テスト\n",
        "!g++ -std=c++20 -O2 -Wall -Wextra -o practice_03b practice_03b.cpp && echo \"この下の点滅をクリックして、動物の名前を入力:\" && ./practice_03b"
      ],
      "metadata": {
        "cellView": "form",
        "id": "3HX1-_LUsjoV"
      },
      "execution_count": null,
      "outputs": []
    },
    {
      "cell_type": "code",
      "source": [
        "# @title 実行\n",
        "!diff -Z <(echo -e \"両生類\\n両生類\\n両生類\\n爬虫類\") <(g++ -std=c++20 -O2 -Wall -Wextra -o practice_03b practice_03b.cpp && echo \"サンショウウオ\" | ./practice_03b && echo \"イモリ\" | ./practice_03b && echo \"カエル\" | ./practice_03b && echo トカゲ | ./practice_03b) > /dev/null && test $? -eq 0 && (echo -e \"\\033[32;1mAC\" && echo \"4-11\" >> result.txt) || echo -e \"\\033[31;1mWA\""
      ],
      "metadata": {
        "cellView": "form",
        "id": "IiO4zkxRsjoV"
      },
      "execution_count": null,
      "outputs": []
    },
    {
      "cell_type": "markdown",
      "source": [
        "### ❓️問題５－７ ハンバーガーセットの名前\n",
        "\n",
        "バーガーの番号Aと、サイドメニューの番号Bからセットの内容を出力する、未完成のプログラムがあります。<br>\n",
        "バーガーの番号Aについては完成しています。このプログラムを参考に、サイドメニューの番号Bから、適切なメニュー名を設定するswitch文を追加して、プログラムを完成させなさい。\n",
        "\n",
        "バーガーの番号Aとメニュー名、サイドメニューの番号Bとメニュー名の対応表を、次に示します。\n",
        "\n",
        "| バーガーの番号 | メニュー名 |\n",
        "|:--:|:--|\n",
        "| <font size=3>1</font> | <font size=3>ハンバーガー</font> |\n",
        "| <font size=3>2</font> | <font size=3>チーズバーガー</font> |\n",
        "| <font size=3>3</font> | <font size=3>テリヤキバーガー</font> |\n",
        "\n",
        "<br>\n",
        "\n",
        "| サイドメニューの番号 | メニュー名 |\n",
        "|:--:|:--|\n",
        "| <font size=3>1</font> | <font size=3>ポテト</font> |\n",
        "| <font size=3>2</font> | <font size=3>ナゲット</font> |\n",
        "| <font size=3>3</font> | <font size=3>サラダ</font> |\n",
        "\n",
        "<br><details><summary>🗝️(クリックでヒントを見る)</summary>\n",
        "\n",
        "**プログラム例**\n",
        "\n",
        "1. 変数bによって分岐するswitch文を`{`まで書く。\n",
        "2. 手順1で書いた`{`の下に、番号1に対応するcaseラベルを書く。\n",
        "3. 番号1のcaseラベルの下に、変数`t`に文字列\"ポテト\"を代入するプログラムを書く。\n",
        "4. \"ポテト\"を代入するプログラムの下に、break文を書く。\n",
        "5. 手順4のbreak文の下に、番号2に対応するcaseラベルを書く。\n",
        "6. 番号2のcaseラベルの下に、変数`t`に文字列\"ナゲット\"を代入するプログラムを書く。\n",
        "7. \"ナゲット\"を代入するプログラムの下に、break文を書く。\n",
        "8. 手順7のbreak文の下に、番号3に対応するcaseラベルを書く。\n",
        "9. 番号2のcaseラベルの下に、変数`t`に文字列\"サラダ\"を代入するプログラムを書く。\n",
        "10. \"サラダ\"を代入するプログラムの下に、break文を書く。\n",
        "11. 手順10のbreak文の下に、switch文の終わりの`}`を書く。\n",
        "\n",
        "</details><br>\n"
      ],
      "metadata": {
        "id": "vLT_FIkX5Sym"
      }
    },
    {
      "cell_type": "code",
      "source": [
        "%%writefile practice_05b.cpp\n",
        "#include <iostream>\n",
        "#include <string>\n",
        "using namespace std;\n",
        "\n",
        "int main() {\n",
        "  int a, b;\n",
        "  cin >> a >> b;\n",
        "\n",
        "  string s;\n",
        "  switch (a) {\n",
        "    case 1:\n",
        "      s = \"ハンバーガー\";\n",
        "      break;\n",
        "    case 2:\n",
        "      s = \"チーズバーガー\";\n",
        "      break;\n",
        "    case 3:\n",
        "      s = \"テリヤキバーガー\";\n",
        "      break;\n",
        "  }\n",
        "\n",
        "  string t;\n",
        "  // ここから上は変更しない\n",
        "\n",
        "  // この下に、変数bが1なら\"ポテト\", 2なら\"ナゲット\", 3なら\"サラダ\"を、変数tに代入するswitch文を書く\n",
        "\n",
        "  // ここから下は変更しない\n",
        "  cout << s << \"と\" << t << endl;\n",
        "}"
      ],
      "metadata": {
        "id": "fuHnv98Q5Syn"
      },
      "execution_count": null,
      "outputs": []
    },
    {
      "cell_type": "code",
      "source": [
        "# @title 動作テスト\n",
        "!g++ -std=c++20 -O2 -Wall -Wextra -o practice_05b practice_05b.cpp && ./practice_05b"
      ],
      "metadata": {
        "cellView": "form",
        "id": "0dXVXCUI5Syn"
      },
      "execution_count": null,
      "outputs": []
    },
    {
      "cell_type": "code",
      "source": [
        "# @title 実行\n",
        "!diff <(echo -e \"ハンバーガーとサラダ\\nチーズバーガーとポテト\\nテリヤキバーガーとナゲット\\nテリヤキバーガーとサラダ\") <(g++ -std=c++20 -O2 -Wall -Wextra -o practice_05b practice_05b.cpp && echo \"1 3\" | ./practice_05b && echo \"2 1\" | ./practice_05b && echo \"3 2\" | ./practice_05b && echo \"3 3\" | ./practice_05b) > /dev/null && test $? -eq 0 && (echo -e \"\\033[32;1mAC\" && echo \"5-7\" >> result.txt) || echo -e \"\\033[31;1mWA\""
      ],
      "metadata": {
        "cellView": "form",
        "id": "kykLXPL75Syn"
      },
      "execution_count": null,
      "outputs": []
    },
    {
      "cell_type": "markdown",
      "source": [
        "### ❓️問題５－８ 数字の並び（その２)\n",
        "\n",
        "スコープの動作を確認するためのプログラムがあります。<br>\n",
        "プログラム中の？記号を、上にあるプログラムが出力するのと同じ数値で置き換えなさい。\n"
      ],
      "metadata": {
        "id": "ucA2RPJPFkdv"
      }
    },
    {
      "cell_type": "code",
      "source": [
        "%%writefile practice_02a.cpp\n",
        "#include <iostream>\n",
        "using namespace std;\n",
        "\n",
        "int main() {\n",
        "\n",
        "  int a = 3;\n",
        "\n",
        "  cout << a;\n",
        "\n",
        "  if (a == 3) {\n",
        "\n",
        "    a = a - 2;\n",
        "    cout << a;\n",
        "\n",
        "    int a = 4;\n",
        "    cout << a;\n",
        "\n",
        "    a = a + 3;\n",
        "  }\n",
        "\n",
        "  cout << a;\n",
        "\n",
        "  a = a + 4;\n",
        "  cout << a << endl;\n",
        "  // ここから上は変更しない\n",
        "\n",
        "       // ↓この？を数字に置き換えて、上のプログラムと同じ出力になるようにする\n",
        "  cout << ？ << endl;\n",
        "}"
      ],
      "metadata": {
        "id": "HL8Y3Fl_Fkdw"
      },
      "execution_count": null,
      "outputs": []
    },
    {
      "cell_type": "code",
      "source": [
        "# @title 動作テスト\n",
        "!g++ -std=c++20 -O2 -Wall -Wextra -o practice_02a practice_02a.cpp && ./practice_02a"
      ],
      "metadata": {
        "cellView": "form",
        "id": "IlHWWBhjFkdw"
      },
      "execution_count": null,
      "outputs": []
    },
    {
      "cell_type": "code",
      "source": [
        "# @title 実行\n",
        "!diff <(echo -e \"31415\\n31415\") <(g++ -std=c++20 -O2 -Wall -Wextra -o practice_02a practice_02a.cpp && ./practice_02a) > /dev/null && test $? -eq 0 && (echo -e \"\\033[32;1mAC\" && echo \"5-8\" >> result.txt) || echo -e \"\\033[31;1mWA\""
      ],
      "metadata": {
        "cellView": "form",
        "id": "dZPApEgHFkdw"
      },
      "execution_count": null,
      "outputs": []
    },
    {
      "cell_type": "markdown",
      "source": [
        "### ❓️問題５－１４ ブラックジャック\n",
        "\n",
        "ブラックジャックをプレイするプログラムを作成したいです。<br>\n",
        "以下の仕様にしたがって、ブラックジャックのプログラムを完成させなさい。\n",
        "\n",
        "**プログラムの仕様**\n",
        "\n",
        "1. プレイヤーの手札の合計値Aと、ディーラーの手札の合計値Bが与えられる\n",
        "2. プレイヤーの合計値が、ディーラーの合計値以下なら、新しいカードの数値を読み込み、プレイヤーの合計値に加算する\n",
        "3. まだプレイヤーの合計値がディーラーの合計値以下なら、もう一枚のカードの数値を読み込み、プレイヤーの合計値に加算する。\n",
        "4. ここまでにディーラーの合計値を越えられなかった場合、`Lose`を出力する\n",
        "5. 合計値が21を超えた場合も、`Lose`を出力する\n",
        "6. プレイヤーの合計値が21以下で、ディーラーの合計値より大きい場合、`Win`を出力する\n",
        "\n",
        "<br><details><summary>🗝️(クリックでヒントを見る)</summary>\n",
        "\n",
        "**プログラム例**\n",
        "\n",
        "1. プレイヤーの合計値と、ディーラーの合計値をあらわす`int`型の変数`a`, `b`を宣言する\n",
        "2. 標準入力`cin`から、変数`a`, `b`に、プレイヤーの合計値とディーラーの合計値を読み込む\n",
        "3. if文を使って、`a <= b`の場合に以下の処理を行う\n",
        "   1. `int`型の変数`c`を宣言する\n",
        "   2. 標準入力`cin`から、変数`c`に、カードの数値を読み込む\n",
        "   3. `a`に`c`を足す\n",
        "   4. if文を使って、`a <= b`の場合に以下の処理を行う\n",
        "      1. `int`型の変数`d`を宣言する\n",
        "      2. 標準入力`cin`から、変数`d`に、カードの数値を読み込む\n",
        "      3. `a`に`d`を足す\n",
        "4. if文を使って、`a <= 21`かつ`a > b`なら、標準出力`cout`に文字列`Win`と改行を出力する\n",
        "5. else句を使って、標準出力`cout`に文字列`Lose`と改行を出力する\n",
        "\n",
        "</details><br>\n",
        "\n",
        "**入力データ例（１）**\n",
        "\n",
        "```txt\n",
        "9 18 7 3\n",
        "```\n",
        "\n",
        "**出力例（１）**\n",
        "\n",
        "```txt\n",
        "Win\n",
        "```\n",
        "\n",
        "**入力データ例（２）**\n",
        "\n",
        "```txt\n",
        "6 20 4 5\n",
        "```\n",
        "\n",
        "**出力例（２）**\n",
        "\n",
        "```txt\n",
        "Lose\n",
        "```\n",
        "\n",
        "**入力データ例（３）**\n",
        "\n",
        "```txt\n",
        "11 19 8 7\n",
        "```\n",
        "\n",
        "**出力例（３）**\n",
        "\n",
        "```txt\n",
        "Lose\n",
        "```\n"
      ],
      "metadata": {
        "id": "wGvwxi2_voUm"
      }
    },
    {
      "cell_type": "code",
      "source": [
        "%%writefile practice_03d.cpp\n",
        "#include <iostream>\n",
        "#include <string>\n",
        "using namespace std;\n",
        "\n",
        "int main() {\n",
        "  // この下に、ブラックジャックを行うプログラムを書く\n",
        "\n",
        "}"
      ],
      "metadata": {
        "id": "QY9iv8KJvoUn"
      },
      "execution_count": null,
      "outputs": []
    },
    {
      "cell_type": "code",
      "source": [
        "# @title 動作テスト\n",
        "!g++ -std=c++20 -O2 -Wall -Wextra -o practice_03d practice_03d.cpp && echo \"この下をクリックして、2つの合計値と2枚の追加カードの数値を入力する\" && ./practice_03d"
      ],
      "metadata": {
        "cellView": "form",
        "id": "wNAalSyIvoUn"
      },
      "execution_count": null,
      "outputs": []
    },
    {
      "cell_type": "code",
      "source": [
        "# @title 実行\n",
        "!diff <(echo -e \"Win\\nLose\\nLose\\nWin\") <(g++ -std=c++20 -O2 -Wall -Wextra -o practice_03d practice_03d.cpp && echo \"9 18 7 3\" | ./practice_03d && echo \"11 19 8 7\" | ./practice_03d && echo \"6 20 4 5\" | ./practice_03d && echo \"6 17 8 5\" | ./practice_03d) > /dev/null && test $? -eq 0 && (echo -e \"\\033[32;1mAC\" && echo \"5-14\" >> result.txt) || echo -e \"\\033[31;1mWA\""
      ],
      "metadata": {
        "cellView": "form",
        "id": "ggAcdUGDvoUn"
      },
      "execution_count": null,
      "outputs": []
    },
    {
      "cell_type": "markdown",
      "source": [
        "### ❓️問題６－５ 棒グラフ\n",
        "\n",
        "`n`個の`#`記号を表示するプログラムを作成しなさい。<br>\n",
        "例えば`n = 3`のときは`###`、`n = 5`のときは`#####`と表示します。<br>\n",
        "すべての`#`記号を出力したら、最後に`endl`で「改行」を出力すること。\n",
        "\n",
        "<br><details><summary>🗝️(クリックでヒントを見る)</summary>\n",
        "\n",
        "**プログラム例**\n",
        "\n",
        "1. `int`型の変数`n`を宣言する\n",
        "2. `cin`から`n`を読み込む\n",
        "3. for文を使って、`#`を`n`回出力する\n",
        "4. `endl`を出力する\n",
        "\n",
        "</details><br>\n",
        "\n",
        "**入力データ例（１）**\n",
        "\n",
        "```txt\n",
        "3\n",
        "```\n",
        "\n",
        "**出力例（１）**\n",
        "\n",
        "```txt\n",
        "###\n",
        "```\n",
        "\n",
        "**入力データ例（２）**\n",
        "\n",
        "```txt\n",
        "8\n",
        "```\n",
        "\n",
        "**出力例（２）**\n",
        "\n",
        "```txt\n",
        "########\n",
        "```\n"
      ],
      "metadata": {
        "id": "MhYGs0EmgOfA"
      }
    },
    {
      "cell_type": "code",
      "source": [
        "%%writefile practice_02a.cpp\n",
        "#include <iostream>\n",
        "using namespace std;\n",
        "\n",
        "int main() {\n",
        "  int n;\n",
        "  cin >> n;\n",
        "  // ここから上は変更しない\n",
        "\n",
        "  // この下に、n個の#を出力し、最後に改行するプログラムを書く\n",
        "}"
      ],
      "metadata": {
        "id": "NWd5pamHjyb4"
      },
      "execution_count": null,
      "outputs": []
    },
    {
      "cell_type": "code",
      "source": [
        "# @title 動作テスト\n",
        "!g++ -std=c++20 -O2 -Wall -Wextra -o practice_02a practice_02a.cpp && echo \"この下をクリックして個数を入力:\" && ./practice_02a"
      ],
      "metadata": {
        "cellView": "form",
        "id": "XYyfZMXMHiI3"
      },
      "execution_count": null,
      "outputs": []
    },
    {
      "cell_type": "code",
      "source": [
        "# @title 実行\n",
        "!diff -Z <(echo -e \"#\\n###\\n#########\") <(g++ -std=c++20 -O2 -Wall -Wextra -o practice_02a practice_02a.cpp && echo 1 | ./practice_02a && echo 3 | ./practice_02a && echo 9 | ./practice_02a) > /dev/null && test $? -eq 0 && (echo -e \"\\033[32;1mAC\" && echo \"6-5\" >> result.txt) || echo -e \"\\033[31;1mWA\""
      ],
      "metadata": {
        "cellView": "form",
        "id": "0tmWjowClFdB"
      },
      "execution_count": null,
      "outputs": []
    },
    {
      "cell_type": "markdown",
      "source": [
        "### ❓️問題６－１１ 商品の入れ替え\n",
        "\n",
        "ある商店ではN個の商品を売っています。<br>\n",
        "売り上げを維持するため、半期ごとに売れ行きを調査し、最も売れなかった商品を新しい商品に入れ替えたいです。\n",
        "\n",
        "N個の商品の名前と販売数が入力されるので、最も売れなかった商品の名前を出力するプログラムを作成しなさい。\n",
        "\n",
        "なお、この商店では、少なくとも2種類の商品を売っています。<br>\n",
        "それぞれの商品は99個までしか仕入れられません(販売数は最大でも99個)。\n",
        "\n",
        "<br><details><summary>🗝️(クリックでヒントを見る)</summary>\n",
        "\n",
        "**プログラム例**\n",
        "\n",
        "1. 商品の種類数をあらわす変数`n`を宣言する\n",
        "2. `cin`から種類数を変数`n`に読み込む\n",
        "3. 最も売れなかった商品名をあらわす変数`worst_name`を宣言する\n",
        "4. 最も売れなかった商品の販売数をあらわす変数`worst_count`を宣言し、100で初期化する\n",
        "5. for文を使って、次の処理を`n`回実行する\n",
        "   1. 商品名をあらわす変数`s`を宣言する\n",
        "   2. 販売数をあらわす変数`a`を宣言する\n",
        "   3. `cin`から商品名、販売数の順でデータを読み込む\n",
        "   4. `if`文を使って、販売数が`worst_count`以下なら`worst_count`と`worst_name`に`a`と`s`を代入する\n",
        "6. `cout`に`worst_name`を出力し、改行する\n",
        "\n",
        "</details><br>\n",
        "\n",
        "**入力データ例（１）**\n",
        "\n",
        "```txt\n",
        "3\n",
        "どうのつるぎ 15\n",
        "こんぼう 30\n",
        "たけざお 10\n",
        "```\n",
        "\n",
        "**出力例（１）**\n",
        "\n",
        "```txt\n",
        "たけざお\n",
        "```\n",
        "\n",
        "**入力データ例（２）**\n",
        "\n",
        "```txt\n",
        "5\n",
        "ロングソード 43\n",
        "ショートソード 15\n",
        "メイス 18\n",
        "ダガー 29\n",
        "メイジスタッフ 21\n",
        "```\n",
        "\n",
        "**出力例（２）**\n",
        "\n",
        "```txt\n",
        "ショートソード\n",
        "```\n"
      ],
      "metadata": {
        "id": "WhyTNRTMrUtF"
      }
    },
    {
      "cell_type": "code",
      "source": [
        "%%writefile practice_03c.cpp\n",
        "#include <iostream>\n",
        "#include <string>\n",
        "using namespace std;\n",
        "\n",
        "int main() {\n",
        "  // この下に、最も売れなかった商品を出力するプログラムを書く\n",
        "\n",
        "}"
      ],
      "metadata": {
        "id": "-IVs4JD-rUtF"
      },
      "execution_count": null,
      "outputs": []
    },
    {
      "cell_type": "code",
      "source": [
        "# @title 動作テスト\n",
        "!g++ -std=c++20 -O2 -Wall -Wextra -o practice_03c practice_03c.cpp && echo \"この下をクリックして、種類数と商品名と販売数を入力:\" && ./practice_03c"
      ],
      "metadata": {
        "cellView": "form",
        "id": "2I40AmWErUtF"
      },
      "execution_count": null,
      "outputs": []
    },
    {
      "cell_type": "code",
      "source": [
        "# @title 実行\n",
        "!diff -Z <(echo -e \"たけざお\\nショートソード\\nつえ\") <(g++ -std=c++20 -O2 -Wall -Wextra -o practice_03c practice_03c.cpp && echo \"3 どうのつるぎ 15 こんぼう 30 たけざお 10\" | ./practice_03c && echo \"5 ロングソード 43 ショートソード 15 メイス 18 ダガー 29 メイジスタッフ 21\" | ./practice_03c && echo \"4 ナイフ 20 つえ 8 レイピア 33 ハンマー 20\" | ./practice_03c) > /dev/null && test $? -eq 0 && (echo -e \"\\033[32;1mAC\" && echo \"6-11\" >> result.txt) || echo -e \"\\033[31;1mWA\""
      ],
      "metadata": {
        "cellView": "form",
        "id": "WPAhwuV-rUtF"
      },
      "execution_count": null,
      "outputs": []
    },
    {
      "cell_type": "markdown",
      "source": [
        "### ❓️問題７－８ A番目の文字\n",
        "\n",
        "文字列Sと、数字Aが入力されます。<br>\n",
        "文字列Sの先頭からA番目の文字を出力するプログラムを作成しなさい。\n",
        "\n",
        "* この問題では、文字列の先頭を「1番目」と数えます。\n",
        "* 文字列の範囲を超える数字は入力されないものとします。\n",
        "\n",
        "<br><details><summary>🗝️(クリックでヒントを見る)</summary>\n",
        "\n",
        "**プログラム例**\n",
        "\n",
        "1. `string`型の変数`s`を宣言し、標準入力`cin`から変数`s`に文字列を読み込む\n",
        "2. `int`型の変数`a`を宣言し、標準入力`cin`から変数`a`に数字を読み込む\n",
        "3. 標準出力`cout`に、変数`s`の添字`a - 1`の位置の文字を出力し、改行する\n",
        "\n",
        "</details><br>\n",
        "\n",
        "**入力データ例（１）**\n",
        "\n",
        "```\n",
        "abcdef 3\n",
        "```\n",
        "\n",
        "**出力例（１）**\n",
        "\n",
        "```txt\n",
        "c\n",
        "```\n",
        "\n",
        "**入力データ例（２）**\n",
        "\n",
        "```\n",
        "practice 8\n",
        "```\n",
        "\n",
        "**出力例（２）**\n",
        "\n",
        "```txt\n",
        "e\n",
        "```\n"
      ],
      "metadata": {
        "id": "Q6m6xvQACooz"
      }
    },
    {
      "cell_type": "code",
      "source": [
        "%%writefile practice_02b.cpp\n",
        "#include <iostream>\n",
        "#include <string>\n",
        "using namespace std;\n",
        "\n",
        "int main() {\n",
        "  // この下に、文字列SのA番目の文字を出力するプログラムを書く\n",
        "\n",
        "}"
      ],
      "metadata": {
        "id": "6u9STs2VCoo0"
      },
      "execution_count": null,
      "outputs": []
    },
    {
      "cell_type": "code",
      "source": [
        "# @title 動作テスト\n",
        "!g++ -std=c++20 -O2 -Wall -Wextra -o practice_02b practice_02b.cpp && echo \"この下をクリックして、文字列と数字を入力\" && ./practice_02b"
      ],
      "metadata": {
        "cellView": "form",
        "id": "KpNMfNZRCoo0"
      },
      "execution_count": null,
      "outputs": []
    },
    {
      "cell_type": "code",
      "source": [
        "# @title 実行\n",
        "!diff -Z <(echo -e \"c\\ne\\ni\") <(g++ -std=c++20 -O2 -Wall -Wextra -o practice_02b practice_02b.cpp && echo \"abcdef 3\" | ./practice_02b && echo \"practice 8\" | ./practice_02b && echo \"index 1\" | ./practice_02b) > /dev/null && test $? -eq 0 && (echo -e \"\\033[32;1mAC\" && echo \"7-8\" >> result.txt) || echo -e \"\\033[31;1mWA\""
      ],
      "metadata": {
        "cellView": "form",
        "id": "ykOkGbO0Coo0"
      },
      "execution_count": null,
      "outputs": []
    },
    {
      "cell_type": "markdown",
      "source": [
        "### ❓️問題７－１４ 追加と削除\n",
        "\n",
        "文字列Sと2つの数字A, B、そして文字Cが入力されます。<br>\n",
        "文字列SからA番目の文字を1個削除し、次にB番目に文字Cを1個追加した文字列を出力するプログラムを作成しなさい。\n",
        "\n",
        "* この問題では、文字列の先頭を「1番目」と数えます。\n",
        "* 文字列の範囲を超える数字は入力されないものとします。\n",
        "\n",
        "<br><details><summary>🗝️(クリックでヒントを見る)</summary>\n",
        "\n",
        "**プログラム例**\n",
        "\n",
        "1. `string`型の変数`s`を宣言し、標準入力`cin`から変数`s`に文字列を読み込む\n",
        "2. `int`型の変数`a`と`b`を宣言し、標準入力`cin`から変数`a`, `b`に数字を読み込む\n",
        "3. `char`型の変数`c`を宣言し、標準入力`cin`から変数`c`に文字を読み込む\n",
        "4. `string`型の`erase`機能を使って、変数`s`から添字`a - 1`の位置の1文字を削除する\n",
        "5. `string`型の`insert`機能を使って、変数`s`の添字`b - 1`の位置に文字`c`を1個追加する\n",
        "6. 標準出力`cout`に変数`s`を出力し、改行する\n",
        "\n",
        "</details><br>\n",
        "\n",
        "**入力データ例（１）**\n",
        "\n",
        "```\n",
        "wait 3 1 s\n",
        "```\n",
        "\n",
        "**出力例（１）**\n",
        "\n",
        "```txt\n",
        "swat\n",
        "```\n",
        "\n",
        "**入力データ例（２）**\n",
        "\n",
        "```\n",
        "stand 2 5 y\n",
        "```\n",
        "\n",
        "**出力例（２）**\n",
        "\n",
        "```txt\n",
        "sandy\n",
        "```\n"
      ],
      "metadata": {
        "id": "s9S2AE0CRjpn"
      }
    },
    {
      "cell_type": "code",
      "source": [
        "%%writefile practice_03e.cpp\n",
        "#include <iostream>\n",
        "#include <string>\n",
        "using namespace std;\n",
        "\n",
        "int main() {\n",
        "  // この下に、文字列SからA番目の文字を削除し、B番目に文字Cを追加した文字列を出力するプログラムを書く\n",
        "\n",
        "}"
      ],
      "metadata": {
        "id": "JHgBaNAzRjpn"
      },
      "execution_count": null,
      "outputs": []
    },
    {
      "cell_type": "code",
      "source": [
        "# @title 動作テスト\n",
        "!g++ -std=c++20 -O2 -Wall -Wextra -o practice_03e practice_03e.cpp && echo \"この下をクリックして、文字列、２つの数字、文字を入力\" && ./practice_03e"
      ],
      "metadata": {
        "cellView": "form",
        "id": "BOLHQu8GRjpn"
      },
      "execution_count": null,
      "outputs": []
    },
    {
      "cell_type": "code",
      "source": [
        "# @title 実行\n",
        "!diff -Z <(echo -e \"swat\\nnand\\nsandy\") <(g++ -std=c++20 -O2 -Wall -Wextra -o practice_03e practice_03e.cpp && echo \"wait 3 1 s\" | ./practice_03e && echo \"nasd 3 3 n\" | ./practice_03e && echo \"stand 2 5 y\" | ./practice_03e) > /dev/null && test $? -eq 0 && (echo -e \"\\033[32;1mAC\" && echo \"7-14\" >> result.txt) || echo -e \"\\033[31;1mWA\""
      ],
      "metadata": {
        "cellView": "form",
        "id": "aSAm4GIXRjpo"
      },
      "execution_count": null,
      "outputs": []
    },
    {
      "cell_type": "markdown",
      "source": [
        "### ❓️問題８－５ リバースN\n",
        "\n",
        "N個の数字が入力されます。<br>\n",
        "入力された数字を、入力されたときの逆の順番で出力しなさい。\n",
        "\n",
        "<details><summary>🗝️(クリックでヒントを見る)</summary>\n",
        "\n",
        "**プログラム例**\n",
        "\n",
        "1. 数字の個数をあらわす変数`n`を宣言し、標準入力`cin`から読み込む\n",
        "2. 数字を記録する配列変数`v`を、データ数`n`で宣言する\n",
        "3. for文と標準入力`cin`を使って、`n`個の数字を読み込む\n",
        "4. for文を使って、標準出力`cout`に数字を逆の順番で出力する<br>\n",
        "   数値の直後に1文字の空白を出力すること\n",
        "5. `endl`で改行を出力する\n",
        "\n",
        "</details><br>\n",
        "\n",
        "データは次の形式で入力されます。\n",
        "\n",
        "```txt\n",
        "データ数N\n",
        "数字1 数字2 数字3 ... 数字N\n",
        "```\n",
        "\n",
        "**入力データ例（１）**\n",
        "\n",
        "```txt\n",
        "5\n",
        "1 2 3 4 5\n",
        "```\n",
        "\n",
        "**出力例（１）**\n",
        "\n",
        "```txt\n",
        "5 4 3 2 1\n",
        "```\n",
        "\n",
        "**入力データ例（２）**\n",
        "\n",
        "```txt\n",
        "1\n",
        "9\n",
        "```\n",
        "\n",
        "**出力例（２）**\n",
        "\n",
        "```txt\n",
        "9\n",
        "```\n"
      ],
      "metadata": {
        "id": "iETFwd47eW0t"
      }
    },
    {
      "cell_type": "code",
      "source": [
        "%%writefile practice_02a.cpp\n",
        "#include <iostream>\n",
        "#include <vector>\n",
        "using namespace std;\n",
        "\n",
        "int main() {\n",
        "  // この下に、入力された数字を逆順で出力するプログラムを書く\n",
        "\n",
        "}"
      ],
      "metadata": {
        "id": "OBmf2OW_eW0u"
      },
      "execution_count": null,
      "outputs": []
    },
    {
      "cell_type": "code",
      "source": [
        "# @title 動作テスト\n",
        "!g++ -std=c++20 -O2 -Wall -Wextra -o practice_02a practice_02a.cpp && echo \"この下をクリックして、数字の個数と数字を入力:\" && ./practice_02a"
      ],
      "metadata": {
        "cellView": "form",
        "id": "VHWFYuB2eW0v"
      },
      "execution_count": null,
      "outputs": []
    },
    {
      "cell_type": "code",
      "source": [
        "# @title 実行\n",
        "!diff -Z <(echo -e \"5 4 3 2 1\\n9\\n2 0 2 5\") <(g++ -std=c++20 -O2 -Wall -Wextra -o practice_02a practice_02a.cpp && echo 5 1 2 3 4 5 | ./practice_02a && echo 1 9 | ./practice_02a && echo 4 5 2 0 2 | ./practice_02a) > /dev/null && test $? -eq 0 && (echo -e \"\\033[32;1mAC\" && echo \"8-5\" >> result.txt) || echo -e \"\\033[31;1mWA\""
      ],
      "metadata": {
        "cellView": "form",
        "id": "7Rbap-O0eW0v"
      },
      "execution_count": null,
      "outputs": []
    },
    {
      "cell_type": "markdown",
      "source": [
        "### ❓️問題８－９ 最大と最小を除外\n",
        "\n",
        "N個の数字が入力されます。<br>\n",
        "入力された数字のうち、最大値と最小値を除いた数値を、入力された順に出力しなさい。<br>\n",
        "この問題の入力は、以下の条件を満たします。\n",
        "\n",
        "* Nは1以上10以下\n",
        "* 入力される数字の範囲は0～100\n",
        "* 入力されるすべての数字は互いに異なり、重複する数字はない\n",
        "\n",
        "<details><summary>🗝️(クリックでヒントを見る)</summary>\n",
        "\n",
        "**プログラム例**\n",
        "\n",
        "1. 数字の個数をあらわす変数`n`を宣言し、標準入力`cin`から読み込む\n",
        "2. 数字を記録する配列変数`v`を、データ数`n`で宣言する\n",
        "3. 最大値をあらわす変数`maxi`を宣言し、`0`で初期化する\n",
        "4. 最小値をあらわす変数`mini`を宣言し、`100`で初期化する\n",
        "5. for文を使って、次の処理を`n`回繰り返す\n",
        "    1. 標準入力`cin`から`v[i]`に数字を読み込む\n",
        "    2. if文を使って、`v[i]`が`maxi`より大きければ、`maxi`に`v[i]`を代入する\n",
        "    3. if文を使って、`v[i]`が`mini`より小さければ、`mini`に`v[i]`を代入する\n",
        "6. for文を使って、次の処理を`n`回繰り返す\n",
        "    1. if文を使って、`v[i]`が`maxi`でも`mini`でもない場合に、`v[i]`を出力する<br>\n",
        "    数値の直後に1文字の空白を出力すること\n",
        "7. `endl`で改行を出力する\n",
        "\n",
        "</details><br>\n",
        "\n",
        "データは次の形式で入力されます。\n",
        "\n",
        "```txt\n",
        "数字の数N\n",
        "数字1 数字2 数字3  ... 数字N\n",
        "```\n",
        "\n",
        "**入力データ例（１）**\n",
        "\n",
        "```txt\n",
        "5\n",
        "5 4 3 2 1\n",
        "```\n",
        "\n",
        "**出力例（１）**\n",
        "\n",
        "```txt\n",
        "4 3 2\n",
        "```\n",
        "\n",
        "**入力データ例（２）**\n",
        "\n",
        "```txt\n",
        "6\n",
        "10 35 48 100 62 29\n",
        "```\n",
        "\n",
        "**出力例（２）**\n",
        "\n",
        "```txt\n",
        "35 48 62 29\n",
        "```\n"
      ],
      "metadata": {
        "id": "HaR3qN6rv62J"
      }
    },
    {
      "cell_type": "code",
      "source": [
        "%%writefile practice_02b.cpp\n",
        "#include <iostream>\n",
        "#include <vector>\n",
        "using namespace std;\n",
        "\n",
        "int main() {\n",
        "  // この下に、入力された数字を逆順で出力するプログラムを書く\n",
        "\n",
        "}"
      ],
      "metadata": {
        "id": "JSvUyiFgzG1M"
      },
      "execution_count": null,
      "outputs": []
    },
    {
      "cell_type": "code",
      "source": [
        "# @title 動作テスト\n",
        "!g++ -std=c++20 -O2 -Wall -Wextra -o practice_02b practice_02b.cpp && echo \"この下をクリックして、数字の個数と数字を入力:\" && ./practice_02b"
      ],
      "metadata": {
        "id": "Nz-cAlpOzG1M",
        "cellView": "form"
      },
      "execution_count": null,
      "outputs": []
    },
    {
      "cell_type": "code",
      "source": [
        "# @title 実行\n",
        "!diff -Z <(echo -e \"4 3 2\\n9 57 99 31\\n\\n2 3 4 5 6 90 80 70\\n\") <(g++ -std=c++20 -O2 -Wall -Wextra -o practice_02b practice_02b.cpp && echo \"5 1 4 3 2 5\" | ./practice_02b && echo \"6 9 100 57 99 3 31\" | ./practice_02b && echo \"2 1 10\" | ./practice_02b && echo \"10 100 2 3 4 5 6 90 80 70 1\" | ./practice_02b && echo \"1\" | ./practice_02b) > /dev/null && test $? -eq 0 && (echo -e \"\\033[32;1mAC\" && echo \"8-9\" >> result.txt) || echo -e \"\\033[31;1mWA\""
      ],
      "metadata": {
        "id": "BWVMUaY0zG1M",
        "cellView": "form"
      },
      "execution_count": null,
      "outputs": []
    },
    {
      "cell_type": "markdown",
      "source": [
        "### ❓問題９－４ ネコ構造体\n",
        "\n",
        "猫のデータを読み込んで出力するプログラムがあります。<br>\n",
        "`Cat`という名前の構造体を定義し、猫のデータをあらわす4つの変数を`Cat`構造体で置き換えなさい。\n",
        "\n",
        "**書き換え手順**\n",
        "\n",
        "1. 4つの変数の上に`struct Cat {`を書く\n",
        "2. 4つの変数の下に`};`を書く\n",
        "3. 4つの変数から`my_cat_`の部分を削除する\n",
        "\n",
        "データは次の形式で入力されます。\n",
        "\n",
        "```txt\n",
        "名前 猫種 年齢 性別(0=オス 1=メス)\n",
        "```\n",
        "\n",
        "**入力データ例**\n",
        "\n",
        "```txt\n",
        "ラリー ブリティッシュショートヘア 14 0\n",
        "```\n",
        "\n",
        "**出力例**\n",
        "\n",
        "```txt\n",
        "ラリー ブリティッシュショートヘア 14 0\n",
        "```\n"
      ],
      "metadata": {
        "id": "tzWdfe4ZUDDa"
      }
    },
    {
      "cell_type": "code",
      "source": [
        "%%writefile practice_02a.cpp\n",
        "#include <iostream>\n",
        "#include <string>\n",
        "using namespace std;\n",
        "\n",
        "int main() {\n",
        "\n",
        "  // 以下の4つの変数を、Cat構造体として定義しなおす\n",
        "  string my_cat_name;   // 名前\n",
        "  string my_cat_breed;  // 猫種\n",
        "  int my_cat_age;       // 年齢\n",
        "  int my_cat_gender;    // 性別\n",
        "\n",
        "  // ここから下は変更しない\n",
        "  Cat my_cat;\n",
        "  cin >> my_cat.name >> my_cat.breed >> my_cat.age >> my_cat.gender;\n",
        "  cout << my_cat.name << ' ' << my_cat.breed << ' ' << my_cat.age << ' ' << my_cat.gender << endl;\n",
        "}"
      ],
      "metadata": {
        "id": "2_V-6dPCUDDa"
      },
      "execution_count": null,
      "outputs": []
    },
    {
      "cell_type": "code",
      "source": [
        "# @title 動作テスト\n",
        "!g++ -std=c++20 -O2 -Wall -Wextra -o practice_02a practice_02a.cpp && echo \"この下をクリックして猫のデータを入力:\" && ./practice_02a"
      ],
      "metadata": {
        "cellView": "form",
        "id": "ygUzLHdrUDDb"
      },
      "execution_count": null,
      "outputs": []
    },
    {
      "cell_type": "code",
      "source": [
        "# @title 実行\n",
        "!diff -Z <(echo -e \"ホルスタイン 雑種 8 1\\nラリー ブリティッシュショートヘア 14 0\") <(g++ -std=c++20 -O2 -Wall -Wextra -o practice_02a practice_02a.cpp && echo \"ホルスタイン 雑種 8 1\" | ./practice_02a && echo \"ラリー ブリティッシュショートヘア 14 0\" | ./practice_02a) > /dev/null && test $? -eq 0 && (echo -e \"\\033[32;1mAC\" && echo \"9-4\" >> result.txt) || echo -e \"\\033[31;1mWA\""
      ],
      "metadata": {
        "cellView": "form",
        "id": "3ixG5ehVUDDb"
      },
      "execution_count": null,
      "outputs": []
    },
    {
      "cell_type": "markdown",
      "source": [
        "### ❓問題９－９ 武器屋\n",
        "\n",
        "N種類の武器を売っている武器屋に、ひとりの若い戦士風の男がやってきました。<br>\n",
        "彼はお金を机に乗せると、「この金で買えるかぎり、一番攻撃力の高い武器が欲しい」と言いました。\n",
        "\n",
        "N個の武器のデータと、彼の出した金額Mが入力されます。彼が買うべき武器の名前を出力するプログラムを作成しなさい。\n",
        "\n",
        "**武器のデータ**\n",
        "\n",
        "* 武器名(文字列)\n",
        "* 価格(整数)\n",
        "* 攻撃力(整数)\n",
        "\n",
        "<br><details><summary>🗝️(クリックでヒントを見る)</summary>\n",
        "\n",
        "**プログラム例**\n",
        "\n",
        "1. 武器をあらわす`Weapon`というの名前の構造体を定義し、以下のメンバ変数を宣言する\n",
        "\n",
        ">| 用途         | 型     | メンバ変数名(読みかた) |\n",
        ">|:-------------|:-------|:-----------------------|\n",
        ">| <font size=3>名前</font> | <font size=3>string</font> | <font size=3>name(ネーム)</font> |\n",
        ">| <font size=3>価格</font> | <font size=3>int</font> | <font size=3>price(プライス)</font> |\n",
        ">| <font size=3>攻撃力</font> | <font size=3>int</font> | <font size=3>power(パワー)</font> |\n",
        "\n",
        "2. 武器の数をあらわす変数`n`を宣言し、`cin`から読み込む\n",
        "3. 武器の配列をあらわす配列変数`v`を、長さ`n`で宣言する\n",
        "4. for文と`cin`を使って、`n`個の武器を配列変数`v`に読み込む\n",
        "5. お金をあらわす変数`m`を宣言し、`cin`から読み込む\n",
        "6. for文とif文を使って、価格が`m`以下の武器のうち、最も攻撃力の高い武器を見つける\n",
        "7. 見つかった武器の名前と改行を出力する\n",
        "8. お金が足りなくて何も買えない場合、文字列`\"お金が足りない\"`と改行を出力する\n",
        "\n",
        "</details><br>\n",
        "\n",
        "データは次の形式で入力されます。\n",
        "\n",
        "```txt\n",
        "武器の数\n",
        "武器名1 価格1 攻撃力1\n",
        "武器名2 価格2 攻撃力2\n",
        "...\n",
        "武器名N 価格N 攻撃力N\n",
        "お金\n",
        "```\n",
        "\n",
        "**入力データ例（１）**\n",
        "\n",
        "```txt\n",
        "3\n",
        "ロングソード 25 6\n",
        "ショートソード 15  4\n",
        "メイス 30 5\n",
        "30\n",
        "```\n",
        "\n",
        "**出力例（１）**\n",
        "\n",
        "```txt\n",
        "ロングソード\n",
        "```\n",
        "\n",
        "**入力データ例（２）**\n",
        "\n",
        "```txt\n",
        "2\n",
        "ショートソード＋２ 4000 18\n",
        "カシナートの剣 15000 44\n",
        "2000\n",
        "```\n",
        "\n",
        "**出力例（２）**\n",
        "\n",
        "```txt\n",
        "お金が足りない\n",
        "```\n"
      ],
      "metadata": {
        "id": "0VPz1a2wFPdr"
      }
    },
    {
      "cell_type": "code",
      "source": [
        "%%writefile practice_03b.cpp\n",
        "#include <iostream>\n",
        "#include <string>\n",
        "#include <vector>\n",
        "using namespace std;\n",
        "\n",
        "int main() {\n",
        "  // この下に、武器データと金額を読み込み、買うべき武器の名前を出力するプログラムを書く\n",
        "\n",
        "}"
      ],
      "metadata": {
        "id": "XXLQgQcqFPdr"
      },
      "execution_count": null,
      "outputs": []
    },
    {
      "cell_type": "code",
      "source": [
        "# @title 動作テスト\n",
        "!g++ -std=c++20 -O2 -Wall -Wextra -o practice_03b practice_03b.cpp && echo \"この下をクリックして武器の数、武器データ、所持金を入力:\" && ./practice_03b"
      ],
      "metadata": {
        "cellView": "form",
        "id": "0PZnH50SFPds"
      },
      "execution_count": null,
      "outputs": []
    },
    {
      "cell_type": "code",
      "source": [
        "# @title 実行\n",
        "!diff -Z <(echo -e \"ロングソード\\nお金が足りない\") <(g++ -std=c++20 -O2 -Wall -Wextra -o practice_03b practice_03b.cpp && echo \"3 ロングソード 25 6 ショートソード 15  4 メイス 30 5 30\" | ./practice_03b && echo \"2 ショートソード＋２ 4000 18 カシナートの剣 15000 44 2000\" | ./practice_03b) > /dev/null && test $? -eq 0 && (echo -e \"\\033[32;1mAC\" && echo \"9-9\" >> result.txt) || echo -e \"\\033[31;1mWA\""
      ],
      "metadata": {
        "cellView": "form",
        "id": "Dcu1kIGpFPds"
      },
      "execution_count": null,
      "outputs": []
    },
    {
      "cell_type": "markdown",
      "source": [
        "### ❓️問題１０－５ 足し算関数と引き算関数\n",
        "\n",
        "この問題の目的は、関数の定義と関数呼び出しの関係を理解するために、作りかけの2つの関数を完成させることです。\n",
        "\n",
        "以下の仕様にしたがって、`Add`関数と`Sub`関数を定義しなさい。\n",
        "\n",
        "**Add関数の仕様**\n",
        "\n",
        "* 関数名: `Add`\n",
        "* 第１引数: `int`型の整数\n",
        "* 第２引数: `int`型の整数\n",
        "* 戻り値: 第１引数と第２引数を足した値を返す\n",
        "\n",
        "**Sub関数の仕様**\n",
        "\n",
        "* 関数名: `Sub`\n",
        "* 第１引数: `int`型の整数\n",
        "* 第２引数: `int`型の整数\n",
        "* 戻り値: 第１引数から第２引数を引いた値を返す\n",
        "\n",
        "**入力データ例**\n",
        "\n",
        "```txt\n",
        "4 3\n",
        "```\n",
        "\n",
        "**出力例**\n",
        "\n",
        "```txt\n",
        "7\n",
        "1\n",
        "```"
      ],
      "metadata": {
        "id": "3SEpTmHSxaoq"
      }
    },
    {
      "cell_type": "code",
      "source": [
        "%%writefile practice_02a.cpp\n",
        "#include <iostream>\n",
        "using namespace std;\n",
        "\n",
        "// この下に、Add関数を定義する\n",
        "\n",
        "// この下に、Sub関数を定義する\n",
        "\n",
        "int main() {\n",
        "  int a, b;\n",
        "  cin >> a >> b;\n",
        "  cout << Add(a, b) << endl; // a + b を出力\n",
        "  cout << Sub(a, b) << endl; // a - b を出力\n",
        "}"
      ],
      "metadata": {
        "id": "WQ2w_4gDxcTb"
      },
      "execution_count": null,
      "outputs": []
    },
    {
      "cell_type": "code",
      "source": [
        "# @title 動作テスト\n",
        "!g++ -std=c++20 -O2 -Wall -Wextra -o practice_02a practice_02a.cpp && echo \"この下をクリックして2つの数値を入力:\" && ./practice_02a"
      ],
      "metadata": {
        "cellView": "form",
        "id": "zfUlJ3kmB-N6"
      },
      "execution_count": null,
      "outputs": []
    },
    {
      "cell_type": "code",
      "source": [
        "# @title 実行\n",
        "!diff -Z <(echo -e \"3\\n1\\n10\\n-4\") <(g++ -std=c++20 -O2 -Wall -Wextra -o practice_02a practice_02a.cpp && echo \"2 1\" | ./practice_02a && echo \"3 7\" | ./practice_02a) > /dev/null && test $? -eq 0 && (echo -e \"\\033[32;1mAC\" && echo \"10-5\" >> result.txt) || echo -e \"\\033[31;1mWA\""
      ],
      "metadata": {
        "cellView": "form",
        "id": "rOCQJbj44Y23"
      },
      "execution_count": null,
      "outputs": []
    },
    {
      "cell_type": "markdown",
      "source": [
        "### ❓️問題１０－８ 平均を求める関数\n",
        "\n",
        "この問題の目的は、重複するプログラムを見つけて関数で置き換える技術を身につけるために、実際にプログラムの一部を関数で置き換えることです。\n",
        "\n",
        "次のプログラムには「平均を計算して出力」している部分が2箇所あります。<br>\n",
        "「2.1 関数の作りかた」を参考にして、この部分を関数にしなさい。関数名は`OutputAverage`(アウトプット・アベレージ)とすること。\n",
        "\n",
        "**OutputAverage関数の仕様**\n",
        "\n",
        "* 関数名: `OutputAverage`\n",
        "* 第１引数: データ数(`int`型)\n",
        "* 戻り値: なし\n",
        "* 機能:\n",
        "  * 「データ数」個のデータを読み込んで平均値を計算し、標準出力`cout`に出力する。\n",
        "\n",
        "**入力データ例**\n",
        "\n",
        "```txt\n",
        "3\n",
        "1 2 3\n",
        "2 5 4\n",
        "```\n",
        "\n",
        "**出力例**\n",
        "\n",
        "```txt\n",
        "2\n",
        "3\n",
        "```"
      ],
      "metadata": {
        "id": "_9br8xzEUPPE"
      }
    },
    {
      "cell_type": "code",
      "source": [
        "%%writefile practice_03b.cpp\n",
        "#include <iostream>\n",
        "using namespace std;\n",
        "\n",
        "// この下に、関数を定義する\n",
        "\n",
        "int main() {\n",
        "\n",
        "  int n;\n",
        "  cin >> n;\n",
        "\n",
        "  // 平均を計算して出力\n",
        "  int total = 0;\n",
        "  for (int i = 0; i < n; i++) {\n",
        "    int x;\n",
        "    cin >> x;\n",
        "    total += x;\n",
        "  }\n",
        "  cout << total / n << endl;\n",
        "\n",
        "  // 平均を計算して出力\n",
        "  total = 0;\n",
        "  for (int i = 0; i < n; i++) {\n",
        "    int x;\n",
        "    cin >> x;\n",
        "    total += x;\n",
        "  }\n",
        "  cout << total / n << endl;\n",
        "}"
      ],
      "metadata": {
        "id": "qy9n9RrFUQ4M"
      },
      "execution_count": null,
      "outputs": []
    },
    {
      "cell_type": "code",
      "source": [
        "# @title 動作テスト\n",
        "!g++ -std=c++20 -O2 -Wall -Wextra -o practice_03b practice_03b.cpp && echo \"この下をクリックしてデータ数と、2つの数値の列を入力:\" && ./practice_03b"
      ],
      "metadata": {
        "cellView": "form",
        "id": "49We6laJCkpK"
      },
      "execution_count": null,
      "outputs": []
    },
    {
      "cell_type": "code",
      "source": [
        "# @title 実行\n",
        "!diff -Z <(echo -e \"2\\n3\\n3\\n10\") <(g++ -std=c++20 -O2 -Wall -Wextra -o practice_03b practice_03b.cpp && echo \"3 1 2 3 2 5 4\" | ./practice_03b && echo \"2 1 5 10 10\" | ./practice_03b) > /dev/null && test $? -eq 0 && (echo -e \"\\033[32;1mAC\" && echo \"10-8\" >> result.txt) || echo -e \"\\033[31;1mWA\""
      ],
      "metadata": {
        "cellView": "form",
        "id": "YEah62iQURQP"
      },
      "execution_count": null,
      "outputs": []
    },
    {
      "cell_type": "markdown",
      "source": [
        "### ❓️問題１１－２ 参照のあるとき、ないとき\n",
        "\n",
        "ACが出力されるように、以下のプログラムにある４つの？記号を、適切な数値に置き換えなさい。\n"
      ],
      "metadata": {
        "id": "Bg7OCvHRcKMH"
      }
    },
    {
      "cell_type": "code",
      "source": [
        "%%writefile practice_01b.cpp\n",
        "#include <iostream>\n",
        "using namespace std;\n",
        "\n",
        "int FuncA(int a, int& b) {\n",
        "  a = a + b;\n",
        "  return a * 2;\n",
        "}\n",
        "\n",
        "int FuncB(int& a, int b) {\n",
        "  a = a + b;\n",
        "  return b * 3;\n",
        "}\n",
        "\n",
        "int main() {\n",
        "\n",
        "  int a = 6;\n",
        "  int b = 7;\n",
        "\n",
        "  int c = FuncA(a, b);\n",
        "  int d = FuncB(a, b);\n",
        "  // ここから上は変更しない\n",
        "\n",
        "  // \"AC\"が出力されるように、以下の4つの「？」の部分を数字に置き換える(それ以外は変更しないこと)\n",
        "  if (a == ？ && b == ？ && c == ？ && d == ？) {\n",
        "    cout << \"AC\" << endl;\n",
        "  } else {\n",
        "    cout << \"NG\" << endl;\n",
        "  }\n",
        "}"
      ],
      "metadata": {
        "id": "UMF1AWdqcKMI"
      },
      "execution_count": null,
      "outputs": []
    },
    {
      "cell_type": "code",
      "source": [
        "# @title 動作テスト\n",
        "!g++ -std=c++20 -O2 -Wall -Wextra -o practice_01b practice_01b.cpp && ./practice_01b"
      ],
      "metadata": {
        "cellView": "form",
        "id": "eJZoEIV4cKMI"
      },
      "execution_count": null,
      "outputs": []
    },
    {
      "cell_type": "code",
      "source": [
        "# @title 実行\n",
        "!diff -Z <(echo -e \"AC\") <(g++ -std=c++20 -O2 -Wall -Wextra -o practice_01b practice_01b.cpp && ./practice_01b) > /dev/null && test $? -eq 0 && (echo -e \"\\033[32;1mAC\" && echo \"11-2\" >> result.txt) || echo -e \"\\033[31;1mWA\""
      ],
      "metadata": {
        "cellView": "form",
        "id": "VH4HpPnvcKMJ"
      },
      "execution_count": null,
      "outputs": []
    },
    {
      "cell_type": "markdown",
      "source": [
        "### ❓️問題１１－７ ポインタの挙動\n",
        "\n",
        "ACが出力されるように、以下のプログラムにある４つの？記号を、適切な数値に置き換えなさい。\n"
      ],
      "metadata": {
        "id": "48A1IraWq_OR"
      }
    },
    {
      "cell_type": "code",
      "source": [
        "%%writefile practice_03a.cpp\n",
        "#include <iostream>\n",
        "using namespace std;\n",
        "\n",
        "int main() {\n",
        "  int a = 3;\n",
        "  int b = 4;\n",
        "  int* c = &a;\n",
        "  int* d = &b;\n",
        "\n",
        "  a += *d;\n",
        "  b = *c - 5;\n",
        "  c = d;\n",
        "  *d -= 2;\n",
        "  // ここから上は変更しない\n",
        "\n",
        "  // \"AC\"が出力されるように、以下の4つの「？」の部分を数字に置き換える(それ以外は変更しないこと)\n",
        "  if (a == ？ && b == ？ && *c == ？ && *d == ？) {\n",
        "    cout << \"AC\" << endl;\n",
        "  } else {\n",
        "    cout << \"NG\" << endl;\n",
        "  }\n",
        "}"
      ],
      "metadata": {
        "id": "_4QMLmiYq_OR"
      },
      "execution_count": null,
      "outputs": []
    },
    {
      "cell_type": "code",
      "source": [
        "# @title 動作テスト\n",
        "!g++ -std=c++20 -O2 -Wall -Wextra -o practice_03a practice_03a.cpp && ./practice_03a"
      ],
      "metadata": {
        "id": "NwJD0D9Jq_OS",
        "cellView": "form"
      },
      "execution_count": null,
      "outputs": []
    },
    {
      "cell_type": "code",
      "source": [
        "# @title 実行\n",
        "!diff -Z <(echo -e \"AC\") <(g++ -std=c++20 -O2 -Wall -Wextra -o practice_03a practice_03a.cpp && ./practice_03a) > /dev/null && test $? -eq 0 && (echo -e \"\\033[32;1mAC\" && echo \"11-7\" >> result.txt) || echo -e \"\\033[31;1mWA\""
      ],
      "metadata": {
        "id": "KBi5wKj-q_OS",
        "cellView": "form"
      },
      "execution_count": null,
      "outputs": []
    },
    {
      "cell_type": "markdown",
      "source": [
        "----\n",
        "\n",
        "## お疲れ様でした\n",
        "\n",
        "----\n",
        "\n",
        "テストが終了したら、下の集計の`▶`をクリックしてください。<br>\n",
        "すると、`AC`になった問題数が表示されます。"
      ],
      "metadata": {
        "id": "XPmZGaiquW-B"
      }
    },
    {
      "cell_type": "code",
      "source": [
        "# @title 集計\n",
        "!echo -n \"あなたのACの数:\" && sort -u result.txt | wc -l"
      ],
      "metadata": {
        "cellView": "form",
        "id": "Z2ftwBkkndVI"
      },
      "execution_count": null,
      "outputs": []
    }
  ]
}