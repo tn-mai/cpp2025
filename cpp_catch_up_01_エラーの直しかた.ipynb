{
  "nbformat": 4,
  "nbformat_minor": 0,
  "metadata": {
    "colab": {
      "provenance": [],
      "toc_visible": true
    },
    "kernelspec": {
      "name": "python3",
      "display_name": "Python 3"
    },
    "language_info": {
      "name": "python"
    }
  },
  "cells": [
    {
      "cell_type": "markdown",
      "source": [
        "# エラーの直しかた\n"
      ],
      "metadata": {
        "id": "_BBrROINz3tR"
      }
    },
    {
      "cell_type": "markdown",
      "source": [
        "## キーポイント\n",
        "\n",
        "* プログラムは「書く→実行→正しく動作することを確認」まで行って、初めて完成する\n",
        "* **コンパイルエラー**は文法のエラーで、プログラムは実行されない\n",
        "* **実行時エラー**は内容のエラーで、プログラムは強制終了される\n",
        "* **論理エラー**は内容のエラーで、プログラムは正しく動いているように見えてしまう\n",
        "* エラーメッセージは以下の形式で出力される\n",
        "  ```txt\n",
        "  ファイル名:行:文字目: エラーメッセージ\n",
        "  ```\n",
        "* エラーメッセージの先頭に書かれている「ファイル名:行:文字目」は、エラーの発生位置をあらわす\n",
        "* エラーを修正するには「実行して動作を確認」したり、「Webで検索」する\n",
        "* エラーメッセージが複数表示された場合は、最初のエラーから直す"
      ],
      "metadata": {
        "id": "TaEmQPLdzeYJ"
      }
    },
    {
      "cell_type": "markdown",
      "source": [
        "## 1 プログラムのエラー\n",
        "\n",
        "プログラムを書き終えても、完成したとは限りません。プログラムを実行し、その動作が正しいことを確認できたとき、はじめて「プログラムが完成した」といえるのです。\n",
        "\n",
        "多くの場合、書き終えたばかりのプログラムを実行すると、何らかのエラーが報告されます。このとき、「エラーの原因を解明して修正できること」はプログラマーの重要な技能です。\n",
        "\n",
        "さて、プログラムで発生する主なエラーは、次の３種類です。\n",
        "\n",
        "- コンパイルエラー\n",
        "- 実行時エラー\n",
        "- 論理エラー\n",
        "\n",
        "以下、それぞれについて説明します。"
      ],
      "metadata": {
        "id": "SSooJ6rQ2AY3"
      }
    },
    {
      "cell_type": "markdown",
      "source": [
        "### 1.1 コンパイルエラー\n",
        "\n",
        "コンパイルエラーは、「書いたプログラムの文法にミスがあった」ときに発生するエラーです。全角文字がプログラム中に入り込んだり、文末の`;`を忘れたときなどにコンパイルエラーが発生します。\n",
        "\n",
        "プログラミング言語では「文法」が厳密に決められています。日本語などの人間が使う言語では、文法的に少し崩れた文でも意図が通じますが、プログラミング言語ではそうはいきません。\n",
        "\n",
        "コンパイルエラーが起きた場合、プログラムは一切動作しません。"
      ],
      "metadata": {
        "id": "Mgxb8keC0VIp"
      }
    },
    {
      "cell_type": "markdown",
      "source": [
        "### 1.2 実行時エラー\n",
        "\n",
        "「プログラムを動かす」ことを「プログラムを実行する」といいます。\n",
        "\n",
        "実行時エラーは、「プログラムの文法に間違いはなかったが、内容に致命的な間違いがあった」ときに発生するエラーです。\n",
        "\n",
        "具体的には`3 / 0`のように、`0`で割り算を行ってしまった場合などに発生します。スマホアプリやゲーム等が強制終了してしまったとき、多くの場合実行時エラーが発生しています。\n",
        "\n",
        "実行時エラーが起きた場合、実行時エラーが起きる直前までプログラムは動作しますが、エラー以降は動かなくなってしまいます。"
      ],
      "metadata": {
        "id": "_8VN43o40QX8"
      }
    },
    {
      "cell_type": "markdown",
      "source": [
        "### 1.3 論理エラー\n",
        "\n",
        "論理エラーは、「プログラムは一見正しく動作しているが、その動作が実は正しくない」というエラーです。\n",
        "\n",
        "例えば「300円のクッキーと100円のアメを買ったときに払うお金」を計算するプログラムは`300 + 100`と計算するべきです。ところが、間違って`300 - 100`としてしまった場合などは論理エラーに当たります。\n",
        "\n",
        "論理エラーは勘違いで生まれたり、タイピングのミスで発生したりと様々です。一見すると問題なく動作しているように見えるプログラムでも、よく調べてみると論理エラーが起きている、ということは日常茶飯事です。"
      ],
      "metadata": {
        "id": "Un8YKwUM0Mpb"
      }
    },
    {
      "cell_type": "markdown",
      "source": [
        "### 1.4 エラーの直し方\n",
        "\n",
        "エラーを修正するには、次の手順を繰り返します。\n",
        "\n",
        "1. 実行してエラーメッセージや出力を確認。\n",
        "2. エラーメッセージや間違った出力がされるようならプログラムを修正し、1に戻る。\n",
        "3. エラーメッセージがなくなり、出力が想定通りになったら修正完了。\n",
        "\n",
        "エラーメッセージが表示される場合は、そのメッセージをコピー＆ペーストしてWeb検索してみるのも手です。特にコンパイルエラーに関しては、エラーメッセージで検索すると分かることが多々あります。\n",
        "\n",
        "調べてみてもよくわからない場合は、近くにいる人に相談してみましょう。自分では気づかなかった問題点を、見つけてもらえるかもしれません。"
      ],
      "metadata": {
        "id": "5wXtOIAT0Idj"
      }
    },
    {
      "cell_type": "markdown",
      "source": [
        "## 2 コンパイルエラーの例\n",
        "\n",
        "コンパイルエラーのうち、よくある3つの例を紹介します。\n",
        "\n",
        "- 行末のセミコロンの打ち忘れ\n",
        "- 全角スペース\n",
        "- 大量のエラーや謎のエラー\n",
        "\n",
        "コンパイルエラーの内容は英語で表示されますが、英語が読める必要はありません。\n",
        "エラーメッセージのパターンからなんとなく原因が推測できれば十分です。"
      ],
      "metadata": {
        "id": "95QP6W39hWwy"
      }
    },
    {
      "cell_type": "markdown",
      "source": [
        "### 2.1 セミコロン忘れ\n",
        "\n",
        "セミコロン`;`が必要な行の末尾にセミコロンを付け忘れるケースです。<br>\n",
        "次のプログラムでは、`endl`の後にセミコロンを付けるのを忘れてしまっています。\n",
        "\n",
        "**コード**\n",
        "\n",
        "```cpp\n",
        "#include <iostream>\n",
        "using namespace std;\n",
        "\n",
        "int main() {\n",
        "  cout << \"Hello, world!\" << endl\n",
        "}\n",
        "```\n",
        "\n",
        "**コンパイル結果**\n",
        "\n",
        "```txt\n",
        "Main.cpp: In function ‘int main()’:\n",
        "Main.cpp:5:34: error: expected ‘;’ before ‘}’ token\n",
        "    5 |   cout << \"Hello, world!\" << endl\n",
        "      |                                  ^\n",
        "      |                                  ;\n",
        "    6 | }\n",
        "      | ~\n",
        "```\n",
        "\n",
        "多くのエラーメッセージは`ファイル名:行:文字数: error: エラーの内容`の形式になっています。上記の場合、2行目の`Main.cpp:5:34:`の部分は「`Main.cpp`の`5`行目の`34`文字目」でエラーが起きたことを示しています。\n",
        "\n",
        "そのあとに続く`error: expected ‘;’ before ‘}’ token`の部分が「エラーの内容」です。なお、このメッセージは「`}`トークンの前に`;`があるべきです」という意味になります。\n",
        "\n",
        "セミコロン忘れのコンパイルエラーの場合、`expected ‘;’ before ...`というメッセージが表示されるのが特徴です。\n",
        "\n",
        "また、エラーメッセージの下には「エラーが起きた行の内容」が表示されます。\n",
        "\n",
        "```c++\n",
        "5 |   cout << \"Hello, world!\" << endl\n",
        "  |                                  ^\n",
        "  |                                  ;\n",
        "6 | }\n",
        "  | ~\n",
        "```\n",
        "\n",
        "エラーの起きた文字の位置は、`^`記号の上です。この例では、`endl`の直後に「何か」が足りないこと、そして、その下に「足りないのは`;`ではないか？」というコンピュータの予想が示されています。\n",
        "\n",
        ">`行:文字数`や`^`記号が示す位置は、実際にエラーを起こした文字から少しずれることがあります。<br>\n",
        ">エラーメッセージに示された位置の前後も調べるようにしましょう。\n"
      ],
      "metadata": {
        "id": "cz4QKwPOxJhW"
      }
    },
    {
      "cell_type": "markdown",
      "source": [
        "### 2.2 全角スペース\n",
        "\n",
        "全角スペースを紛れ込ませてしまうケースです。日本語を入力したあと「半角モード」に戻し忘れた場合に起こりがちです。<br>\n",
        "とはいえ、現代の大抵のプログラミング環境ではエディタが警告してくれます。そのため、比較的防ぎやすいエラーだと言えるでしょう。\n",
        "\n",
        "次のプログラムでは、`cout`の前に全角スペースが紛れ込んでいます。\n",
        "\n",
        "**コード**\n",
        "\n",
        "```cpp\n",
        "#include <iostream>\n",
        "using namespace std;\n",
        "\n",
        "int main() {\n",
        "//↓に全角スペース\n",
        "　cout << \"Hello, world!\" << endl;\n",
        "}\n",
        "```\n",
        "\n",
        "**コンパイル結果**\n",
        "\n",
        "```txt\n",
        "Main.cpp:6:1: error: extended character 　 is not valid in an identifier\n",
        "    6 | 　cout << \"Hello, world!\" << endl;\n",
        "      | ^\n",
        "Main.cpp: In function ‘int main()’:\n",
        "Main.cpp:6:1: error: ‘　cout’ was not declared in this scope\n",
        "    6 | 　cout << \"Hello, world!\" << endl;\n",
        "      | ^~~~~~\n",
        "```\n",
        "\n",
        "上記のケースでは、最初に`wide_space.cpp:6:1:`と書いてあります。この部分は、「`wide_space.cpp`の`6`行目の`1`文字目にエラーがある」ことを示しています。\n",
        "\n",
        "その後の`error:`という部分は、これが「エラーに関するメッセージ」であることを示します。そして、続く` extended character is not valid in an identifier`という部分がエラーの内容です。このエラーの場合「拡張文字は識別子として有効ではありません」という意味になります。\n",
        "\n",
        "次に「エラーが起きた行の内容」を見てみましょう。\n",
        "\n",
        "```c++\n",
        "6 | 　cout << \"Hello, world!\" << endl;\n",
        "  | ^\n",
        "```\n",
        "\n",
        "エラーの起きた文字の位置は、`^`記号の上でしたね。この例では、`cout`の前に「見えないけれどエラーになる文字」があることが予想できます。\n",
        "\n",
        "このように、`extended character`で始まるエラーは「プログラムで使えない文字が入力された」場合に表示されます。"
      ],
      "metadata": {
        "id": "2o3Zb6DdxSla"
      }
    },
    {
      "cell_type": "markdown",
      "source": [
        "### 2.3 大量のエラー・謎のエラー\n",
        "\n",
        "一つのミスで大量のエラーメッセージが出てくることもあります。また、エラーメッセージが直接的な原因を示していないことがあります。その場合は「一番最初のエラー」が指し示している場所を見て、原因を推測しましょう。\n",
        "\n",
        "次のプログラムでは`endl`の直前の`<<`を`<`と書いてしまっっています。たったそれだけのミスなのに、大量に謎のエラーメッセージが表示されます。\n",
        "\n",
        "**コード**\n",
        "\n",
        "```cpp\n",
        "#include <iostream>\n",
        "using namespace std;\n",
        "\n",
        "int main() {\n",
        "  cout << \"hello\" < endl;\n",
        "}\n",
        "```\n",
        "\n",
        "**コンパイル結果**\n",
        "\n",
        "```txt\n",
        "many_error.cpp: In function ‘int main()’:\n",
        "many_error.cpp:5:19: error: no match for ‘operator<’ (operand types are ‘std::basic_ostream<char>’ and ‘<unresolved overloaded function type>’)\n",
        "    5 |   cout << \"hello\" < endl;\n",
        "      |   ~~~~~~~~~~~~~~~~^~~~~~\n",
        "In file included from /usr/include/c++/11/bits/stl_algobase.h:64,\n",
        "                 from /usr/include/c++/11/bits/char_traits.h:39,\n",
        "                 from /usr/include/c++/11/ios:40,\n",
        "                 from /usr/include/c++/11/ostream:38,\n",
        "                 from /usr/include/c++/11/iostream:39,\n",
        "                 from many_error.cpp:1:\n",
        "/usr/include/c++/11/bits/stl_pair.h:489:5: note: candidate: ‘template<class _T1, class _T2> constexpr bool std::operator<(const std::pair<_T1, _T2>&, const std::pair<_T1, _T2>&)’\n",
        "  489 |     operator<(const pair<_T1, _T2>& __x, const pair<_T1, _T2>& __y)\n",
        "      |     ^~~~~~~~\n",
        "/usr/include/c++/11/bits/stl_pair.h:489:5: note:   template argument deduction/substitution failed:\n",
        "many_error.cpp:5:21: note:   ‘std::basic_ostream<char>’ is not derived from ‘const std::pair<_T1, _T2>’\n",
        "    5 |   cout << \"hello\" < endl;\n",
        "      |                     ^~~~\n",
        "In file included from /usr/include/c++/11/bits/stl_algobase.h:67,\n",
        "                 from /usr/include/c++/11/bits/char_traits.h:39,\n",
        "                 from /usr/include/c++/11/ios:40,\n",
        "                 from /usr/include/c++/11/ostream:38,\n",
        "                 from /usr/include/c++/11/iostream:39,\n",
        "                 from many_error.cpp:1:\n",
        "/usr/include/c++/11/bits/stl_iterator.h:426:5: note: candidate: ‘template<class _Iterator> constexpr bool std::operator<(const std::reverse_iterator<_Iterator>&, const std::reverse_iterator<_Iterator>&)’\n",
        "  426 |     operator<(const reverse_iterator<_Iterator>& __x,\n",
        "      |     ^~~~~~~~\n",
        "\n",
        "(このあと何十行もエラーメッセージが続く)\n",
        "```\n",
        "\n",
        "大量のエラーメッセージが表示された場合、とりあえず一番最初のエラーメッセージだけを見ると良いです。\n",
        "\n",
        "一番最初のエラーメッセージだけを抜き出すと、次のように表示されています。\n",
        "\n",
        "```c++\n",
        "many_error.cpp: In function ‘int main()’:\n",
        "many_error.cpp:5:19: error: no match for ‘operator<’ (operand types are ‘std::basic_ostream<char>’ and ‘<unresolved overloaded function type>’)\n",
        "    5 |   cout << \"hello\" < endl;\n",
        "      |   ~~~~~~~~~~~~~~~~^~~~~~\n",
        "```\n",
        "\n",
        "「エラーの内容」には`no match for ‘operator<’...`と書いてありますが、このエラーメッセージはあまり参考になりません。これは「ここに`<`演算子を書くことはできない」という意味ですが、このメッセージからは本当の原因が「`<<`の書き間違い」だとは分からないでしょう。\n",
        "\n",
        "このように、エラーメッセージの内容がよくわからない場合でも、「エラーの起きた行や文字の位置」は参考になることが多いです。<br>\n",
        "この場合は`many_error.cpp:5:19:`と書いてあるので、「`many_error.cpp`の`5`行目`19`文字目」でエラーが発生していることがわかります。\n",
        "\n",
        "また、「エラーが起きた行の内容」は次のように表示されています。\n",
        "\n",
        "```c++\n",
        "5 |   cout << \"hello\" < endl;\n",
        "  |   ~~~~~~~~~~~~~~~~~~~~~~\n",
        "```\n",
        "\n",
        "エラーの発生箇所をよく見れば、`<<`を`<`と書き間違えていることに気づくと思います。<br>\n",
        "コンパイルエラーを直す際は、「エラーの発生箇所から原因を推測する」ことも大切です。\n",
        "\n",
        ">コンパイラによっては、最初のエラーメッセージが大本のエラー発生位置を示さない場合があります。<br>\n",
        ">その場合は「ファイル名」が「自分で作成した覚えのあるファイル名」になっているメッセージを探してください。"
      ],
      "metadata": {
        "id": "MIwafQQR0XOe"
      }
    },
    {
      "cell_type": "markdown",
      "source": [
        "\n",
        "### 2.4 エラーの原因がひとつではない場合\n",
        "\n",
        "プログラムをコンパイルすると、原因の異なる複数のエラーについてメッセージが表示される場合があります。<br>\n",
        "このような場合は、最初の方に表示されたエラーメッセージの原因から解決していきます。\n",
        "\n",
        "**コード**\n",
        "\n",
        "```cpp\n",
        "#include <iostream>\n",
        "using namespace std;\n",
        "\n",
        "int main() {\n",
        "  cout << \"hello\" <　endl\n",
        "}\n",
        "```\n",
        "\n",
        "**コンパイル結果**\n",
        "\n",
        "```txt\n",
        "Main.cpp:5:20: error: extended character 　 is not valid in an identifier\n",
        "    5 |   cout << \"hello\" <　endl\n",
        "      |                    ^\n",
        "Main.cpp: In function ‘int main()’:\n",
        "Main.cpp:5:20: error: ‘　endl’ was not declared in this scope\n",
        "    5 |   cout << \"hello\" <　endl\n",
        "      |                    ^~~~~~\n",
        "```\n",
        "\n",
        "最初のエラーメッセージは`extended character is ...`です。これは「何かプログラムで使えない文字が入力された」というエラーでしたね。そして、エラー行の内容を見ると`5`行目の`endl`の手前に何かあるようです。\n",
        "\n",
        "こうして、最初のエラーメッセージを修正し、修正したらまたコンパイルして結果を確認する、という作業を繰り返します。最初のほうから修正するのは、残りのエラーメッセージが、実は「最初のエラーが原因で連鎖的に起きていた」ということが多いためです。"
      ],
      "metadata": {
        "id": "-DrnFI_Q1AJW"
      }
    },
    {
      "cell_type": "markdown",
      "source": [
        "## 3 練習問題\n",
        "\n",
        "以下の手順にしたがって、3つのプログラムのエラーを修正しなさい。<br>\n",
        "正しく修正できていれば、出力セルには`AC`とだけ表示されます。<br>\n",
        "間違っている場合は`WA`と表示されます。\n",
        "\n",
        "1. `%%writefile ...`の下の行からがプログラムです。プログラムを修正します。\n",
        "2. プログラムを修正したら、セルの右側にある`▶`をクリックします。すると、ファイルが保存されます。\n",
        "3. 「実行」セルをクリックすると、下側に`▶`が表示されます。<br>\n",
        "   表示された`▶`クリックすると、2で保存したファイルがコンパイル＆実行され、実行結果が表示されます。\n",
        "4. 実行結果が`AC`だけになったら修正完了です。次の問題に進んでください。"
      ],
      "metadata": {
        "id": "Suv7vhz84S51"
      }
    },
    {
      "cell_type": "markdown",
      "source": [
        "\n",
        "### 問題1\n",
        "\n",
        "以下のプログラムのエラーを修正しなさい。"
      ],
      "metadata": {
        "id": "UV0Env4ZzSsr"
      }
    },
    {
      "cell_type": "code",
      "source": [
        "%%writefile practice_01.cpp\n",
        "#include <iostream>\n",
        "using namespace std;\n",
        "\n",
        "int main() {\n",
        "  int a = 2;\n",
        "  int b = 3\n",
        "  int c = a + b\n",
        "  cout << c << endl;\n",
        "}"
      ],
      "metadata": {
        "id": "cfuA4-5fHG6q"
      },
      "execution_count": null,
      "outputs": []
    },
    {
      "cell_type": "code",
      "source": [
        "# @title 実行\n",
        "!echo 5 > b.txt\n",
        "!g++ practice_01.cpp -o practice_01 -Wall && ./practice_01 > a.txt && diff a.txt b.txt > nil && test $? -eq 0 && echo -e \"\\033[32;1mAC\" || echo -e \"\\033[31;1mWA\""
      ],
      "metadata": {
        "colab": {
          "base_uri": "https://localhost:8080/"
        },
        "id": "vAaUNyQUHeOf",
        "outputId": "cc108161-1156-4176-981c-76d4b2f7d7e0",
        "cellView": "form"
      },
      "execution_count": null,
      "outputs": [
        {
          "output_type": "stream",
          "name": "stdout",
          "text": [
            "\u001b[01m\u001b[Kpractice_01.cpp:\u001b[m\u001b[K In function ‘\u001b[01m\u001b[Kint main()\u001b[m\u001b[K’:\n",
            "\u001b[01m\u001b[Kpractice_01.cpp:7:3:\u001b[m\u001b[K \u001b[01;31m\u001b[Kerror: \u001b[m\u001b[Kexpected ‘\u001b[01m\u001b[K,\u001b[m\u001b[K’ or ‘\u001b[01m\u001b[K;\u001b[m\u001b[K’ before ‘\u001b[01m\u001b[Kint\u001b[m\u001b[K’\n",
            "    7 |   \u001b[01;31m\u001b[Kint\u001b[m\u001b[K c = a + b\n",
            "      |   \u001b[01;31m\u001b[K^~~\u001b[m\u001b[K\n",
            "\u001b[01m\u001b[Kpractice_01.cpp:5:7:\u001b[m\u001b[K \u001b[01;35m\u001b[Kwarning: \u001b[m\u001b[Kunused variable ‘\u001b[01m\u001b[Ka\u001b[m\u001b[K’ [\u001b[01;35m\u001b[K\u001b]8;;https://gcc.gnu.org/onlinedocs/gcc/Warning-Options.html#index-Wunused-variable\u0007-Wunused-variable\u001b]8;;\u0007\u001b[m\u001b[K]\n",
            "    5 |   int \u001b[01;35m\u001b[Ka\u001b[m\u001b[K = 2;\n",
            "      |       \u001b[01;35m\u001b[K^\u001b[m\u001b[K\n",
            "\u001b[01m\u001b[Kpractice_01.cpp:6:7:\u001b[m\u001b[K \u001b[01;35m\u001b[Kwarning: \u001b[m\u001b[Kunused variable ‘\u001b[01m\u001b[Kb\u001b[m\u001b[K’ [\u001b[01;35m\u001b[K\u001b]8;;https://gcc.gnu.org/onlinedocs/gcc/Warning-Options.html#index-Wunused-variable\u0007-Wunused-variable\u001b]8;;\u0007\u001b[m\u001b[K]\n",
            "    6 |   int \u001b[01;35m\u001b[Kb\u001b[m\u001b[K = 3\n",
            "      |       \u001b[01;35m\u001b[K^\u001b[m\u001b[K\n",
            "WA\n"
          ]
        }
      ]
    },
    {
      "cell_type": "markdown",
      "source": [
        "### 問題2\n",
        "\n",
        "以下のプログラムのエラーを修正しなさい。"
      ],
      "metadata": {
        "id": "G5CeTw5crJ68"
      }
    },
    {
      "cell_type": "code",
      "source": [
        "%%writefile practice_02.cpp\n",
        "#include <iostream>\n",
        "using namespace std;\n",
        "\n",
        "int main() {\n",
        "  const char a[] = \"Hello\";\n",
        "  const char b[] = \"World\";\n",
        "  cout << a << ' ' << b < endl;\n",
        "}"
      ],
      "metadata": {
        "id": "zqndhnk_rLxV"
      },
      "execution_count": null,
      "outputs": []
    },
    {
      "cell_type": "code",
      "source": [
        "# @title 実行\n",
        "!echo \"Hello World\" > b.txt\n",
        "!g++ practice_02.cpp -o practice_02 -Wall && ./practice_02 > a.txt && diff a.txt b.txt > nil && test $? -eq 0 && echo -e \"\\033[32;1mAC\" || echo -e \"\\033[31;1mWA\""
      ],
      "metadata": {
        "colab": {
          "base_uri": "https://localhost:8080/"
        },
        "id": "HJQPC3MJr1-X",
        "outputId": "8a71204a-212c-4c5c-863d-c98d11a8e2c4",
        "cellView": "form"
      },
      "execution_count": null,
      "outputs": [
        {
          "output_type": "stream",
          "name": "stdout",
          "text": [
            "\u001b[01m\u001b[Kpractice_02.cpp:\u001b[m\u001b[K In function ‘\u001b[01m\u001b[Kint main()\u001b[m\u001b[K’:\n",
            "\u001b[01m\u001b[Kpractice_02.cpp:7:25:\u001b[m\u001b[K \u001b[01;31m\u001b[Kerror: \u001b[m\u001b[Kno match for ‘\u001b[01m\u001b[Koperator<\u001b[m\u001b[K’ (operand types are ‘\u001b[01m\u001b[Kstd::basic_ostream<char>\u001b[m\u001b[K’ and ‘\u001b[01m\u001b[K<unresolved overloaded function type>\u001b[m\u001b[K’)\n",
            "    7 |   \u001b[01;31m\u001b[Kcout << a << ' ' << b < endl\u001b[m\u001b[K;\n",
            "      |   \u001b[01;31m\u001b[K~~~~~~~~~~~~~~~~~~~~~~^~~~~~\u001b[m\u001b[K\n",
            "In file included from \u001b[01m\u001b[K/usr/include/c++/11/bits/stl_algobase.h:64\u001b[m\u001b[K,\n",
            "                 from \u001b[01m\u001b[K/usr/include/c++/11/bits/char_traits.h:39\u001b[m\u001b[K,\n",
            "                 from \u001b[01m\u001b[K/usr/include/c++/11/ios:40\u001b[m\u001b[K,\n",
            "                 from \u001b[01m\u001b[K/usr/include/c++/11/ostream:38\u001b[m\u001b[K,\n",
            "                 from \u001b[01m\u001b[K/usr/include/c++/11/iostream:39\u001b[m\u001b[K,\n",
            "                 from \u001b[01m\u001b[Kpractice_02.cpp:1\u001b[m\u001b[K:\n",
            "\u001b[01m\u001b[K/usr/include/c++/11/bits/stl_pair.h:489:5:\u001b[m\u001b[K \u001b[01;36m\u001b[Knote: \u001b[m\u001b[Kcandidate: ‘\u001b[01m\u001b[Ktemplate<class _T1, class _T2> constexpr bool std::operator<(const std::pair<_T1, _T2>&, const std::pair<_T1, _T2>&)\u001b[m\u001b[K’\n",
            "  489 |     \u001b[01;36m\u001b[Koperator\u001b[m\u001b[K<(const pair<_T1, _T2>& __x, const pair<_T1, _T2>& __y)\n",
            "      |     \u001b[01;36m\u001b[K^~~~~~~~\u001b[m\u001b[K\n",
            "\u001b[01m\u001b[K/usr/include/c++/11/bits/stl_pair.h:489:5:\u001b[m\u001b[K \u001b[01;36m\u001b[Knote: \u001b[m\u001b[K  template argument deduction/substitution failed:\n",
            "\u001b[01m\u001b[Kpractice_02.cpp:7:27:\u001b[m\u001b[K \u001b[01;36m\u001b[Knote: \u001b[m\u001b[K  ‘\u001b[01m\u001b[Kstd::basic_ostream<char>\u001b[m\u001b[K’ is not derived from ‘\u001b[01m\u001b[Kconst std::pair<_T1, _T2>\u001b[m\u001b[K’\n",
            "    7 |   cout << a << ' ' << b < \u001b[01;36m\u001b[Kendl\u001b[m\u001b[K;\n",
            "      |                           \u001b[01;36m\u001b[K^~~~\u001b[m\u001b[K\n",
            "In file included from \u001b[01m\u001b[K/usr/include/c++/11/bits/stl_algobase.h:67\u001b[m\u001b[K,\n",
            "                 from \u001b[01m\u001b[K/usr/include/c++/11/bits/char_traits.h:39\u001b[m\u001b[K,\n",
            "                 from \u001b[01m\u001b[K/usr/include/c++/11/ios:40\u001b[m\u001b[K,\n",
            "                 from \u001b[01m\u001b[K/usr/include/c++/11/ostream:38\u001b[m\u001b[K,\n",
            "                 from \u001b[01m\u001b[K/usr/include/c++/11/iostream:39\u001b[m\u001b[K,\n",
            "                 from \u001b[01m\u001b[Kpractice_02.cpp:1\u001b[m\u001b[K:\n",
            "\u001b[01m\u001b[K/usr/include/c++/11/bits/stl_iterator.h:426:5:\u001b[m\u001b[K \u001b[01;36m\u001b[Knote: \u001b[m\u001b[Kcandidate: ‘\u001b[01m\u001b[Ktemplate<class _Iterator> constexpr bool std::operator<(const std::reverse_iterator<_Iterator>&, const std::reverse_iterator<_Iterator>&)\u001b[m\u001b[K’\n",
            "  426 |     \u001b[01;36m\u001b[Koperator\u001b[m\u001b[K<(const reverse_iterator<_Iterator>& __x,\n",
            "      |     \u001b[01;36m\u001b[K^~~~~~~~\u001b[m\u001b[K\n",
            "\u001b[01m\u001b[K/usr/include/c++/11/bits/stl_iterator.h:426:5:\u001b[m\u001b[K \u001b[01;36m\u001b[Knote: \u001b[m\u001b[K  template argument deduction/substitution failed:\n",
            "\u001b[01m\u001b[Kpractice_02.cpp:7:27:\u001b[m\u001b[K \u001b[01;36m\u001b[Knote: \u001b[m\u001b[K  ‘\u001b[01m\u001b[Kstd::basic_ostream<char>\u001b[m\u001b[K’ is not derived from ‘\u001b[01m\u001b[Kconst std::reverse_iterator<_Iterator>\u001b[m\u001b[K’\n",
            "    7 |   cout << a << ' ' << b < \u001b[01;36m\u001b[Kendl\u001b[m\u001b[K;\n",
            "      |                           \u001b[01;36m\u001b[K^~~~\u001b[m\u001b[K\n",
            "In file included from \u001b[01m\u001b[K/usr/include/c++/11/bits/stl_algobase.h:67\u001b[m\u001b[K,\n",
            "                 from \u001b[01m\u001b[K/usr/include/c++/11/bits/char_traits.h:39\u001b[m\u001b[K,\n",
            "                 from \u001b[01m\u001b[K/usr/include/c++/11/ios:40\u001b[m\u001b[K,\n",
            "                 from \u001b[01m\u001b[K/usr/include/c++/11/ostream:38\u001b[m\u001b[K,\n",
            "                 from \u001b[01m\u001b[K/usr/include/c++/11/iostream:39\u001b[m\u001b[K,\n",
            "                 from \u001b[01m\u001b[Kpractice_02.cpp:1\u001b[m\u001b[K:\n",
            "\u001b[01m\u001b[K/usr/include/c++/11/bits/stl_iterator.h:465:5:\u001b[m\u001b[K \u001b[01;36m\u001b[Knote: \u001b[m\u001b[Kcandidate: ‘\u001b[01m\u001b[Ktemplate<class _IteratorL, class _IteratorR> constexpr bool std::operator<(const std::reverse_iterator<_Iterator>&, const std::reverse_iterator<_IteratorR>&)\u001b[m\u001b[K’\n",
            "  465 |     \u001b[01;36m\u001b[Koperator\u001b[m\u001b[K<(const reverse_iterator<_IteratorL>& __x,\n",
            "      |     \u001b[01;36m\u001b[K^~~~~~~~\u001b[m\u001b[K\n",
            "\u001b[01m\u001b[K/usr/include/c++/11/bits/stl_iterator.h:465:5:\u001b[m\u001b[K \u001b[01;36m\u001b[Knote: \u001b[m\u001b[K  template argument deduction/substitution failed:\n",
            "\u001b[01m\u001b[Kpractice_02.cpp:7:27:\u001b[m\u001b[K \u001b[01;36m\u001b[Knote: \u001b[m\u001b[K  ‘\u001b[01m\u001b[Kstd::basic_ostream<char>\u001b[m\u001b[K’ is not derived from ‘\u001b[01m\u001b[Kconst std::reverse_iterator<_Iterator>\u001b[m\u001b[K’\n",
            "    7 |   cout << a << ' ' << b < \u001b[01;36m\u001b[Kendl\u001b[m\u001b[K;\n",
            "      |                           \u001b[01;36m\u001b[K^~~~\u001b[m\u001b[K\n",
            "In file included from \u001b[01m\u001b[K/usr/include/c++/11/bits/stl_algobase.h:67\u001b[m\u001b[K,\n",
            "                 from \u001b[01m\u001b[K/usr/include/c++/11/bits/char_traits.h:39\u001b[m\u001b[K,\n",
            "                 from \u001b[01m\u001b[K/usr/include/c++/11/ios:40\u001b[m\u001b[K,\n",
            "                 from \u001b[01m\u001b[K/usr/include/c++/11/ostream:38\u001b[m\u001b[K,\n",
            "                 from \u001b[01m\u001b[K/usr/include/c++/11/iostream:39\u001b[m\u001b[K,\n",
            "                 from \u001b[01m\u001b[Kpractice_02.cpp:1\u001b[m\u001b[K:\n",
            "\u001b[01m\u001b[K/usr/include/c++/11/bits/stl_iterator.h:1609:5:\u001b[m\u001b[K \u001b[01;36m\u001b[Knote: \u001b[m\u001b[Kcandidate: ‘\u001b[01m\u001b[Ktemplate<class _IteratorL, class _IteratorR> constexpr bool std::operator<(const std::move_iterator<_IteratorL>&, const std::move_iterator<_IteratorR>&)\u001b[m\u001b[K’\n",
            " 1609 |     \u001b[01;36m\u001b[Koperator\u001b[m\u001b[K<(const move_iterator<_IteratorL>& __x,\n",
            "      |     \u001b[01;36m\u001b[K^~~~~~~~\u001b[m\u001b[K\n",
            "\u001b[01m\u001b[K/usr/include/c++/11/bits/stl_iterator.h:1609:5:\u001b[m\u001b[K \u001b[01;36m\u001b[Knote: \u001b[m\u001b[K  template argument deduction/substitution failed:\n",
            "\u001b[01m\u001b[Kpractice_02.cpp:7:27:\u001b[m\u001b[K \u001b[01;36m\u001b[Knote: \u001b[m\u001b[K  ‘\u001b[01m\u001b[Kstd::basic_ostream<char>\u001b[m\u001b[K’ is not derived from ‘\u001b[01m\u001b[Kconst std::move_iterator<_IteratorL>\u001b[m\u001b[K’\n",
            "    7 |   cout << a << ' ' << b < \u001b[01;36m\u001b[Kendl\u001b[m\u001b[K;\n",
            "      |                           \u001b[01;36m\u001b[K^~~~\u001b[m\u001b[K\n",
            "In file included from \u001b[01m\u001b[K/usr/include/c++/11/bits/stl_algobase.h:67\u001b[m\u001b[K,\n",
            "                 from \u001b[01m\u001b[K/usr/include/c++/11/bits/char_traits.h:39\u001b[m\u001b[K,\n",
            "                 from \u001b[01m\u001b[K/usr/include/c++/11/ios:40\u001b[m\u001b[K,\n",
            "                 from \u001b[01m\u001b[K/usr/include/c++/11/ostream:38\u001b[m\u001b[K,\n",
            "                 from \u001b[01m\u001b[K/usr/include/c++/11/iostream:39\u001b[m\u001b[K,\n",
            "                 from \u001b[01m\u001b[Kpractice_02.cpp:1\u001b[m\u001b[K:\n",
            "\u001b[01m\u001b[K/usr/include/c++/11/bits/stl_iterator.h:1667:5:\u001b[m\u001b[K \u001b[01;36m\u001b[Knote: \u001b[m\u001b[Kcandidate: ‘\u001b[01m\u001b[Ktemplate<class _Iterator> constexpr bool std::operator<(const std::move_iterator<_IteratorL>&, const std::move_iterator<_IteratorL>&)\u001b[m\u001b[K’\n",
            " 1667 |     \u001b[01;36m\u001b[Koperator\u001b[m\u001b[K<(const move_iterator<_Iterator>& __x,\n",
            "      |     \u001b[01;36m\u001b[K^~~~~~~~\u001b[m\u001b[K\n",
            "\u001b[01m\u001b[K/usr/include/c++/11/bits/stl_iterator.h:1667:5:\u001b[m\u001b[K \u001b[01;36m\u001b[Knote: \u001b[m\u001b[K  template argument deduction/substitution failed:\n",
            "\u001b[01m\u001b[Kpractice_02.cpp:7:27:\u001b[m\u001b[K \u001b[01;36m\u001b[Knote: \u001b[m\u001b[K  ‘\u001b[01m\u001b[Kstd::basic_ostream<char>\u001b[m\u001b[K’ is not derived from ‘\u001b[01m\u001b[Kconst std::move_iterator<_IteratorL>\u001b[m\u001b[K’\n",
            "    7 |   cout << a << ' ' << b < \u001b[01;36m\u001b[Kendl\u001b[m\u001b[K;\n",
            "      |                           \u001b[01;36m\u001b[K^~~~\u001b[m\u001b[K\n",
            "In file included from \u001b[01m\u001b[K/usr/include/c++/11/bits/basic_string.h:48\u001b[m\u001b[K,\n",
            "                 from \u001b[01m\u001b[K/usr/include/c++/11/string:55\u001b[m\u001b[K,\n",
            "                 from \u001b[01m\u001b[K/usr/include/c++/11/bits/locale_classes.h:40\u001b[m\u001b[K,\n",
            "                 from \u001b[01m\u001b[K/usr/include/c++/11/bits/ios_base.h:41\u001b[m\u001b[K,\n",
            "                 from \u001b[01m\u001b[K/usr/include/c++/11/ios:42\u001b[m\u001b[K,\n",
            "                 from \u001b[01m\u001b[K/usr/include/c++/11/ostream:38\u001b[m\u001b[K,\n",
            "                 from \u001b[01m\u001b[K/usr/include/c++/11/iostream:39\u001b[m\u001b[K,\n",
            "                 from \u001b[01m\u001b[Kpractice_02.cpp:1\u001b[m\u001b[K:\n",
            "\u001b[01m\u001b[K/usr/include/c++/11/string_view:589:5:\u001b[m\u001b[K \u001b[01;36m\u001b[Knote: \u001b[m\u001b[Kcandidate: ‘\u001b[01m\u001b[Ktemplate<class _CharT, class _Traits> constexpr bool std::operator<(std::basic_string_view<_CharT, _Traits>, std::basic_string_view<_CharT, _Traits>)\u001b[m\u001b[K’\n",
            "  589 |     \u001b[01;36m\u001b[Koperator\u001b[m\u001b[K< (basic_string_view<_CharT, _Traits> __x,\n",
            "      |     \u001b[01;36m\u001b[K^~~~~~~~\u001b[m\u001b[K\n",
            "\u001b[01m\u001b[K/usr/include/c++/11/string_view:589:5:\u001b[m\u001b[K \u001b[01;36m\u001b[Knote: \u001b[m\u001b[K  template argument deduction/substitution failed:\n",
            "\u001b[01m\u001b[Kpractice_02.cpp:7:27:\u001b[m\u001b[K \u001b[01;36m\u001b[Knote: \u001b[m\u001b[K  ‘\u001b[01m\u001b[Kstd::basic_ostream<char>\u001b[m\u001b[K’ is not derived from ‘\u001b[01m\u001b[Kstd::basic_string_view<_CharT, _Traits>\u001b[m\u001b[K’\n",
            "    7 |   cout << a << ' ' << b < \u001b[01;36m\u001b[Kendl\u001b[m\u001b[K;\n",
            "      |                           \u001b[01;36m\u001b[K^~~~\u001b[m\u001b[K\n",
            "In file included from \u001b[01m\u001b[K/usr/include/c++/11/bits/basic_string.h:48\u001b[m\u001b[K,\n",
            "                 from \u001b[01m\u001b[K/usr/include/c++/11/string:55\u001b[m\u001b[K,\n",
            "                 from \u001b[01m\u001b[K/usr/include/c++/11/bits/locale_classes.h:40\u001b[m\u001b[K,\n",
            "                 from \u001b[01m\u001b[K/usr/include/c++/11/bits/ios_base.h:41\u001b[m\u001b[K,\n",
            "                 from \u001b[01m\u001b[K/usr/include/c++/11/ios:42\u001b[m\u001b[K,\n",
            "                 from \u001b[01m\u001b[K/usr/include/c++/11/ostream:38\u001b[m\u001b[K,\n",
            "                 from \u001b[01m\u001b[K/usr/include/c++/11/iostream:39\u001b[m\u001b[K,\n",
            "                 from \u001b[01m\u001b[Kpractice_02.cpp:1\u001b[m\u001b[K:\n",
            "\u001b[01m\u001b[K/usr/include/c++/11/string_view:595:5:\u001b[m\u001b[K \u001b[01;36m\u001b[Knote: \u001b[m\u001b[Kcandidate: ‘\u001b[01m\u001b[Ktemplate<class _CharT, class _Traits> constexpr bool std::operator<(std::basic_string_view<_CharT, _Traits>, std::__type_identity_t<std::basic_string_view<_CharT, _Traits> >)\u001b[m\u001b[K’\n",
            "  595 |     \u001b[01;36m\u001b[Koperator\u001b[m\u001b[K< (basic_string_view<_CharT, _Traits> __x,\n",
            "      |     \u001b[01;36m\u001b[K^~~~~~~~\u001b[m\u001b[K\n",
            "\u001b[01m\u001b[K/usr/include/c++/11/string_view:595:5:\u001b[m\u001b[K \u001b[01;36m\u001b[Knote: \u001b[m\u001b[K  template argument deduction/substitution failed:\n",
            "\u001b[01m\u001b[Kpractice_02.cpp:7:27:\u001b[m\u001b[K \u001b[01;36m\u001b[Knote: \u001b[m\u001b[K  ‘\u001b[01m\u001b[Kstd::basic_ostream<char>\u001b[m\u001b[K’ is not derived from ‘\u001b[01m\u001b[Kstd::basic_string_view<_CharT, _Traits>\u001b[m\u001b[K’\n",
            "    7 |   cout << a << ' ' << b < \u001b[01;36m\u001b[Kendl\u001b[m\u001b[K;\n",
            "      |                           \u001b[01;36m\u001b[K^~~~\u001b[m\u001b[K\n",
            "In file included from \u001b[01m\u001b[K/usr/include/c++/11/bits/basic_string.h:48\u001b[m\u001b[K,\n",
            "                 from \u001b[01m\u001b[K/usr/include/c++/11/string:55\u001b[m\u001b[K,\n",
            "                 from \u001b[01m\u001b[K/usr/include/c++/11/bits/locale_classes.h:40\u001b[m\u001b[K,\n",
            "                 from \u001b[01m\u001b[K/usr/include/c++/11/bits/ios_base.h:41\u001b[m\u001b[K,\n",
            "                 from \u001b[01m\u001b[K/usr/include/c++/11/ios:42\u001b[m\u001b[K,\n",
            "                 from \u001b[01m\u001b[K/usr/include/c++/11/ostream:38\u001b[m\u001b[K,\n",
            "                 from \u001b[01m\u001b[K/usr/include/c++/11/iostream:39\u001b[m\u001b[K,\n",
            "                 from \u001b[01m\u001b[Kpractice_02.cpp:1\u001b[m\u001b[K:\n",
            "\u001b[01m\u001b[K/usr/include/c++/11/string_view:602:5:\u001b[m\u001b[K \u001b[01;36m\u001b[Knote: \u001b[m\u001b[Kcandidate: ‘\u001b[01m\u001b[Ktemplate<class _CharT, class _Traits> constexpr bool std::operator<(std::__type_identity_t<std::basic_string_view<_CharT, _Traits> >, std::basic_string_view<_CharT, _Traits>)\u001b[m\u001b[K’\n",
            "  602 |     \u001b[01;36m\u001b[Koperator\u001b[m\u001b[K< (__type_identity_t<basic_string_view<_CharT, _Traits>> __x,\n",
            "      |     \u001b[01;36m\u001b[K^~~~~~~~\u001b[m\u001b[K\n",
            "\u001b[01m\u001b[K/usr/include/c++/11/string_view:602:5:\u001b[m\u001b[K \u001b[01;36m\u001b[Knote: \u001b[m\u001b[K  template argument deduction/substitution failed:\n",
            "\u001b[01m\u001b[Kpractice_02.cpp:7:27:\u001b[m\u001b[K \u001b[01;36m\u001b[Knote: \u001b[m\u001b[K  couldn’t deduce template parameter ‘\u001b[01m\u001b[K_CharT\u001b[m\u001b[K’\n",
            "    7 |   cout << a << ' ' << b < \u001b[01;36m\u001b[Kendl\u001b[m\u001b[K;\n",
            "      |                           \u001b[01;36m\u001b[K^~~~\u001b[m\u001b[K\n",
            "In file included from \u001b[01m\u001b[K/usr/include/c++/11/string:55\u001b[m\u001b[K,\n",
            "                 from \u001b[01m\u001b[K/usr/include/c++/11/bits/locale_classes.h:40\u001b[m\u001b[K,\n",
            "                 from \u001b[01m\u001b[K/usr/include/c++/11/bits/ios_base.h:41\u001b[m\u001b[K,\n",
            "                 from \u001b[01m\u001b[K/usr/include/c++/11/ios:42\u001b[m\u001b[K,\n",
            "                 from \u001b[01m\u001b[K/usr/include/c++/11/ostream:38\u001b[m\u001b[K,\n",
            "                 from \u001b[01m\u001b[K/usr/include/c++/11/iostream:39\u001b[m\u001b[K,\n",
            "                 from \u001b[01m\u001b[Kpractice_02.cpp:1\u001b[m\u001b[K:\n",
            "\u001b[01m\u001b[K/usr/include/c++/11/bits/basic_string.h:6340:5:\u001b[m\u001b[K \u001b[01;36m\u001b[Knote: \u001b[m\u001b[Kcandidate: ‘\u001b[01m\u001b[Ktemplate<class _CharT, class _Traits, class _Alloc> bool std::operator<(const std::__cxx11::basic_string<_CharT, _Traits, _Allocator>&, const std::__cxx11::basic_string<_CharT, _Traits, _Allocator>&)\u001b[m\u001b[K’\n",
            " 6340 |     \u001b[01;36m\u001b[Koperator\u001b[m\u001b[K<(const basic_string<_CharT, _Traits, _Alloc>& __lhs,\n",
            "      |     \u001b[01;36m\u001b[K^~~~~~~~\u001b[m\u001b[K\n",
            "\u001b[01m\u001b[K/usr/include/c++/11/bits/basic_string.h:6340:5:\u001b[m\u001b[K \u001b[01;36m\u001b[Knote: \u001b[m\u001b[K  template argument deduction/substitution failed:\n",
            "\u001b[01m\u001b[Kpractice_02.cpp:7:27:\u001b[m\u001b[K \u001b[01;36m\u001b[Knote: \u001b[m\u001b[K  ‘\u001b[01m\u001b[Kstd::basic_ostream<char>\u001b[m\u001b[K’ is not derived from ‘\u001b[01m\u001b[Kconst std::__cxx11::basic_string<_CharT, _Traits, _Allocator>\u001b[m\u001b[K’\n",
            "    7 |   cout << a << ' ' << b < \u001b[01;36m\u001b[Kendl\u001b[m\u001b[K;\n",
            "      |                           \u001b[01;36m\u001b[K^~~~\u001b[m\u001b[K\n",
            "In file included from \u001b[01m\u001b[K/usr/include/c++/11/string:55\u001b[m\u001b[K,\n",
            "                 from \u001b[01m\u001b[K/usr/include/c++/11/bits/locale_classes.h:40\u001b[m\u001b[K,\n",
            "                 from \u001b[01m\u001b[K/usr/include/c++/11/bits/ios_base.h:41\u001b[m\u001b[K,\n",
            "                 from \u001b[01m\u001b[K/usr/include/c++/11/ios:42\u001b[m\u001b[K,\n",
            "                 from \u001b[01m\u001b[K/usr/include/c++/11/ostream:38\u001b[m\u001b[K,\n",
            "                 from \u001b[01m\u001b[K/usr/include/c++/11/iostream:39\u001b[m\u001b[K,\n",
            "                 from \u001b[01m\u001b[Kpractice_02.cpp:1\u001b[m\u001b[K:\n",
            "\u001b[01m\u001b[K/usr/include/c++/11/bits/basic_string.h:6353:5:\u001b[m\u001b[K \u001b[01;36m\u001b[Knote: \u001b[m\u001b[Kcandidate: ‘\u001b[01m\u001b[Ktemplate<class _CharT, class _Traits, class _Alloc> bool std::operator<(const std::__cxx11::basic_string<_CharT, _Traits, _Allocator>&, const _CharT*)\u001b[m\u001b[K’\n",
            " 6353 |     \u001b[01;36m\u001b[Koperator\u001b[m\u001b[K<(const basic_string<_CharT, _Traits, _Alloc>& __lhs,\n",
            "      |     \u001b[01;36m\u001b[K^~~~~~~~\u001b[m\u001b[K\n",
            "\u001b[01m\u001b[K/usr/include/c++/11/bits/basic_string.h:6353:5:\u001b[m\u001b[K \u001b[01;36m\u001b[Knote: \u001b[m\u001b[K  template argument deduction/substitution failed:\n",
            "\u001b[01m\u001b[Kpractice_02.cpp:7:27:\u001b[m\u001b[K \u001b[01;36m\u001b[Knote: \u001b[m\u001b[K  ‘\u001b[01m\u001b[Kstd::basic_ostream<char>\u001b[m\u001b[K’ is not derived from ‘\u001b[01m\u001b[Kconst std::__cxx11::basic_string<_CharT, _Traits, _Allocator>\u001b[m\u001b[K’\n",
            "    7 |   cout << a << ' ' << b < \u001b[01;36m\u001b[Kendl\u001b[m\u001b[K;\n",
            "      |                           \u001b[01;36m\u001b[K^~~~\u001b[m\u001b[K\n",
            "In file included from \u001b[01m\u001b[K/usr/include/c++/11/string:55\u001b[m\u001b[K,\n",
            "                 from \u001b[01m\u001b[K/usr/include/c++/11/bits/locale_classes.h:40\u001b[m\u001b[K,\n",
            "                 from \u001b[01m\u001b[K/usr/include/c++/11/bits/ios_base.h:41\u001b[m\u001b[K,\n",
            "                 from \u001b[01m\u001b[K/usr/include/c++/11/ios:42\u001b[m\u001b[K,\n",
            "                 from \u001b[01m\u001b[K/usr/include/c++/11/ostream:38\u001b[m\u001b[K,\n",
            "                 from \u001b[01m\u001b[K/usr/include/c++/11/iostream:39\u001b[m\u001b[K,\n",
            "                 from \u001b[01m\u001b[Kpractice_02.cpp:1\u001b[m\u001b[K:\n",
            "\u001b[01m\u001b[K/usr/include/c++/11/bits/basic_string.h:6365:5:\u001b[m\u001b[K \u001b[01;36m\u001b[Knote: \u001b[m\u001b[Kcandidate: ‘\u001b[01m\u001b[Ktemplate<class _CharT, class _Traits, class _Alloc> bool std::operator<(const _CharT*, const std::__cxx11::basic_string<_CharT, _Traits, _Allocator>&)\u001b[m\u001b[K’\n",
            " 6365 |     \u001b[01;36m\u001b[Koperator\u001b[m\u001b[K<(const _CharT* __lhs,\n",
            "      |     \u001b[01;36m\u001b[K^~~~~~~~\u001b[m\u001b[K\n",
            "\u001b[01m\u001b[K/usr/include/c++/11/bits/basic_string.h:6365:5:\u001b[m\u001b[K \u001b[01;36m\u001b[Knote: \u001b[m\u001b[K  template argument deduction/substitution failed:\n",
            "\u001b[01m\u001b[Kpractice_02.cpp:7:27:\u001b[m\u001b[K \u001b[01;36m\u001b[Knote: \u001b[m\u001b[K  mismatched types ‘\u001b[01m\u001b[Kconst _CharT*\u001b[m\u001b[K’ and ‘\u001b[01m\u001b[Kstd::basic_ostream<char>\u001b[m\u001b[K’\n",
            "    7 |   cout << a << ' ' << b < \u001b[01;36m\u001b[Kendl\u001b[m\u001b[K;\n",
            "      |                           \u001b[01;36m\u001b[K^~~~\u001b[m\u001b[K\n",
            "In file included from \u001b[01m\u001b[K/usr/include/c++/11/bits/ios_base.h:46\u001b[m\u001b[K,\n",
            "                 from \u001b[01m\u001b[K/usr/include/c++/11/ios:42\u001b[m\u001b[K,\n",
            "                 from \u001b[01m\u001b[K/usr/include/c++/11/ostream:38\u001b[m\u001b[K,\n",
            "                 from \u001b[01m\u001b[K/usr/include/c++/11/iostream:39\u001b[m\u001b[K,\n",
            "                 from \u001b[01m\u001b[Kpractice_02.cpp:1\u001b[m\u001b[K:\n",
            "\u001b[01m\u001b[K/usr/include/c++/11/system_error:269:3:\u001b[m\u001b[K \u001b[01;36m\u001b[Knote: \u001b[m\u001b[Kcandidate: ‘\u001b[01m\u001b[Kbool std::operator<(const std::error_code&, const std::error_code&)\u001b[m\u001b[K’\n",
            "  269 |   \u001b[01;36m\u001b[Koperator\u001b[m\u001b[K<(const error_code& __lhs, const error_code& __rhs) noexcept\n",
            "      |   \u001b[01;36m\u001b[K^~~~~~~~\u001b[m\u001b[K\n",
            "\u001b[01m\u001b[K/usr/include/c++/11/system_error:269:31:\u001b[m\u001b[K \u001b[01;36m\u001b[Knote: \u001b[m\u001b[K  no known conversion for argument 1 from ‘\u001b[01m\u001b[Kstd::basic_ostream<char>\u001b[m\u001b[K’ to ‘\u001b[01m\u001b[Kconst std::error_code&\u001b[m\u001b[K’\n",
            "  269 |   operator<(\u001b[01;36m\u001b[Kconst error_code& __lhs\u001b[m\u001b[K, const error_code& __rhs) noexcept\n",
            "      |             \u001b[01;36m\u001b[K~~~~~~~~~~~~~~~~~~^~~~~\u001b[m\u001b[K\n",
            "\u001b[01m\u001b[K/usr/include/c++/11/system_error:398:3:\u001b[m\u001b[K \u001b[01;36m\u001b[Knote: \u001b[m\u001b[Kcandidate: ‘\u001b[01m\u001b[Kbool std::operator<(const std::error_condition&, const std::error_condition&)\u001b[m\u001b[K’\n",
            "  398 |   \u001b[01;36m\u001b[Koperator\u001b[m\u001b[K<(const error_condition& __lhs,\n",
            "      |   \u001b[01;36m\u001b[K^~~~~~~~\u001b[m\u001b[K\n",
            "\u001b[01m\u001b[K/usr/include/c++/11/system_error:398:36:\u001b[m\u001b[K \u001b[01;36m\u001b[Knote: \u001b[m\u001b[K  no known conversion for argument 1 from ‘\u001b[01m\u001b[Kstd::basic_ostream<char>\u001b[m\u001b[K’ to ‘\u001b[01m\u001b[Kconst std::error_condition&\u001b[m\u001b[K’\n",
            "  398 |   operator<(\u001b[01;36m\u001b[Kconst error_condition& __lhs\u001b[m\u001b[K,\n",
            "      |             \u001b[01;36m\u001b[K~~~~~~~~~~~~~~~~~~~~~~~^~~~~\u001b[m\u001b[K\n",
            "\u001b[31;1mWA\n"
          ]
        }
      ]
    },
    {
      "cell_type": "markdown",
      "source": [
        "### 問題3\n",
        "\n",
        "以下のプログラムのエラーを修正しなさい。"
      ],
      "metadata": {
        "id": "l6z0gGtBg5GQ"
      }
    },
    {
      "cell_type": "code",
      "source": [
        "%%writefile practice_03.cpp\n",
        "using namespace std;\n",
        "\n",
        "int main() {\n",
        "  cout << \"Hello World\" << endl;\n",
        "}"
      ],
      "metadata": {
        "id": "1ZDTiQe3g7OU"
      },
      "execution_count": null,
      "outputs": []
    },
    {
      "cell_type": "code",
      "source": [
        "# @title 実行\n",
        "!echo \"Hello World\" > b.txt\n",
        "!g++ practice_03.cpp -o practice_03 -Wall && ./practice_03 > a.txt && diff a.txt b.txt > nil && test $? -eq 0 && echo -e \"\\033[32;1mAC\" || echo -e \"\\033[31;1mWA\""
      ],
      "metadata": {
        "colab": {
          "base_uri": "https://localhost:8080/"
        },
        "id": "BNu_h1oehNf_",
        "outputId": "ec538dbf-c51d-4320-d75c-447dd89a682c",
        "cellView": "form"
      },
      "execution_count": null,
      "outputs": [
        {
          "output_type": "stream",
          "name": "stdout",
          "text": [
            "\u001b[01m\u001b[Kpractice_03.cpp:\u001b[m\u001b[K In function ‘\u001b[01m\u001b[Kint main()\u001b[m\u001b[K’:\n",
            "\u001b[01m\u001b[Kpractice_03.cpp:4:3:\u001b[m\u001b[K \u001b[01;31m\u001b[Kerror: \u001b[m\u001b[K‘\u001b[01m\u001b[Kcout\u001b[m\u001b[K’ was not declared in this scope\n",
            "    4 |   \u001b[01;31m\u001b[Kcout\u001b[m\u001b[K << \"Hello World\" << endl;\n",
            "      |   \u001b[01;31m\u001b[K^~~~\u001b[m\u001b[K\n",
            "\u001b[01m\u001b[Kpractice_03.cpp:1:1:\u001b[m\u001b[K \u001b[01;36m\u001b[Knote: \u001b[m\u001b[K‘\u001b[01m\u001b[Kstd::cout\u001b[m\u001b[K’ is defined in header ‘\u001b[01m\u001b[K<iostream>\u001b[m\u001b[K’; did you forget to ‘\u001b[01m\u001b[K#include <iostream>\u001b[m\u001b[K’?\n",
            "  +++ |+\u001b[32m\u001b[K#include <iostream>\u001b[m\u001b[K\n",
            "    1 | using namespace std;\n",
            "\u001b[01m\u001b[Kpractice_03.cpp:4:28:\u001b[m\u001b[K \u001b[01;31m\u001b[Kerror: \u001b[m\u001b[K‘\u001b[01m\u001b[Kendl\u001b[m\u001b[K’ was not declared in this scope\n",
            "    4 |   cout << \"Hello World\" << \u001b[01;31m\u001b[Kendl\u001b[m\u001b[K;\n",
            "      |                            \u001b[01;31m\u001b[K^~~~\u001b[m\u001b[K\n",
            "\u001b[01m\u001b[Kpractice_03.cpp:1:1:\u001b[m\u001b[K \u001b[01;36m\u001b[Knote: \u001b[m\u001b[K‘\u001b[01m\u001b[Kstd::endl\u001b[m\u001b[K’ is defined in header ‘\u001b[01m\u001b[K<ostream>\u001b[m\u001b[K’; did you forget to ‘\u001b[01m\u001b[K#include <ostream>\u001b[m\u001b[K’?\n",
            "  +++ |+\u001b[32m\u001b[K#include <ostream>\u001b[m\u001b[K\n",
            "    1 | using namespace std;\n",
            "WA\n"
          ]
        }
      ]
    }
  ]
}