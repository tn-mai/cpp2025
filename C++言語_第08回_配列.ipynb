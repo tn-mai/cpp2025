{
  "nbformat": 4,
  "nbformat_minor": 0,
  "metadata": {
    "colab": {
      "provenance": [],
      "toc_visible": true
    },
    "kernelspec": {
      "name": "python3",
      "display_name": "Python 3"
    },
    "language_info": {
      "name": "python"
    }
  },
  "cells": [
    {
      "cell_type": "markdown",
      "source": [
        "# 配列"
      ],
      "metadata": {
        "id": "ugPUxefUrEoM"
      }
    },
    {
      "cell_type": "markdown",
      "source": [
        "## キーポイント\n",
        "\n",
        "* 配列は「同じ型のデータを複数まとめて扱う」機能\n",
        "* 配列には、C形式の配列と、C++形式の`vector`型の２種類がある<br>本テキストでは主に`vector`型を使う\n",
        "* `vector`型を使うにはヘッダファイル`<vector>`をインクルードする\n",
        "* `vector`型の変数(配列変数という)を宣言するには次のように書く\n",
        "  ```cpp\n",
        "  vector<型名> 変数名;\n",
        "  ```\n",
        "* 配列変数に値を代入するには次のように書く\n",
        "  ```cpp\n",
        "  変数名 = { データ0, データ1, ... };\n",
        "  ```\n",
        "* データ数で指定した長さの配列変数を作るには次のように書く\n",
        "  ```cpp\n",
        "  vector<型名> 変数名(データ数);\n",
        "  ```\n",
        "* 配列の`i`番目の変数を読み書きするには`変数名[i]`と書く<br>\n",
        "  この`i`のことを「添字(そえじ)」という\n",
        "* 配列のデータ数を知るには、`変数名.size()`と書く"
      ],
      "metadata": {
        "id": "bqkYDKkeBC56"
      }
    },
    {
      "cell_type": "markdown",
      "source": [
        "----\n",
        "\n",
        "## 1 配列の基本\n",
        "\n",
        "----\n",
        "\n",
        "「配列(はいれつ)」は、同じ型のデータを複数まとめて扱うための機能です。<br>\n",
        "配列は「クラスの全員の試験の点数を記録する」ような場合に役立ちます。\n",
        "\n",
        "C++言語で使える配列には次の２種類があります。\n",
        "\n",
        "1. C形式の配列\n",
        "2. C++形式の`vector`型\n",
        "\n",
        "どちらの形式にも利点と欠点がありますが、本テキストではC++形式の`vector`型を使います。<br>\n",
        "C++形式の`vector`型は、C形式の配列にはない様々な機能が追加されて使いやすくなっているからです。\n",
        "\n",
        "`vector`型を使うには、`vector`ヘッダファイルをインクルードする必要があります。"
      ],
      "metadata": {
        "id": "JHAwVS8a0v2c"
      }
    },
    {
      "cell_type": "markdown",
      "source": [
        "### 1.1 配列変数の宣言\n",
        "\n",
        "配列変数は次の形式で宣言します。\n",
        "\n",
        "```cpp\n",
        "vector<型> 配列変数名;\n",
        "```\n",
        "\n",
        "例えば、`vector<int> v;`と書いた場合、`int`型のデータ列を扱う配列変数`v`が宣言されます。\n",
        "\n"
      ],
      "metadata": {
        "id": "MYEq94bM1xS0"
      }
    },
    {
      "cell_type": "markdown",
      "source": [
        "### 1.2 配列変数の初期化\n",
        "\n",
        "次のように書くと、指定した要素数で配列を初期化できます。\n",
        "\n",
        "```cpp\n",
        "vector<型> 変数名(データ数);\n",
        "```\n",
        "\n",
        "どんな値で初期化されるかは、`<>`の内側に指定した型によって変わります。\n",
        "\n",
        "型が`int`や`double`などの「整数型」の場合、全ての要素が`0`で初期化されます。<br>\n",
        "型が`string`の場合、すべての要素が`\"\"`、つまり「空の文字列」で初期化されます。\n"
      ],
      "metadata": {
        "id": "7jHy_duiEK09"
      }
    },
    {
      "cell_type": "markdown",
      "source": [
        "### 1.3 配列変数への代入\n",
        "\n",
        "配列変数に値を代入する方法はいくつかありますが、その一つが次の形式です。\n",
        "\n",
        "```cpp\n",
        "配列変数名 = { データ0, データ1, ... };\n",
        "```\n",
        "\n",
        "配列が持つデータの1つ1つのことを「要素(ようそ)」と呼びます。\n",
        "\n",
        "例えば、`v = { 25, 100, 64 };`と書いた場合、「25, 100, 64」という3つのデータが配列変数`v`に代入されます。"
      ],
      "metadata": {
        "id": "tl4FmArK3RmX"
      }
    },
    {
      "cell_type": "markdown",
      "source": [
        "### 1.4 配列の要素を読み書きする\n",
        "\n",
        "配列の`i`番目の要素を読み書きするには、次のように書きます\n",
        "\n",
        "```cpp\n",
        "配列変数名[i]\n",
        "```\n",
        "\n",
        "`[]`記号の内側に書く変数や数値のことを「添字(そえじ)」といいます。<br>\n",
        "そして、`[]`記号のことを「添字演算子(そえじ えんざんし)」といいます。\n",
        "\n",
        "添字は`0`から始まります。\n",
        "\n",
        "**コード**\n",
        "\n",
        "```cpp\n",
        "#include <iostream>\n",
        "#include <vector>\n",
        "using namespace std;\n",
        "\n",
        "int main() {\n",
        "  vector<int> v = {25, 100, 64};\n",
        "  cout << v[0] << endl;\n",
        "  cout << v[1] << endl;\n",
        "  cout << v[2] << endl;\n",
        "}\n",
        "```\n",
        "\n",
        "**実行結果**\n",
        "\n",
        "```txt\n",
        "25\n",
        "100\n",
        "64\n",
        "```\n",
        "\n",
        "要素にデータを代入するには、`変数名[i] = データ;`のように書きます。\n",
        "\n",
        "**コード**\n",
        "\n",
        "```cpp\n",
        "#include <iostream>\n",
        "#include <vector>\n",
        "using namespace std;\n",
        "\n",
        "int main() {\n",
        "  vector<int> v = {25, 100, 64};\n",
        "\n",
        "  v[0] = 50;\n",
        "  v[1] += 11;\n",
        "  v[2] *= 2;\n",
        "\n",
        "  cout << v[0] << endl;\n",
        "  cout << v[1] << endl;\n",
        "  cout << v[2] << endl;\n",
        "}\n",
        "```\n",
        "\n",
        "**実行結果**\n",
        "\n",
        "```txt\n",
        "50\n",
        "111\n",
        "128\n",
        "```\n"
      ],
      "metadata": {
        "id": "CHVonBl13it3"
      }
    },
    {
      "cell_type": "markdown",
      "source": [
        "### 1.5 配列の要素数\n",
        "\n",
        "配列の要素数(長さ)を得るには次のように書きます。\n",
        "\n",
        "```cpp\n",
        "配列変数名.size()\n",
        "```\n",
        "\n",
        "**コード**\n",
        "\n",
        "```cpp\n",
        "#include <iostream>\n",
        "#include <vector>\n",
        "using namespace std:\n",
        "\n",
        "int main() {\n",
        "  vector<int> v = {25, 100, 64};\n",
        "  cout << v.size() << endl;\n",
        "}\n",
        "```\n",
        "\n",
        "**実行結果**\n",
        "\n",
        "```txt\n",
        "3\n",
        "```\n"
      ],
      "metadata": {
        "id": "HnJcN7YJ6PmC"
      }
    },
    {
      "cell_type": "markdown",
      "source": [
        "### 1.6 範囲外の添字を使ってはいけない\n",
        "\n",
        "添字の値が正しい範囲内に無い場合、おかしな値になったり、実行時エラーになることがあります。\n",
        "\n",
        "次のプログラムでは、要素数3の配列変数`v`（有効な添字の値は`0`～`2`）に対し、`v[10]`で存在しない要素を読み出そうとしています。\n",
        "\n",
        "しかし、添字`10`の要素など定義していないので、未定義の領域にある「謎のデータ」を読み出すことになります。\n",
        "\n",
        "その結果、おかしな値が読み出されたり、場合によっては実行時エラーが起きたりします。\n",
        "\n",
        "**コード**\n",
        "\n",
        "```cpp\n",
        "#include <iostream>\n",
        "#include <vector>\n",
        "using namespace std;\n",
        "\n",
        "int main() {\n",
        "  vector v = {25, 100, 64};\n",
        "  cout << v[10] << endl;\n",
        "}\n",
        "```\n",
        "\n",
        "**実行結果(例)**\n",
        "\n",
        "```txt\n",
        "0\n",
        "```\n"
      ],
      "metadata": {
        "id": "vYhRkCrI-NVn"
      }
    },
    {
      "cell_type": "markdown",
      "source": [
        "----\n",
        "\n",
        "## 2 配列の使い方\n",
        "\n",
        "----\n"
      ],
      "metadata": {
        "id": "z6hQRtAnClul"
      }
    },
    {
      "cell_type": "markdown",
      "source": [
        "### 2.1 配列とfor文を組み合わせる\n",
        "\n",
        "配列は`for`文を組み合わせることで様々な処理が行えます。<br>\n",
        "次のプログラムでは、配列のすべての要素の合計を求めています。\n",
        "\n",
        "```cpp\n",
        "#include <iostream>\n",
        "#include <vector>\n",
        "using namespace std;\n",
        "\n",
        "int main() {\n",
        "  vector v = { 25, 100, 64};\n",
        "\n",
        "  int total = 0;\n",
        "  for (int i = 0; i < v.size(); i++) {\n",
        "    total += v[i];\n",
        "  }\n",
        "\n",
        "  cout << \"合計=\" << total << endl;\n",
        "}\n",
        "```\n",
        "\n",
        "**実行結果**\n",
        "\n",
        "```txt\n",
        "合計=189\n",
        "```\n"
      ],
      "metadata": {
        "id": "tRWgm5UTCsUQ"
      }
    },
    {
      "cell_type": "markdown",
      "source": [
        "### 2.2 データを使い捨てられない場合\n",
        "\n",
        "N個のデータを順番に読み込んで処理するだけなら、`for`文と`cin`を組み合わせるだけで処理できるため、配列は不要です。\n",
        "\n",
        "**コード**\n",
        "\n",
        "```cpp\n",
        "#include <iostream>\n",
        "#include <vector>\n",
        "using namespace std;\n",
        "\n",
        "int main() {\n",
        "  int n;\n",
        "  cin >> n;\n",
        "\n",
        "  // 入力されたn個のデータをそのまま出力する\n",
        "  for (int i = 0; i < n; i++) {\n",
        "    int a;\n",
        "    cin >> a;\n",
        "    cout << a << ' ';\n",
        "  }\n",
        "  cout << endl;\n",
        "}\n",
        "```\n",
        "\n",
        "**入力データ**\n",
        "\n",
        "```txt\n",
        "5\n",
        "1 1 2 3 5\n",
        "```\n",
        "\n",
        "**実行結果**\n",
        "\n",
        "```txt\n",
        "1 1 2 3 5\n",
        "```\n",
        "\n",
        "上記のプログラムでは、読み込んだデータをすぐに出力しています。この場合、数値を保存する必要はありません。\n",
        "\n",
        "しかし、例えば「N個のデータを逆順で出力したい」という場合、最後のデータを読み込むまでは出力を開始できません。<br>\n",
        "この場合、次のプログラムのように、読み込んだデータを配列に保存しておく必要があります。\n",
        "\n",
        "**コード**\n",
        "\n",
        "```cpp\n",
        "#include <iostream>\n",
        "#include <vector>\n",
        "using namespace std;\n",
        "\n",
        "int main() {\n",
        "  // データの個数を読み込む\n",
        "  int n;\n",
        "  cin >> n;\n",
        "\n",
        "  // n個のデータを読み込む\n",
        "  vector v(n);\n",
        "  for (int i = 0; i < n; i++) {\n",
        "    cin >> v[i];\n",
        "  }\n",
        "\n",
        "  // 入力されたn個のデータを逆順で出力する\n",
        "  for (int i = n - 1; i >= 0; i--) {\n",
        "    cout << v[i] << ' ';\n",
        "  }\n",
        "  cout << endl;\n",
        "}\n",
        "```\n",
        "\n",
        "**入力データ(例)**\n",
        "\n",
        "```txt\n",
        "5\n",
        "1 1 2 3 5\n",
        "```\n",
        "\n",
        "**実行結果**\n",
        "\n",
        "```txt\n",
        "5 3 2 1 1\n",
        "```\n",
        "\n"
      ],
      "metadata": {
        "id": "FIRZ2cs-X3P1"
      }
    },
    {
      "cell_type": "markdown",
      "source": [
        "### 2.3 要素の追加\n",
        "\n",
        "`push_back`(プッシュバック)を使うと、配列の末尾に要素を追加できます。`push_back`の使いかたは次のようになります。\n",
        "\n",
        "```cpp\n",
        "配列変数名.push_back(データ);\n",
        "```\n",
        "\n",
        "**コード**\n",
        "\n",
        "```cpp\n",
        "#include <iostream>\n",
        "#include <vector>\n",
        "using namespace std;\n",
        "\n",
        "int main() {\n",
        "  vector<int> v = { 1, 2, 3 };\n",
        "\n",
        "  v.push_back(10); // 末尾に10を追加\n",
        "\n",
        "  // vの全要素を出力\n",
        "  for (int i = 0; i < v.size(); i++) {\n",
        "    cout << v[i] << endl;\n",
        "  }\n",
        "}\n",
        "```\n",
        "\n",
        "**実行結果**\n",
        "\n",
        "```\n",
        "1\n",
        "2\n",
        "3\n",
        "10\n",
        "```\n"
      ],
      "metadata": {
        "id": "fqyCk1Uda9B_"
      }
    },
    {
      "cell_type": "markdown",
      "source": [
        "### 2.4 要素の削除\n",
        "\n",
        "`pop_back`(ポップ・バック)を使うと、配列の末尾の要素を削除できます。書きかたは次のようになります。\n",
        "\n",
        "```cpp\n",
        "配列変数名.pop_back();\n",
        "```\n",
        "\n",
        "**コード**\n",
        "\n",
        "```cpp\n",
        "#include <iostream>\n",
        "#include <vector>\n",
        "using namespace std;\n",
        "\n",
        "int main() {\n",
        "  vector<int> v = { 1, 2, 3 };\n",
        "\n",
        "  v.pop_back(); // 末尾の要素を削除\n",
        "\n",
        "  // vの全要素を出力\n",
        "  for (int i = 0; i < v.size(); i++) {\n",
        "    cout << v[i] << endl;\n",
        "  }\n",
        "}\n",
        "```\n",
        "\n",
        "**実行結果**\n",
        "\n",
        "```txt\n",
        "1\n",
        "2\n",
        "```"
      ],
      "metadata": {
        "id": "2iTRGEn-hecY"
      }
    },
    {
      "cell_type": "markdown",
      "source": [
        "### 2.5 すべての要素を削除\n",
        "\n",
        "`clear`(クリア)を使うと、配列のすべての要素を削除し、データ数を`0`にすることができます。`clear`は次のように書きます。\n",
        "\n",
        "```cpp\n",
        "配列変数名.clear();\n",
        "```\n",
        "\n",
        "**コード**\n",
        "\n",
        "```cpp\n",
        "#include <iostream>\n",
        "#include <vector>\n",
        "using namespace std;\n",
        "\n",
        "int main() {\n",
        "  vector<int> v = { 1, 2, 3 };\n",
        "\n",
        "  v.clear(); // すべての要素を削除\n",
        "\n",
        "  cout << v.size() << endl; // 配列のデータ数を出力\n",
        "}\n",
        "```\n",
        "\n",
        "**実行結果**\n",
        "\n",
        "```txt\n",
        "0\n",
        "```"
      ],
      "metadata": {
        "id": "MzlOwuoHjS4Q"
      }
    },
    {
      "cell_type": "markdown",
      "source": [
        "### 2.6 高度な機能\n",
        "\n",
        "`vector`には、これまでに紹介した以外にもさまざまな関数が用意されています。そのうちの一部を以下に示します。\n",
        "\n",
        "| 関数                 | 読みかた   | 機能の説明 |\n",
        "|:---------------------|:-----------|:-----------|\n",
        "| resize(データ数)     | リサイズ   | 配列の長さを「データ数」に変更する |\n",
        "| empty()              | エンプティ | 配列の長さが`0`なら`true`、`1`以上なら`false`を返す |\n",
        "| insert(位置, データ) | インサート | 「データ」を「位置」に挿入する |\n",
        "| erase(位置)          | イレース   | 「位置」にあるデータを削除する |\n",
        "| begin()              | ビギン     | 配列の先頭の「位置」を返す |\n",
        "| end()                | エンド     | 配列の終端の「位置」を返す |\n",
        "| reserve(データ数)    | リザーブ   | データの追加を高速化するため、「データ数」の長さの予約領域を作る |\n"
      ],
      "metadata": {
        "id": "CVi9YLQh91dn"
      }
    },
    {
      "cell_type": "markdown",
      "source": [
        "### 2.7 多次元配列\n",
        "\n",
        "リーグ戦(総当たり戦)の試合結果の表のように、縦横に広がる2次元の表を作りたい場合があります。2次元の表をあらわすには、配列の要素を配列にします。\n",
        "\n",
        "例えば、配列の要素に「`int`型の配列」を指定するには次のように書きます。\n",
        "\n",
        "```cpp\n",
        "vector<vector<int>> v;\n",
        "```\n",
        "\n",
        "このとき、変数`v`の型は`vector<vector<int>>`になり、`v[0]`の型は`vector<int>`となります。このような、配列を入れ子にした形式は「２次元配列」や「配列の配列」と呼ばれます。\n",
        "\n",
        "２次元配列の場合、配列の長さを2つ決める必要があります。例えば、4行3列の大きさの２次元配を作る場合、次のように書きます。\n",
        "\n",
        "```cpp\n",
        "vector<vector<int>> v(4, vector<int>(3));\n",
        "```\n",
        "\n",
        "初期化は次のように書きます。\n",
        "\n",
        "```cpp\n",
        "vector<vector<int>> v = { {0, 1, 2}, {3, 4, 5}, {6, 7, 8}, {9,10,11} };\n",
        "```\n",
        "\n",
        "２次元配列の要素を読み書きするには、`[]`記号を2回続けて次のように書きます。\n",
        "\n",
        "```cpp\n",
        "v[1][2]\n",
        "```\n",
        "\n",
        "以下のプログラムは、２次元配列の要素に対して計算と出力を行う例です。\n",
        "\n",
        "**コード**\n",
        "\n",
        "```cpp\n",
        "#include <iostream>\n",
        "#include <vector>\n",
        "using namespace std;\n",
        "\n",
        "int main() {\n",
        "  vector<vector<int>> v = { {0, 1, 2}, {3, 4, 5}, {6, 7, 8}, {9,10,11} };\n",
        "\n",
        "  v[0][0] = 99;\n",
        "  v[0][1] += 97;\n",
        "  v[0][2] -= 1;\n",
        "\n",
        "  cout << \"2行目=\";\n",
        "  for (int i = 0; i < v[2].size(); i++) {\n",
        "    cout << v[2][i] << ' ';\n",
        "  }\n",
        "  cout << endl;\n",
        "\n",
        "  for (int a = 0; a < v.size(); a++) {\n",
        "    for (int b = 0; b < v[a].size(); b++) {\n",
        "      cout << v[a][b] << ' ';\n",
        "    }\n",
        "    cout << endl;\n",
        "  }\n",
        "}\n",
        "```\n",
        "\n",
        "**実行結果**\n",
        "\n",
        "```txt\n",
        "2行目=6 7 8\n",
        "99 98 1\n",
        "3 4 5\n",
        "6 7 8\n",
        "9 10 11\n",
        "```\n"
      ],
      "metadata": {
        "id": "NGMn1inD2whg"
      }
    },
    {
      "cell_type": "markdown",
      "source": [
        "----\n",
        "\n",
        "## 3 C形式の配列\n",
        "\n",
        "----\n",
        "\n",
        "C形式の配列は、C++形式の`vector`に比べると機能が少ないです。そのため、積極的に使う必要はありません。<br>\n",
        "しかし、自分では書かなくても、他人のプログラムで見る機会はありますから、最低限の知識は持っておくと良いでしょう。\n",
        "\n",
        "それに、次のような利点もあります。\n",
        "\n",
        "* ヘッダファイルをインクルードしなくても使える\n",
        "* 必要なメモリが少ない\n",
        "* 変数の作成にかかる時間が短い\n",
        "\n",
        "C形式の配列は次のように書きます。\n",
        "\n",
        "```cpp\n",
        "型 変数名[データ数];\n",
        "```\n",
        "\n",
        "`vector`と異なり、「データ数」に変数を使うことはできません。必ず数値を書く必要があります。例えば、`int`型のデータ数`3`の配列は、次のように書きます。\n",
        "\n",
        "```cpp\n",
        "int v[3];\n",
        "```\n",
        "\n",
        "初期化は`vector`と同様に、次のように書きます。\n",
        "\n",
        "```cpp\n",
        "int v[3] = { 25, 100, 64 };\n",
        "```\n",
        "\n",
        "データの読み書きも`vector`と同じです。\n",
        "\n",
        "```cpp\n",
        "int v[3] = { 25, 100, 64 };\n",
        "cout << v[0] << endl; // 25が出力される\n",
        "v[1] *= 2;\n",
        "cout << v[1] << endl; // 200が出力される\n",
        "```\n",
        "\n",
        "配列のサイズを取得するには次のように書きます。\n",
        "\n",
        "```cpp\n",
        "int v[3];\n",
        "cout << sizeof(v) / sizeof(v[0]) << endl; // 3が出力される\n",
        "```\n",
        "\n",
        "`sizeof`(サイズ・オブ)は「型や変数のバイト数を返す演算子」です。<br>\n",
        "`sizeof(v)`は「`v`のバイト数」で、これは配列全体のバイト数になります。<br>\n",
        "`sizeof(v[0])`は「`v[0]`のバイト数」で、これは配列の0番目の要素のバイト数になります。\n",
        "\n",
        "また、配列全体のバイト数は「要素のバイト数×データ数」になります。<br>\n",
        "そのため、「配列全体のバイト数」を「要素のバイト数」で割れば、データ数が分かるという仕組みです。\n",
        "\n",
        "C形式の配列の機能はこれで全てです。`vector`が持つ要素の追加・削除や、その他の高度な機能はひとつもありません。<br>\n",
        "そのため、C形式の配列を使う場面は、次の状況に限られます。\n",
        "\n",
        "1. データ数が決まっていて変わることがない(データの追加や削除をしない)\n",
        "2. `vector`が持つ高度な機能を必要としない\n",
        "3. 少しでも無駄なメモリや処理時間を減らしたい(家庭用ゲーム機のように、性能が限られる場合は重要です)\n",
        "\n",
        "しかし、これらの状況を判断するには、プログラミングについてある程度の知識が必要になります。<br>\n",
        "最初のうちは、`vector`を使うほうがよいでしょう。"
      ],
      "metadata": {
        "id": "4UQxEThsiwB9"
      }
    },
    {
      "cell_type": "markdown",
      "source": [
        "----\n",
        "\n",
        "## 4 練習問題\n",
        "\n",
        "----\n",
        "\n",
        "以下の手順にしたがって、3つのプログラムを完成させなさい。\n",
        "\n",
        "1. `%%writefile ...`の下の行からがプログラムです。問題文に従ってプログラムを修正、または追加してください。\n",
        "2. プログラムを修正したら、セルの右側にある`▶`をクリックします。すると、ファイルが保存されます。\n",
        "3. 「動作テスト」セルの`▶`をクリックすると、2で保存したファイルがコンパイル＆実行され、実行結果が表示されます。<br>\n",
        "   このセルは、修正したプログラムの動作を確認するために使ってください。\n",
        "4. 「実行」セルの`▶`をクリックすると、2で保存したファイルがコンパイル＆実行され、結果の成否が判定されます。\n",
        "5. 判定に成功したら`AC`と表示されます。次の問題に進んでください。\n",
        "6. 失敗したら`WA`と表示されます(その前にエラーメッセージが表示される場合もあります)。<br>\n",
        "   これは、プログラムのどこかにエラーがあることを意味します。<br>\n",
        "   「動作テスト」を使ってエラーを修正し、`AC`を目指してください。\n"
      ],
      "metadata": {
        "id": "lMRTYSQ5AMzs"
      }
    },
    {
      "cell_type": "markdown",
      "source": [
        "### ❓️問題１ 円周率\n",
        "\n",
        "以下のプログラムが`3.1415`を出力するように、配列変数の定義を追加しなさい。\n",
        "\n",
        "**プログラム例**\n",
        "\n",
        "1. `vector<int>`型の配列変数`v`を定義する\n",
        "2. `v`に5個のデータ`3`, `1`, `4`, `1`, `5`を代入する。\n",
        "\n",
        "**出力例**\n",
        "\n",
        "```txt\n",
        "3.1415\n",
        "```\n"
      ],
      "metadata": {
        "id": "RnTTS8R1APhR"
      }
    },
    {
      "cell_type": "code",
      "source": [
        "%%writefile practice_01a.cpp\n",
        "#include <iostream>\n",
        "#include <vector>\n",
        "using namespace std;\n",
        "\n",
        "int main() {\n",
        "  // この下に配列変数vを定義し、データを代入する\n",
        "\n",
        "  cout << v[0] << '.' << v[1] << v[2] << v[3] << v[4] << endl;\n",
        "}"
      ],
      "metadata": {
        "id": "aZKGwoKdDCQv"
      },
      "execution_count": null,
      "outputs": []
    },
    {
      "cell_type": "code",
      "source": [
        "# @title 動作テスト\n",
        "!g++ -std=c++20 -O2 -Wall -Wextra -o practice_01a practice_01a.cpp && ./practice_01a"
      ],
      "metadata": {
        "cellView": "form",
        "id": "RcN7Wavoee1J"
      },
      "execution_count": null,
      "outputs": []
    },
    {
      "cell_type": "code",
      "source": [
        "# @title 実行\n",
        "!diff -Z <(echo -e \"3.1415\") <(g++ -std=c++20 -O2 -Wall -Wextra -o practice_01a practice_01a.cpp && ./practice_01a) > nil && test $? -eq 0 && echo -e \"\\033[32;1mAC\" || echo -e \"\\033[31;1mWA\""
      ],
      "metadata": {
        "cellView": "form",
        "id": "UACB1zePNew-"
      },
      "execution_count": null,
      "outputs": []
    },
    {
      "cell_type": "code",
      "source": [
        "# @title 🔒解答例(どうしても問題を解けない場合に見てください)\n",
        "%%writefile practice_01a.cpp\n",
        "#include <iostream>\n",
        "#include <vector>\n",
        "using namespace std;\n",
        "\n",
        "int main() {\n",
        "  // この下に配列変数vを定義し、データを代入する\n",
        "  vector<int> v = { 3, 1, 4, 1, 5 };\n",
        "\n",
        "  cout << v[0] << '.' << v[1] << v[2] << v[3] << v[4] << endl;\n",
        "}"
      ],
      "metadata": {
        "cellView": "form",
        "id": "pO96k065l9rf"
      },
      "execution_count": null,
      "outputs": []
    },
    {
      "cell_type": "markdown",
      "source": [
        "### ❓️問題２ 書き込み\n",
        "\n",
        "以下のプログラムが`1111`を出力するように、配列の4つの要素に適切な値を代入しなさい。\n",
        "\n",
        "**出力例**\n",
        "\n",
        "```txt\n",
        "1111\n",
        "```\n"
      ],
      "metadata": {
        "id": "CDqYa1y_miIo"
      }
    },
    {
      "cell_type": "code",
      "source": [
        "%%writefile practice_01b.cpp\n",
        "#include <iostream>\n",
        "#include <vector>\n",
        "using namespace std;\n",
        "\n",
        "int main() {\n",
        "  vector<int> v = { 1, 2, 3, 4 }; // この行は変更しない\n",
        "\n",
        "  // この下に、配列の4つの要素に値を代入するプログラムを書く\n",
        "\n",
        "  // ここから下は変更しない\n",
        "  cout << (v[0] == 11);\n",
        "  cout << (v[1] == 13);\n",
        "  cout << (v[1] - v[2] == 7);\n",
        "  cout << (v[2] + v[3] == 89);\n",
        "  cout << endl;\n",
        "}"
      ],
      "metadata": {
        "id": "q09uj_xfwday"
      },
      "execution_count": null,
      "outputs": []
    },
    {
      "cell_type": "code",
      "source": [
        "# @title 動作テスト\n",
        "!g++ -std=c++20 -O2 -Wall -Wextra -o practice_01b practice_01b.cpp && ./practice_01b"
      ],
      "metadata": {
        "cellView": "form",
        "id": "CM_IkxCTmiIp"
      },
      "execution_count": null,
      "outputs": []
    },
    {
      "cell_type": "code",
      "source": [
        "# @title 実行\n",
        "!diff -Z <(echo 1111) <(g++ -std=c++20 -O2 -Wall -Wextra -o practice_01b practice_01b.cpp && ./practice_01b) > nil && test $? -eq 0 && echo -e \"\\033[32;1mAC\" || echo -e \"\\033[31;1mWA\""
      ],
      "metadata": {
        "cellView": "form",
        "id": "J55kh7LVmiIp"
      },
      "execution_count": null,
      "outputs": []
    },
    {
      "cell_type": "code",
      "source": [
        "# @title 🔒解答例(どうしても問題を解けない場合に見てください)\n",
        "%%writefile practice_01b.cpp\n",
        "#include <iostream>\n",
        "#include <vector>\n",
        "using namespace std;\n",
        "\n",
        "int main() {\n",
        "  vector<int> v = { 1, 2, 3, 4 }; // この行は変更しない\n",
        "\n",
        "  // この下に、配列の4つの要素に値を代入するプログラムを書く\n",
        "  v[0] = 11;\n",
        "  v[1] = 13;\n",
        "  v[2] = 6;\n",
        "  v[3] = 59;\n",
        "\n",
        "  // ここから下は変更しない\n",
        "  cout << (v[0] == 11);\n",
        "  cout << (v[1] == 13);\n",
        "  cout << (v[1] - v[2] == 7);\n",
        "  cout << (v[0] + v[1] + v[2] + v[3] == 89);\n",
        "  cout << endl;\n",
        "}"
      ],
      "metadata": {
        "cellView": "form",
        "id": "2gv22IshmiIp"
      },
      "execution_count": null,
      "outputs": []
    },
    {
      "cell_type": "markdown",
      "source": [
        "### ❓️問題３ 読み出し\n",
        "\n",
        "以下のプログラムが`3.14159265`を出力するように、配列変数`v`の要素を使ったプログラムを追加しなさい。\n",
        "\n",
        "**出力例**\n",
        "\n",
        "```txt\n",
        "3.14159265\n",
        "```\n"
      ],
      "metadata": {
        "id": "HiWHP3iEO5Ci"
      }
    },
    {
      "cell_type": "code",
      "source": [
        "%%writefile practice_01c.cpp\n",
        "#include <iostream>\n",
        "#include <vector>\n",
        "using namespace std;\n",
        "\n",
        "int main() {\n",
        "  vector<char> v = { '3', '.', '1', '4', '1', '5', '9', '2', '6', '5' }; // この行は変更しない\n",
        "\n",
        "  // この下に、配列変数vの要素を使って3.14159265を出力するプログラムを書く\n",
        "\n",
        "}"
      ],
      "metadata": {
        "id": "HCuV2lUNO5Ci"
      },
      "execution_count": null,
      "outputs": []
    },
    {
      "cell_type": "code",
      "source": [
        "# @title 動作テスト\n",
        "!g++ -std=c++20 -O2 -Wall -Wextra -o practice_01c practice_01c.cpp && ./practice_01c"
      ],
      "metadata": {
        "cellView": "form",
        "id": "QEodrZaGO5Ci"
      },
      "execution_count": null,
      "outputs": []
    },
    {
      "cell_type": "code",
      "source": [
        "# @title 実行\n",
        "!diff -Z <(echo 3.14159265) <(g++ -std=c++20 -O2 -Wall -Wextra -o practice_01c practice_01c.cpp && ./practice_01c) > nil && test $? -eq 0 && echo -e \"\\033[32;1mAC\" || echo -e \"\\033[31;1mWA\""
      ],
      "metadata": {
        "cellView": "form",
        "id": "SjC7TgG8O5Ci"
      },
      "execution_count": null,
      "outputs": []
    },
    {
      "cell_type": "code",
      "source": [
        "# @title 🔒解答例(どうしても問題を解けない場合に見てください)\n",
        "%%writefile practice_01c.cpp\n",
        "#include <iostream>\n",
        "#include <vector>\n",
        "using namespace std;\n",
        "\n",
        "int main() {\n",
        "  vector<char> v = { '3', '.', '1', '4', '1', '5', '9', '2', '6', '5' }; // この行は変更しない\n",
        "\n",
        "  // この下に、配列変数vの要素を使って3.14159265を出力するプログラムを書く\n",
        "  for (int i = 0; i < (int)v.size(); i++) {\n",
        "    cout << v[i];\n",
        "  }\n",
        "  cout << endl;\n",
        "}"
      ],
      "metadata": {
        "cellView": "form",
        "id": "__bzeDH9O5Cj"
      },
      "execution_count": null,
      "outputs": []
    },
    {
      "cell_type": "markdown",
      "source": [
        "### ❓️問題４ リバース\n",
        "\n",
        "N個の数字が入力されます。数字を、入力されたときの逆の順番で出力しなさい。\n",
        "\n",
        "**プログラム例**\n",
        "\n",
        "1. 数字の個数をあらわす変数`n`を宣言し、標準入力`cin`から読み込む\n",
        "2. 数字を記録する配列変数`v`を、データ数`n`で宣言する\n",
        "3. for文と標準入力`cin`を使って、`n`個の数字を読み込む\n",
        "4. for文を使って、標準出力`cout`に数字を逆の順番で出力する<br>\n",
        "   数値の直後に1文字の空白を出力すること\n",
        "5. `endl`で改行を出力する\n",
        "\n",
        "**入力データ例（１）**\n",
        "\n",
        "```txt\n",
        "5\n",
        "1 2 3 4 5\n",
        "```\n",
        "\n",
        "**出力例（１）**\n",
        "\n",
        "```txt\n",
        "5 4 3 2 1\n",
        "```\n",
        "\n",
        "**入力データ例（２）**\n",
        "\n",
        "```txt\n",
        "1\n",
        "9\n",
        "```\n",
        "\n",
        "**出力例（２）**\n",
        "\n",
        "```txt\n",
        "9\n",
        "```\n"
      ],
      "metadata": {
        "id": "HaR3qN6rv62J"
      }
    },
    {
      "cell_type": "code",
      "source": [
        "%%writefile practice_02a.cpp\n",
        "#include <iostream>\n",
        "#include <vector>\n",
        "using namespace std;\n",
        "\n",
        "int main() {\n",
        "  // この下に、1～5を行うプログラムを書く\n",
        "\n",
        "}"
      ],
      "metadata": {
        "id": "JSvUyiFgzG1M"
      },
      "execution_count": null,
      "outputs": []
    },
    {
      "cell_type": "code",
      "source": [
        "# @title 動作テスト\n",
        "!g++ -std=c++20 -O2 -Wall -Wextra -o practice_02a practice_02a.cpp && echo \"この下をクリックして、数字の個数と数字を入力:\" && ./practice_02a"
      ],
      "metadata": {
        "cellView": "form",
        "id": "Nz-cAlpOzG1M"
      },
      "execution_count": null,
      "outputs": []
    },
    {
      "cell_type": "code",
      "source": [
        "# @title 実行\n",
        "!diff -Z <(echo -e \"5 4 3 2 1\\n9\\n2 0 2 5\") <(g++ -std=c++20 -O2 -Wall -Wextra -o practice_02a practice_02a.cpp && echo 5 1 2 3 4 5 | ./practice_02a && echo 1 9 | ./practice_02a && echo 4 5 2 0 2 | ./practice_02a) > nil && test $? -eq 0 && echo -e \"\\033[32;1mAC\" || echo -e \"\\033[31;1mWA\""
      ],
      "metadata": {
        "cellView": "form",
        "id": "BWVMUaY0zG1M"
      },
      "execution_count": null,
      "outputs": []
    },
    {
      "cell_type": "code",
      "source": [
        "# @title 🔒解答例(どうしても問題を解けない場合に見てください)\n",
        "%%writefile practice_02a.cpp\n",
        "#include <iostream>\n",
        "#include <vector>\n",
        "using namespace std;\n",
        "\n",
        "int main() {\n",
        "  // この下に、1～5を行うプログラムを書く\n",
        "  int n;\n",
        "  cin >> n;\n",
        "\n",
        "  vector<int> v(n);\n",
        "  for (int i = 0; i < n; i++) {\n",
        "    cin >> v[i];\n",
        "  }\n",
        "\n",
        "  for (int i = n - 1; i >= 0; i--) {\n",
        "    cout << v[i] << \" \";\n",
        "  }\n",
        "  cout << endl;\n",
        "}"
      ],
      "metadata": {
        "cellView": "form",
        "id": "rHfZ7i31R_y0"
      },
      "execution_count": null,
      "outputs": []
    },
    {
      "cell_type": "markdown",
      "source": [
        "### ❓️問題５ 番号をたどる\n",
        "\n",
        "N枚のカードが横一列に裏向きで置かれています。<br>\n",
        "カードの裏側には何も書かれていません。表側には任意のカードの番号Yが書かれています(Yは1～N)。\n",
        "\n",
        "左端の1枚目のカードを手に取り、以下の操作をM回繰り返したとき、最後に手に持っているカードが何枚目なのかを出力するプログラムを作成しなさい。\n",
        "\n",
        "1. 持っているカードの裏側に書かれた番号Yを見る\n",
        "2. 持っているカードを裏向きで元の位置に戻し、Y枚目のカードを手に取る\n",
        "\n",
        "カード番号は1から始まる(0からではない)点に注意。\n",
        "\n",
        "**プログラム例**\n",
        "\n",
        "1. カード枚数をあらわす変数`n`と、操作回数をあらわす変数`m`を宣言する\n",
        "2. `cin`から、カード枚数と操作回数をこの順番で読み込む\n",
        "3. カードの裏側の番号をあらわす配列変数`v`を、長さ`n`で宣言する\n",
        "4. for文を使って、配列変数`v`に`n`枚のカードの裏側の番号を読み込む\n",
        "5. 持っているカードをあらわす変数`a`を宣言し、`1`で初期化する\n",
        "6. for文を使って、以下の操作を`m`回繰り返す\n",
        "   1. `a`に`v[a - 1]`を代入\n",
        "7. `a`を出力し、改行する\n",
        "\n",
        "**入力データ例（１）**\n",
        "\n",
        "```txt\n",
        "5 3\n",
        "5 3 1 2 4\n",
        "```\n",
        "\n",
        "**出力例（１）**\n",
        "\n",
        "```txt\n",
        "2\n",
        "```\n",
        "\n",
        "1. 1枚目のカードの裏側の番号は5なので、5枚目のカードを手に取る\n",
        "2. 5枚目のカードの裏側の番号は4なので、4枚目のカードを手に取る\n",
        "3. 4枚目のカードの裏側の番号は2なので、2枚目のカードを手に取る\n",
        "\n",
        "3回の操作の結果、手に持っているのは2枚目のカードなので、2を出力します。\n",
        "\n",
        "**入力データ例（２）**\n",
        "\n",
        "```txt\n",
        "2 10\n",
        "2 1\n",
        "```\n",
        "\n",
        "**出力例（２）**\n",
        "\n",
        "```txt\n",
        "1\n",
        "```\n"
      ],
      "metadata": {
        "id": "pTTwDFRSI2e-"
      }
    },
    {
      "cell_type": "code",
      "source": [
        "%%writefile practice_02b.cpp\n",
        "#include <iostream>\n",
        "#include <vector>\n",
        "using namespace std;\n",
        "\n",
        "int main() {\n",
        "  // この下に、1～7を行うプログラムを書く\n",
        "\n",
        "}"
      ],
      "metadata": {
        "id": "sEo5tTdSI2e_"
      },
      "execution_count": null,
      "outputs": []
    },
    {
      "cell_type": "code",
      "source": [
        "# @title 動作テスト\n",
        "!g++ -std=c++20 -O2 -Wall -Wextra -o practice_02b practice_02b.cpp && echo \"この下をクリックして、カード枚数とカードの裏側の番号を入力:\" && ./practice_02b"
      ],
      "metadata": {
        "cellView": "form",
        "id": "ExqaTxd2I2e_"
      },
      "execution_count": null,
      "outputs": []
    },
    {
      "cell_type": "code",
      "source": [
        "# @title 実行\n",
        "!diff -Z <(echo -e \"2\\n1\\n4\") <(g++ -std=c++20 -O2 -Wall -Wextra -o practice_02b practice_02b.cpp && echo 5 1 2 3 4 5 | ./practice_02b && echo 2 10 2 1 | ./practice_02b && echo 8 7 7 6 2 1 8 5 3 4 | ./practice_02b) > nil && test $? -eq 0 && echo -e \"\\033[32;1mAC\" || echo -e \"\\033[31;1mWA\""
      ],
      "metadata": {
        "cellView": "form",
        "id": "i3pmgGgqI2e_"
      },
      "execution_count": null,
      "outputs": []
    },
    {
      "cell_type": "code",
      "source": [
        "# @title 🔒解答例(どうしても問題を解けない場合に見てください)\n",
        "%%writefile practice_02b.cpp\n",
        "#include <iostream>\n",
        "#include <vector>\n",
        "using namespace std;\n",
        "\n",
        "int main() {\n",
        "  // この下に、1～7を行うプログラムを書く\n",
        "  int n, m;\n",
        "  cin >> n >> m;\n",
        "\n",
        "  vector<int> v(n);\n",
        "  for (int i = 0; i < n; i++) {\n",
        "    cin >> v[i];\n",
        "  }\n",
        "\n",
        "  int a = 1;\n",
        "  for (int i = 0; i < m; i++) {\n",
        "    a = v[a - 1];\n",
        "  }\n",
        "\n",
        "  cout << a << endl;\n",
        "}"
      ],
      "metadata": {
        "cellView": "form",
        "id": "ffsYxLLEI2fA"
      },
      "execution_count": null,
      "outputs": []
    },
    {
      "cell_type": "markdown",
      "source": [
        "### ❓️問題６ デッキをカット\n",
        "\n",
        "N枚のカードの山があり、各カードには数字が書かれています。<br>\n",
        "山の下からM枚のカードを抜いて、順序を保ったまま山の上に乗せました。\n",
        "\n",
        "この操作後の山について、上から順に、カードに書かれた数字を出力するプログラムを作成しなさい。\n",
        "\n",
        "**プログラム例**\n",
        "\n",
        "1. カード枚数をあらわす変数`n`と、抜く枚数をあらわす変数`m`を宣言する\n",
        "2. `cin`から、カード枚数と、抜く枚数を読み込む\n",
        "3. カードをあらわす配列変数`v`を、長さ`n`で宣言する\n",
        "4. for文と`cin`を使って、`n`枚のカードの数字を読み込む\n",
        "5. for文を使って、配列`v`の添字`n - m`から一番下のカードまでの番号と空白を出力する\n",
        "6. for文を使って、配列`v`の最初から添字`n - m`の手前までのカードの番号と空白を出力する\n",
        "7. 改行を出力する\n",
        "\n",
        "**入力データ例（１）**\n",
        "\n",
        "```txt\n",
        "5 3\n",
        "1 2 4 2 3\n",
        "```\n",
        "\n",
        "**出力例（１）**\n",
        "\n",
        "```txt\n",
        "4 2 3 1 2\n",
        "```\n",
        "\n",
        "**入力データ例（２）**\n",
        "\n",
        "```txt\n",
        "4 1\n",
        "8 1 9 3\n",
        "```\n",
        "\n",
        "**出力例（２）**\n",
        "\n",
        "```txt\n",
        "3 8 1 9\n",
        "```\n"
      ],
      "metadata": {
        "id": "FpyKpyMpI7lE"
      }
    },
    {
      "cell_type": "code",
      "source": [
        "%%writefile practice_02c.cpp\n",
        "#include <iostream>\n",
        "#include <vector>\n",
        "using namespace std;\n",
        "\n",
        "int main() {\n",
        "  // この下に、1～7を行うプログラムを書く\n",
        "\n",
        "}"
      ],
      "metadata": {
        "id": "Wk2pz25GI9cv"
      },
      "execution_count": null,
      "outputs": []
    },
    {
      "cell_type": "code",
      "source": [
        "# @title 動作テスト\n",
        "!g++ -std=c++20 -O2 -Wall -Wextra -o practice_02c practice_02c.cpp && echo \"この下をクリックして、5枚のカードの数値と抜く枚数を入力:\" && ./practice_02c"
      ],
      "metadata": {
        "id": "jWEb-5WtiC2P",
        "cellView": "form"
      },
      "execution_count": null,
      "outputs": []
    },
    {
      "cell_type": "code",
      "source": [
        "# @title 実行\n",
        "!diff -Z <(echo -e \"4 2 3 1 2\\n3 8 1 9\\n3 2 1\\n4 5 6\") <(g++ -std=c++20 -O2 -Wall -Wextra -o practice_02c practice_02c.cpp && echo \"5 3 1 2 4 2 3\" | ./practice_02c && echo \"4 1 8 1 9 3\" | ./practice_02c && echo \"3 0 3 2 1\" | ./practice_02c && echo \"3 3 4 5 6\" | ./practice_02c) > nil && test $? -eq 0 && echo -e \"\\033[32;1mAC\" || echo -e \"\\033[31;1mWA\""
      ],
      "metadata": {
        "cellView": "form",
        "id": "ky9-9Iak6fih"
      },
      "execution_count": null,
      "outputs": []
    },
    {
      "cell_type": "code",
      "source": [
        "# @title 🔒解答例(どうしても問題を解けない場合に見てください)\n",
        "%%writefile practice_02c.cpp\n",
        "#include <iostream>\n",
        "#include <vector>\n",
        "using namespace std;\n",
        "\n",
        "int main() {\n",
        "  // この下に、1～7を行うプログラムを書く\n",
        "  int n, m;\n",
        "  cin >> n >> m;\n",
        "\n",
        "  vector<int> v(n);\n",
        "  for (int i = 0; i < n; i++) {\n",
        "    cin >> v[i];\n",
        "  }\n",
        "\n",
        "  for (int i = n - m; i < n; i++) {\n",
        "    cout << v[i] << \" \";\n",
        "  }\n",
        "\n",
        "  for (int i = 0; i < n - m; i++) {\n",
        "    cout << v[i] << \" \";\n",
        "  }\n",
        "\n",
        "  cout << endl;\n",
        "}"
      ],
      "metadata": {
        "id": "ih21nxad1Hbg",
        "cellView": "form"
      },
      "execution_count": null,
      "outputs": []
    },
    {
      "cell_type": "markdown",
      "source": [
        "### ❓️問題７ 平均以上\n",
        "\n",
        "N人の試験の得点が与えられます。<br>\n",
        "平均点(端数切捨て)以上の得点を取った人数を出力しなさい。\n",
        "\n",
        "**プログラム例**\n",
        "\n",
        "1. 人数をあらわす変数`n`を宣言し、標準入力`cin`から読み込む\n",
        "2. 得点を記録する配列変数を、データ数`n`で宣言する\n",
        "3. `for`文と標準入力`cin`を使って、`n`人の得点を読み込む\n",
        "4. `for`文を使って平均点を計算する(端数切捨て)\n",
        "5. `for`文を使って「平均点以上の得点を取った人数」をかぞえる\n",
        "6. 標準出力`cout`に、「平均点以上の得点を取った人数」を出力する\n",
        "\n",
        "**入力データ例（１）**\n",
        "\n",
        "```txt\n",
        "3\n",
        "10 20 30\n",
        "```\n",
        "\n",
        "**出力例（１）**\n",
        "\n",
        "```\n",
        "2\n",
        "```\n",
        "\n",
        "**入力データ例（２）**\n",
        "\n",
        "```txt\n",
        "5\n",
        "0 5 11 20 9\n",
        "```\n",
        "\n",
        "**出力例（２）**\n",
        "\n",
        "```\n",
        "3\n",
        "```\n"
      ],
      "metadata": {
        "id": "FjPNKc_IN7rW"
      }
    },
    {
      "cell_type": "code",
      "source": [
        "%%writefile practice_02d.cpp\n",
        "#include <iostream>\n",
        "#include <vector>\n",
        "using namespace std;\n",
        "\n",
        "int main() {\n",
        "  // この下に、1～6を行うプログラムを書く\n",
        "}"
      ],
      "metadata": {
        "id": "bZpaEK8o5m3-"
      },
      "execution_count": null,
      "outputs": []
    },
    {
      "cell_type": "code",
      "source": [
        "# @title 動作テスト\n",
        "!g++ -std=c++20 -O2 -Wall -Wextra -o practice_02d practice_02d.cpp && echo \"この下をクリックして、人数と得点を入力:\" && ./practice_02d"
      ],
      "metadata": {
        "cellView": "form",
        "id": "uq7G84rLiwbc"
      },
      "execution_count": null,
      "outputs": []
    },
    {
      "cell_type": "code",
      "source": [
        "# @title 実行\n",
        "!diff -Z <(echo -e \"2\\n3\") <(g++ -std=c++20 -O2 -Wall -Wextra -o practice_02d practice_02d.cpp && echo \"3 10 20 30\" | ./practice_02d && echo \"5 0 5 11 20 9\" | ./practice_02d) > nil && test $? -eq 0 && echo -e \"\\033[32;1mAC\" || echo -e \"\\033[31;1mWA\""
      ],
      "metadata": {
        "id": "Ary3sFy4Hphz",
        "cellView": "form"
      },
      "execution_count": null,
      "outputs": []
    },
    {
      "cell_type": "code",
      "source": [
        "# @title 🔒解答例(どうしても問題を解けない場合に見てください)\n",
        "%%writefile practice_02d.cpp\n",
        "#include <iostream>\n",
        "#include <vector>\n",
        "using namespace std;\n",
        "\n",
        "int main() {\n",
        "  // この下に、1～6を行うプログラムを書く\n",
        "  int n;\n",
        "  cin >> n;\n",
        "\n",
        "  // この例では、3と4をまとめて実行している(分けてもよい)\n",
        "  vector<int> v(n);\n",
        "  int average = 0;\n",
        "  for (int i = 0; i < n; i++) {\n",
        "    cin >> v[i];\n",
        "    average += v[i];\n",
        "  }\n",
        "  average /= n;\n",
        "\n",
        "  int count = 0;\n",
        "  for (int i = 0; i < n; i++) {\n",
        "    if (v[i] >= average) {\n",
        "      count++;\n",
        "    }\n",
        "  }\n",
        "\n",
        "  cout << count << endl;\n",
        "}"
      ],
      "metadata": {
        "id": "liCnNiTsCxbv",
        "cellView": "form"
      },
      "execution_count": null,
      "outputs": []
    },
    {
      "cell_type": "markdown",
      "source": [
        "### ❓️問題８ スタート地点\n",
        "\n",
        "1～Nの番号が振られたN室の部屋が、M本の通路でつながっているマップがあります。<br>\n",
        "各通路には、つながっている2つの部屋の番号が書かれています。\n",
        "\n",
        "プレイヤーのスタート地点として、「つながっている通路の数が一番多い部屋」を選びたいです。<br>\n",
        "「つながっている通路の数が一番多い部屋」の番号を出力するプログラムを作成しなさい。\n",
        "\n",
        "**プログラム例**\n",
        "\n",
        "1. 室数をあらわす変数`n`と、通路の数を表す変数`m`を宣言する\n",
        "2. `cin`から、室数と通路医の数を読み込む\n",
        "3. 「各部屋につながっている通路の数」をあらわす配列変数`v`を、長さ`n`で宣言する\n",
        "4. for文と`cin`を使って、以下の処理を`m`回繰り返す\n",
        "   1. 通路につながっている部屋をあらわす変数`a`と`b`を宣言する\n",
        "   2. `cin`から、2つの部屋番号を読み込む\n",
        "   3. `v[a - 1]`を`1`増やす\n",
        "   4. `v[b - 1]`を`1`増やす\n",
        "5. for文を使って、「つながっている通路の数が一番多い部屋」を見つける\n",
        "6. `cout`に、見つかった部屋の番号と改行を出力する\n",
        "\n",
        "**入力データ例（１）**\n",
        "\n",
        "```txt\n",
        "3 2\n",
        "1 2\n",
        "2 3\n",
        "```\n",
        "\n",
        "**出力例（１）**\n",
        "\n",
        "```txt\n",
        "2\n",
        "```\n",
        "\n",
        "<img width=\"300px\" alt=\"部屋の接続図1\" src=\"https://raw.githubusercontent.com/tn-mai/cpp_catch_up/refs/heads/main/starting_room_1.png\" />\n",
        "\n",
        "* 部屋1には、部屋2への通路がある\n",
        "* 部屋2には、部屋1への通路と部屋3への通路がある\n",
        "* 部屋3には、部屋1への通路がある\n",
        "\n",
        "部屋2が最も多くの通路とつながっている\n",
        "\n",
        "**入力データ例（２）**\n",
        "\n",
        "```txt\n",
        "8 8\n",
        "1 2\n",
        "3 4\n",
        "1 5\n",
        "2 8\n",
        "3 7\n",
        "5 2\n",
        "4 1\n",
        "6 1\n",
        "```\n",
        "\n",
        "**出力例（２）**\n",
        "\n",
        "```txt\n",
        "1\n",
        "```\n",
        "\n",
        "<img width=\"400px\" alt=\"部屋の接続図2\" src=\"https://raw.githubusercontent.com/tn-mai/cpp_catch_up/refs/heads/main/starting_room_2.png\" />\n"
      ],
      "metadata": {
        "id": "VBggYpXvHUCV"
      }
    },
    {
      "cell_type": "code",
      "source": [
        "%%writefile practice_02e.cpp\n",
        "#include <iostream>\n",
        "#include <vector>\n",
        "using namespace std;\n",
        "\n",
        "int main() {\n",
        "  // この下に、1～6を行うプログラムを書く\n",
        "\n",
        "}"
      ],
      "metadata": {
        "id": "-nDG9w1ZHUCV"
      },
      "execution_count": null,
      "outputs": []
    },
    {
      "cell_type": "code",
      "source": [
        "# @title 動作テスト\n",
        "!g++ -std=c++20 -O2 -Wall -Wextra -o practice_02e practice_02e.cpp && echo \"この下をクリックして、室数と通路の数、通路のデータを入力:\" && ./practice_02e"
      ],
      "metadata": {
        "cellView": "form",
        "id": "P5TtBAZKHUCV"
      },
      "execution_count": null,
      "outputs": []
    },
    {
      "cell_type": "code",
      "source": [
        "# @title 実行\n",
        "!diff -Z <(echo -e \"2\\n1\\n3\\n5\") <(g++ -std=c++20 -O2 -Wall -Wextra -o practice_02e practice_02e.cpp && echo \"3 2 1 2 2 3\" | ./practice_02e && echo \"8 8 1 2 3 4 1 5 2 8 3 7 5 2 4 1 6 1\" | ./practice_02e && echo \"4 4 3 2 1 3 2 4 3 4\" | ./practice_02e && echo \"5 7 1 5 1 2 4 2 3 4 3 5 5 2 5 3\" | ./practice_02e) > nil && test $? -eq 0 && echo -e \"\\033[32;1mAC\" || echo -e \"\\033[31;1mWA\""
      ],
      "metadata": {
        "cellView": "form",
        "id": "klqPwuksHUCW"
      },
      "execution_count": null,
      "outputs": []
    },
    {
      "cell_type": "code",
      "source": [
        "# @title 🔒解答例(どうしても問題を解けない場合に見てください)\n",
        "%%writefile practice_02e.cpp\n",
        "#include <iostream>\n",
        "#include <vector>\n",
        "using namespace std;\n",
        "\n",
        "int main() {\n",
        "  // この下に、1～6を行うプログラムを書く\n",
        "  int n, m;\n",
        "  cin >> n >> m;\n",
        "\n",
        "  vector<int> v(n);\n",
        "  for (int i = 0; i < m; i++) {\n",
        "    int a, b;\n",
        "    cin >> a >> b;\n",
        "    v[a - 1]++;\n",
        "    v[b - 1]++;\n",
        "  }\n",
        "\n",
        "  int max_room = 0;\n",
        "  for (int i = 1; i < n; i++) {\n",
        "    if (v[i] > v[max_room]) {\n",
        "      max_room = i;\n",
        "    }\n",
        "  }\n",
        "\n",
        "  cout << max_room + 1 << endl;\n",
        "}"
      ],
      "metadata": {
        "cellView": "form",
        "id": "r3mYnkEkHUCW"
      },
      "execution_count": null,
      "outputs": []
    },
    {
      "cell_type": "markdown",
      "source": [
        "### ❓️問題９ 偶数列と奇数列\n",
        "\n",
        "N個の数字が入力されます。偶数の数字の個数が、奇数の数字の個数より多い場合は偶数だけ、そうでない場合は奇数だけを出力するプログラムを作成しなさい。\n",
        "\n",
        "**プログラム例**\n",
        "\n",
        "1. 数字の個数をあらわす変数`n`を宣言し、標準入力`cin`から読み込む\n",
        "2. 奇数の個数をあらわす変数`odd`を宣言し、`0`で初期化する\n",
        "3. 数字を記録する配列変数`v`を、データ数`n`で宣言する\n",
        "4. for文を使って、以下の処理を`n`回実行する\n",
        "   1. `cin`から、変数`v[i]`に数値を読み込む\n",
        "   2. `v[i]`が奇数なら、`odd`を1増やす\n",
        "5. `odd * 2`が`n`より小さければ、for文とif文を使って、偶数を空白で区切って出力する\n",
        "6. そうでなければ、for文とif文を使って、奇数を空白で区切って出力する\n",
        "\n",
        "**入力データ例（１）**\n",
        "\n",
        "```txt\n",
        "5\n",
        "1 2 3 4 5\n",
        "```\n",
        "\n",
        "**出力例（１）**\n",
        "\n",
        "```txt\n",
        "1 3 5\n",
        "```\n",
        "\n",
        "**入力データ例（２）**\n",
        "\n",
        "```txt\n",
        "3\n",
        "1 4 6\n",
        "```\n",
        "\n",
        "**出力例（２）**\n",
        "\n",
        "```txt\n",
        "4 6\n",
        "```\n"
      ],
      "metadata": {
        "id": "RnGM_IluSpJq"
      }
    },
    {
      "cell_type": "code",
      "source": [
        "%%writefile practice_03a.cpp\n",
        "#include <iostream>\n",
        "#include <vector>\n",
        "using namespace std;\n",
        "\n",
        "int main() {\n",
        "  // この下に、1～7を行うプログラムを書く\n",
        "\n",
        "}"
      ],
      "metadata": {
        "id": "ytYDhbzcSpJr"
      },
      "execution_count": null,
      "outputs": []
    },
    {
      "cell_type": "code",
      "source": [
        "# @title 動作テスト\n",
        "!g++ -std=c++20 -O2 -Wall -Wextra -o practice_03a practice_03a.cpp && echo \"この下をクリックして、数字の個数と数字を入力:\" && ./practice_03a"
      ],
      "metadata": {
        "cellView": "form",
        "id": "SoWyHw4eSpJr"
      },
      "execution_count": null,
      "outputs": []
    },
    {
      "cell_type": "code",
      "source": [
        "# @title 実行\n",
        "!diff -Z <(echo -e \"1 3 5\\n4 6\\n2 0 2\") <(g++ -std=c++20 -O2 -Wall -Wextra -o practice_03a practice_03a.cpp && echo 5 1 2 3 4 5 | ./practice_03a && echo 3 1 4 6 | ./practice_03a && echo 4 5 2 0 2 | ./practice_03a) >nil && test $? -eq 0 && echo -e \"\\033[32;1mAC\" || echo -e \"\\033[31;1mWA\""
      ],
      "metadata": {
        "cellView": "form",
        "id": "cUmdtYs1SpJr"
      },
      "execution_count": null,
      "outputs": []
    },
    {
      "cell_type": "code",
      "source": [
        "# @title 🔒解答例(どうしても問題を解けない場合に見てください)\n",
        "%%writefile practice_03a.cpp\n",
        "#include <iostream>\n",
        "#include <vector>\n",
        "using namespace std;\n",
        "\n",
        "int main() {\n",
        "  // この下に、1～7を行うプログラムを書く\n",
        "  int n;\n",
        "  cin >> n;\n",
        "\n",
        "  int odd = 0;\n",
        "  vector<int> v(n);\n",
        "\n",
        "  for (int i = 0; i < n; i++) {\n",
        "    cin >> v[i];\n",
        "    if (v[i] % 2) {\n",
        "      odd++;\n",
        "    }\n",
        "  }\n",
        "\n",
        "  if(odd * 2 < n) {\n",
        "    for (int i = 0; i < n; i++) {\n",
        "      if (v[i] % 2 == 0) {\n",
        "        cout << v[i] << \" \";\n",
        "      }\n",
        "    }\n",
        "  } else {\n",
        "    for (int i = 0; i < n; i++) {\n",
        "      if (v[i] % 2 == 1) {\n",
        "        cout << v[i] << \" \";\n",
        "      }\n",
        "    }\n",
        "  }\n",
        "\n",
        "  cout << endl;\n",
        "}"
      ],
      "metadata": {
        "cellView": "form",
        "id": "616TAmOSSpJr"
      },
      "execution_count": null,
      "outputs": []
    },
    {
      "cell_type": "markdown",
      "source": [
        "### ❓️問題１０ 半分に割る\n",
        "\n",
        "N個の数値が表示されたディスプレイがあります。<br>\n",
        "このディスプレイには、「表示されている数値がすべて偶数のときだけ、ロックが解除されるボタン」が付いています。<br>\n",
        "このボタンを1回押すたびに、すべての数値が半分になります。\n",
        "\n",
        "最大でボタンを何回押せるかを出力するプログラムを作成しなさい。\n",
        "\n",
        "**プログラム例**\n",
        "\n",
        "1. 数値の個数をあらわす変数`n`を宣言し、`cin`から個数を読み込む\n",
        "2. 数値をあらわす配列変数`v`を、長さ`n`で宣言する\n",
        "3. for文と`cin`を使って、`n`個の数値を読み込む\n",
        "4. ボタンを押した回数をあらわす変数`count`を宣言し、`0`で初期化する\n",
        "5. ボタンのロック状態をあらわす変数`lock`を宣言し、`false`で初期化する\n",
        "6. for文を使って、以下の処理を繰り返す\n",
        "   > 1. for文を使って、以下の処理を`n`回繰り返す\n",
        "   >    > 1. `v[i]`が奇数なら`lock`に`true`を代入し、`break`する\n",
        "   >    > 2. 偶数なら`v[i]`の値を半分にする\n",
        "   > 2. `lock`が`true`の場合、`break`でループを終了する\n",
        "   > 3. そうでなければ、`count`を`1`増やす\n",
        "7. `cout`に、`count`と改行を出力する\n",
        "\n",
        "**入力データ例（１）**\n",
        "\n",
        "```txt\n",
        "3\n",
        "8 12 16\n",
        "```\n",
        "\n",
        "**出力例（１）**\n",
        "\n",
        "```txt\n",
        "2\n",
        "```\n",
        "\n",
        "**入力データ例（２）**\n",
        "\n",
        "```txt\n",
        "5\n",
        "320 480 240 800 32\n",
        "```\n",
        "\n",
        "**出力例（２）**\n",
        "\n",
        "```txt\n",
        "4\n",
        "```\n"
      ],
      "metadata": {
        "id": "MXkkwxUyPfY2"
      }
    },
    {
      "cell_type": "code",
      "source": [
        "%%writefile practice_03b.cpp\n",
        "#include <iostream>\n",
        "#include <vector>\n",
        "using namespace std;\n",
        "\n",
        "int main() {\n",
        "  // この下に、1～7を行うプログラムを書く\n",
        "\n",
        "}"
      ],
      "metadata": {
        "id": "uLQB7BLFPfY3"
      },
      "execution_count": null,
      "outputs": []
    },
    {
      "cell_type": "code",
      "source": [
        "# @title 動作テスト\n",
        "!g++ -std=c++20 -O2 -Wall -Wextra -o practice_03b practice_03b.cpp && echo \"この下をクリックして、個数と数値を入力:\" && ./practice_03b"
      ],
      "metadata": {
        "cellView": "form",
        "id": "sQqRYIovPfY3"
      },
      "execution_count": null,
      "outputs": []
    },
    {
      "cell_type": "code",
      "source": [
        "# @title 実行\n",
        "!diff -Z <(echo -e \"2\\n5\\n4\\n0\") <(g++ -std=c++20 -O2 -Wall -Wextra -o practice_03b practice_03b.cpp && echo \"3 8 12 16\" | ./practice_03b && echo \"4 352 32 160 608\" | ./practice_03b && echo \"5 320 480 240 800 32\" | ./practice_03b && echo \"2 19 101\" | ./practice_03b) > nil && test $? -eq 0 && echo -e \"\\033[32;1mAC\" || echo -e \"\\033[31;1mWA\""
      ],
      "metadata": {
        "cellView": "form",
        "id": "8uKE9iQPPfY3"
      },
      "execution_count": null,
      "outputs": []
    },
    {
      "cell_type": "code",
      "source": [
        "# @title 🔒解答例(どうしても問題を解けない場合に見てください)\n",
        "%%writefile practice_03b.cpp\n",
        "#include <iostream>\n",
        "#include <vector>\n",
        "using namespace std;\n",
        "\n",
        "int main() {\n",
        "  // この下に、1～7を行うプログラムを書く\n",
        "  int n;\n",
        "  cin >> n;\n",
        "\n",
        "  vector<int> v(n);\n",
        "  for (int i = 0; i < n; i++) {\n",
        "    cin >> v[i];\n",
        "  }\n",
        "\n",
        "  int count = 0;\n",
        "  bool lock = false;\n",
        "\n",
        "  // 二重forから抜けるために、breakを2回使っている\n",
        "  for (;;) {\n",
        "    for (int i = 0; i < n; i++) {\n",
        "      if (v[i] % 2) {\n",
        "        lock = true; // 内側のforを終了\n",
        "        break;\n",
        "      }\n",
        "      v[i] /= 2;\n",
        "    }\n",
        "\n",
        "    if (lock) {\n",
        "      break; // 外側のforを終了\n",
        "    }\n",
        "\n",
        "    count++;\n",
        "  }\n",
        "\n",
        "  cout << count << endl;\n",
        "}"
      ],
      "metadata": {
        "cellView": "form",
        "id": "GyFXxtJePfY3"
      },
      "execution_count": null,
      "outputs": []
    }
  ]
}