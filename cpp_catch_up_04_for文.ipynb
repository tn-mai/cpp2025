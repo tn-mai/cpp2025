{
  "nbformat": 4,
  "nbformat_minor": 0,
  "metadata": {
    "colab": {
      "provenance": [],
      "toc_visible": true
    },
    "kernelspec": {
      "name": "python3",
      "display_name": "Python 3"
    },
    "language_info": {
      "name": "python"
    }
  },
  "cells": [
    {
      "cell_type": "markdown",
      "source": [
        "# for文"
      ],
      "metadata": {
        "id": "X4L1-1Pwzjqo"
      }
    },
    {
      "cell_type": "markdown",
      "source": [
        "## キーポイント\n",
        "\n",
        "* `for`文を使うと繰り返し処理ができる\n",
        "* `for (初期化;条件式;更新) { 処理 }`の形式で書く\n",
        "* 「初期化」は最初に一度だけ実行される\n",
        "* 初期化が実行されたあとは、「条件式→処理→更新」の順で繰り返し実行される\n",
        "* 条件式が偽になると繰り返しが終了する\n",
        "* `break`を使うと強制的に繰り返しを終了できる"
      ],
      "metadata": {
        "id": "nLsoW5cGA_En"
      }
    },
    {
      "cell_type": "markdown",
      "source": [
        "## 1 for文"
      ],
      "metadata": {
        "id": "J-lp0nbc5qPD"
      }
    },
    {
      "cell_type": "markdown",
      "source": [
        "### 1.1 for文の書きかた\n",
        "\n",
        "`for`(フォー)文は「N回処理する」というような繰り返し処理でよくあるパターンを書くための構文です。\n",
        "\n",
        "`for`文は次のように書き、条件式が真のとき処理を繰り返し続けます。\n",
        "\n",
        "```cpp\n",
        "for (初期化; 条件式; 更新) {\n",
        "  処理\n",
        "}\n",
        "```\n",
        "\n",
        "3回繰り返すプログラムを`for`文で書くと次のようになります。\n",
        "\n",
        "**コード**\n",
        "\n",
        "```cpp\n",
        "#include <iostream>\n",
        "using namespace std;\n",
        "\n",
        "int main() {\n",
        "  for (int i = 0; i < 3; i++) {\n",
        "    cout << \"Hello for: \" << i << endl;\n",
        "  }\n",
        "}\n",
        "```\n",
        "\n",
        "**実行結果**\n",
        "\n",
        "```txt\n",
        "Hello for: 0\n",
        "Hello for: 1\n",
        "Hello for: 2\n",
        "```\n",
        "\n",
        "この`for`文が実行される順序は次のとおりです。\n",
        "\n",
        ">1. `for`文の実行を開始\n",
        ">2. 初期化の`int i = 0;`を実行\n",
        ">3. 条件式の`i < 3`が偽なら6番へ\n",
        ">4. 処理の`cout << Hello for: \" << i << endl;`を実行\n",
        ">5. 3番に戻る\n",
        ">6. `for`文を終了\n",
        "\n",
        "<img alt=\"for文のイラスト\" src=\"https://img.atcoder.jp/APG4b-hidden/1.png\" />\n"
      ],
      "metadata": {
        "id": "zpmiAJnUzt19"
      }
    },
    {
      "cell_type": "markdown",
      "source": [
        "### 1.2 N回の繰り返し処理\n",
        "\n",
        "for文を使うとき、ほとんどは「N回の繰り返し処理」のパターンです。\n",
        "はじめのうちは、動作の細かい部分までは分からないと思います。そこで、とりあえずこのパターンを覚えるところから始めましょう。\n",
        "\n",
        "```cpp\n",
        "for (int i = 0; i < N; i++) {\n",
        "  処理\n",
        "}\n",
        "```\n",
        "\n",
        "「N回の繰り返し処理」のfor文を使うときは、「初期化」「条件式」「更新」の細かい動作を考えないようにしましょう。よりおおざっぱに、\n",
        "\n",
        ">`for`文は、変数`i`の値が`1`ずつ増えながら、`N`回処理を繰り返す機能\n",
        "\n",
        "と考えた方が、`for`文を使うプログラムを書きやすくなります。\n",
        "\n",
        "また、ループでどう書けばよいか分からなくなったときは、まずループを使わずにプログラムを書いてみて、その後ループで書き直すという方法を試してください。以下の2つのプログラムはその例です。\n",
        "\n",
        "**ループを使わないプログラム**\n",
        "\n",
        "```cpp\n",
        "cout << \"hello for :\" << 0 << endl;\n",
        "cout << \"hello for :\" << 1 << endl;\n",
        "cout << \"hello for :\" << 2 << endl;\n",
        "```\n",
        "\n",
        "**ループで書き直したプログラム**\n",
        "\n",
        "```cpp\n",
        "for (int i = 0; i < 3; i++) {\n",
        "  cout << \"hello for :\" << i << endl;\n",
        "}\n",
        "```"
      ],
      "metadata": {
        "id": "8btE54cY3-J2"
      }
    },
    {
      "cell_type": "markdown",
      "source": [
        "### 1.3 逆順のループ\n",
        "\n",
        "プログラムによっては「`0`から`N`まで」の逆で「`N`から`0`まで」ループさせたい、という場合があります。例えば「`2`から`0`まで逆順で`3`回ループしたい」場合は、次のように書きます。\n",
        "\n",
        "**コード**\n",
        "\n",
        "```cpp\n",
        "for (int i = 2; i >= 0; i--) {\n",
        "  cout << \"hello for :\" << i << endl;\n",
        "}\n",
        "```\n",
        "\n",
        "**実行例**\n",
        "\n",
        "```txt\n",
        "hello for : 2\n",
        "hello for : 1\n",
        "hello for : 0\n",
        "```"
      ],
      "metadata": {
        "id": "mlZiFGXYk1jg"
      }
    },
    {
      "cell_type": "markdown",
      "source": [
        "### 1.4 breakとcontinue\n",
        "\n",
        "`for`文を制御するキーワードとして、`break`(ブレイク)と`continue`(コンティニュー)があります。\n",
        "\n",
        "**breakについて**\n",
        "\n",
        "`break`はループを途中で抜けるための命令です。以下は`break`を使ったプログラムの例です。\n",
        "\n",
        "**コード**\n",
        "\n",
        "```cpp\n",
        "#include <iostream>\n",
        "using namespace std;\n",
        "\n",
        "int main() {\n",
        "\n",
        "  for (int i = 0; i < 5; i++) {\n",
        "    if (i == 3) {\n",
        "      cout << \"ぬける\" << endl;\n",
        "      break; // i == 3 の時点でループから抜ける\n",
        "    }\n",
        "    cout << i << endl;\n",
        "  }\n",
        "\n",
        "  cout << \"終了\" << endl;\n",
        "}\n",
        "```\n",
        "\n",
        "**実行結果**\n",
        "\n",
        "```txt\n",
        "0\n",
        "1\n",
        "2\n",
        "ぬける\n",
        "終了\n",
        "```\n",
        "\n",
        "`if`文で`i == 3`が真になったとき、`break`が実行されることで`for`ループが終了します。その後、「終了」が出力されます。\n",
        "\n",
        "**continueについて**\n",
        "\n",
        "`continue`は、以降の処理をとばして繰り返しを続けさせるためのキーワードです。以下は`continue`を使ったプログラムの例です。\n",
        "\n",
        "**コード**\n",
        "\n",
        "```cpp\n",
        "#include <iostream>\n",
        "using namespace std;\n",
        "\n",
        "int main() {\n",
        "  for (int i = 0; i < 5; i++) {\n",
        "    if (i == 3) {\n",
        "      cout << \"とばす\" << endl;\n",
        "      continue; // i == 3 のとき これより後の処理をとばす\n",
        "    }\n",
        "    cout << i << endl;\n",
        "  }\n",
        "\n",
        "  cout << \"終了\" << endl;\n",
        "}\n",
        "```\n",
        "\n",
        "**実行結果**\n",
        "\n",
        "```txt\n",
        "0\n",
        "1\n",
        "2\n",
        "とばす\n",
        "4\n",
        "終了\n",
        "```\n",
        "\n",
        "上のプログラムでは、`if`文で`i == 3`が真になったとき、`continue`キーワードが実行されることで`continue`より下の処理を飛ばして、「更新」に進みます。\n",
        "\n",
        "`continue`を使う機会は`break`と比べて少ないですが、うまく使えば読みやすいプログラムを書く助けになります。\n",
        "\n"
      ],
      "metadata": {
        "id": "b7MKJ3MV7TZl"
      }
    },
    {
      "cell_type": "markdown",
      "source": [
        "### 1.5 多重for文\n",
        "\n",
        "`if`文と同様に、`for`文もネストさせることができます。そのような書き方をした`for`文は「多重`for`」や「多重ループ」と呼ばれます。\n",
        "\n",
        "以下は２重ループの例です。\n",
        "\n",
        "**コード**\n",
        "\n",
        "```cpp\n",
        "#include <iostream>\n",
        "using namespace std;\n",
        "\n",
        "int main() {\n",
        "\n",
        "  for (int a = 0; a < 2; a++) {\n",
        "    for (int b = 0; b < 3; b++) {\n",
        "      cout << \"a: \" << i << \", b:\" << j << endl;\n",
        "    }\n",
        "  }\n",
        "\n",
        "}\n",
        "```\n",
        "\n",
        "**実行例**\n",
        "\n",
        "```txt\n",
        "a:0, b:0\n",
        "a:0, b:1\n",
        "a:0, b:2\n",
        "a:1, b:0\n",
        "a:1, b:1\n",
        "a:1, b:2\n",
        "```\n",
        "\n",
        "実行結果を見ると、まず`b`が`0`から`2`まで順番に増えていき、また`0`に戻るという動作を繰り返していることが分かります。そして、`b`が`0`に戻るのと同時に、`a`が`1`増えています。\n",
        "\n",
        "つまり、`a`が`1`回増えるあいだに`b`は`3`回増えて`0`に戻る、という動作をしているわけです。\n",
        "\n",
        "多重ループの総実行回数は、すべてのループの実行回数`N`を掛け合わせた値になります。この例の場合は`2×3`なので、処理は`6`回実行されます。\n",
        "\n",
        ">**【`for`で使われがちな変数`i`について】**<br>\n",
        ">この`i`は`index`(インデックス)の頭文字です。また、多重ループで`j`や`k`が使われるのは、アルファベット順で`i`の続きにある文字だからです。ただ、`i`と`j`は見間違えやすいので、多重ループでは間違えにくい`a`, `b`, `c`を使うことをおすすめします。"
      ],
      "metadata": {
        "id": "94GcTw2B8rsh"
      }
    },
    {
      "cell_type": "markdown",
      "source": [
        "## 2 練習問題\n",
        "\n",
        "以下の手順にしたがって、4つのプログラムを完成させなさい。<br>\n",
        "うまく完成できていたら、出力セルには`AC`とだけ表示されます。<br>\n",
        "間違っている場合は`WA`と表示されます(エラーメッセージが表示される場合もあります)。\n",
        "\n",
        "1. `%%writefile ...`の下の行からがプログラムです。ここにプログラムを追加します。\n",
        "2. プログラムを追加したら、セルの右側にある`▶`をクリックします。すると、ファイルが保存されます。\n",
        "3. 「実行」セルをクリックすると、下側に`▶`が表示されます。<br>\n",
        "   表示された`▶`クリックすると、2で保存したファイルがコンパイル＆実行され、実行結果が表示されます。\n",
        "4. 実行結果が`AC`だけになったらプログラムは完成です。次の問題に進んでください。"
      ],
      "metadata": {
        "id": "idPNDs8r8mAT"
      }
    },
    {
      "cell_type": "markdown",
      "source": [
        "### 問題１\n",
        "\n",
        "次のプログラムを、`for`文を使うように書き換えなさい。"
      ],
      "metadata": {
        "id": "ctrq1fr47Uro"
      }
    },
    {
      "cell_type": "code",
      "source": [
        "%%writefile practice_01.cpp\n",
        "#include <iostream>\n",
        "using namespace std;\n",
        "\n",
        "int main() {\n",
        "\n",
        "  cout << 0 << endl;\n",
        "  cout << 1 << endl;\n",
        "  cout << 2 << endl;\n",
        "  cout << 3 << endl;\n",
        "  cout << 4 << endl;\n",
        "}"
      ],
      "metadata": {
        "id": "wweXlJgGmIOi",
        "colab": {
          "base_uri": "https://localhost:8080/"
        },
        "outputId": "983111ee-ba4c-43cf-99e7-4d34f780ce69"
      },
      "execution_count": null,
      "outputs": [
        {
          "output_type": "stream",
          "name": "stdout",
          "text": [
            "Overwriting practice_01.cpp\n"
          ]
        }
      ]
    },
    {
      "cell_type": "code",
      "source": [
        "# @title 実行\n",
        "!diff -Z <(echo -e \"0\\n1\\n2\\n3\\n4\") <(g++ practice_01.cpp -o practice_01 -Wall && ./practice_01) > nil && test $? -eq 0 && echo -e \"\\033[32;1mAC\" || echo -e \"\\033[31;1mWA\""
      ],
      "metadata": {
        "colab": {
          "base_uri": "https://localhost:8080/"
        },
        "cellView": "form",
        "id": "mCxmVPh7ZBxA",
        "outputId": "2ccc6f57-7174-4569-b5a7-ff0eee5dffe6"
      },
      "execution_count": null,
      "outputs": [
        {
          "output_type": "stream",
          "name": "stdout",
          "text": [
            "AC\n"
          ]
        }
      ]
    },
    {
      "cell_type": "markdown",
      "source": [
        "### 問題２\n",
        "\n",
        "`n`個の`#`記号を表示するプログラムを作成しなさい。<br>\n",
        "例えば`n = 3`のときは`###`、`n = 5`のときは`#####`と表示します。<br>\n",
        "すべての`#`記号を出力したら、最後に`endl`で「改行」を出力すること。"
      ],
      "metadata": {
        "id": "MhYGs0EmgOfA"
      }
    },
    {
      "cell_type": "code",
      "source": [
        "%%writefile practice_02.cpp\n",
        "#include <iostream>\n",
        "using namespace std;\n",
        "\n",
        "int main() {\n",
        "\n",
        "  int n;\n",
        "  cin >> n;\n",
        "\n",
        "  // この下に、n個の'#'を表示するプログラムを書く\n",
        "}"
      ],
      "metadata": {
        "colab": {
          "base_uri": "https://localhost:8080/"
        },
        "id": "NWd5pamHjyb4",
        "outputId": "39588b6b-2f43-4bcc-f582-41f19e194e0f"
      },
      "execution_count": null,
      "outputs": [
        {
          "output_type": "stream",
          "name": "stdout",
          "text": [
            "Overwriting practice_02.cpp\n"
          ]
        }
      ]
    },
    {
      "cell_type": "code",
      "source": [
        "# @title 実行\n",
        "!diff -Z <(echo -e \"#\\n###\\n#########\") <(g++ practice_02.cpp -o practice_02 -Wall && echo 1 | ./practice_02 && echo 3 | ./practice_02 && echo 9 | ./practice_02) > nil && test $? -eq 0 && echo -e \"\\033[32;1mAC\" || echo -e \"\\033[31;1mWA\""
      ],
      "metadata": {
        "colab": {
          "base_uri": "https://localhost:8080/"
        },
        "cellView": "form",
        "id": "0tmWjowClFdB",
        "outputId": "69b9a5a4-5a39-4723-a507-299825524706"
      },
      "execution_count": null,
      "outputs": [
        {
          "output_type": "stream",
          "name": "stdout",
          "text": [
            "WA\n"
          ]
        }
      ]
    },
    {
      "cell_type": "markdown",
      "source": [
        "### 問題３\n",
        "\n",
        "`n`個の数値が与えられるので、すべての数値の合計を出力するプログラムを作成しなさい。<br>\n",
        "例えば`n = 2`, `数値 = 1, 3`の場合、`4`を出力します。<br>\n",
        "合計を出力したあと、`endl`で「改行」を出力すること。\n",
        "\n",
        "ヒント: `for`文の「処理」部分に`cin`を書くと、数値をひとつずつ読み込めます。"
      ],
      "metadata": {
        "id": "hCo1RPbGmcNl"
      }
    },
    {
      "cell_type": "code",
      "source": [
        "%%writefile practice_03.cpp\n",
        "#include <iostream>\n",
        "using namespace std;\n",
        "\n",
        "int main() {\n",
        "\n",
        "  int n;\n",
        "  cin >> n;\n",
        "\n",
        "  // この下に、n個の数値を読み込んで合計を出力するプログラムを書く\n",
        "}"
      ],
      "metadata": {
        "colab": {
          "base_uri": "https://localhost:8080/"
        },
        "id": "SQbOeEkameEL",
        "outputId": "24e67b17-0ef3-4ce6-ded2-f8689cde1ee9"
      },
      "execution_count": null,
      "outputs": [
        {
          "output_type": "stream",
          "name": "stdout",
          "text": [
            "Overwriting practice_03.cpp\n"
          ]
        }
      ]
    },
    {
      "cell_type": "code",
      "source": [
        "# @title 実行\n",
        "!diff -Z <(echo -e \"3\\n5\\n10\") <(g++ practice_03.cpp -o practice_03 -Wall && echo 2 1 2 | ./practice_03 && echo 5 1 1 1 1 1 | ./practice_03 && echo 1 10 | ./practice_03) > nil && test $? -eq 0 && echo -e \"\\033[32;1mAC\" || echo -e \"\\033[31;1mWA\""
      ],
      "metadata": {
        "colab": {
          "base_uri": "https://localhost:8080/"
        },
        "cellView": "form",
        "id": "0lDXwh_FMCfD",
        "outputId": "c5042e2c-8cf3-4a88-9722-da882accf702"
      },
      "execution_count": null,
      "outputs": [
        {
          "output_type": "stream",
          "name": "stdout",
          "text": [
            "AC\n"
          ]
        }
      ]
    },
    {
      "cell_type": "markdown",
      "source": [
        "### 問題４\n",
        "\n",
        "九九の表を出力するプログラムを作成しなさい。\n",
        "\n",
        "* 数値の前に、1文字の半角空白を出力すること。\n",
        "* 数値が一桁の場合、さらに1文字の半角空白を出力すること(合計2文字)。\n",
        "\n",
        "**出力例：**\n",
        "\n",
        "```txt\n",
        " 1  2  3  4  5  6  7  8  9\n",
        " 2  4  6  8 10 12 14 16 18\n",
        " 3  6  9 12 15 18 21 24 27\n",
        " 4  8 12 16 20 24 28 32 26\n",
        " 5 10 15 20 25 30 35 40 45\n",
        " 6 12 18 24 30 36 42 48 54\n",
        " 7 14 21 28 35 42 49 56 63\n",
        " 8 16 24 32 40 48 56 64 72\n",
        " 9 18 27 36 45 54 63 72 81\n",
        "```\n"
      ],
      "metadata": {
        "id": "Aeps-ULkgIJF"
      }
    },
    {
      "cell_type": "code",
      "source": [
        "%%writefile practice_04.cpp\n",
        "#include <iostream>\n",
        "using namespace std;\n",
        "\n",
        "int main() {\n",
        "\n",
        "  // この下に、九九の表を出力するプログラムを書く\n",
        "}"
      ],
      "metadata": {
        "colab": {
          "base_uri": "https://localhost:8080/"
        },
        "outputId": "6cda7d4f-6b88-44ad-aa32-f81977b6b2b4",
        "id": "WQXO5DOwhvE9"
      },
      "execution_count": null,
      "outputs": [
        {
          "output_type": "stream",
          "name": "stdout",
          "text": [
            "Overwriting practice_04.cpp\n"
          ]
        }
      ]
    },
    {
      "cell_type": "code",
      "source": [
        "# @title 実行\n",
        "!diff -Z <(echo -e \"  1  2  3  4  5  6  7  8  9\\n  2  4  6  8 10 12 14 16 18\\n  3  6  9 12 15 18 21 24 27\\n  4  8 12 16 20 24 28 32 36\\n  5 10 15 20 25 30 35 40 45\\n  6 12 18 24 30 36 42 48 54\\n  7 14 21 28 35 42 49 56 63\\n  8 16 24 32 40 48 56 64 72\\n  9 18 27 36 45 54 63 72 81\") <(g++ practice_04.cpp -o practice_04 -Wall && ./practice_04) > nil && test $? -eq 0 && echo -e \"\\033[32;1mAC\" || echo -e \"\\033[31;1mWA\""
      ],
      "metadata": {
        "colab": {
          "base_uri": "https://localhost:8080/"
        },
        "cellView": "form",
        "outputId": "1d707569-04aa-4b25-8a8f-7c48066cb63b",
        "id": "6W9lyMsChvE-"
      },
      "execution_count": null,
      "outputs": [
        {
          "output_type": "stream",
          "name": "stdout",
          "text": [
            "AC\n"
          ]
        }
      ]
    }
  ]
}