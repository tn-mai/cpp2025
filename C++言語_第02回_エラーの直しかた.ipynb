{
  "nbformat": 4,
  "nbformat_minor": 0,
  "metadata": {
    "colab": {
      "provenance": [],
      "toc_visible": true
    },
    "kernelspec": {
      "name": "python3",
      "display_name": "Python 3"
    },
    "language_info": {
      "name": "python"
    }
  },
  "cells": [
    {
      "cell_type": "markdown",
      "source": [
        "# エラーの直しかた\n"
      ],
      "metadata": {
        "id": "_BBrROINz3tR"
      }
    },
    {
      "cell_type": "markdown",
      "source": [
        "## キーポイント\n",
        "\n",
        "* プログラムは「書く→実行→正しく動作することを確認」まで行って、初めて完成する\n",
        "* **コンパイルエラー**は文法のエラーで、プログラムは実行されない\n",
        "* **実行時エラー**は内容のエラーで、プログラムは強制終了される\n",
        "* **論理エラー**は内容のエラーで、プログラムは実行されるが結果が間違っている\n",
        "* エラーメッセージは以下の形式で出力される\n",
        "  ```txt\n",
        "  ファイル名:行:文字目: エラーメッセージ\n",
        "  ```\n",
        "* エラーメッセージの先頭に書かれている「ファイル名:行:文字目」は、エラーの発生位置をあらわす\n",
        "* エラーを修正するには「実行して動作を確認」したり、「Webで検索」する\n",
        "* エラーメッセージが複数表示された場合は、最初のエラーから直す"
      ],
      "metadata": {
        "id": "TaEmQPLdzeYJ"
      }
    },
    {
      "cell_type": "markdown",
      "source": [
        "----\n",
        "\n",
        "## 1 プログラムのエラー\n",
        "\n",
        "----\n",
        "\n",
        "最初のうちは、プログラムを書き終えると「プログラムが完成した」と思ってしまうかもしれません。<br>\n",
        "ですが、プログラムを書き終えることは、プログラミングの最初の半分でしかありません。<br>\n",
        "プログラムを実行し、その動作が正しいことを確認できたとき、はじめて「プログラムが完成した」といえるのです。\n",
        "\n",
        "多くの場合、書き終えたばかりのプログラムを実行すると、何らかのエラーが報告されます。<br>\n",
        "このとき、「エラーの原因を解明して修正できること」はプログラマーの重要な技能です。これが、プログラミングの残り半分です。\n",
        "\n",
        "さて、プログラムで発生する主なエラーは、次の３種類です。\n",
        "\n",
        "- コンパイルエラー\n",
        "- 実行時エラー\n",
        "- 論理エラー\n",
        "\n",
        "以下、それぞれについて説明します。"
      ],
      "metadata": {
        "id": "SSooJ6rQ2AY3"
      }
    },
    {
      "cell_type": "markdown",
      "source": [
        "### 1.1 コンパイルエラー\n",
        "\n",
        "コンパイルエラーは、「書いたプログラムの文法にミスがあった」ときに発生するエラーです。<br>\n",
        "全角文字がプログラム中に入り込んだり、文末の`;`を忘れたときなどにコンパイルエラーが発生します。\n",
        "\n",
        "日本語や英語のような普通の言語では、文法的に少し崩れた文でも意図が通じます。<br>\n",
        "しかし、プログラミング言語では「文法」が厳密に決められています。<br>\n",
        "そのため、書いたプログラムの文法がほんの少しでも間違っていると、そのプログラムは動きません。\n",
        "\n",
        "コンパイルエラーが起きた場合、プログラムは一切動作しません。"
      ],
      "metadata": {
        "id": "Mgxb8keC0VIp"
      }
    },
    {
      "cell_type": "markdown",
      "source": [
        "### 1.2 実行時エラー\n",
        "\n",
        "「プログラムを動かす」ことを「プログラムを実行する」といいます。\n",
        "\n",
        "実行時エラーは、「プログラムの文法に間違いはなかったが、内容に致命的な間違いがあった」ときに発生するエラーです。\n",
        "\n",
        "具体的には`3 / 0`のように`0`で割ってしまったり、ゲームから除去されたはずのアイテムを使おうとした、などの場合に発生します。<br>\n",
        "アプリやゲーム等が強制終了してしまったとき、多くの場合実行時エラーが発生しています。\n",
        "\n",
        "実行時エラーが起きた場合、実行時エラーが起きる直前までプログラムは動作しますが、エラー以降は動かなくなってしまいます。<br>\n",
        "最悪、データが壊れてプログラムが動かなくなる可能性まで考えられます。"
      ],
      "metadata": {
        "id": "_8VN43o40QX8"
      }
    },
    {
      "cell_type": "markdown",
      "source": [
        "### 1.3 論理エラー\n",
        "\n",
        "論理エラーは、「プログラムは一見正しく動作しているが、その動作が実は間違っている」というエラーです。\n",
        "\n",
        "例えば「400円のイチゴパックと100円のリンゴを買ったときに払うお金」を計算するプログラムは`400 + 100`と書かれるべきです。<br>\n",
        "ところが、タイプミスで`400 - 100`と書いてしまった場合などは、論理エラーに当たります。\n",
        "\n",
        "論理エラーが起きてしまう原因はさまざまで、処理内容を勘違いしていたり、タイピングのミスだったり、プログラム自体ではなく読み込んだデータに問題があったりします。一見すると、なんの問題なく動作しているように見えるプログラムでも、くわしく調べてみると論理エラーが起きている、ということはよくあります。"
      ],
      "metadata": {
        "id": "Un8YKwUM0Mpb"
      }
    },
    {
      "cell_type": "markdown",
      "source": [
        "### 1.4 エラーの直し方\n",
        "\n",
        "エラーを修正することを「デバッグ」といいます。デバッグは、次の手順を繰り返します。\n",
        "\n",
        "1. 実行してエラーメッセージや出力を確認。\n",
        "2. エラーメッセージや間違った出力がされるようならプログラムを修正し、1に戻る。\n",
        "3. エラーメッセージがなくなり、出力が想定通りになったら修正完了。\n",
        "\n",
        "エラーメッセージが表示されたとき、自分で調べて原因が分かる場合はいいのですが、なかなか原因が分からないことも多いです。<br>\n",
        "そんなときは、近くの誰か相談したり、エラーメッセージをコピー＆ペーストしてWeb検索したり、AIに聞いてみるとよいでしょう。\n",
        "\n",
        "特にコンパイルエラーは文法の問題なので、インターネットに多くの情報があります。そのため、Web検索やAIによって原因が分かることが多いです。\n",
        "\n",
        "調べてみてもよくわからない場合は、いろんな人に相談してみましょう。無意識の思い込みのために、自分では気づかなかった問題を見つけてもらえるかもしれません。\n",
        "\n",
        ">**【ラバーダック・デバッグ】**<br>\n",
        ">ラバーダック・デバッグは、「アヒルちゃん人形に向かってプログラムを1行ずつ説明することで、プログラムと説明の矛盾点に気づきやすくなる」というデバッグ手法です。<br>\n",
        ">誰かに相談するとエラーの原因を見つけやすくなるのは、「他者に説明する」という行為が「プログラムを別の視点から見る」ことにつながるからです。このとき、「他者」は人間でなくとも構いません。相談役を人間以外にすると、他人をわずらわせることなくデバッグできる、という利点があります。<br>\n",
        ">(よく「アヒルちゃん人形」が使われるのは、最初にこの手法を紹介した本でアヒルちゃんが使われていたからです)\n"
      ],
      "metadata": {
        "id": "5wXtOIAT0Idj"
      }
    },
    {
      "cell_type": "markdown",
      "source": [
        "----\n",
        "\n",
        "## 2 コンパイルエラーの例\n",
        "\n",
        "----\n",
        "\n",
        "コンパイルエラーはさまざまな原因で起こりますが、その中でも、よくある3つの例を紹介します。\n",
        "\n",
        "- 行末のセミコロンの打ち忘れ\n",
        "- 全角スペース\n",
        "- 大量のエラーや謎のエラー\n",
        "\n",
        "コンパイルエラーの内容は英語で表示されますが、英語が読める必要はありません(読めたほうがいいですが)。<br>\n",
        "エラーメッセージに使われる英単語はそれほど多くないので、いくつかパターンを覚えてなんとなく原因が推測できれば十分です。"
      ],
      "metadata": {
        "id": "95QP6W39hWwy"
      }
    },
    {
      "cell_type": "markdown",
      "source": [
        "### 2.1 セミコロンの付け忘れ\n",
        "\n",
        "セミコロン`;`が必要な行の末尾に、セミコロンを付け忘れるエラーです。<br>\n",
        "次のプログラムでは、`endl`の後にセミコロンを付けるのを忘れてしまっています。\n",
        "\n",
        "**コード**\n",
        "\n",
        "```cpp\n",
        "#include <iostream>\n",
        "using namespace std;\n",
        "\n",
        "int main() {\n",
        "  cout << \"Hello, world!\" << endl\n",
        "}\n",
        "```\n",
        "\n",
        "**コンパイル結果**\n",
        "\n",
        "```txt\n",
        "Main.cpp: In function ‘int main()’:\n",
        "Main.cpp:5:34: error: expected ‘;’ before ‘}’ token\n",
        "    5 |   cout << \"Hello, world!\" << endl\n",
        "      |                                  ^\n",
        "      |                                  ;\n",
        "    6 | }\n",
        "      | ~\n",
        "```\n",
        "\n",
        "多くのエラーメッセージは`ファイル名:行:文字数: error: エラーの内容`の形式になっています。<br>\n",
        "上記の場合、2行目の`Main.cpp:5:34:`の部分は「`Main.cpp`の`5`行目の`34`文字目」でエラーが起きたことを示しています。\n",
        "\n",
        "そのあとに続く`error: expected ‘;’ before ‘}’ token`の部分が「エラーの内容」です。<br>\n",
        "セミコロン忘れのコンパイルエラーの場合、`expected ‘;’ before ...`というメッセージが表示されるのが特徴です。\n",
        "\n",
        "ここでのキーワードは`expected`(エクスペクテッド)で、この単語は「予想される、あるべき」という意味です。つまり、このメッセージは「...の前に`;`があるべき」という意味になります。<br>\n",
        "\n",
        "`expected`という単語を見たら、文法的にあるはずのものがない、という種類のエラーだと覚えてください。\n",
        "\n",
        "**エラーが起きた行の内容**\n",
        "\n",
        "また、エラーメッセージの下には「エラーが起きた行の内容」が表示されます。\n",
        "\n",
        "```c++\n",
        "5 |   cout << \"Hello, world!\" << endl\n",
        "  |                                  ^\n",
        "  |                                  ;\n",
        "6 | }\n",
        "  | ~\n",
        "```\n",
        "\n",
        "エラーの起きた文字の位置は、`^`記号の上です。この例では、`endl`の直後に「何か」が足りないこと、そして、その下に「足りないのは`;`ではないか？」というコンピュータの予想が示されています。\n",
        "\n",
        ">`行:文字数`や`^`記号が示す位置は、実際にエラーを起こした文字から少しずれることがあります。<br>\n",
        ">エラーメッセージに示された位置の前後も調べるようにしましょう。\n"
      ],
      "metadata": {
        "id": "cz4QKwPOxJhW"
      }
    },
    {
      "cell_type": "markdown",
      "source": [
        "### 2.2 全角文字\n",
        "\n",
        "全角文字を紛れ込ませてしまうケースです。日本語を入力したあと「半角モード」に戻し忘れた場合に起こりがちです。<br>\n",
        "とはいえ、現代の大抵のプログラミング環境ではエディタが警告してくれます。そのため、比較的防ぎやすいエラーだと言えるでしょう。\n",
        "\n",
        "#### 全角スペース\n",
        "\n",
        "次のプログラムでは、`cout`の前に全角スペースが紛れ込んでいます。\n",
        "\n",
        "**コード**\n",
        "\n",
        "```cpp\n",
        "#include <iostream>\n",
        "using namespace std;\n",
        "\n",
        "int main() {\n",
        "//↓に全角スペース\n",
        "　cout << \"Hello, world!\" << endl;\n",
        "}\n",
        "```\n",
        "\n",
        "**コンパイル結果**\n",
        "\n",
        "```txt\n",
        "Main.cpp:6:1: error: extended character 　 is not valid in an identifier\n",
        "    6 | 　cout << \"Hello, world!\" << endl;\n",
        "      | ^\n",
        "Main.cpp: In function ‘int main()’:\n",
        "Main.cpp:6:1: error: ‘　cout’ was not declared in this scope\n",
        "    6 | 　cout << \"Hello, world!\" << endl;\n",
        "      | ^~~~~~\n",
        "```\n",
        "\n",
        "上記のケースでは、最初に`Main.cpp:6:1:`と書いてあります。この部分は、「`Main.cpp`の`6`行目の`1`文字目にエラーがある」ことを示しています。その後の`error:`という部分は、これが「エラーに関するメッセージ」であることを示します。<br>\n",
        "そして、続く` extended character is not valid in an identifier`という部分がエラーの内容です。\n",
        "\n",
        "ここでのキーワードは`extended character`(エクステンデッド・キャラクター)で、これは「拡張文字」という意味です。\n",
        "\n",
        "なお、このエラーは「拡張文字は識別子として有効ではありません」という意味になります。\n",
        "\n",
        "次に「エラーが起きた行の内容」を見てみましょう。\n",
        "\n",
        "```c++\n",
        "6 | 　cout << \"Hello, world!\" << endl;\n",
        "  | ^\n",
        "```\n",
        "\n",
        "エラーの起きた文字の位置は、`^`記号の上でしたね。この例では、`cout`の前に「見えないけれどエラーになる文字」があることが予想できます。\n",
        "\n",
        "このように、`extended character`で始まるエラーは「プログラムで使えない文字が入力された」場合に表示されます。\n",
        "\n",
        "#### 全角ダブルクォーテーション\n",
        "\n",
        "もうひとつ、文字列の最後に付ける`\"`(ダブルクォーテーション)を全角にしてしまった例を見てみましょう。\n",
        "\n",
        "**コード**\n",
        "\n",
        "```cpp\n",
        "#include <iostream>\n",
        "using namespace std;\n",
        "\n",
        "int main() {\n",
        "                      //↓が全角ダブルクォーテーション\n",
        "  cout << \"Hello, world!” << endl;\n",
        "}\n",
        "```\n",
        "\n",
        "**コンパイル結果**\n",
        "\n",
        "```txt\n",
        "Main.cpp:5:11: warning: missing terminating \" character\n",
        "    5 |   cout << \"Hello, world!” << endl;\n",
        "      |           ^\n",
        "Main.cpp:5:11: error: missing terminating \" character\n",
        "    5 |   cout << \"Hello, world!” << endl;\n",
        "      |           ^~~~~~~~~~~~~~~~~~~~~~~~\n",
        "Main.cpp: In function ‘int main()’:\n",
        "Main.cpp:6:1: error: expected primary-expression before ‘}’ token\n",
        "    6 | }\n",
        "      | ^\n",
        "```\n",
        "\n",
        "上記のエラーでは、最初に`Main.cpp:5:11:`と書いてあるので、「`Main.cpp`の`5`行目の`11`文字目にエラーがある」ことが分かります。<br>\n",
        "その後の`warning:`という部分は、これが「警告」であることを示します。<br>\n",
        "警告はエラーではないのですが、放置すると論理エラーの原因になることが多いため、結局は直さなくてはなりません。\n",
        "\n",
        "ここでのキーワードは`missing ...`(ミッシング ...)という部分です。これは「何かが足りない」という意味で、「文法上あるべきものがない」ことを示しています。<br>\n",
        "エラーの内容を見てみましょう。\n",
        "\n",
        "```txt\n",
        "    5 |   cout << \"Hello, world!” << endl;\n",
        "      |           ^\n",
        "```\n",
        "\n",
        "この内容は、`Hello, world!`の最初の`\"`記号を指しています。<br>\n",
        "これは、「文章は`\"`で囲む必要があるのに、最初の`\"`だけがあって終わりの`\"`が見つからない」と言っています。\n",
        "\n",
        "一見する、終わりの`\"`もあるように見えるので、「このコンピューターおかしくなった？」と思ってしまいますが、もちろんそんなことはありません。こういう場合、「足りない文字が全角になっている」ことが多いです。\n",
        "\n",
        "このように`missing`という単語は「何かが足りない」ことを示します。<br>\n",
        "あるべきものがない、という点で、セミコロンの付け忘れで表示された`expected`と同じと考えて構いません。\n",
        "\n",
        ">`missing`も`expected`も、「あるべきものがない」ということを示すエラーです。\n"
      ],
      "metadata": {
        "id": "2o3Zb6DdxSla"
      }
    },
    {
      "cell_type": "markdown",
      "source": [
        "### 2.3 大量のエラー・原因が分かりにくいエラー\n",
        "\n",
        "一つのミスで大量のエラーメッセージが出てくることもあります。また、エラーメッセージが直接的な原因を示していないことがあります。その場合は「一番最初のエラー」が指し示している場所を見て、原因を推測しましょう。\n",
        "\n",
        "次のプログラムでは`endl`の直前の`<<`を`<`と書いてしまっています。<br>\n",
        "ところが、たった1文字しかタイプミスしていないのに、大量のエラーメッセージが表示されます。\n",
        "\n",
        "**コード**\n",
        "\n",
        "```cpp\n",
        "#include <iostream>\n",
        "using namespace std;\n",
        "\n",
        "int main() {\n",
        "  cout << \"hello\" < endl;\n",
        "}\n",
        "```\n",
        "\n",
        "**コンパイル結果**\n",
        "\n",
        "```txt\n",
        "many_error.cpp: In function ‘int main()’:\n",
        "many_error.cpp:5:19: error: no match for ‘operator<’ (operand types are ‘std::basic_ostream<char>’ and ‘<unresolved overloaded function type>’)\n",
        "    5 |   cout << \"hello\" < endl;\n",
        "      |   ~~~~~~~~~~~~~~~~^~~~~~\n",
        "In file included from /usr/include/c++/11/bits/stl_algobase.h:64,\n",
        "                 from /usr/include/c++/11/bits/char_traits.h:39,\n",
        "                 from /usr/include/c++/11/ios:40,\n",
        "                 from /usr/include/c++/11/ostream:38,\n",
        "                 from /usr/include/c++/11/iostream:39,\n",
        "                 from many_error.cpp:1:\n",
        "/usr/include/c++/11/bits/stl_pair.h:489:5: note: candidate: ‘template<class _T1, class _T2> constexpr bool std::operator<(const std::pair<_T1, _T2>&, const std::pair<_T1, _T2>&)’\n",
        "  489 |     operator<(const pair<_T1, _T2>& __x, const pair<_T1, _T2>& __y)\n",
        "      |     ^~~~~~~~\n",
        "/usr/include/c++/11/bits/stl_pair.h:489:5: note:   template argument deduction/substitution failed:\n",
        "many_error.cpp:5:21: note:   ‘std::basic_ostream<char>’ is not derived from ‘const std::pair<_T1, _T2>’\n",
        "    5 |   cout << \"hello\" < endl;\n",
        "      |                     ^~~~\n",
        "In file included from /usr/include/c++/11/bits/stl_algobase.h:67,\n",
        "                 from /usr/include/c++/11/bits/char_traits.h:39,\n",
        "                 from /usr/include/c++/11/ios:40,\n",
        "                 from /usr/include/c++/11/ostream:38,\n",
        "                 from /usr/include/c++/11/iostream:39,\n",
        "                 from many_error.cpp:1:\n",
        "/usr/include/c++/11/bits/stl_iterator.h:426:5: note: candidate: ‘template<class _Iterator> constexpr bool std::operator<(const std::reverse_iterator<_Iterator>&, const std::reverse_iterator<_Iterator>&)’\n",
        "  426 |     operator<(const reverse_iterator<_Iterator>& __x,\n",
        "      |     ^~~~~~~~\n",
        "\n",
        "(このあと何十行もエラーメッセージが続く)\n",
        "```\n",
        "\n",
        "大量のエラーメッセージが表示された場合、とりあえず一番最初のエラーメッセージだけを見ると良いです。\n",
        "\n",
        "一番最初のエラーメッセージだけを抜き出すと、次のように表示されています。\n",
        "\n",
        "```c++\n",
        "many_error.cpp: In function ‘int main()’:\n",
        "many_error.cpp:5:19: error: no match for ‘operator<’ (operand types are ‘std::basic_ostream<char>’ and ‘<unresolved overloaded function type>’)\n",
        "    5 |   cout << \"hello\" < endl;\n",
        "      |   ~~~~~~~~~~~~~~~~^~~~~~\n",
        "```\n",
        "\n",
        "「エラーの内容」には`no match for ‘operator<’...`と書かれています。`no match for`(ノー・マッチ・フォー)は「敵わない、似つかわしくない」という意味です。その直後に`operator <`(オペレーター<)とありますが、これは「小なり演算子」を意味します。\n",
        "\n",
        "全体としては「ここに`<`演算子を書くことはできない」という意味になります。<br>\n",
        "しかし、このメッセージから本当の原因である「`<<`の書き間違い」を推測するのは、少し慣れが必要でしょう。\n",
        "\n",
        "このように、エラーメッセージの内容がよくわからない場合でも、「エラーの起きた行や文字の位置」は参考になることが多いです。<br>\n",
        "この場合は`many_error.cpp:5:19:`と書いてあるので、「`many_error.cpp`の`5`行目`19`文字目」でエラーが発生していることがわかります。\n",
        "\n",
        "また、「エラーが起きた行の内容」は次のように表示されています。\n",
        "\n",
        "```c++\n",
        "5 |   cout << \"hello\" < endl;\n",
        "  |   ~~~~~~~~~~~~~~~~~~~~~~\n",
        "```\n",
        "\n",
        "エラーの発生箇所をよく観察すれば、`<<`を`<`と書き間違えていることに気づけるでしょう。<br>\n",
        "コンパイルエラーを直すときは、「エラーの発生箇所から原因を推測する」ことも大切です。\n",
        "\n",
        ">コンパイラによっては、最初のエラーメッセージが大本のエラー発生位置を示さない場合があります。<br>\n",
        ">その場合は「ファイル名」が「自分で作成した覚えのあるファイル名」になっている最初のメッセージを探してください。"
      ],
      "metadata": {
        "id": "MIwafQQR0XOe"
      }
    },
    {
      "cell_type": "markdown",
      "source": [
        "\n",
        "### 2.4 エラーの原因がひとつではない場合\n",
        "\n",
        "プログラムをコンパイルすると、原因の異なる複数のエラーについてメッセージが表示される場合があります。<br>\n",
        "このような場合は、最初の方に表示されたエラーメッセージの原因から解決していきます。\n",
        "\n",
        "**コード**\n",
        "\n",
        "```cpp\n",
        "#include <iostream>\n",
        "using namespace std;\n",
        "\n",
        "int main() {\n",
        "  cout << \"hello\" <　endl\n",
        "}\n",
        "```\n",
        "\n",
        "**コンパイル結果**\n",
        "\n",
        "```txt\n",
        "Main.cpp:5:20: error: extended character 　 is not valid in an identifier\n",
        "    5 |   cout << \"hello\" <　endl\n",
        "      |                    ^\n",
        "Main.cpp: In function ‘int main()’:\n",
        "Main.cpp:5:20: error: ‘　endl’ was not declared in this scope\n",
        "    5 |   cout << \"hello\" <　endl\n",
        "      |                    ^~~~~~\n",
        "```\n",
        "\n",
        "最初のエラーメッセージは`extended character is ...`です。これは「プログラムで使えない文字が入力された」というエラーでした。<br>\n",
        "そして、エラー行の内容を見ると`5`行目の`endl`の手前に何かあるようです。\n",
        "\n",
        "こうして、最初のエラーメッセージを修正し、修正したらまたコンパイルして結果を確認する、という作業を繰り返します。最初のほうから修正するのは、残りのエラーメッセージが、実は「最初のエラーが原因で連鎖的に起きていた」ということが多いためです。"
      ],
      "metadata": {
        "id": "-DrnFI_Q1AJW"
      }
    },
    {
      "cell_type": "markdown",
      "source": [
        "----\n",
        "\n",
        "## 3 練習問題\n",
        "\n",
        "----\n",
        "\n",
        "以下の手順にしたがって、6つのプログラムのエラーを修正しなさい。<br>\n",
        "正しく修正できていれば、出力セルには`AC`とだけ表示されます。<br>\n",
        "間違っている場合は`WA`と表示されます。\n",
        "\n",
        "1. `%%writefile ...`の下の行からがプログラムです。問題文に従ってプログラムを修正、または追加してください。\n",
        "2. プログラムを修正したら、セルの右側にある`▶`をクリックします。すると、ファイルが保存されます。\n",
        "3. 「動作テスト」セルの`▶`をクリックすると、2で保存したファイルがコンパイル＆実行され、実行結果が表示されます。<br>\n",
        "   このセルは、修正したプログラムの動作を確認するために使ってください。\n",
        "4. 「実行」セルの`▶`をクリックすると、2で保存したファイルがコンパイル＆実行され、結果の成否が判定されます。\n",
        "5. 判定に成功したら`AC`と表示されます。次の問題に進んでください。\n",
        "6. 失敗したら`WA`と表示されます(その前にエラーメッセージが表示される場合もあります)。<br>\n",
        "   これは、プログラムのどこかにエラーがあることを意味します。<br>\n",
        "   「動作テスト」を使ってエラーを修正し、`AC`を目指してください。\n"
      ],
      "metadata": {
        "id": "Suv7vhz84S51"
      }
    },
    {
      "cell_type": "markdown",
      "source": [
        "\n",
        "### ❓️問題１ 行末になにかが足りない\n",
        "\n",
        "以下のプログラムのエラーを修正しなさい。"
      ],
      "metadata": {
        "id": "UV0Env4ZzSsr"
      }
    },
    {
      "cell_type": "code",
      "source": [
        "%%writefile practice_01.cpp\n",
        "#include <iostream>\n",
        "using namespace std;\n",
        "\n",
        "int main() {\n",
        "  int a = 2;\n",
        "  int b = 3;\n",
        "  int c = a + b;\n",
        "  cout << c << endl\n",
        "}"
      ],
      "metadata": {
        "id": "cfuA4-5fHG6q"
      },
      "execution_count": null,
      "outputs": []
    },
    {
      "cell_type": "code",
      "source": [
        "# @title 動作テスト\n",
        "!g++ -std=c++20 -O2 -Wall -Wextra -o practice_01 practice_01.cpp && ./practice_01"
      ],
      "metadata": {
        "cellView": "form",
        "id": "rqmLrRX6W8m5"
      },
      "execution_count": null,
      "outputs": []
    },
    {
      "cell_type": "code",
      "source": [
        "# @title 実行\n",
        "!diff <(echo 5) <(g++ -std=c++20 -O2 -Wall -Wextra -o practice_01 practice_01.cpp && ./practice_01) >nil && test $? -eq 0 && echo -e \"\\033[32;1mAC\" || echo -e \"\\033[31;1mWA\""
      ],
      "metadata": {
        "colab": {
          "base_uri": "https://localhost:8080/"
        },
        "id": "vAaUNyQUHeOf",
        "outputId": "2502f6e4-f0cb-4f71-8d10-763d4ac3f853",
        "cellView": "form"
      },
      "execution_count": null,
      "outputs": [
        {
          "output_type": "stream",
          "name": "stdout",
          "text": [
            "\u001b[01m\u001b[Kpractice_01.cpp:\u001b[m\u001b[K In function ‘\u001b[01m\u001b[Kint main()\u001b[m\u001b[K’:\n",
            "\u001b[01m\u001b[Kpractice_01.cpp:8:20:\u001b[m\u001b[K \u001b[01;31m\u001b[Kerror: \u001b[m\u001b[Kexpected ‘\u001b[01m\u001b[K;\u001b[m\u001b[K’ before ‘\u001b[01m\u001b[K}\u001b[m\u001b[K’ token\n",
            "    8 |   cout << c << endl\n",
            "      |                    \u001b[01;31m\u001b[K^\u001b[m\u001b[K\n",
            "      |                    \u001b[32m\u001b[K;\u001b[m\u001b[K\n",
            "    9 | \u001b[32m\u001b[K}\u001b[m\u001b[K\n",
            "      | \u001b[32m\u001b[K~\u001b[m\u001b[K                   \n",
            "\u001b[31;1mWA\n"
          ]
        }
      ]
    },
    {
      "cell_type": "code",
      "source": [
        "# @title 🔒️解答例(どうしても問題を解けない場合に見てください)\n",
        "%%writefile practice_01.cpp\n",
        "#include <iostream>\n",
        "using namespace std;\n",
        "\n",
        "int main() {\n",
        "  int a = 2;\n",
        "  int b = 3;\n",
        "  int c = a + b;\n",
        "  cout << c << endl; // 行末にセミコロンを追加した\n",
        "}"
      ],
      "metadata": {
        "cellView": "form",
        "id": "r0_8DHeg0CHw"
      },
      "execution_count": null,
      "outputs": []
    },
    {
      "cell_type": "markdown",
      "source": [
        "### ❓️問題２ 似ているけれど違う\n",
        "\n",
        "以下のプログラムのエラーを修正しなさい。\n"
      ],
      "metadata": {
        "id": "IriKxI2AM0gs"
      }
    },
    {
      "cell_type": "code",
      "source": [
        "%%writefile practice_02.cpp\n",
        "#include <iostream>\n",
        "using namespace std;\n",
        "\n",
        "int main() {\n",
        "　cout << \"Hello, world!” << endl;\n",
        "}"
      ],
      "metadata": {
        "id": "FAQctwxkM1YW"
      },
      "execution_count": null,
      "outputs": []
    },
    {
      "cell_type": "code",
      "source": [
        "# @title 動作テスト\n",
        "!g++ -std=c++20 -O2 -Wall -Wextra -o practice_02 practice_02.cpp && ./practice_02"
      ],
      "metadata": {
        "cellView": "form",
        "id": "rXemYjJUb_Wr"
      },
      "execution_count": null,
      "outputs": []
    },
    {
      "cell_type": "code",
      "source": [
        "# @title 実行\n",
        "!diff <(echo -e \"Hello, world!\") <(g++ -std=c++20 -O2 -Wall -Wextra -o practice_02 practice_02.cpp && ./practice_02) >nil && test $? -eq 0 && echo -e \"\\033[32;1mAC\" || echo -e \"\\033[31;1mWA\""
      ],
      "metadata": {
        "colab": {
          "base_uri": "https://localhost:8080/"
        },
        "cellView": "form",
        "id": "Iz0bVasbM1B-",
        "outputId": "3ab0d7c3-d694-4979-b0bd-72026a920d6e"
      },
      "execution_count": null,
      "outputs": [
        {
          "output_type": "stream",
          "name": "stdout",
          "text": [
            "\u001b[01m\u001b[Kpractice_02.cpp:5:1:\u001b[m\u001b[K \u001b[01;31m\u001b[Kerror: \u001b[m\u001b[Kextended character 　 is not valid in an identifier\n",
            "    5 | \u001b[01;31m\u001b[K　\u001b[m\u001b[Kcout << \"Hello, world!” << endl;\n",
            "      | \u001b[01;31m\u001b[K^\u001b[m\u001b[K\n",
            "\u001b[01m\u001b[Kpractice_02.cpp:5:11:\u001b[m\u001b[K \u001b[01;35m\u001b[Kwarning: \u001b[m\u001b[Kmissing terminating \" character\n",
            "    5 | 　cout << \u001b[01;35m\u001b[K\"\u001b[m\u001b[KHello, world!” << endl;\n",
            "      |           \u001b[01;35m\u001b[K^\u001b[m\u001b[K\n",
            "\u001b[01m\u001b[Kpractice_02.cpp:5:11:\u001b[m\u001b[K \u001b[01;31m\u001b[Kerror: \u001b[m\u001b[Kmissing terminating \" character\n",
            "    5 | 　cout << \u001b[01;31m\u001b[K\"Hello, world!” << endl;\u001b[m\u001b[K\n",
            "      |           \u001b[01;31m\u001b[K^~~~~~~~~~~~~~~~~~~~~~~~\u001b[m\u001b[K\n",
            "\u001b[01m\u001b[Kpractice_02.cpp:\u001b[m\u001b[K In function ‘\u001b[01m\u001b[Kint main()\u001b[m\u001b[K’:\n",
            "\u001b[01m\u001b[Kpractice_02.cpp:5:1:\u001b[m\u001b[K \u001b[01;31m\u001b[Kerror: \u001b[m\u001b[K‘\u001b[01m\u001b[K　cout\u001b[m\u001b[K’ was not declared in this scope\n",
            "    5 | \u001b[01;31m\u001b[K　cout\u001b[m\u001b[K << \"Hello, world!” << endl;\n",
            "      | \u001b[01;31m\u001b[K^~~~~~\u001b[m\u001b[K\n",
            "\u001b[01m\u001b[Kpractice_02.cpp:6:1:\u001b[m\u001b[K \u001b[01;31m\u001b[Kerror: \u001b[m\u001b[Kexpected primary-expression before ‘\u001b[01m\u001b[K}\u001b[m\u001b[K’ token\n",
            "    6 | \u001b[01;31m\u001b[K}\u001b[m\u001b[K\n",
            "      | \u001b[01;31m\u001b[K^\u001b[m\u001b[K\n",
            "\u001b[31;1mWA\n"
          ]
        }
      ]
    },
    {
      "cell_type": "code",
      "source": [
        "# @title 🔒️解答例(どうしても問題を解けない場合に見てください)\n",
        "%%writefile practice_02.cpp\n",
        "#include <iostream>\n",
        "using namespace std;\n",
        "\n",
        "int main() {\n",
        "  cout << \"Hello, world!\" << endl; // 「全角空白」と「全角ダブルクォーテーション」を半角文字に置き換える\n",
        "}"
      ],
      "metadata": {
        "cellView": "form",
        "id": "MC5gRAxK0aC4"
      },
      "execution_count": null,
      "outputs": []
    },
    {
      "cell_type": "markdown",
      "source": [
        "### ❓️問題３ 大量のエラー\n",
        "\n",
        "以下のプログラムのエラーを修正しなさい。"
      ],
      "metadata": {
        "id": "G5CeTw5crJ68"
      }
    },
    {
      "cell_type": "code",
      "source": [
        "%%writefile practice_03.cpp\n",
        "#include <iostream>\n",
        "using namespace std;\n",
        "\n",
        "int main() {\n",
        "  const char a[] = \"Hello\";\n",
        "  const char b[] = \"world\";\n",
        "  cout << a << \", \" << b << \"!\" < endl;\n",
        "}"
      ],
      "metadata": {
        "id": "zqndhnk_rLxV"
      },
      "execution_count": null,
      "outputs": []
    },
    {
      "cell_type": "code",
      "source": [
        "# @title 動作テスト\n",
        "!g++ -std=c++20 -O2 -Wall -Wextra -o practice_03 practice_03.cpp && ./practice_03"
      ],
      "metadata": {
        "cellView": "form",
        "id": "p_KFq1Exc_PO"
      },
      "execution_count": null,
      "outputs": []
    },
    {
      "cell_type": "code",
      "source": [
        "# @title 実行\n",
        "!diff <(echo -e \"Hello, world!\") <(g++ -std=c++20 -O2 -Wall -Wextra -o practice_03 practice_03.cpp && ./practice_03) >nil && test $? -eq 0 && echo -e \"\\033[32;1mAC\" || echo -e \"\\033[31;1mWA\""
      ],
      "metadata": {
        "colab": {
          "base_uri": "https://localhost:8080/"
        },
        "id": "HJQPC3MJr1-X",
        "outputId": "ed16484f-d9bf-4822-f4c6-ca0e8eb44d1b",
        "cellView": "form"
      },
      "execution_count": null,
      "outputs": [
        {
          "output_type": "stream",
          "name": "stdout",
          "text": [
            "\u001b[01m\u001b[Kpractice_03.cpp:\u001b[m\u001b[K In function ‘\u001b[01m\u001b[Kint main()\u001b[m\u001b[K’:\n",
            "\u001b[01m\u001b[Kpractice_03.cpp:7:33:\u001b[m\u001b[K \u001b[01;31m\u001b[Kerror: \u001b[m\u001b[Kno match for ‘\u001b[01m\u001b[Koperator<\u001b[m\u001b[K’ (operand types are ‘\u001b[01m\u001b[Kstd::basic_ostream<char>\u001b[m\u001b[K’ and ‘\u001b[01m\u001b[K<unresolved overloaded function type>\u001b[m\u001b[K’)\n",
            "    7 |   \u001b[01;31m\u001b[Kcout << a << \", \" << b << \"!\" < endl\u001b[m\u001b[K;\n",
            "      |   \u001b[01;31m\u001b[K~~~~~~~~~~~~~~~~~~~~~~~~~~~~~~^~~~~~\u001b[m\u001b[K\n",
            "In file included from \u001b[01m\u001b[K/usr/include/c++/11/bits/stl_algobase.h:67\u001b[m\u001b[K,\n",
            "                 from \u001b[01m\u001b[K/usr/include/c++/11/bits/char_traits.h:39\u001b[m\u001b[K,\n",
            "                 from \u001b[01m\u001b[K/usr/include/c++/11/ios:40\u001b[m\u001b[K,\n",
            "                 from \u001b[01m\u001b[K/usr/include/c++/11/ostream:38\u001b[m\u001b[K,\n",
            "                 from \u001b[01m\u001b[K/usr/include/c++/11/iostream:39\u001b[m\u001b[K,\n",
            "                 from \u001b[01m\u001b[Kpractice_03.cpp:1\u001b[m\u001b[K:\n",
            "\u001b[01m\u001b[K/usr/include/c++/11/bits/stl_iterator.h:538:5:\u001b[m\u001b[K \u001b[01;36m\u001b[Knote: \u001b[m\u001b[Kcandidate: ‘\u001b[01m\u001b[Ktemplate<class _IteratorL, class _IteratorR>  requires  three_way_comparable_with<_IteratorR, _IteratorL, std::partial_ordering> constexpr std::compare_three_way_result_t<_IteratorL, _IteratorR> std::operator<=>(const std::reverse_iterator<_IteratorL>&, const std::reverse_iterator<_IteratorR>&)\u001b[m\u001b[K’ (reversed)\n",
            "  538 |     \u001b[01;36m\u001b[Koperator\u001b[m\u001b[K<=>(const reverse_iterator<_IteratorL>& __x,\n",
            "      |     \u001b[01;36m\u001b[K^~~~~~~~\u001b[m\u001b[K\n",
            "\u001b[01m\u001b[K/usr/include/c++/11/bits/stl_iterator.h:538:5:\u001b[m\u001b[K \u001b[01;36m\u001b[Knote: \u001b[m\u001b[K  template argument deduction/substitution failed:\n",
            "\u001b[01m\u001b[Kpractice_03.cpp:7:35:\u001b[m\u001b[K \u001b[01;36m\u001b[Knote: \u001b[m\u001b[K  ‘\u001b[01m\u001b[Kstd::basic_ostream<char>\u001b[m\u001b[K’ is not derived from ‘\u001b[01m\u001b[Kconst std::reverse_iterator<_IteratorR>\u001b[m\u001b[K’\n",
            "    7 |   cout << a << \", \" << b << \"!\" < \u001b[01;36m\u001b[Kendl\u001b[m\u001b[K;\n",
            "      |                                   \u001b[01;36m\u001b[K^~~~\u001b[m\u001b[K\n",
            "In file included from \u001b[01m\u001b[K/usr/include/c++/11/bits/stl_algobase.h:67\u001b[m\u001b[K,\n",
            "                 from \u001b[01m\u001b[K/usr/include/c++/11/bits/char_traits.h:39\u001b[m\u001b[K,\n",
            "                 from \u001b[01m\u001b[K/usr/include/c++/11/ios:40\u001b[m\u001b[K,\n",
            "                 from \u001b[01m\u001b[K/usr/include/c++/11/ostream:38\u001b[m\u001b[K,\n",
            "                 from \u001b[01m\u001b[K/usr/include/c++/11/iostream:39\u001b[m\u001b[K,\n",
            "                 from \u001b[01m\u001b[Kpractice_03.cpp:1\u001b[m\u001b[K:\n",
            "\u001b[01m\u001b[K/usr/include/c++/11/bits/stl_iterator.h:1596:5:\u001b[m\u001b[K \u001b[01;36m\u001b[Knote: \u001b[m\u001b[Kcandidate: ‘\u001b[01m\u001b[Ktemplate<class _IteratorL, class _IteratorR>  requires  three_way_comparable_with<_IteratorR, _IteratorL, std::partial_ordering> constexpr std::compare_three_way_result_t<_IteratorL, _IteratorR> std::operator<=>(const std::move_iterator<_IteratorL>&, const std::move_iterator<_IteratorR>&)\u001b[m\u001b[K’ (reversed)\n",
            " 1596 |     \u001b[01;36m\u001b[Koperator\u001b[m\u001b[K<=>(const move_iterator<_IteratorL>& __x,\n",
            "      |     \u001b[01;36m\u001b[K^~~~~~~~\u001b[m\u001b[K\n",
            "\u001b[01m\u001b[K/usr/include/c++/11/bits/stl_iterator.h:1596:5:\u001b[m\u001b[K \u001b[01;36m\u001b[Knote: \u001b[m\u001b[K  template argument deduction/substitution failed:\n",
            "\u001b[01m\u001b[Kpractice_03.cpp:7:35:\u001b[m\u001b[K \u001b[01;36m\u001b[Knote: \u001b[m\u001b[K  ‘\u001b[01m\u001b[Kstd::basic_ostream<char>\u001b[m\u001b[K’ is not derived from ‘\u001b[01m\u001b[Kconst std::move_iterator<_IteratorR>\u001b[m\u001b[K’\n",
            "    7 |   cout << a << \", \" << b << \"!\" < \u001b[01;36m\u001b[Kendl\u001b[m\u001b[K;\n",
            "      |                                   \u001b[01;36m\u001b[K^~~~\u001b[m\u001b[K\n",
            "In file included from \u001b[01m\u001b[K/usr/include/c++/11/bits/basic_string.h:48\u001b[m\u001b[K,\n",
            "                 from \u001b[01m\u001b[K/usr/include/c++/11/string:55\u001b[m\u001b[K,\n",
            "                 from \u001b[01m\u001b[K/usr/include/c++/11/bits/locale_classes.h:40\u001b[m\u001b[K,\n",
            "                 from \u001b[01m\u001b[K/usr/include/c++/11/bits/ios_base.h:41\u001b[m\u001b[K,\n",
            "                 from \u001b[01m\u001b[K/usr/include/c++/11/ios:42\u001b[m\u001b[K,\n",
            "                 from \u001b[01m\u001b[K/usr/include/c++/11/ostream:38\u001b[m\u001b[K,\n",
            "                 from \u001b[01m\u001b[K/usr/include/c++/11/iostream:39\u001b[m\u001b[K,\n",
            "                 from \u001b[01m\u001b[Kpractice_03.cpp:1\u001b[m\u001b[K:\n",
            "\u001b[01m\u001b[K/usr/include/c++/11/string_view:556:5:\u001b[m\u001b[K \u001b[01;36m\u001b[Knote: \u001b[m\u001b[Kcandidate: ‘\u001b[01m\u001b[Ktemplate<class _CharT, class _Traits> constexpr decltype (__char_traits_cmp_cat<_Traits>(0)) std::operator<=>(std::basic_string_view<_CharT, _Traits>, std::__type_identity_t<std::basic_string_view<_CharT, _Traits> >)\u001b[m\u001b[K’ (reversed)\n",
            "  556 |     \u001b[01;36m\u001b[Koperator\u001b[m\u001b[K<=>(basic_string_view<_CharT, _Traits> __x,\n",
            "      |     \u001b[01;36m\u001b[K^~~~~~~~\u001b[m\u001b[K\n",
            "\u001b[01m\u001b[K/usr/include/c++/11/string_view:556:5:\u001b[m\u001b[K \u001b[01;36m\u001b[Knote: \u001b[m\u001b[K  template argument deduction/substitution failed:\n",
            "\u001b[01m\u001b[Kpractice_03.cpp:7:35:\u001b[m\u001b[K \u001b[01;36m\u001b[Knote: \u001b[m\u001b[K  couldn’t deduce template parameter ‘\u001b[01m\u001b[K_CharT\u001b[m\u001b[K’\n",
            "    7 |   cout << a << \", \" << b << \"!\" < \u001b[01;36m\u001b[Kendl\u001b[m\u001b[K;\n",
            "      |                                   \u001b[01;36m\u001b[K^~~~\u001b[m\u001b[K\n",
            "In file included from \u001b[01m\u001b[K/usr/include/c++/11/string:55\u001b[m\u001b[K,\n",
            "                 from \u001b[01m\u001b[K/usr/include/c++/11/bits/locale_classes.h:40\u001b[m\u001b[K,\n",
            "                 from \u001b[01m\u001b[K/usr/include/c++/11/bits/ios_base.h:41\u001b[m\u001b[K,\n",
            "                 from \u001b[01m\u001b[K/usr/include/c++/11/ios:42\u001b[m\u001b[K,\n",
            "                 from \u001b[01m\u001b[K/usr/include/c++/11/ostream:38\u001b[m\u001b[K,\n",
            "                 from \u001b[01m\u001b[K/usr/include/c++/11/iostream:39\u001b[m\u001b[K,\n",
            "                 from \u001b[01m\u001b[Kpractice_03.cpp:1\u001b[m\u001b[K:\n",
            "\u001b[01m\u001b[K/usr/include/c++/11/bits/basic_string.h:6276:5:\u001b[m\u001b[K \u001b[01;36m\u001b[Knote: \u001b[m\u001b[Kcandidate: ‘\u001b[01m\u001b[Ktemplate<class _CharT, class _Traits, class _Alloc> decltype (__char_traits_cmp_cat<_Traits>(0)) std::operator<=>(const std::__cxx11::basic_string<_CharT, _Traits, _Allocator>&, const _CharT*)\u001b[m\u001b[K’ (reversed)\n",
            " 6276 |     \u001b[01;36m\u001b[Koperator\u001b[m\u001b[K<=>(const basic_string<_CharT, _Traits, _Alloc>& __lhs,\n",
            "      |     \u001b[01;36m\u001b[K^~~~~~~~\u001b[m\u001b[K\n",
            "\u001b[01m\u001b[K/usr/include/c++/11/bits/basic_string.h:6276:5:\u001b[m\u001b[K \u001b[01;36m\u001b[Knote: \u001b[m\u001b[K  template argument deduction/substitution failed:\n",
            "\u001b[01m\u001b[Kpractice_03.cpp:7:35:\u001b[m\u001b[K \u001b[01;36m\u001b[Knote: \u001b[m\u001b[K  mismatched types ‘\u001b[01m\u001b[Kconst _CharT*\u001b[m\u001b[K’ and ‘\u001b[01m\u001b[Kstd::basic_ostream<char>\u001b[m\u001b[K’\n",
            "    7 |   cout << a << \", \" << b << \"!\" < \u001b[01;36m\u001b[Kendl\u001b[m\u001b[K;\n",
            "      |                                   \u001b[01;36m\u001b[K^~~~\u001b[m\u001b[K\n",
            "In file included from \u001b[01m\u001b[K/usr/include/c++/11/bits/stl_algobase.h:64\u001b[m\u001b[K,\n",
            "                 from \u001b[01m\u001b[K/usr/include/c++/11/bits/char_traits.h:39\u001b[m\u001b[K,\n",
            "                 from \u001b[01m\u001b[K/usr/include/c++/11/ios:40\u001b[m\u001b[K,\n",
            "                 from \u001b[01m\u001b[K/usr/include/c++/11/ostream:38\u001b[m\u001b[K,\n",
            "                 from \u001b[01m\u001b[K/usr/include/c++/11/iostream:39\u001b[m\u001b[K,\n",
            "                 from \u001b[01m\u001b[Kpractice_03.cpp:1\u001b[m\u001b[K:\n",
            "\u001b[01m\u001b[K/usr/include/c++/11/bits/stl_pair.h:473:5:\u001b[m\u001b[K \u001b[01;36m\u001b[Knote: \u001b[m\u001b[Kcandidate: ‘\u001b[01m\u001b[Ktemplate<class _T1, class _T2> constexpr std::common_comparison_category_t<decltype (std::__detail::__synth3way(declval<_T1&>(), declval<_T1&>())), decltype (std::__detail::__synth3way(declval<_T2&>(), declval<_T2&>()))> std::operator<=>(const std::pair<_T1, _T2>&, const std::pair<_T1, _T2>&)\u001b[m\u001b[K’ (rewritten)\n",
            "  473 |     \u001b[01;36m\u001b[Koperator\u001b[m\u001b[K<=>(const pair<_T1, _T2>& __x, const pair<_T1, _T2>& __y)\n",
            "      |     \u001b[01;36m\u001b[K^~~~~~~~\u001b[m\u001b[K\n",
            "\u001b[01m\u001b[K/usr/include/c++/11/bits/stl_pair.h:473:5:\u001b[m\u001b[K \u001b[01;36m\u001b[Knote: \u001b[m\u001b[K  template argument deduction/substitution failed:\n",
            "\u001b[01m\u001b[Kpractice_03.cpp:7:35:\u001b[m\u001b[K \u001b[01;36m\u001b[Knote: \u001b[m\u001b[K  ‘\u001b[01m\u001b[Kstd::basic_ostream<char>\u001b[m\u001b[K’ is not derived from ‘\u001b[01m\u001b[Kconst std::pair<_T1, _T2>\u001b[m\u001b[K’\n",
            "    7 |   cout << a << \", \" << b << \"!\" < \u001b[01;36m\u001b[Kendl\u001b[m\u001b[K;\n",
            "      |                                   \u001b[01;36m\u001b[K^~~~\u001b[m\u001b[K\n",
            "In file included from \u001b[01m\u001b[K/usr/include/c++/11/bits/stl_algobase.h:67\u001b[m\u001b[K,\n",
            "                 from \u001b[01m\u001b[K/usr/include/c++/11/bits/char_traits.h:39\u001b[m\u001b[K,\n",
            "                 from \u001b[01m\u001b[K/usr/include/c++/11/ios:40\u001b[m\u001b[K,\n",
            "                 from \u001b[01m\u001b[K/usr/include/c++/11/ostream:38\u001b[m\u001b[K,\n",
            "                 from \u001b[01m\u001b[K/usr/include/c++/11/iostream:39\u001b[m\u001b[K,\n",
            "                 from \u001b[01m\u001b[Kpractice_03.cpp:1\u001b[m\u001b[K:\n",
            "\u001b[01m\u001b[K/usr/include/c++/11/bits/stl_iterator.h:554:5:\u001b[m\u001b[K \u001b[01;36m\u001b[Knote: \u001b[m\u001b[Kcandidate: ‘\u001b[01m\u001b[Ktemplate<class _Iterator>  requires  three_way_comparable<_Iterator, std::partial_ordering> constexpr std::compare_three_way_result_t<_Iterator, _Iterator> std::operator<=>(const std::reverse_iterator<_IteratorL>&, const std::reverse_iterator<_IteratorL>&)\u001b[m\u001b[K’ (rewritten)\n",
            "  554 |     \u001b[01;36m\u001b[Koperator\u001b[m\u001b[K<=>(const reverse_iterator<_Iterator>& __x,\n",
            "      |     \u001b[01;36m\u001b[K^~~~~~~~\u001b[m\u001b[K\n",
            "\u001b[01m\u001b[K/usr/include/c++/11/bits/stl_iterator.h:554:5:\u001b[m\u001b[K \u001b[01;36m\u001b[Knote: \u001b[m\u001b[K  template argument deduction/substitution failed:\n",
            "\u001b[01m\u001b[Kpractice_03.cpp:7:35:\u001b[m\u001b[K \u001b[01;36m\u001b[Knote: \u001b[m\u001b[K  ‘\u001b[01m\u001b[Kstd::basic_ostream<char>\u001b[m\u001b[K’ is not derived from ‘\u001b[01m\u001b[Kconst std::reverse_iterator<_IteratorL>\u001b[m\u001b[K’\n",
            "    7 |   cout << a << \", \" << b << \"!\" < \u001b[01;36m\u001b[Kendl\u001b[m\u001b[K;\n",
            "      |                                   \u001b[01;36m\u001b[K^~~~\u001b[m\u001b[K\n",
            "In file included from \u001b[01m\u001b[K/usr/include/c++/11/bits/stl_algobase.h:67\u001b[m\u001b[K,\n",
            "                 from \u001b[01m\u001b[K/usr/include/c++/11/bits/char_traits.h:39\u001b[m\u001b[K,\n",
            "                 from \u001b[01m\u001b[K/usr/include/c++/11/ios:40\u001b[m\u001b[K,\n",
            "                 from \u001b[01m\u001b[K/usr/include/c++/11/ostream:38\u001b[m\u001b[K,\n",
            "                 from \u001b[01m\u001b[K/usr/include/c++/11/iostream:39\u001b[m\u001b[K,\n",
            "                 from \u001b[01m\u001b[Kpractice_03.cpp:1\u001b[m\u001b[K:\n",
            "\u001b[01m\u001b[K/usr/include/c++/11/bits/stl_iterator.h:1655:5:\u001b[m\u001b[K \u001b[01;36m\u001b[Knote: \u001b[m\u001b[Kcandidate: ‘\u001b[01m\u001b[Ktemplate<class _Iterator>  requires  three_way_comparable<_Iterator, std::partial_ordering> constexpr std::compare_three_way_result_t<_Iterator, _Iterator> std::operator<=>(const std::move_iterator<_IteratorL>&, const std::move_iterator<_IteratorL>&)\u001b[m\u001b[K’ (rewritten)\n",
            " 1655 |     \u001b[01;36m\u001b[Koperator\u001b[m\u001b[K<=>(const move_iterator<_Iterator>& __x,\n",
            "      |     \u001b[01;36m\u001b[K^~~~~~~~\u001b[m\u001b[K\n",
            "\u001b[01m\u001b[K/usr/include/c++/11/bits/stl_iterator.h:1655:5:\u001b[m\u001b[K \u001b[01;36m\u001b[Knote: \u001b[m\u001b[K  template argument deduction/substitution failed:\n",
            "\u001b[01m\u001b[Kpractice_03.cpp:7:35:\u001b[m\u001b[K \u001b[01;36m\u001b[Knote: \u001b[m\u001b[K  ‘\u001b[01m\u001b[Kstd::basic_ostream<char>\u001b[m\u001b[K’ is not derived from ‘\u001b[01m\u001b[Kconst std::move_iterator<_IteratorL>\u001b[m\u001b[K’\n",
            "    7 |   cout << a << \", \" << b << \"!\" < \u001b[01;36m\u001b[Kendl\u001b[m\u001b[K;\n",
            "      |                                   \u001b[01;36m\u001b[K^~~~\u001b[m\u001b[K\n",
            "In file included from \u001b[01m\u001b[K/usr/include/c++/11/bits/basic_string.h:48\u001b[m\u001b[K,\n",
            "                 from \u001b[01m\u001b[K/usr/include/c++/11/string:55\u001b[m\u001b[K,\n",
            "                 from \u001b[01m\u001b[K/usr/include/c++/11/bits/locale_classes.h:40\u001b[m\u001b[K,\n",
            "                 from \u001b[01m\u001b[K/usr/include/c++/11/bits/ios_base.h:41\u001b[m\u001b[K,\n",
            "                 from \u001b[01m\u001b[K/usr/include/c++/11/ios:42\u001b[m\u001b[K,\n",
            "                 from \u001b[01m\u001b[K/usr/include/c++/11/ostream:38\u001b[m\u001b[K,\n",
            "                 from \u001b[01m\u001b[K/usr/include/c++/11/iostream:39\u001b[m\u001b[K,\n",
            "                 from \u001b[01m\u001b[Kpractice_03.cpp:1\u001b[m\u001b[K:\n",
            "\u001b[01m\u001b[K/usr/include/c++/11/string_view:549:5:\u001b[m\u001b[K \u001b[01;36m\u001b[Knote: \u001b[m\u001b[Kcandidate: ‘\u001b[01m\u001b[Ktemplate<class _CharT, class _Traits> constexpr decltype (__char_traits_cmp_cat<_Traits>(0)) std::operator<=>(std::basic_string_view<_CharT, _Traits>, std::basic_string_view<_CharT, _Traits>)\u001b[m\u001b[K’ (rewritten)\n",
            "  549 |     \u001b[01;36m\u001b[Koperator\u001b[m\u001b[K<=>(basic_string_view<_CharT, _Traits> __x,\n",
            "      |     \u001b[01;36m\u001b[K^~~~~~~~\u001b[m\u001b[K\n",
            "\u001b[01m\u001b[K/usr/include/c++/11/string_view:549:5:\u001b[m\u001b[K \u001b[01;36m\u001b[Knote: \u001b[m\u001b[K  template argument deduction/substitution failed:\n",
            "\u001b[01m\u001b[Kpractice_03.cpp:7:35:\u001b[m\u001b[K \u001b[01;36m\u001b[Knote: \u001b[m\u001b[K  ‘\u001b[01m\u001b[Kstd::basic_ostream<char>\u001b[m\u001b[K’ is not derived from ‘\u001b[01m\u001b[Kstd::basic_string_view<_CharT, _Traits>\u001b[m\u001b[K’\n",
            "    7 |   cout << a << \", \" << b << \"!\" < \u001b[01;36m\u001b[Kendl\u001b[m\u001b[K;\n",
            "      |                                   \u001b[01;36m\u001b[K^~~~\u001b[m\u001b[K\n",
            "In file included from \u001b[01m\u001b[K/usr/include/c++/11/string:55\u001b[m\u001b[K,\n",
            "                 from \u001b[01m\u001b[K/usr/include/c++/11/bits/locale_classes.h:40\u001b[m\u001b[K,\n",
            "                 from \u001b[01m\u001b[K/usr/include/c++/11/bits/ios_base.h:41\u001b[m\u001b[K,\n",
            "                 from \u001b[01m\u001b[K/usr/include/c++/11/ios:42\u001b[m\u001b[K,\n",
            "                 from \u001b[01m\u001b[K/usr/include/c++/11/ostream:38\u001b[m\u001b[K,\n",
            "                 from \u001b[01m\u001b[K/usr/include/c++/11/iostream:39\u001b[m\u001b[K,\n",
            "                 from \u001b[01m\u001b[Kpractice_03.cpp:1\u001b[m\u001b[K:\n",
            "\u001b[01m\u001b[K/usr/include/c++/11/bits/basic_string.h:6262:5:\u001b[m\u001b[K \u001b[01;36m\u001b[Knote: \u001b[m\u001b[Kcandidate: ‘\u001b[01m\u001b[Ktemplate<class _CharT, class _Traits, class _Alloc> decltype (__char_traits_cmp_cat<_Traits>(0)) std::operator<=>(const std::__cxx11::basic_string<_CharT, _Traits, _Allocator>&, const std::__cxx11::basic_string<_CharT, _Traits, _Allocator>&)\u001b[m\u001b[K’ (rewritten)\n",
            " 6262 |     \u001b[01;36m\u001b[Koperator\u001b[m\u001b[K<=>(const basic_string<_CharT, _Traits, _Alloc>& __lhs,\n",
            "      |     \u001b[01;36m\u001b[K^~~~~~~~\u001b[m\u001b[K\n",
            "\u001b[01m\u001b[K/usr/include/c++/11/bits/basic_string.h:6262:5:\u001b[m\u001b[K \u001b[01;36m\u001b[Knote: \u001b[m\u001b[K  template argument deduction/substitution failed:\n",
            "\u001b[01m\u001b[Kpractice_03.cpp:7:35:\u001b[m\u001b[K \u001b[01;36m\u001b[Knote: \u001b[m\u001b[K  ‘\u001b[01m\u001b[Kstd::basic_ostream<char>\u001b[m\u001b[K’ is not derived from ‘\u001b[01m\u001b[Kconst std::__cxx11::basic_string<_CharT, _Traits, _Allocator>\u001b[m\u001b[K’\n",
            "    7 |   cout << a << \", \" << b << \"!\" < \u001b[01;36m\u001b[Kendl\u001b[m\u001b[K;\n",
            "      |                                   \u001b[01;36m\u001b[K^~~~\u001b[m\u001b[K\n",
            "In file included from \u001b[01m\u001b[K/usr/include/c++/11/bits/ios_base.h:46\u001b[m\u001b[K,\n",
            "                 from \u001b[01m\u001b[K/usr/include/c++/11/ios:42\u001b[m\u001b[K,\n",
            "                 from \u001b[01m\u001b[K/usr/include/c++/11/ostream:38\u001b[m\u001b[K,\n",
            "                 from \u001b[01m\u001b[K/usr/include/c++/11/iostream:39\u001b[m\u001b[K,\n",
            "                 from \u001b[01m\u001b[Kpractice_03.cpp:1\u001b[m\u001b[K:\n",
            "\u001b[01m\u001b[K/usr/include/c++/11/system_error:261:3:\u001b[m\u001b[K \u001b[01;36m\u001b[Knote: \u001b[m\u001b[Kcandidate: ‘\u001b[01m\u001b[Kstd::strong_ordering std::operator<=>(const std::error_code&, const std::error_code&)\u001b[m\u001b[K’ (rewritten)\n",
            "  261 |   \u001b[01;36m\u001b[Koperator\u001b[m\u001b[K<=>(const error_code& __lhs, const error_code& __rhs) noexcept\n",
            "      |   \u001b[01;36m\u001b[K^~~~~~~~\u001b[m\u001b[K\n",
            "\u001b[01m\u001b[K/usr/include/c++/11/system_error:261:33:\u001b[m\u001b[K \u001b[01;36m\u001b[Knote: \u001b[m\u001b[K  no known conversion for argument 1 from ‘\u001b[01m\u001b[Kstd::basic_ostream<char>\u001b[m\u001b[K’ to ‘\u001b[01m\u001b[Kconst std::error_code&\u001b[m\u001b[K’\n",
            "  261 |   operator<=>(\u001b[01;36m\u001b[Kconst error_code& __lhs\u001b[m\u001b[K, const error_code& __rhs) noexcept\n",
            "      |               \u001b[01;36m\u001b[K~~~~~~~~~~~~~~~~~~^~~~~\u001b[m\u001b[K\n",
            "\u001b[01m\u001b[K/usr/include/c++/11/system_error:387:3:\u001b[m\u001b[K \u001b[01;36m\u001b[Knote: \u001b[m\u001b[Kcandidate: ‘\u001b[01m\u001b[Kstd::strong_ordering std::operator<=>(const std::error_condition&, const std::error_condition&)\u001b[m\u001b[K’ (rewritten)\n",
            "  387 |   \u001b[01;36m\u001b[Koperator\u001b[m\u001b[K<=>(const error_condition& __lhs,\n",
            "      |   \u001b[01;36m\u001b[K^~~~~~~~\u001b[m\u001b[K\n",
            "\u001b[01m\u001b[K/usr/include/c++/11/system_error:387:38:\u001b[m\u001b[K \u001b[01;36m\u001b[Knote: \u001b[m\u001b[K  no known conversion for argument 1 from ‘\u001b[01m\u001b[Kstd::basic_ostream<char>\u001b[m\u001b[K’ to ‘\u001b[01m\u001b[Kconst std::error_condition&\u001b[m\u001b[K’\n",
            "  387 |   operator<=>(\u001b[01;36m\u001b[Kconst error_condition& __lhs\u001b[m\u001b[K,\n",
            "      |               \u001b[01;36m\u001b[K~~~~~~~~~~~~~~~~~~~~~~~^~~~~\u001b[m\u001b[K\n",
            "In file included from \u001b[01m\u001b[K/usr/include/c++/11/bits/stl_algobase.h:67\u001b[m\u001b[K,\n",
            "                 from \u001b[01m\u001b[K/usr/include/c++/11/bits/char_traits.h:39\u001b[m\u001b[K,\n",
            "                 from \u001b[01m\u001b[K/usr/include/c++/11/ios:40\u001b[m\u001b[K,\n",
            "                 from \u001b[01m\u001b[K/usr/include/c++/11/ostream:38\u001b[m\u001b[K,\n",
            "                 from \u001b[01m\u001b[K/usr/include/c++/11/iostream:39\u001b[m\u001b[K,\n",
            "                 from \u001b[01m\u001b[Kpractice_03.cpp:1\u001b[m\u001b[K:\n",
            "\u001b[01m\u001b[K/usr/include/c++/11/bits/stl_iterator.h:509:5:\u001b[m\u001b[K \u001b[01;36m\u001b[Knote: \u001b[m\u001b[Kcandidate: ‘\u001b[01m\u001b[Ktemplate<class _IteratorL, class _IteratorR> constexpr bool std::operator<(const std::reverse_iterator<_IteratorL>&, const std::reverse_iterator<_IteratorR>&) requires requires{{std::operator<::__x->base() > std::operator<::__y->base()} -> decltype(auto) [requires std::convertible_to<<placeholder>, bool>];}\u001b[m\u001b[K’\n",
            "  509 |     \u001b[01;36m\u001b[Koperator\u001b[m\u001b[K<(const reverse_iterator<_IteratorL>& __x,\n",
            "      |     \u001b[01;36m\u001b[K^~~~~~~~\u001b[m\u001b[K\n",
            "\u001b[01m\u001b[K/usr/include/c++/11/bits/stl_iterator.h:509:5:\u001b[m\u001b[K \u001b[01;36m\u001b[Knote: \u001b[m\u001b[K  template argument deduction/substitution failed:\n",
            "\u001b[01m\u001b[Kpractice_03.cpp:7:35:\u001b[m\u001b[K \u001b[01;36m\u001b[Knote: \u001b[m\u001b[K  ‘\u001b[01m\u001b[Kstd::basic_ostream<char>\u001b[m\u001b[K’ is not derived from ‘\u001b[01m\u001b[Kconst std::reverse_iterator<_IteratorL>\u001b[m\u001b[K’\n",
            "    7 |   cout << a << \", \" << b << \"!\" < \u001b[01;36m\u001b[Kendl\u001b[m\u001b[K;\n",
            "      |                                   \u001b[01;36m\u001b[K^~~~\u001b[m\u001b[K\n",
            "In file included from \u001b[01m\u001b[K/usr/include/c++/11/bits/stl_algobase.h:67\u001b[m\u001b[K,\n",
            "                 from \u001b[01m\u001b[K/usr/include/c++/11/bits/char_traits.h:39\u001b[m\u001b[K,\n",
            "                 from \u001b[01m\u001b[K/usr/include/c++/11/ios:40\u001b[m\u001b[K,\n",
            "                 from \u001b[01m\u001b[K/usr/include/c++/11/ostream:38\u001b[m\u001b[K,\n",
            "                 from \u001b[01m\u001b[K/usr/include/c++/11/iostream:39\u001b[m\u001b[K,\n",
            "                 from \u001b[01m\u001b[Kpractice_03.cpp:1\u001b[m\u001b[K:\n",
            "\u001b[01m\u001b[K/usr/include/c++/11/bits/stl_iterator.h:1609:5:\u001b[m\u001b[K \u001b[01;36m\u001b[Knote: \u001b[m\u001b[Kcandidate: ‘\u001b[01m\u001b[Ktemplate<class _IteratorL, class _IteratorR> constexpr bool std::operator<(const std::move_iterator<_IteratorL>&, const std::move_iterator<_IteratorR>&) requires requires{{std::operator<::__x->base() < std::operator<::__y->base()} -> decltype(auto) [requires std::convertible_to<<placeholder>, bool>];}\u001b[m\u001b[K’\n",
            " 1609 |     \u001b[01;36m\u001b[Koperator\u001b[m\u001b[K<(const move_iterator<_IteratorL>& __x,\n",
            "      |     \u001b[01;36m\u001b[K^~~~~~~~\u001b[m\u001b[K\n",
            "\u001b[01m\u001b[K/usr/include/c++/11/bits/stl_iterator.h:1609:5:\u001b[m\u001b[K \u001b[01;36m\u001b[Knote: \u001b[m\u001b[K  template argument deduction/substitution failed:\n",
            "\u001b[01m\u001b[Kpractice_03.cpp:7:35:\u001b[m\u001b[K \u001b[01;36m\u001b[Knote: \u001b[m\u001b[K  ‘\u001b[01m\u001b[Kstd::basic_ostream<char>\u001b[m\u001b[K’ is not derived from ‘\u001b[01m\u001b[Kconst std::move_iterator<_IteratorL>\u001b[m\u001b[K’\n",
            "    7 |   cout << a << \", \" << b << \"!\" < \u001b[01;36m\u001b[Kendl\u001b[m\u001b[K;\n",
            "      |                                   \u001b[01;36m\u001b[K^~~~\u001b[m\u001b[K\n",
            "\u001b[31;1mWA\n"
          ]
        }
      ]
    },
    {
      "cell_type": "code",
      "source": [
        "# @title 🔒️解答例(どうしても問題を解けない場合に見てください)\n",
        "%%writefile practice_03.cpp\n",
        "#include <iostream>\n",
        "using namespace std;\n",
        "\n",
        "int main() {\n",
        "  const char a[] = \"Hello\";\n",
        "  const char b[] = \"world\";\n",
        "  cout << a << \", \" << b << \"!\" << endl; // <<と書くべきところが<になっていたので、<<に修正\n",
        "}"
      ],
      "metadata": {
        "cellView": "form",
        "id": "5zdCPUiX01fO"
      },
      "execution_count": null,
      "outputs": []
    },
    {
      "cell_type": "markdown",
      "source": [
        "### ❓️問題４ 複数のエラー\n",
        "\n",
        "以下のプログラムのエラーを修正しなさい。\n",
        "\n",
        ">エラーの原因は、エラーメッセージに表示された行より前にある場合もあります。\n"
      ],
      "metadata": {
        "id": "l6z0gGtBg5GQ"
      }
    },
    {
      "cell_type": "code",
      "source": [
        "%%writefile practice_04.cpp\n",
        "#include <iostream>\n",
        "using namespace std;\n",
        "\n",
        "int main() {\n",
        "  int a = 2;\n",
        "  int b = 3\n",
        "  int c = a + b\n",
        "  cout << c << endl;\n",
        "}"
      ],
      "metadata": {
        "id": "1ZDTiQe3g7OU"
      },
      "execution_count": null,
      "outputs": []
    },
    {
      "cell_type": "code",
      "source": [
        "# @title 動作テスト\n",
        "!g++ -std=c++20 -O2 -Wall -Wextra -o practice_04 practice_04.cpp && ./practice_04"
      ],
      "metadata": {
        "cellView": "form",
        "id": "oxuH6zzmeXq8"
      },
      "execution_count": null,
      "outputs": []
    },
    {
      "cell_type": "code",
      "source": [
        "# @title 実行\n",
        "!diff <(echo 5) <(g++ -std=c++20 -O2 -Wall -Wextra -o practice_04 practice_04.cpp && ./practice_04) >nil && test $? -eq 0 && echo -e \"\\033[32;1mAC\" || echo -e \"\\033[31;1mWA\""
      ],
      "metadata": {
        "colab": {
          "base_uri": "https://localhost:8080/"
        },
        "id": "BNu_h1oehNf_",
        "outputId": "74f40dc3-41dc-4a1b-9f3c-55441b5acab7",
        "cellView": "form"
      },
      "execution_count": null,
      "outputs": [
        {
          "output_type": "stream",
          "name": "stdout",
          "text": [
            "\u001b[01m\u001b[Kpractice_04.cpp:\u001b[m\u001b[K In function ‘\u001b[01m\u001b[Kint main()\u001b[m\u001b[K’:\n",
            "\u001b[01m\u001b[Kpractice_04.cpp:7:3:\u001b[m\u001b[K \u001b[01;31m\u001b[Kerror: \u001b[m\u001b[Kexpected ‘\u001b[01m\u001b[K,\u001b[m\u001b[K’ or ‘\u001b[01m\u001b[K;\u001b[m\u001b[K’ before ‘\u001b[01m\u001b[Kint\u001b[m\u001b[K’\n",
            "    7 |   \u001b[01;31m\u001b[Kint\u001b[m\u001b[K c = a + b\n",
            "      |   \u001b[01;31m\u001b[K^~~\u001b[m\u001b[K\n",
            "\u001b[01m\u001b[Kpractice_04.cpp:5:7:\u001b[m\u001b[K \u001b[01;35m\u001b[Kwarning: \u001b[m\u001b[Kunused variable ‘\u001b[01m\u001b[Ka\u001b[m\u001b[K’ [\u001b[01;35m\u001b[K\u001b]8;;https://gcc.gnu.org/onlinedocs/gcc/Warning-Options.html#index-Wunused-variable\u0007-Wunused-variable\u001b]8;;\u0007\u001b[m\u001b[K]\n",
            "    5 |   int \u001b[01;35m\u001b[Ka\u001b[m\u001b[K = 2;\n",
            "      |       \u001b[01;35m\u001b[K^\u001b[m\u001b[K\n",
            "\u001b[01m\u001b[Kpractice_04.cpp:6:7:\u001b[m\u001b[K \u001b[01;35m\u001b[Kwarning: \u001b[m\u001b[Kunused variable ‘\u001b[01m\u001b[Kb\u001b[m\u001b[K’ [\u001b[01;35m\u001b[K\u001b]8;;https://gcc.gnu.org/onlinedocs/gcc/Warning-Options.html#index-Wunused-variable\u0007-Wunused-variable\u001b]8;;\u0007\u001b[m\u001b[K]\n",
            "    6 |   int \u001b[01;35m\u001b[Kb\u001b[m\u001b[K = 3\n",
            "      |       \u001b[01;35m\u001b[K^\u001b[m\u001b[K\n",
            "\u001b[31;1mWA\n"
          ]
        }
      ]
    },
    {
      "cell_type": "code",
      "source": [
        "# @title 🔒️解答例(どうしても問題を解けない場合に見てください)\n",
        "%%writefile practice_04.cpp\n",
        "#include <iostream>\n",
        "using namespace std;\n",
        "\n",
        "int main() {\n",
        "  int a = 2;\n",
        "  int b = 3;         // 行末にセミコロンを追加\n",
        "  int c = a + b      // 行末にセミコロンを追加\n",
        "  cout << c << endl;\n",
        "}"
      ],
      "metadata": {
        "cellView": "form",
        "id": "8wcF6tsE1Um_"
      },
      "execution_count": null,
      "outputs": []
    },
    {
      "cell_type": "markdown",
      "source": [
        "### ❓️問題５ なにも出力されない\n",
        "\n",
        "`a / (b + c)`を計算するプログラムがあります。しかし、何も出力されません。<br>\n",
        "`a / (b + c)`が出力されるように、プログラムを修正しなさい。\n"
      ],
      "metadata": {
        "id": "Vcz4gTAkhPm7"
      }
    },
    {
      "cell_type": "code",
      "source": [
        "%%writefile practice_05.cpp\n",
        "#include <iostream>\n",
        "using namespace std;\n",
        "\n",
        "int main() {\n",
        "  int a = 12;\n",
        "  int b = 3;\n",
        "  int c = 3;\n",
        "  cout << \"a / (b + c) = \" << a / (b - c) << endl;\n",
        "}"
      ],
      "metadata": {
        "id": "ONSup500hVQ0"
      },
      "execution_count": null,
      "outputs": []
    },
    {
      "cell_type": "code",
      "source": [
        "# @title 動作テスト\n",
        "!g++ -std=c++20 -O2 -Wall -Wextra -o practice_05 practice_05.cpp && ./practice_05"
      ],
      "metadata": {
        "cellView": "form",
        "id": "1SBs2156hU_u"
      },
      "execution_count": null,
      "outputs": []
    },
    {
      "cell_type": "code",
      "source": [
        "# @title 実行\n",
        "!diff <(echo -e \"a / (b + c) = 2\") <(g++ -std=c++20 -O2 -Wall -Wextra -o practice_05 practice_05.cpp && ./practice_05) >nil && test $? -eq 0&& echo -e \"\\033[32;1mAC\" || echo -e \"\\033[31;1mWA\""
      ],
      "metadata": {
        "cellView": "form",
        "id": "5EwOH9LjhU19"
      },
      "execution_count": null,
      "outputs": []
    },
    {
      "cell_type": "code",
      "source": [
        "# @title 🔒️解答例(どうしても問題を解けない場合に見てください)\n",
        "%%writefile practice_05.cpp\n",
        "#include <iostream>\n",
        "using namespace std;\n",
        "\n",
        "int main() {\n",
        "  int a = 12;\n",
        "  int b = 3;\n",
        "  int c = 3;\n",
        "  cout << \"a / (b + c) = \" << a / (b + c) << endl; // 計算式を文章と同じにする\n",
        "}"
      ],
      "metadata": {
        "cellView": "form",
        "id": "Bne8DY5r1ibz"
      },
      "execution_count": null,
      "outputs": []
    },
    {
      "cell_type": "markdown",
      "source": [
        "### ❓️問題６ 論理的におかしい\n",
        "\n",
        "「リンゴはX円、みかんはY円」と出力するプログラムがあります。<br>\n",
        "XとYに正しい値段が出力されるように、プログラムのエラーを修正しなさい。\n"
      ],
      "metadata": {
        "id": "7JjjMDzlfQJq"
      }
    },
    {
      "cell_type": "code",
      "source": [
        "%%writefile practice_06.cpp\n",
        "#include <iostream>\n",
        "using namespace std;\n",
        "\n",
        "int main() {\n",
        "  int ringo = 100; // リンゴ1個の値段\n",
        "  int mikan = 60;  // みかん1個の値段\n",
        "\n",
        "  cout << \"リンゴは\" << mikan << \"円、みかんは\" << ringo << \"円です\" << endl;\n",
        "}"
      ],
      "metadata": {
        "id": "KUVC9ypbfY1x"
      },
      "execution_count": null,
      "outputs": []
    },
    {
      "cell_type": "code",
      "source": [
        "# @title 動作テスト\n",
        "!g++ -std=c++20 -O2 -Wall -Wextra -o practice_06 practice_06.cpp && ./practice_06"
      ],
      "metadata": {
        "cellView": "form",
        "id": "OSJeF7aMgdEt"
      },
      "execution_count": null,
      "outputs": []
    },
    {
      "cell_type": "code",
      "source": [
        "# @title 実行\n",
        "!diff <(echo -e \"リンゴは100円、みかんは60円です\") <(g++ -std=c++20 -O2 -Wall -Wextra -o practice_06 practice_06.cpp && ./practice_06) >nil && test $? -eq 0&& echo -e \"\\033[32;1mAC\" || echo -e \"\\033[31;1mWA\""
      ],
      "metadata": {
        "cellView": "form",
        "id": "EoJre6V6gc7M"
      },
      "execution_count": null,
      "outputs": []
    },
    {
      "cell_type": "code",
      "source": [
        "# @title 🔒️解答例(どうしても問題を解けない場合に見てください)\n",
        "%%writefile practice_06.cpp\n",
        "#include <iostream>\n",
        "using namespace std;\n",
        "\n",
        "int main() {\n",
        "  int ringo = 100; // リンゴ1個の値段\n",
        "  int mikan = 60;  // みかん1個の値段\n",
        "\n",
        "  cout << \"リンゴは\" << ringo << \"円、みかんは\" << mikan << \"円です\" << endl;\n",
        "}"
      ],
      "metadata": {
        "cellView": "form",
        "id": "UTxUSDNS1vYl"
      },
      "execution_count": null,
      "outputs": []
    }
  ]
}