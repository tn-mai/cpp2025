{
  "nbformat": 4,
  "nbformat_minor": 0,
  "metadata": {
    "colab": {
      "provenance": [],
      "toc_visible": true
    },
    "kernelspec": {
      "name": "python3",
      "display_name": "Python 3"
    },
    "language_info": {
      "name": "python"
    }
  },
  "cells": [
    {
      "cell_type": "markdown",
      "source": [
        "# 配列"
      ],
      "metadata": {
        "id": "ugPUxefUrEoM"
      }
    },
    {
      "cell_type": "markdown",
      "source": [
        "## キーポイント\n",
        "\n",
        "* 配列は「同じ型のデータを複数まとめて扱う」機能\n",
        "* 配列には、C形式の配列と、C++形式の`vector`型の２種類がある<br>本テキストでは主に`vector`型を使う\n",
        "* `vector`型を使うにはヘッダファイル`<vector>`をインクルードする\n",
        "* `vector`型の変数(配列変数という)を宣言するには次のように書く\n",
        "  ```cpp\n",
        "  vector<型名> 変数名;\n",
        "  ```\n",
        "* 配列変数に値を代入するには次のように書く\n",
        "  ```cpp\n",
        "  変数名 = { データ0, データ1, ... };\n",
        "  ```\n",
        "* データ数で指定した長さの配列変数を作るには次のように書く\n",
        "  ```cpp\n",
        "  vector<型名> 変数名(データ数);\n",
        "  ```\n",
        "* 配列の`i`番目の変数を読み書きするには`変数名[i]`と書く<br>\n",
        "  この`i`のことを「添字(そえじ)」という\n",
        "* 配列のデータ数を知るには、`変数名.size()`と書く"
      ],
      "metadata": {
        "id": "bqkYDKkeBC56"
      }
    },
    {
      "cell_type": "markdown",
      "source": [
        "----\n",
        "\n",
        "## 1 配列の基本\n",
        "\n",
        "----\n",
        "\n",
        "「配列(はいれつ)」は、同じ型のデータを複数まとめて扱うための機能です。<br>\n",
        "配列は「クラスの全員の試験の点数を記録する」ような場合に役立ちます。\n",
        "\n",
        "C++言語で使える配列には次の２種類があります。\n",
        "\n",
        "1. C形式の配列\n",
        "2. C++形式の`vector`型\n",
        "\n",
        "どちらの形式にも利点と欠点がありますが、本テキストではC++形式の`vector`型を使います。<br>\n",
        "C++形式の`vector`型は、C形式の配列にはない様々な機能が追加されて使いやすくなっているからです。\n",
        "\n",
        "`vector`型を使うには、`vector`ヘッダファイルをインクルードする必要があります。"
      ],
      "metadata": {
        "id": "JHAwVS8a0v2c"
      }
    },
    {
      "cell_type": "markdown",
      "source": [
        "### 1.1 配列変数の宣言\n",
        "\n",
        "配列変数は次の形式で宣言します。\n",
        "\n",
        "```cpp\n",
        "vector<型> 配列変数名;\n",
        "```\n",
        "\n",
        "例えば、`vector<int> v;`と書いた場合、`int`型のデータ列を扱う配列変数`v`が宣言されます。\n",
        "\n"
      ],
      "metadata": {
        "id": "MYEq94bM1xS0"
      }
    },
    {
      "cell_type": "markdown",
      "source": [
        "### 1.2 配列変数の初期化\n",
        "\n",
        "次のように書くと、指定した要素数で配列を初期化できます。\n",
        "\n",
        "```cpp\n",
        "vector<型> 変数名(データ数);\n",
        "```\n",
        "\n",
        "どんな値で初期化されるかは、`<>`の内側に指定した型によって変わります。\n",
        "\n",
        "型が`int`や`double`などの「整数型」の場合、全ての要素が`0`で初期化されます。<br>\n",
        "型が`string`の場合、すべての要素が`\"\"`、つまり「空の文字列」で初期化されます。\n"
      ],
      "metadata": {
        "id": "7jHy_duiEK09"
      }
    },
    {
      "cell_type": "markdown",
      "source": [
        "### 1.3 配列変数への代入\n",
        "\n",
        "配列変数に値を代入する方法はいくつかありますが、その一つが次の形式です。\n",
        "\n",
        "```cpp\n",
        "配列変数名 = { データ0, データ1, ... };\n",
        "```\n",
        "\n",
        "配列が持つデータの1つ1つのことを「要素(ようそ)」と呼びます。\n",
        "\n",
        "例えば、`v = { 25, 100, 64 };`と書いた場合、「25, 100, 64」という3つのデータが配列変数`v`に代入されます。"
      ],
      "metadata": {
        "id": "tl4FmArK3RmX"
      }
    },
    {
      "cell_type": "markdown",
      "source": [
        "### 1.4 配列の要素を読み書きする\n",
        "\n",
        "配列の`i`番目の要素を読み書きするには、次のように書きます\n",
        "\n",
        "```cpp\n",
        "配列変数名[i]\n",
        "```\n",
        "\n",
        "`[]`記号の内側に書く変数や数値のことを「添字(そえじ)」といいます。<br>\n",
        "そして、`[]`記号のことを「添字演算子(そえじ えんざんし)」といいます。\n",
        "\n",
        "添字は`0`から始まります。\n",
        "\n",
        "**コード**\n",
        "\n",
        "```cpp\n",
        "#include <iostream>\n",
        "#include <vector>\n",
        "using namespace std;\n",
        "\n",
        "int main() {\n",
        "  vector<int> v = {25, 100, 64};\n",
        "  cout << v[0] << endl;\n",
        "  cout << v[1] << endl;\n",
        "  cout << v[2] << endl;\n",
        "}\n",
        "```\n",
        "\n",
        "**実行結果**\n",
        "\n",
        "```txt\n",
        "25\n",
        "100\n",
        "64\n",
        "```\n",
        "\n",
        "要素にデータを代入するには、`変数名[i] = データ;`のように書きます。\n",
        "\n",
        "**コード**\n",
        "\n",
        "```cpp\n",
        "#include <iostream>\n",
        "#include <vector>\n",
        "using namespace std;\n",
        "\n",
        "int main() {\n",
        "  vector<int> v = {25, 100, 64};\n",
        "\n",
        "  v[0] = 50;\n",
        "  v[1] += 11;\n",
        "  v[2] *= 2;\n",
        "\n",
        "  cout << v[0] << endl;\n",
        "  cout << v[1] << endl;\n",
        "  cout << v[2] << endl;\n",
        "}\n",
        "```\n",
        "\n",
        "**実行結果**\n",
        "\n",
        "```txt\n",
        "50\n",
        "111\n",
        "128\n",
        "```\n"
      ],
      "metadata": {
        "id": "CHVonBl13it3"
      }
    },
    {
      "cell_type": "markdown",
      "source": [
        "### 1.5 配列の要素数\n",
        "\n",
        "配列の要素数(長さ)を得るには次のように書きます。\n",
        "\n",
        "```cpp\n",
        "配列変数名.size()\n",
        "```\n",
        "\n",
        "**コード**\n",
        "\n",
        "```cpp\n",
        "#include <iostream>\n",
        "#include <vector>\n",
        "using namespace std:\n",
        "\n",
        "int main() {\n",
        "  vector<int> v = {25, 100, 64};\n",
        "  cout << v.size() << endl;\n",
        "}\n",
        "```\n",
        "\n",
        "**実行結果**\n",
        "\n",
        "```txt\n",
        "3\n",
        "```\n"
      ],
      "metadata": {
        "id": "HnJcN7YJ6PmC"
      }
    },
    {
      "cell_type": "markdown",
      "source": [
        "### 1.6 範囲外の添字を使ってはいけない\n",
        "\n",
        "添字の値が正しい範囲内に無い場合、おかしな値になったり、実行時エラーになることがあります。\n",
        "\n",
        "次のプログラムでは、要素数3の配列変数`v`（有効な添字の値は`0`～`2`）に対し、`v[10]`で存在しない要素を読み出そうとしています。\n",
        "\n",
        "しかし、添字`10`の要素など定義していないので、未定義の領域にある「謎のデータ」を読み出すことになります。\n",
        "\n",
        "その結果、おかしな値が読み出されたり、場合によっては実行時エラーが起きたりします。\n",
        "\n",
        "**コード**\n",
        "\n",
        "```cpp\n",
        "#include <iostream>\n",
        "#include <vector>\n",
        "using namespace std;\n",
        "\n",
        "int main() {\n",
        "  vector v = {25, 100, 64};\n",
        "  cout << v[10] << endl;\n",
        "}\n",
        "```\n",
        "\n",
        "**実行結果(例)**\n",
        "\n",
        "```txt\n",
        "0\n",
        "```\n"
      ],
      "metadata": {
        "id": "vYhRkCrI-NVn"
      }
    },
    {
      "cell_type": "markdown",
      "source": [
        "----\n",
        "\n",
        "## 2 配列の使い方\n",
        "\n",
        "----\n"
      ],
      "metadata": {
        "id": "z6hQRtAnClul"
      }
    },
    {
      "cell_type": "markdown",
      "source": [
        "### 2.1 配列とfor文を組み合わせる\n",
        "\n",
        "配列は`for`文を組み合わせることで様々な処理が行えます。<br>\n",
        "次のプログラムでは、配列のすべての要素の合計を求めています。\n",
        "\n",
        "```cpp\n",
        "#include <iostream>\n",
        "#include <vector>\n",
        "using namespace std;\n",
        "\n",
        "int main() {\n",
        "  vector v = { 25, 100, 64};\n",
        "\n",
        "  int total = 0;\n",
        "  for (int i = 0; i < v.size(); i++) {\n",
        "    total += v[i];\n",
        "  }\n",
        "\n",
        "  cout << \"合計=\" << total << endl;\n",
        "}\n",
        "```\n",
        "\n",
        "**実行結果**\n",
        "\n",
        "```txt\n",
        "合計=189\n",
        "```\n"
      ],
      "metadata": {
        "id": "tRWgm5UTCsUQ"
      }
    },
    {
      "cell_type": "markdown",
      "source": [
        "### 2.2 データを使い捨てられない場合\n",
        "\n",
        "N個のデータを順番に読み込んで処理するだけなら、`for`文と`cin`を組み合わせるだけで処理できるため、配列は不要です。\n",
        "\n",
        "**コード**\n",
        "\n",
        "```cpp\n",
        "#include <iostream>\n",
        "#include <vector>\n",
        "using namespace std;\n",
        "\n",
        "int main() {\n",
        "  int n;\n",
        "  cin >> n;\n",
        "\n",
        "  // 入力されたn個のデータをそのまま出力する\n",
        "  for (int i = 0; i < n; i++) {\n",
        "    int a;\n",
        "    cin >> a;\n",
        "    cout << a << ' ';\n",
        "  }\n",
        "  cout << endl;\n",
        "}\n",
        "```\n",
        "\n",
        "**入力データ**\n",
        "\n",
        "```txt\n",
        "5\n",
        "1 1 2 3 5\n",
        "```\n",
        "\n",
        "**実行結果**\n",
        "\n",
        "```txt\n",
        "1 1 2 3 5\n",
        "```\n",
        "\n",
        "上記のプログラムでは、読み込んだデータをすぐに出力しています。この場合、数値を保存する必要はありません。\n",
        "\n",
        "しかし、例えば「N個のデータを逆順で出力したい」という場合、最後のデータを読み込むまでは出力を開始できません。<br>\n",
        "この場合、次のプログラムのように、読み込んだデータを配列に保存しておく必要があります。\n",
        "\n",
        "**コード**\n",
        "\n",
        "```cpp\n",
        "#include <iostream>\n",
        "#include <vector>\n",
        "using namespace std;\n",
        "\n",
        "int main() {\n",
        "  // データの個数を読み込む\n",
        "  int n;\n",
        "  cin >> n;\n",
        "\n",
        "  // n個のデータを読み込む\n",
        "  vector v(n);\n",
        "  for (int i = 0; i < n; i++) {\n",
        "    cin >> v[i];\n",
        "  }\n",
        "\n",
        "  // 入力されたn個のデータを逆順で出力する\n",
        "  for (int i = n - 1; i >= 0; i--) {\n",
        "    cout << v[i] << ' ';\n",
        "  }\n",
        "  cout << endl;\n",
        "}\n",
        "```\n",
        "\n",
        "**入力データ(例)**\n",
        "\n",
        "```txt\n",
        "5\n",
        "1 1 2 3 5\n",
        "```\n",
        "\n",
        "**実行結果**\n",
        "\n",
        "```txt\n",
        "5 3 2 1 1\n",
        "```\n",
        "\n"
      ],
      "metadata": {
        "id": "FIRZ2cs-X3P1"
      }
    },
    {
      "cell_type": "markdown",
      "source": [
        "### 2.3 要素の追加\n",
        "\n",
        "`push_back`(プッシュバック)を使うと、配列の末尾に要素を追加できます。`push_back`の使いかたは次のようになります。\n",
        "\n",
        "```cpp\n",
        "配列変数名.push_back(データ);\n",
        "```\n",
        "\n",
        "**コード**\n",
        "\n",
        "```cpp\n",
        "#include <iostream>\n",
        "#include <vector>\n",
        "using namespace std;\n",
        "\n",
        "int main() {\n",
        "  vector<int> v = { 1, 2, 3 };\n",
        "\n",
        "  v.push_back(10); // 末尾に10を追加\n",
        "\n",
        "  // vの全要素を出力\n",
        "  for (int i = 0; i < v.size(); i++) {\n",
        "    cout << v[i] << endl;\n",
        "  }\n",
        "}\n",
        "```\n",
        "\n",
        "**実行結果**\n",
        "\n",
        "```\n",
        "1\n",
        "2\n",
        "3\n",
        "10\n",
        "```\n"
      ],
      "metadata": {
        "id": "fqyCk1Uda9B_"
      }
    },
    {
      "cell_type": "markdown",
      "source": [
        "### 2.4 要素の削除\n",
        "\n",
        "`pop_back`(ポップ・バック)を使うと、配列の末尾の要素を削除できます。書きかたは次のようになります。\n",
        "\n",
        "```cpp\n",
        "配列変数名.pop_back();\n",
        "```\n",
        "\n",
        "**コード**\n",
        "\n",
        "```cpp\n",
        "#include <iostream>\n",
        "#include <vector>\n",
        "using namespace std;\n",
        "\n",
        "int main() {\n",
        "  vector<int> v = { 1, 2, 3 };\n",
        "\n",
        "  v.pop_back(); // 末尾の要素を削除\n",
        "\n",
        "  // vの全要素を出力\n",
        "  for (int i = 0; i < v.size(); i++) {\n",
        "    cout << v[i] << endl;\n",
        "  }\n",
        "}\n",
        "```\n",
        "\n",
        "**実行結果**\n",
        "\n",
        "```txt\n",
        "1\n",
        "2\n",
        "```"
      ],
      "metadata": {
        "id": "2iTRGEn-hecY"
      }
    },
    {
      "cell_type": "markdown",
      "source": [
        "### 2.5 すべての要素を削除\n",
        "\n",
        "`clear`(クリア)を使うと、配列のすべての要素を削除し、データ数を`0`にすることができます。`clear`は次のように書きます。\n",
        "\n",
        "```cpp\n",
        "配列変数名.clear();\n",
        "```\n",
        "\n",
        "**コード**\n",
        "\n",
        "```cpp\n",
        "#include <iostream>\n",
        "#include <vector>\n",
        "using namespace std;\n",
        "\n",
        "int main() {\n",
        "  vector<int> v = { 1, 2, 3 };\n",
        "\n",
        "  v.clear(); // すべての要素を削除\n",
        "\n",
        "  cout << v.size() << endl; // 配列のデータ数を出力\n",
        "}\n",
        "```\n",
        "\n",
        "**実行結果**\n",
        "\n",
        "```txt\n",
        "0\n",
        "```"
      ],
      "metadata": {
        "id": "MzlOwuoHjS4Q"
      }
    },
    {
      "cell_type": "markdown",
      "source": [
        "### 2.6 高度な機能\n",
        "\n",
        "`vector`には、これまでに紹介した以外にもさまざまな関数が用意されています。そのうちの一部を以下に示します。\n",
        "\n",
        "| 関数                 | 読みかた   | 機能の説明 |\n",
        "|:---------------------|:-----------|:-----------|\n",
        "| resize(データ数)     | リサイズ   | 配列の長さを「データ数」に変更する |\n",
        "| empty()              | エンプティ | 配列の長さが`0`なら`true`、`1`以上なら`false`を返す |\n",
        "| insert(位置, データ) | インサート | 「データ」を「位置」に挿入する |\n",
        "| erase(位置)          | イレース   | 「位置」にあるデータを削除する |\n",
        "| begin()              | ビギン     | 配列の先頭の「位置」を返す |\n",
        "| end()                | エンド     | 配列の終端の「位置」を返す |\n",
        "| reserve(データ数)    | リザーブ   | データの追加を高速化するため、「データ数」の長さの予約領域を作る |\n"
      ],
      "metadata": {
        "id": "CVi9YLQh91dn"
      }
    },
    {
      "cell_type": "markdown",
      "source": [
        "----\n",
        "\n",
        "## 3 C形式の配列\n",
        "\n",
        "----\n",
        "\n",
        "C形式の配列は、C++形式の`vector`に比べると機能が少ないです。そのため、積極的に使う必要はありません。<br>\n",
        "しかし、自分では書かなくても、他人のプログラムで見る機会はありますから、最低限の知識は持っておくと良いでしょう。\n",
        "\n",
        "それに、次のような利点もあります。\n",
        "\n",
        "* ヘッダファイルをインクルードしなくても使える\n",
        "* 必要なメモリが少ない\n",
        "* 変数の作成にかかる時間が短い\n",
        "\n",
        "C形式の配列は次のように書きます。\n",
        "\n",
        "```cpp\n",
        "型 変数名[データ数];\n",
        "```\n",
        "\n",
        "`vector`と異なり、「データ数」に変数を使うことはできません。必ず数値を書く必要があります。例えば、`int`型のデータ数`3`の配列は、次のように書きます。\n",
        "\n",
        "```cpp\n",
        "int v[3];\n",
        "```\n",
        "\n",
        "初期化は`vector`と同様に、次のように書きます。\n",
        "\n",
        "```cpp\n",
        "int v[3] = { 25, 100, 64 };\n",
        "```\n",
        "\n",
        "データの読み書きも`vector`と同じです。\n",
        "\n",
        "```cpp\n",
        "int v[3] = { 25, 100, 64 };\n",
        "cout << v[0] << endl; // 25が出力される\n",
        "v[1] *= 2;\n",
        "cout << v[1] << endl; // 200が出力される\n",
        "```\n",
        "\n",
        "配列のサイズを取得するには次のように書きます。\n",
        "\n",
        "```cpp\n",
        "int v[3];\n",
        "cout << sizeof(v) / sizeof(v[0]) << endl; // 3が出力される\n",
        "```\n",
        "\n",
        "`sizeof`(サイズ・オブ)は「型や変数のバイト数を返す演算子」です。<br>\n",
        "`sizeof(v)`は「`v`のバイト数」で、これは配列全体のバイト数になります。<br>\n",
        "`sizeof(v[0])`は「`v[0]`のバイト数」で、これは配列の0番目の要素のバイト数になります。\n",
        "\n",
        "また、配列全体のバイト数は「要素のバイト数×データ数」になります。<br>\n",
        "そのため、「配列全体のバイト数」を「要素のバイト数」で割れば、データ数が分かるという仕組みです。\n",
        "\n",
        "C形式の配列の機能はこれで全てです。`vector`が持つ要素の追加・削除や、その他の高度な機能はひとつもありません。<br>\n",
        "そのため、C形式の配列を使う場面は、次の状況に限られます。\n",
        "\n",
        "1. データ数が決まっていて変わることがない(データの追加や削除をしない)\n",
        "2. `vector`が持つ高度な機能を必要としない\n",
        "3. 少しでも無駄なメモリや処理時間を減らしたい(家庭用ゲーム機のように、性能が限られる場合は重要です)\n",
        "\n",
        "しかし、これらの状況を判断するには、プログラミングについてある程度の知識が必要になります。<br>\n",
        "最初のうちは、`vector`を使うほうがよいでしょう。"
      ],
      "metadata": {
        "id": "4UQxEThsiwB9"
      }
    },
    {
      "cell_type": "markdown",
      "source": [
        "----\n",
        "\n",
        "## 4 練習問題\n",
        "\n",
        "----\n",
        "\n",
        "以下の手順にしたがって、3つのプログラムを完成させなさい。\n",
        "\n",
        "1. `%%writefile ...`の下の行からがプログラムです。問題文に従ってプログラムを修正、または追加してください。\n",
        "2. プログラムを修正したら、セルの右側にある`▶`をクリックします。すると、ファイルが保存されます。\n",
        "3. 「動作テスト」セルの`▶`をクリックすると、2で保存したファイルがコンパイル＆実行され、実行結果が表示されます。<br>\n",
        "   このセルは、修正したプログラムの動作を確認するために使ってください。\n",
        "4. 「実行」セルの`▶`をクリックすると、2で保存したファイルがコンパイル＆実行され、結果の成否が判定されます。\n",
        "5. 判定に成功したら`AC`と表示されます。次の問題に進んでください。\n",
        "6. 失敗したら`WA`と表示されます(その前にエラーメッセージが表示される場合もあります)。<br>\n",
        "   これは、プログラムのどこかにエラーがあることを意味します。<br>\n",
        "   「動作テスト」を使ってエラーを修正し、`AC`を目指してください。\n"
      ],
      "metadata": {
        "id": "lMRTYSQ5AMzs"
      }
    },
    {
      "cell_type": "markdown",
      "source": [
        "### 問題１ 円周率\n",
        "\n",
        "以下のプログラムが`3.1415`を出力するように、配列変数の定義を追加しなさい。\n",
        "\n",
        "1. `vector<int>`型の配列変数`v`を定義する\n",
        "2. `v`に5個のデータ`3`, `1`, `4`, `1`, `5`を代入する。\n",
        "\n",
        "**出力例**\n",
        "\n",
        "```txt\n",
        "3.1415\n",
        "```\n"
      ],
      "metadata": {
        "id": "RnTTS8R1APhR"
      }
    },
    {
      "cell_type": "code",
      "source": [
        "%%writefile practice_01.cpp\n",
        "#include <iostream>\n",
        "#include <vector>\n",
        "using namespace std;\n",
        "\n",
        "int main() {\n",
        "  // この下に配列変数vを定義し、データを代入する\n",
        "\n",
        "  cout << v[0] << '.' << v[1] << v[2] << v[3] << v[4] << endl;\n",
        "}"
      ],
      "metadata": {
        "id": "aZKGwoKdDCQv"
      },
      "execution_count": null,
      "outputs": []
    },
    {
      "cell_type": "code",
      "source": [
        "# @title 動作テスト\n",
        "!g++ -std=c++20 -O2 -Wall -Wextra -o practice_01 practice_01.cpp && ./practice_01"
      ],
      "metadata": {
        "cellView": "form",
        "id": "RcN7Wavoee1J"
      },
      "execution_count": null,
      "outputs": []
    },
    {
      "cell_type": "code",
      "source": [
        "# @title 実行\n",
        "!diff -Z <(echo -e \"3.1415\") <(g++ -std=c++20 -O2 -Wall -Wextra -o practice_01 practice_01.cpp && ./practice_01) > nil && test $? -eq 0 && echo -e \"\\033[32;1mAC\" || echo -e \"\\033[31;1mWA\""
      ],
      "metadata": {
        "cellView": "form",
        "id": "UACB1zePNew-"
      },
      "execution_count": null,
      "outputs": []
    },
    {
      "cell_type": "markdown",
      "source": [
        "### 問題２ デッキをカット\n",
        "\n",
        "5枚のカードの山があり、各カードには数字が書かれています。<br>\n",
        "山の下からN枚のカードを抜いて、順序を保ったまま山の上に乗せました。<br>\n",
        "この操作後の山の上から順に、カードに書かれた数字を出力しなさい。<br>\n",
        "最後に`endl`で「改行」を出力すること。\n",
        "\n",
        "ヒント: 最初に、移動させる`n`枚のカードを出力し、次に残りのカードを出力する\n",
        "\n",
        "1. カードをあらわす配列変数`v`を宣言する\n",
        "2. カードの数字を標準入力`cin`から読み込む\n",
        "3. 抜く枚数をあらわす変数`n`を宣言する\n",
        "4. 抜く枚数を標準入力`cin`から読み込む\n",
        "5. `n`枚のカードを山の上に移動したあとの番号を、標準出力`cout`に出力する\n",
        "\n",
        "**入力データ例（１）**\n",
        "\n",
        "```txt\n",
        "1 2 4 2 3\n",
        "3\n",
        "```\n",
        "\n",
        "**出力例（１）**\n",
        "\n",
        "```txt\n",
        "4 2 3 1 2\n",
        "```\n",
        "\n",
        "**入力データ例（２）**\n",
        "\n",
        "```txt\n",
        "8 1 9 3 5\n",
        "1\n",
        "```\n",
        "\n",
        "**出力例（２）**\n",
        "\n",
        "```txt\n",
        "5 8 1 9 3\n",
        "```\n"
      ],
      "metadata": {
        "id": "FpyKpyMpI7lE"
      }
    },
    {
      "cell_type": "code",
      "source": [
        "%%writefile practice_02.cpp\n",
        "#include <iostream>\n",
        "#include <vector>\n",
        "using namespace std;\n",
        "\n",
        "int main() {\n",
        "  // この下に、1～5を行うプログラムを書く\n",
        "}"
      ],
      "metadata": {
        "id": "Wk2pz25GI9cv"
      },
      "execution_count": null,
      "outputs": []
    },
    {
      "cell_type": "code",
      "source": [
        "# @title 動作テスト\n",
        "!g++ -std=c++20 -O2 -Wall -Wextra -o practice_02 practice_02.cpp && echo \"この下をクリックして、5枚のカードの数値と抜く枚数を入力:\" && ./practice_02"
      ],
      "metadata": {
        "id": "jWEb-5WtiC2P",
        "cellView": "form"
      },
      "execution_count": null,
      "outputs": []
    },
    {
      "cell_type": "code",
      "source": [
        "# @title 実行\n",
        "!diff -Z <(echo -e \"4 2 3 1 2\\n5 8 1 9 3\") <(g++ -std=c++20 -O2 -Wall -Wextra -o practice_02 practice_02.cpp && echo 1 2 4 2 3 3 | ./practice_02 && echo 8 1 9 3 5 1 | ./practice_02) > nil && test $? -eq 0 && echo -e \"\\033[32;1mAC\" || echo -e \"\\033[31;1mWA\""
      ],
      "metadata": {
        "cellView": "form",
        "id": "ky9-9Iak6fih"
      },
      "execution_count": null,
      "outputs": []
    },
    {
      "cell_type": "markdown",
      "source": [
        "### 問題３ 平均以上\n",
        "\n",
        "N人の試験の得点が与えられます。<br>\n",
        "平均点(端数切捨て)以上の得点を取った人数を出力しなさい。\n",
        "\n",
        "1. 人数をあらわす変数を宣言し、標準入力`cin`から読み込む\n",
        "2. 得点を記録する配列変数を、データ数`n`で宣言する\n",
        "3. `for`文と標準入力`cin`を使って、`n`人の得点を読み込む\n",
        "4. `for`文を使って平均点を計算する(端数切捨て)\n",
        "5. `for`文を使って「平均点以上の得点を取った人数」をかぞえる\n",
        "6. 標準出力`cout`に、「平均点以上の得点を取った人数」を出力する\n",
        "\n",
        "**入力データ例（１）**\n",
        "\n",
        "```txt\n",
        "3\n",
        "10 20 30\n",
        "```\n",
        "\n",
        "**出力例（１）**\n",
        "\n",
        "```\n",
        "2\n",
        "```\n",
        "\n",
        "**入力データ例（２）**\n",
        "\n",
        "```txt\n",
        "5\n",
        "0 5 11 20 9\n",
        "```\n",
        "\n",
        "**出力例（２）**\n",
        "\n",
        "```\n",
        "3\n",
        "```\n"
      ],
      "metadata": {
        "id": "FjPNKc_IN7rW"
      }
    },
    {
      "cell_type": "code",
      "source": [
        "%%writefile practice_03.cpp\n",
        "#include <iostream>\n",
        "#include <vector>\n",
        "using namespace std;\n",
        "\n",
        "int main() {\n",
        "  // この下に、1～6を行うプログラムを書く\n",
        "}"
      ],
      "metadata": {
        "id": "bZpaEK8o5m3-"
      },
      "execution_count": null,
      "outputs": []
    },
    {
      "cell_type": "code",
      "source": [
        "# @title 動作テスト\n",
        "!g++ -std=c++20 -O2 -Wall -Wextra -o practice_03 practice_03.cpp && echo \"この下をクリックして、人数と得点を入力:\" && ./practice_03"
      ],
      "metadata": {
        "cellView": "form",
        "id": "uq7G84rLiwbc"
      },
      "execution_count": null,
      "outputs": []
    },
    {
      "cell_type": "code",
      "source": [
        "# @title 実行\n",
        "!diff -Z <(echo -e \"2\\n3\") <(g++ -std=c++20 -O2 -Wall -Wextra -o practice_03 practice_03.cpp && echo 3 10 20 30 | ./practice_03 && echo 5 0 5 11 20 9 | ./practice_03) > nil && test $? -eq 0 && echo -e \"\\033[32;1mAC\" || echo -e \"\\033[31;1mWA\""
      ],
      "metadata": {
        "cellView": "form",
        "id": "Ary3sFy4Hphz"
      },
      "execution_count": null,
      "outputs": []
    }
  ]
}