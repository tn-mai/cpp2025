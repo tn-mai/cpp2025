{
  "nbformat": 4,
  "nbformat_minor": 0,
  "metadata": {
    "colab": {
      "provenance": [],
      "toc_visible": true
    },
    "kernelspec": {
      "name": "python3",
      "display_name": "Python 3"
    },
    "language_info": {
      "name": "python"
    }
  },
  "cells": [
    {
      "cell_type": "markdown",
      "source": [
        "# if文\n"
      ],
      "metadata": {
        "id": "Ts7LZNJSPyyj"
      }
    },
    {
      "cell_type": "markdown",
      "source": [
        "## キーポイント\n",
        "\n",
        "* `if`文を使うと「ある条件が正しい時だけ処理をする」というプログラムが書ける\n",
        "* `else`句を使うと「条件式が正しくなかった時」の処理を書ける\n",
        "* 条件式の結果は真のとき`1`に、偽のとき`0`になる"
      ],
      "metadata": {
        "id": "2kc6MXY6A46T"
      }
    },
    {
      "cell_type": "markdown",
      "source": [
        "## 1 if文\n",
        "\n",
        "if文を使うと、ある条件が正しい時だけ処理をするというプログラムが書けるようになります。\n",
        "\n",
        "書き方は次のようになります。\n",
        "\n",
        "```cpp\n",
        "if (条件式) {\n",
        "  処理\n",
        "}\n",
        "```\n",
        "\n",
        "「条件式」には、`==`などの「比較演算子」や、`&&`などの「論理演算子」を使って式を書きます。\n",
        "\n",
        "条件式が正しい時は、`{`から`}`の間の処理が実行されます。条件式が正しくないときは、この処理は飛ばされます。\n",
        "\n",
        "次の例では、入力の値が`5`より小さければ「その数字は5より小さい」と出力した後「終了」と出力します。また、入力の値が`5`より小さくなければ(つまり`5`以上なら)「終了」とだけ出力します。\n",
        "\n",
        "**コード**\n",
        "\n",
        "```cpp\n",
        "#include <iostream>\n",
        "using namespace std;\n",
        "\n",
        "int main() {\n",
        "  cout << \"0～9の数字を入力してください>\";\n",
        "\n",
        "  int x;\n",
        "  cin >> x;\n",
        "\n",
        "  if (x < 5) {\n",
        "    cout << \"その数字は5より小さい\" << endl;\n",
        "  }\n",
        "\n",
        "  cout << \"終了\" << endl;\n",
        "}\n",
        "```\n",
        "\n",
        "**実行例（１）**\n",
        "\n",
        "```txt\n",
        "数字を入力してください>1\n",
        "その数字は5より小さい\n",
        "終了\n",
        "```\n",
        "\n",
        "**実行例（２）**\n",
        "\n",
        "```txt\n",
        "数字を入力してください>10\n",
        "終了\n",
        "```"
      ],
      "metadata": {
        "id": "ljTHLxa7P578"
      }
    },
    {
      "cell_type": "markdown",
      "source": [
        "この例では、`int`型の変数`x`を宣言し、標準入力`cin`から整数のデータを受け取ります。\n",
        "\n",
        "```cpp\n",
        "int x;\n",
        "cin >> x;\n",
        "```\n",
        "\n",
        "重要なのはその後です。\n",
        "\n",
        "```cpp\n",
        "if (x < 5) {\n",
        "  cout << \"その数字は5より小さい\" << endl;\n",
        "}\n",
        "```\n",
        "\n",
        "この部分は、「もし`x < 5`（`x`が`5`より小さい）なら、「その数字は5より小さい」と出力する」という意味になります。最後に`cout << \"終了\" << endl;`が実行されて「終了」と出力され、プログラムは終了します。\n",
        "\n",
        "`x`が`5`より小さくない(つまり`5`以上の)場合、次の処理は飛ばされます。\n",
        "\n",
        "```cpp\n",
        "{\n",
        "  cout << \"その数字は5より小さい\" << endl;\n",
        "}\n",
        "```\n",
        "\n",
        "そのため、`5`以上の数値を入力すると「終了」とだけ出力されます。\n",
        "\n",
        "`if`文のように、何かの条件で処理が別れることを条件分岐といいます。また、「条件式が正しい」ことを「条件式が真(しん)」、「条件式が正しくない」ことを「条件式が偽(ぎ)」といいます。"
      ],
      "metadata": {
        "id": "6QJfGYTKgmQ3"
      }
    },
    {
      "cell_type": "markdown",
      "source": [
        "## 2 比較演算子"
      ],
      "metadata": {
        "id": "-VmIlRvAy2r3"
      }
    },
    {
      "cell_type": "markdown",
      "source": [
        "### 2.1 数と数を比較する\n",
        "\n",
        "条件式のところには、多くの場合、比較演算子を使って条件を書きます。\n",
        "比較演算子は以下の6つです。\n",
        "\n",
        "| 演算子 | 意味             |\n",
        "|:------:|:-----------------|\n",
        "| x == y | xとyは等しい     |\n",
        "| x != y | xとyは等しくない |\n",
        "| x > y  | xはyより大きい   |\n",
        "| x < y  | xはyより小さい   |\n",
        "| x >= y | xはy以上         |\n",
        "| x <= y | xはy以下         |\n",
        "\n",
        "「より大きい」「より小さい」を表す記号は数学と同じです。<br>\n",
        "「等しい」は=を2つ繋げたものになり、「等しくない」は!が=の前につきます。<br>\n",
        "「以上」「以下」は、数学では「≧」「≦」のように`=`を下につけますが、C++では`>=`,`<=`のように`=`を右側につけます。\n",
        "\n",
        "次のプログラムは、入力された整数値がどんな条件を満たしているかを出力するプログラムです。\n",
        "\n",
        "**コード**\n",
        "\n",
        "```cpp\n",
        "#include <iostream>\n",
        "using namespace std;\n",
        "\n",
        "int main() {\n",
        "  cout << \"1～100の数字を入力してください>\";\n",
        "\n",
        "  int x;\n",
        "  cin >> x;\n",
        "\n",
        "  if (x < 10) {\n",
        "    cout << \"その数字は10より小さい\" << endl;\n",
        "  }\n",
        "\n",
        "  if (x >= 20) {\n",
        "    cout << \"その数字は20以上\" << endl;\n",
        "  }\n",
        "\n",
        "  if (x == 5) {\n",
        "    cout << \"その数字は5\" << endl;\n",
        "  }\n",
        "\n",
        "  if (x != 100) {\n",
        "    cout << \"その数字は100ではない\" << endl;\n",
        "  }\n",
        "\n",
        "  cout << \"終了\" << endl;\n",
        "}\n",
        "```\n",
        "\n",
        "**実行例（１）**\n",
        "\n",
        "```txt\n",
        "1～100の数字を入力してください>5\n",
        "その数字は10より小さい\n",
        "その数字は5\n",
        "その数字は100ではない\n",
        "終了\n",
        "```\n",
        "\n",
        "**実行例（２）**\n",
        "\n",
        "```txt\n",
        "1～100の数字を入力してください>100\n",
        "その数字は20以上\n",
        "終了\n",
        "```\n",
        "\n"
      ],
      "metadata": {
        "id": "aJHqebSRRPR_"
      }
    },
    {
      "cell_type": "markdown",
      "source": [
        "### 2.2 trueとfalse\n",
        "\n",
        "C++では、真のことを数値の`1`で表現し、偽のことを数値の`0`で表現します。条件式の「計算結果」も、真のときは`1`、偽のときは`0`になります。\n",
        "\n",
        "しかし、真や偽を`0`や`1`で表すと、本当に真偽を示したかったのか、実は数値のつもりだったのかが分かりにくい、という問題があります。この問題を解決するために、真を意味する`true`(トゥルー)、偽を意味する`false`(フォールス、フォルス)というキーワードが定義されています。\n",
        "\n",
        "条件式に`true`と書くと、`1`と書いたのと同じことになります。同様に`false`と書くと、`0`と書いたのと同じことになります。"
      ],
      "metadata": {
        "id": "MXEHTI9zwZa8"
      }
    },
    {
      "cell_type": "markdown",
      "source": [
        "### 2.3 bool型\n",
        "\n",
        "先ほど述べたように、C++では真は`1`、偽は`0`で表現されます。そのため、`int`型の変数を使えば、真と偽を格納できます。しかし、`int`型には「真偽を表したい」のか「数値を表したい」のか分からない、という問題があります。\n",
        "\n",
        "`bool`(ブール)型は、キーワード`true`と`false`だけを格納できる型です。数値ではなく真偽を表すことを明確にしたい場合、`int`型のかわりに`bool`型を使います。"
      ],
      "metadata": {
        "id": "4wcmUxEVw-LN"
      }
    },
    {
      "cell_type": "markdown",
      "source": [
        "### 2.4 よくあるミス\n",
        "\n",
        "`==`のつもりで`=`とだけ書いてしまわないように注意しましょう。\n",
        "\n",
        "次のプログラムは「xが10と等しいか」を判定するプログラムの典型的なミスです。\n",
        "\n",
        "\n",
        "実行結果\n",
        "xは10\n",
        "if (x = 10)のif文はxがどんな数値でも真だと判定されます。ハマりどころなので覚えておきましょう。\n",
        "\n",
        "**コード**\n",
        "\n",
        "```cpp\n",
        "#include <iostream>\n",
        "using namespace std;\n",
        "\n",
        "int main() {\n",
        "  cout << \"1～100の数字を入力してください>\";\n",
        "\n",
        "  int x;\n",
        "  cin >> x;\n",
        "\n",
        "  if (x = 10) {\n",
        "    cout << \"その数字は10\" << endl;\n",
        "  }\n",
        "}\n",
        "```\n",
        "\n",
        "**実行例（１）**\n",
        "\n",
        "```txt\n",
        "1～100の数字を入力してください>10\n",
        "その数字は10\n",
        "```\n",
        "\n",
        "**実行例（２）**\n",
        "\n",
        "```txt\n",
        "1～100の数字を入力してください>4\n",
        "その数字は10\n",
        "```"
      ],
      "metadata": {
        "id": "6SunQj3Opfm_"
      }
    },
    {
      "cell_type": "markdown",
      "source": [
        "代入式の結果は「代入した値」になります。このため、`x = 10`は「`x`に`10`を代入し、式の結果を`10`にする」という意味になります。そして、条件式に数値が指定されると、数値が`0`なら偽、`0`以外なら真と判定されます。\n",
        "\n",
        "`==`と`=`は、慣れないうちは間違えやすいです。ただ、現代の多くのコンパイラは、このミスを見つけると警告メッセージで教えてくれます。メッセージに注意していれば、ミスに気づけると思います。\n",
        "\n",
        "**警告メッセージの例**\n",
        "\n",
        "```txt\n",
        "Main.cpp: In function ‘int main()’:\n",
        "Main.cpp:10:9: warning: suggest parentheses around assignment used as truth value [-Wparentheses]\n",
        "   10 |   if (x = 10) {\n",
        "      |       ~~^~\n",
        "```"
      ],
      "metadata": {
        "id": "_4s1oKOzqM0M"
      }
    },
    {
      "cell_type": "markdown",
      "source": [
        "## 3 論理演算子\n",
        "\n",
        "論理演算子を使うと、条件式の中に、もっと複雑な条件を書くことができます。\n",
        "\n",
        "| 演算子 | 意味 | 真になる時 |\n",
        "|:------------------:|:-----|:-----------|\n",
        "| !(条件式)          | 条件式の結果の反転             | 条件式が偽 |\n",
        "| 条件式1 && 条件式2 | 条件式1が真 かつ 条件式2が真   | 条件式1と条件式2のどちらも真 |\n",
        "| 条件式1 \\|\\| 条件式2 | 条件式1が真 または 条件式2が真 | 条件式1と条件式2の少なくとも片方が真 |\n",
        "\n",
        "`!`演算子は「否定(ひてい)演算子」と呼ばれ、条件式の意味を逆にします。例えば、`!(x == y)`は`x != y`と同じ意味になります。\n",
        "\n",
        "`&&`演算子は「論理積(ろんりせき)演算子」と呼ばれ、２つの条件式がどちらも真のときだけ真となります。\n",
        "\n",
        "`||`演算子は「論理和(ろんりわ)演算子」と呼ばれ、どちらか片方が真、または両方とも真の場合に真となります。\n",
        "\n",
        "**コード**\n",
        "\n",
        "```cpp\n",
        "#include <iostream>\n",
        "using namespace std;\n",
        "\n",
        "int main() {\n",
        "  cout << \"1～10の数字を2つ入力してください>\";\n",
        "\n",
        "  int x, y;\n",
        "  cin >> x >> y;\n",
        "\n",
        "  if (!(x == y)) {\n",
        "    cout << \"xとyは等しくない\" << endl;\n",
        "  }\n",
        "\n",
        "  if (x == 10 && y == 10) {\n",
        "    cout << \"xとyは10\" << endl;\n",
        "  }\n",
        "\n",
        "  if (x == 0 || y == 0) {\n",
        "    cout << \"xかyは0\" << endl;\n",
        "  }\n",
        "\n",
        "  cout << \"終了\" << endl;\n",
        "}\n",
        "```\n",
        "\n",
        "**実行例（１）**\n",
        "\n",
        "```txt\n",
        "1～10の数字を2つ入力してください>1 2\n",
        "xとyは等しくない\n",
        "終了\n",
        "```\n",
        "\n",
        "**実行例（２）**\n",
        "\n",
        "```txt\n",
        "1～10の数字を2つ入力してください>10 10\n",
        "xとyは10\n",
        "終了\n",
        "```\n",
        "\n",
        "**実行例（３）**\n",
        "\n",
        "```txt\n",
        "1～10の数字を2つ入力してください>10 0\n",
        "xかyは0\n",
        "終了\n",
        "```\n",
        "\n"
      ],
      "metadata": {
        "id": "4H7k6KVaRJEt"
      }
    },
    {
      "cell_type": "markdown",
      "source": [
        "また、論理演算子を２回以上使うと、さらに複雑な条件を書くことができます。<br>\n",
        "例えば「`a`と`b`と`c`と`d`が等しい」という条件は、次のように書けます。\n",
        "\n",
        "```cpp\n",
        "if (a == b && a == c && a == d) {\n",
        "  cout << \"aとbとcとdは等しい\" << endl;\n",
        "}\n",
        "```"
      ],
      "metadata": {
        "id": "VSYt014Zcxxl"
      }
    },
    {
      "cell_type": "markdown",
      "source": [
        "## 4 「前の条件が真でないとき」の処理"
      ],
      "metadata": {
        "id": "hkpSLl8CQ9JW"
      }
    },
    {
      "cell_type": "markdown",
      "source": [
        "### 4.1 else句\n",
        "\n",
        "else句は、if文の後に書くことで「if文の条件が偽の時」に処理を行えるようになります。\n",
        "書き方は次のようになります。\n",
        "\n",
        "```cpp\n",
        "if (条件式1) {\n",
        "  処理1\n",
        "}\n",
        "else {\n",
        "  処理2\n",
        "}\n",
        "```\n",
        "\n",
        "次のプログラムは、入力の値が10より小さければ「xは10より小さい」と出力し、そうでなければ「xは10より小さくない」と出力します。\n",
        "\n",
        "**コード**\n",
        "\n",
        "```cpp\n",
        "#include <iostream>\n",
        "using namespace std;\n",
        "\n",
        "int main() {\n",
        "  cout << \"1～100の数字を入力してください>\";\n",
        "\n",
        "  int x;\n",
        "  cin >> x;\n",
        "\n",
        "  if (x < 10) {\n",
        "    cout << \"その数字は10より小さい\" << endl;\n",
        "  }\n",
        "  else {\n",
        "    cout << \"その数字は10より小さくない\" << endl;\n",
        "  }\n",
        "}\n",
        "```\n",
        "\n",
        "**実行例（１）**\n",
        "\n",
        "```txt\n",
        "1～100の数値を入力してください>1\n",
        "その数字は10より小さい\n",
        "```\n",
        "\n",
        "**実行例（２）**\n",
        "\n",
        "```txt\n",
        "1～100の数値を入力してください>10\n",
        "その数字は10より小さくない\n",
        "```\n"
      ],
      "metadata": {
        "id": "L5PlVeMYQ22l"
      }
    },
    {
      "cell_type": "markdown",
      "source": [
        "### 4.2 else if\n",
        "\n",
        "else ifは「『前のif文の条件が偽』かつ『else ifの条件が真』」の時に処理が行われます。\n",
        "\n",
        "書き方は次のようになります。\n",
        "\n",
        "```cpp\n",
        "if (条件式1) {\n",
        "  処理1\n",
        "}\n",
        "else if (条件式2) {\n",
        "  処理2\n",
        "}\n",
        "```\n",
        "\n",
        "処理2が実行されるのは「条件式1が偽 かつ 条件式2が真」のときになります。\n",
        "\n",
        "else ifの後に続けてelse ifやelseを書くこともできます。次のプログラムはその例です。\n",
        "\n",
        "**コード**\n",
        "\n",
        "```cpp\n",
        "#include <iostream>\n",
        "using namespace std;\n",
        "\n",
        "int main() {\n",
        "  cout << \"1～100の数字を入力してください>\";\n",
        "\n",
        "  int x;\n",
        "  cin >> x;\n",
        "\n",
        "  if (x < 10) {\n",
        "    cout << \"その数字は10より小さい\" << endl;\n",
        "  }\n",
        "  else if (x > 20) {\n",
        "    cout << \"その数字は10より小さくなくて、20より大きい\" << endl;\n",
        "  }\n",
        "  else if (x == 15) {\n",
        "    cout << \"その数字は10より小さくなくて、20より大きくなくて、15である\" << endl;\n",
        "  }\n",
        "  else {\n",
        "    cout << \"その数字は10より小さくなくて、20より大きくもなくて、15でもない\" << endl;\n",
        "  }\n",
        "}\n",
        "```\n",
        "\n",
        "**実行例**\n",
        "\n",
        "```txt\n",
        "1～100の数字を入力してください>15\n",
        "その数字は10より小さくなくて、20より大きくなくて、15である\n",
        "```"
      ],
      "metadata": {
        "id": "O1shRzBsQlBP"
      }
    },
    {
      "cell_type": "markdown",
      "source": [
        "## 5 条件式に文字や文字列を使う\n",
        "\n",
        "文字や文字列も、条件式に使うことができます。以下は条件式に文字を使う例です。\n",
        "\n",
        "**コード**\n",
        "\n",
        "```cpp\n",
        "#include <iostream>\n",
        "using namespace std;\n",
        "\n",
        "int main() {\n",
        "  char c;\n",
        "  cin >> c;\n",
        "\n",
        "  if (c == 'a') {\n",
        "    cout << \"aです\" << endl;\n",
        "  } else if (c >= 'A' && c <= 'Z') {\n",
        "    cout << \"大文字です\" << endl;\n",
        "  }\n",
        "}\n",
        "```\n",
        "\n",
        "**実行例（１）**\n",
        "\n",
        "```txt\n",
        "a\n",
        "aです\n",
        "```\n",
        "\n",
        "**実行例（２）**\n",
        "\n",
        "```txt\n",
        "R\n",
        "大文字です\n",
        "```\n",
        "\n",
        "文字をデータとして表現するには、`'`(シングルクォーテーション、Shift+7キー)記号で文字を囲みます。\n",
        "\n",
        "文字の比較は「辞書順」、つまり「アルファベットの並び順」で行われます。例えば`'a'`と`'b'`では`'a'`のほうが小さい、`'y'`と`'z'`では`'z'`のほうが大きい、と判定されます。\n",
        "\n",
        "また、大文字と小文字の比較では、常に大文字のほうが小さいと判定されます。つまり、`'A' < 'a'`は真です。\n",
        "\n",
        "次は、文字列を使う例です。\n",
        "\n",
        "**コード**\n",
        "\n",
        "```cpp\n",
        "#include <iostream>\n",
        "#include <string>\n",
        "using namespace std;\n",
        "\n",
        "int main() {\n",
        "  string s;\n",
        "  cin >> s;\n",
        "\n",
        "  if (s == \"fire\") {\n",
        "    cout << \"火属性\" << endl;\n",
        "  } else {\n",
        "    cout << \"他の属性\" << endl;\n",
        "  }\n",
        "}\n",
        "```\n",
        "\n",
        "**実行例（１）**\n",
        "\n",
        "```txt\n",
        "fire\n",
        "火属性\n",
        "```\n",
        "\n",
        "**実行例（２）**\n",
        "\n",
        "```txt\n",
        "wind\n",
        "他の属性\n",
        "```\n",
        "\n",
        "文字列の比較は、先頭から1文字ずつ辞書順で行われます。例えば、`\"abc\"`と`\"acc\"`では`\"abc\"`のほうが小さいと判定されます。\n",
        "\n",
        "これは、1文字目はどちらも`'a'`で等しいものの、2文字目の`'b'`と`'c'`では`'b'`のほうが小さいからです。2文字目で大小関係が決まったので、3文字目以降は判定しません。\n",
        "\n",
        "`\"abc\"`と`\"aba\"`の比較では、最初の2文字は等しいので、3文字目も比較します。そして、`'c'`と`'a'`では`'a'`のほうが小さいので、`\"aba\"`のほうが小さいと判定されます。"
      ],
      "metadata": {
        "id": "ElfjKmzSMaI9"
      }
    },
    {
      "cell_type": "markdown",
      "source": [
        "## 5 多重if文"
      ],
      "metadata": {
        "id": "-UCdc5yw9A7M"
      }
    },
    {
      "cell_type": "markdown",
      "source": [
        "`if`文の中に`if`文を入れることを、「ネストする」と言います。\n",
        "\n",
        "```cpp\n",
        "#include <iostream>\n",
        "using namespace std;\n",
        "\n",
        "int main() {\n",
        "  cout << \"1～100の数字を2つ入力してください>\";\n",
        "\n",
        "  int x, y;\n",
        "  cin >> x >> y;\n",
        "\n",
        "  if (x == 10) {\n",
        "    cout << \"xは10\" << endl;\n",
        "    if (y == 10) {\n",
        "      cout << \"yも10\" << endl;\n",
        "    }\n",
        "  }\n",
        "\n",
        "  cout << \"終了\" << endl;\n",
        "}\n",
        "```\n",
        "\n",
        "**実行例（１）**\n",
        "\n",
        "```txt\n",
        "1～100の数字を2つ入力してください>10 10\n",
        "xは10\n",
        "yも10\n",
        "終了\n",
        "```\n",
        "\n",
        "**実行例（２）**\n",
        "\n",
        "```txt\n",
        "1～100の数字を2つ入力してください>5 10\n",
        "終了\n",
        "```"
      ],
      "metadata": {
        "id": "aX1Ss8J99D12"
      }
    },
    {
      "cell_type": "markdown",
      "source": [
        "## 6 練習問題\n",
        "\n",
        "以下の手順にしたがって、4つのプログラムを完成させなさい。<br>\n",
        "うまく完成できていたら、出力セルには`AC`とだけ表示されます。<br>\n",
        "間違っている場合は`WA`と表示されます(エラーメッセージが表示される場合もあります)。\n",
        "\n",
        "1. `%%writefile ...`の下の行からがプログラムです。ここにプログラムを追加します。\n",
        "2. プログラムを追加したら、セルの右側にある`▶`をクリックします。すると、ファイルが保存されます。\n",
        "3. 「実行」セルをクリックすると、下側に`▶`が表示されます。<br>\n",
        "   表示された`▶`クリックすると、2で保存したファイルがコンパイル＆実行され、実行結果が表示されます。\n",
        "4. 実行結果が`AC`だけになったらプログラムは完成です。次の問題に進んでください。"
      ],
      "metadata": {
        "id": "cbO2uhC2sQYs"
      }
    },
    {
      "cell_type": "markdown",
      "source": [
        "### 問題１\n",
        "\n",
        "次のプログラムが正しい文章を出力するように、`if`文に適切な条件式を追加しなさい。"
      ],
      "metadata": {
        "id": "Jht4NhGosU8-"
      }
    },
    {
      "cell_type": "code",
      "source": [
        "%%writefile practice_01.cpp\n",
        "#include <iostream>\n",
        "using namespace std;\n",
        "\n",
        "int main() {\n",
        "  int x;\n",
        "  cin >> x;\n",
        "\n",
        "  if () {\n",
        "    cout << x << \"は6より小さい\" << endl;\n",
        "  } else if () {\n",
        "    cout << x << \"は6\" << endl;\n",
        "  } else {\n",
        "    cout << x << \"は6以上\" << endl;\n",
        "  }\n",
        "}"
      ],
      "metadata": {
        "colab": {
          "base_uri": "https://localhost:8080/"
        },
        "id": "frhKTQFtsXyC",
        "outputId": "f1b2607e-85fc-4801-ebb2-dbd1d3a25dd5"
      },
      "execution_count": null,
      "outputs": [
        {
          "output_type": "stream",
          "name": "stdout",
          "text": [
            "Overwriting practice_01.cpp\n"
          ]
        }
      ]
    },
    {
      "cell_type": "code",
      "source": [
        "# @title 実行\n",
        "!echo -e \"1は6より小さい\\n5は6より小さい\\n6は6\\n9は6以上\" > b.txt\n",
        "!g++ practice_01.cpp -o practice_01 -Wall && echo 1 | ./practice_01 > a.txt && echo 5 | ./practice_01 >> a.txt && echo 6 | ./practice_01 >> a.txt && echo 9 | ./practice_01 >> a.txt && diff -Z a.txt b.txt > nil && test $? -eq 0 && echo -e \"\\033[32;1mAC\" || echo -e \"\\033[31;1mWA\""
      ],
      "metadata": {
        "colab": {
          "base_uri": "https://localhost:8080/"
        },
        "cellView": "form",
        "id": "Q_IE4WTEyS-y",
        "outputId": "a7ca6f2b-bace-4526-8195-5ead624cbdf1"
      },
      "execution_count": null,
      "outputs": [
        {
          "output_type": "stream",
          "name": "stdout",
          "text": [
            "\u001b[01m\u001b[Kpractice_01.cpp:\u001b[m\u001b[K In function ‘\u001b[01m\u001b[Kint main()\u001b[m\u001b[K’:\n",
            "\u001b[01m\u001b[Kpractice_01.cpp:8:7:\u001b[m\u001b[K \u001b[01;31m\u001b[Kerror: \u001b[m\u001b[Kexpected primary-expression before ‘\u001b[01m\u001b[K)\u001b[m\u001b[K’ token\n",
            "    8 |   if (\u001b[01;31m\u001b[K)\u001b[m\u001b[K {\n",
            "      |       \u001b[01;31m\u001b[K^\u001b[m\u001b[K\n",
            "\u001b[01m\u001b[Kpractice_01.cpp:10:14:\u001b[m\u001b[K \u001b[01;31m\u001b[Kerror: \u001b[m\u001b[Kexpected primary-expression before ‘\u001b[01m\u001b[K)\u001b[m\u001b[K’ token\n",
            "   10 |   } else if (\u001b[01;31m\u001b[K)\u001b[m\u001b[K {\n",
            "      |              \u001b[01;31m\u001b[K^\u001b[m\u001b[K\n",
            "WA\n"
          ]
        }
      ]
    },
    {
      "cell_type": "markdown",
      "source": [
        "### 問題２\n",
        "\n",
        "2つの物体`x`と`y`の重さを比較するプログラムがあります。<br>\n",
        "`if`文に条件式を追加して、`x`のほうが重いときは`Left`、`x`と`y`の重さが等しいときは`Balanced`、`y`のほうが重いときは`Right`と表示されるようにしなさい。"
      ],
      "metadata": {
        "id": "n0t3bbe2hZ3_"
      }
    },
    {
      "cell_type": "code",
      "source": [
        "%%writefile practice_02.cpp\n",
        "#include <iostream>\n",
        "using namespace std;\n",
        "\n",
        "int main() {\n",
        "  int x, y;\n",
        "  cin >> x >> y;\n",
        "\n",
        "  if () {\n",
        "    cout << \"Left\" << endl;\n",
        "  } else if () {\n",
        "    cout << \"Balanced\" << endl;\n",
        "  } else {\n",
        "    cout << \"Right\" << endl;\n",
        "  }\n",
        "}"
      ],
      "metadata": {
        "colab": {
          "base_uri": "https://localhost:8080/"
        },
        "id": "XsHqbHhUhcWV",
        "outputId": "ff592af4-d6dc-4173-aecd-40c9c51c64ee"
      },
      "execution_count": null,
      "outputs": [
        {
          "output_type": "stream",
          "name": "stdout",
          "text": [
            "Overwriting practice_02.cpp\n"
          ]
        }
      ]
    },
    {
      "cell_type": "code",
      "source": [
        "# @title 実行\n",
        "!echo -e \"Left\\nRight\\nBalanced\" > b.txt\n",
        "!g++ practice_02.cpp -o practice_02 -Wall && echo 2 1 | ./practice_02 > a.txt && echo 3 4 | ./practice_02 >> a.txt && echo 5 5 | ./practice_02 >> a.txt && diff -Z a.txt b.txt > nil && test $? -eq 0 && echo -e \"\\033[32;1mAC\" || echo -e \"\\033[31;1mWA\""
      ],
      "metadata": {
        "colab": {
          "base_uri": "https://localhost:8080/"
        },
        "cellView": "form",
        "id": "vXWQOkD8jAWb",
        "outputId": "1a2ce56e-e07f-411d-8194-4fe00800d013"
      },
      "execution_count": null,
      "outputs": [
        {
          "output_type": "stream",
          "name": "stdout",
          "text": [
            "AC\n"
          ]
        }
      ]
    },
    {
      "cell_type": "markdown",
      "source": [
        "### 問題３\n",
        "\n",
        "３枚のカードの番号を受け取って、役を判定するプログラムがあります。<br>\n",
        "以下の役を判定できるように、`if`文に適切な条件式を追加しなさい。\n",
        "\n",
        "* スリーカード(３枚とも同じ数字)\n",
        "* ワンペア(３枚のうち２枚が同じ数字)\n",
        "* ブタ(３枚とも違う数字)"
      ],
      "metadata": {
        "id": "gKanOkKL0Y_Q"
      }
    },
    {
      "cell_type": "code",
      "source": [
        "%%writefile practice_03.cpp\n",
        "#include <iostream>\n",
        "using namespace std;\n",
        "\n",
        "int main() {\n",
        "  int a, b, c;\n",
        "  cin >> a >> b >> c;\n",
        "\n",
        "  if () {\n",
        "    cout << \"スリーカード\" << endl;\n",
        "  } else if () {\n",
        "    cout << \"ワンペア\" << endl;\n",
        "  } else {\n",
        "    cout << \"ブタ\" << endl;\n",
        "  }\n",
        "}"
      ],
      "metadata": {
        "colab": {
          "base_uri": "https://localhost:8080/"
        },
        "id": "UNKTFCI40au0",
        "outputId": "d6a373e9-1611-447a-bbb9-e8d7be370940"
      },
      "execution_count": null,
      "outputs": [
        {
          "output_type": "stream",
          "name": "stdout",
          "text": [
            "Overwriting practice_02.cpp\n"
          ]
        }
      ]
    },
    {
      "cell_type": "code",
      "source": [
        "# @title 実行\n",
        "!echo -e \"スリーカード\\nワンペア\\nワンペア\\nワンペア\\nブタ\" > b.txt\n",
        "!g++ practice_03.cpp -o practice_03 -Wall && echo 5 5 5 | ./practice_03 > a.txt && echo 1 1 2 | ./practice_03 >> a.txt && echo 8 9 9 | ./practice_03 >> a.txt && echo 7 3 7 | ./practice_03 >> a.txt && echo 2 4 6 | ./practice_03 >> a.txt && diff -Z a.txt b.txt > nil && test $? -eq 0 && echo -e \"\\033[32;1mAC\" || echo -e \"\\033[31;1mWA\""
      ],
      "metadata": {
        "colab": {
          "base_uri": "https://localhost:8080/"
        },
        "cellView": "form",
        "id": "BUx5vgB2cZP5",
        "outputId": "244d2d97-0e28-4b52-82bb-87674d0118d1"
      },
      "execution_count": null,
      "outputs": [
        {
          "output_type": "stream",
          "name": "stdout",
          "text": [
            "AC\n"
          ]
        }
      ]
    },
    {
      "cell_type": "markdown",
      "source": [
        "### 問題４\n",
        "\n",
        "以下の処理を行うプログラムを作成しなさい。\n",
        "\n",
        "1. `int`型の変数`a`と`b`を宣言する\n",
        "3. 標準入力`cin`から、`a`, `b`の順番で読み取る\n",
        "4. `a + b`を出力し、改行する\n",
        "5. `a - b`を出力し、改行する\n"
      ],
      "metadata": {
        "id": "4v5V2brf5Rlr"
      }
    },
    {
      "cell_type": "code",
      "source": [
        "%%writefile practice_04.cpp\n",
        "#include <iostream>\n",
        "using namespace std;\n",
        "\n",
        "int main() {\n",
        "  // この下に1～4を行うプログラムを書く\n",
        "}"
      ],
      "metadata": {
        "colab": {
          "base_uri": "https://localhost:8080/"
        },
        "id": "y27WY6ie2GVk",
        "outputId": "ba21014f-d9e3-4ef5-9a59-ee7b407d17cd"
      },
      "execution_count": null,
      "outputs": [
        {
          "output_type": "stream",
          "name": "stdout",
          "text": [
            "Overwriting practice_04.cpp\n"
          ]
        }
      ]
    },
    {
      "cell_type": "code",
      "source": [
        "# @title 実行\n",
        "!diff -Z <(echo -e \"3\\n-1\\n11\\n9\\n4\\n0\") <(g++ practice_04.cpp -o practice_04 -Wall && echo 1 2 | ./practice_04 && echo 10 1 | ./practice_04 && echo 2 2 | ./practice_04) > nil && test $? -eq 0 && echo -e \"\\033[32;1mAC\" || echo -e \"\\033[31;1mWA\""
      ],
      "metadata": {
        "colab": {
          "base_uri": "https://localhost:8080/"
        },
        "id": "w6YCY-4v4bvW",
        "outputId": "75bcca88-9d52-48f3-edb7-c3f2bda272a9",
        "cellView": "form"
      },
      "execution_count": null,
      "outputs": [
        {
          "output_type": "stream",
          "name": "stdout",
          "text": [
            "AC\n"
          ]
        }
      ]
    }
  ]
}