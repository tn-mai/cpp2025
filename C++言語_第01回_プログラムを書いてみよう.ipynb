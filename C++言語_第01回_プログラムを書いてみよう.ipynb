{
  "nbformat": 4,
  "nbformat_minor": 0,
  "metadata": {
    "colab": {
      "provenance": [],
      "toc_visible": true
    },
    "kernelspec": {
      "name": "python3",
      "display_name": "Python 3"
    },
    "language_info": {
      "name": "python"
    }
  },
  "cells": [
    {
      "cell_type": "markdown",
      "source": [
        "# C++プログラムを書いてみよう\n"
      ],
      "metadata": {
        "id": "Hu6tF7lgV8C1"
      }
    },
    {
      "cell_type": "code",
      "source": [
        "# @title ▶をクリックすると、出力ウィンドウのフォントサイズを変更できます\n",
        "font_size = \"20\" # @param [\"10\",\"14\",\"16\",\"18\",\"20\",\"24\",\"32\"]\n",
        "from IPython.display import HTML\n",
        "shell = get_ipython()\n",
        "\n",
        "def adjust_font_size():\n",
        "  display(HTML('<style> body { font-size: ' + font_size + 'px; }</style>'))\n",
        "\n",
        "if adjust_font_size in shell.events.callbacks['pre_execute']:\n",
        "  shell.events.unregister('pre_execute', adjust_font_size)\n",
        "\n",
        "shell.events.register('pre_execute', adjust_font_size)"
      ],
      "metadata": {
        "id": "8HEIXB5F_zkl",
        "cellView": "form"
      },
      "execution_count": null,
      "outputs": []
    },
    {
      "cell_type": "markdown",
      "source": [
        "----\n",
        "\n",
        "## 1 プログラムを実行しよう\n",
        "\n",
        "----\n"
      ],
      "metadata": {
        "id": "w9ohwgQFiPNZ"
      }
    },
    {
      "cell_type": "markdown",
      "source": [
        "### 1.1 プログラミングの準備\n",
        "\n",
        "このテキストでは、C++(シー・プラス・プラス)というプログラミング言語を使って、簡単なコンピューター・ゲームを作っていきます。\n",
        "\n",
        "最初に設定を行います。ウィンドウ上部にある「ツール」をクリックし、次に「設定」をクリックします。すると、設定画面が開きます。\n",
        "\n",
        "<img width=\"500px\" hspace=\"50px\" src=\"https://raw.githubusercontent.com/tn-mai/cpp2025/refs/heads/main/images/google_colab_menu_tool_settings.png\" />\n",
        "\n",
        "左側にある「エディタ」をクリックすると、エディタの設定画面に切り替わります。「行番号を表示」をクリックしてチェックマークを付けてください。チェックマークを付けたら、右下の「保存」をクリックしてください。変更が保存され、このテキストに反映されます。\n",
        "\n",
        "<img width=\"500px\" hspace=\"50px\" src=\"https://raw.githubusercontent.com/tn-mai/cpp2025/refs/heads/main/images/google_colab_editor_settings.png\" />\n",
        "\n",
        "次に、この説明の下にある「コード」という欄をクリックしてください。文字の右側に、いくつかのアイコンが表示されると思います。マウスカーソルをアイコンに重ねると、アイコンの説明チップが表示されます。\n",
        "\n",
        "<img width=\"600px\" hspace=\"50px\" src=\"https://raw.githubusercontent.com/tn-mai/cpp2025/refs/heads/main/images/google_colab_mirroring_cell.png\" />\n",
        "\n",
        "「タブのミラーセル」という説明が出るアイコンをクリックしてください(他のアイコンをクリックしないように注意)。すると、画面の右側にタブが開き、「セルの複製」が作成されます。この複製の内容を変更すると、元のセルにも同じ変更が反映されます。\n",
        "\n",
        "「コード」セルの複製を作れたら、「コード」セルの下にある「実行」セルの複製も作成してください(「実行」をクリックし、次に「タブのミラーセル」アイコンをクリック)。\n",
        "\n",
        ">「セル」はGoogl Colabにおける、ドキュメントの分割単位です。"
      ],
      "metadata": {
        "id": "iW7Dl37vbuXD"
      }
    },
    {
      "cell_type": "code",
      "source": [
        "# @title コード\n",
        "# 「タブのミラーセル」機能で、このセルを複製してください\n",
        "%%writefile main.cpp\n",
        "\n",
        "// ここから下がC++のプログラムです\n",
        "#include <iostream>\n",
        "#include <string>\n",
        "using namespace std;\n",
        "\n",
        "// プログラムはmainから始まる\n",
        "int main()\n",
        "{\n",
        "  // 敵の設定\n",
        "  string enemy_name = \"殺人ウサギ\";\n",
        "\n",
        "  // 敵の出現\n",
        "  cout << enemy_name << \"が現れた！\\n\";\n",
        "\n",
        "  // プレイヤーのターン\n",
        "  cout << \"あなたの攻撃！\\n\";\n",
        "  cout << enemy_name << \"を倒した！\\n\";\n",
        "\n",
        "  // ゲーム終了\n",
        "  cout << \"[戦闘終了]\\n\";\n",
        "}"
      ],
      "metadata": {
        "id": "uWNOsum0tSiB"
      },
      "execution_count": null,
      "outputs": []
    },
    {
      "cell_type": "code",
      "source": [
        "# @title 実行\n",
        "# このセルも「タブのミラーセル」機能で複製してください\n",
        "!echo -e \"\\e[38;5;109m\"\n",
        "!g++ -std=c++20 -Wall -Wextra -o main main.cpp && ./main"
      ],
      "metadata": {
        "id": "z90HCBHD1ncg"
      },
      "execution_count": null,
      "outputs": []
    },
    {
      "cell_type": "markdown",
      "source": [
        "### 1.2 プログラムを実行しよう\n",
        "\n",
        "「コード」と「実行」の２つのセルを複製できたら、「コード」の複製にある▶アイコンをクリックしてください。<br>\n",
        "しばらく待つと、ファイルが保存されます。\n",
        "\n",
        "<img width=\"440px\" hspace=\"50px\" src=\"https://raw.githubusercontent.com/tn-mai/cpp2025/refs/heads/main/images/google_colab_run_icon.png\" />\n",
        "\n",
        "次に、「実行」タブをクリックして「実行」の複製を表示します。<br>\n",
        "「実行」の▶アイコンをクリックすると、さきほど保存したファイルが実行されます。\n",
        "\n",
        "<img width=\"400px\" hspace=\"50px\" src=\"https://raw.githubusercontent.com/tn-mai/cpp2025/refs/heads/main/images/google_colab_run_icon_2.png\" />\n",
        "\n",
        "「殺人ウサギとの戦闘の様子」が出力されたら成功です。\n"
      ],
      "metadata": {
        "id": "smXGhD50kS3n"
      }
    },
    {
      "cell_type": "markdown",
      "source": [
        "----\n",
        "\n",
        "## 2 プログラムを読んでみよう\n",
        "\n",
        "----\n"
      ],
      "metadata": {
        "id": "EXDKf3HXijgI"
      }
    },
    {
      "cell_type": "markdown",
      "source": [
        "### 2.1 C++言語について\n",
        "\n",
        "コンピューターのプログラムは「プログラミング言語」と呼ばれるもので書かれます。\n",
        "\n",
        "世界では、国や地域によってさまざまな言語が使われています。それと同じように、コンピューターの世界にもさまざまなプログラミング言語が存在します。ただし、プログラミング言語の場合は「国や地域」ではなく、「目的」によって使う言語が変わります。\n",
        "\n",
        "このテキストで学習するのはC++(シー・プラス・プラス)というプログラミング言語です。C++言語を使う主な目的は次のとおりです。\n",
        "\n",
        "* コンピューターの性能を限界まで使うアプリの開発\n",
        "* OSやゲームエンジンなどの大規模なアプリの開発\n",
        "* (C++の元になった)C言語で作られたアプリのアップデート\n",
        "\n",
        "これらの目的は、コンピューターの性能を引き出す必要のある家庭用ゲームや、WindowsなどのOSにはぴったりです。\n",
        "\n",
        ">本当にコンピューターの性能を引き出せるようになるには、C++言語だけではなく、コンピューターそのものについても、多くのことを学ばなくてはなりません。\n"
      ],
      "metadata": {
        "id": "2xwVZjSQhXdA"
      }
    },
    {
      "cell_type": "markdown",
      "source": [
        "### 2.2 間違えやすい文字に注意\n",
        "\n",
        "以下の英字と記号は似ているので、慣れないうちは見間違えることが多いです。<br>\n",
        "気をつけて読み書きしてください。\n",
        "\n",
        "* 1(いち)、i(小文字のアイ)、I(大文字のアイ)、l(小文字のエル)、|(垂直線)\n",
        "* 0(数字のゼロ)、o(小文字のオー)、O(大文字のオー)\n",
        "* アルファベットの大文字小文字\n"
      ],
      "metadata": {
        "id": "uUx7s9x7f1W-"
      }
    },
    {
      "cell_type": "markdown",
      "source": [
        "### 2.3 コメント\n",
        "\n",
        "それでは、「コード」タブをクリックして、プログラムを見ていきましょう。最初の3行はC++プログラムではなく、Google Colabへの命令です。\n",
        "\n",
        "```python\n",
        "# @title コード\n",
        "# 「タブのミラーセル」機能で、このセルを複製してください\n",
        "%%writefile main.cpp\n",
        "```\n",
        "\n",
        "この部分はC++とは無関係なので、無視してください。\n",
        "\n",
        "次に、\n",
        "\n",
        "```cpp\n",
        "// ここから下がC++のプログラムです\n",
        "```\n",
        "\n",
        "と書かれた行があります。文章に書いてあるとおり、この行から下がC++のプログラムになります。\n",
        "\n",
        "プログラム中に **//** (スラッシュ・スラッシュ)記号を書くと、そこから行の終わりまでは「コメント」になります。コンピューターはコメントを無視するので、この例のようにプログラムの説明を書いたり、今後の予定や、気づいたことをメモしておくことができます。\n"
      ],
      "metadata": {
        "id": "S1RYkO3FhL_o"
      }
    },
    {
      "cell_type": "markdown",
      "source": [
        "### 2.4 include(インクルード)指令\n",
        "\n",
        "コメントの下にある **#include** (シャープ・インクルード)」は「インクルード指令」といいます。インクルード指令は、プログラムで使う部品を追加するための機能です。\n",
        "\n",
        "```cpp\n",
        "#include <iostream>\n",
        "#include <string>\n",
        "```\n",
        "\n",
        "このプログラムでは、以下の2種類の部品を追加しています。\n",
        "\n",
        "* **iostream**(アイ・オー・ストリーム): 文字や数値の入出力を扱う部品\n",
        "* **string**(ストリング)`: 文字の集合(文字列)を扱う部品\n"
      ],
      "metadata": {
        "id": "zQzkmeCzy_6G"
      }
    },
    {
      "cell_type": "markdown",
      "source": [
        "### 2.5 using(ユージング)指令\n",
        "\n",
        "**using**(ユージング)は、部品のグループ名を省略できるようにする機能です。\n",
        "\n",
        "```cpp\n",
        "using namespace std;\n",
        "```\n",
        "\n",
        "C++の部品にはそれぞれ名前があって、例えば文字列を扱う部品の名前は **std::string** (エスティディー・ストリング)となっています。\n",
        "\n",
        "このうち**std**の部分が「グループ名」で、 **string** が部品名です。 **::** 記号の役割は、グループ名と部品名をつなぐことです。「グループ名」は誰が作った部品かを識別するためのもので、同じ名前の部品を作りたくなったときに役立ちます。\n",
        "\n",
        "しかし、毎回グループ名まで書くのは面倒です。そこで、グループ名を省略する機能として **using** 指令が用意されています。\n",
        "\n",
        "「グループ名」を省略するには、 **namespace** (ネームスペース)というキーワードに続けてグループ名を書きます。\n",
        "\n",
        "**using**指令を使うと、 **std::string** を **string** と省略して書けるようになります。\n",
        "\n",
        "それから、C++プログラムでは、プログラム行の終わりには **;** (セミコロン)を付ける、というルールになっています。セミコロンを付け忘れるとプログラムが動かなくなってしまいます。注意してください。\n",
        "\n",
        "> **;** を付けない場面はいくつかあります。例えば、 **#include** のように **#** で始まる行は、「プリプロセッサ指令」というプログラムの準備のための機能です。プログラムそのものとは少し違うので、 **;** は付けません。"
      ],
      "metadata": {
        "id": "V4bYzJuXzhYs"
      }
    },
    {
      "cell_type": "markdown",
      "source": [
        "### 2.6 main(メイン)\n",
        "\n",
        "**using**指令の下には次のプログラムがあります。\n",
        "\n",
        "```cpp\n",
        "int main()\n",
        "{\n",
        "```\n",
        "\n",
        "この部分は、 **main** (メイン)という名前の「関数」の始まりです。関数には、プログラムのまとまりに名前を付けることで、全体を管理しやすくする、という役割があります。\n",
        "\n",
        ">プログラムの世界の関数は、「機能」や「手続き」という意味のほうが近いです。数学の関数とはあまり関係がありません。\n",
        "\n",
        "名前の手前にある **int** (イント)の部分は、関数の「戻り型(もどりがた)」を指定しています。戻り型はあとで説明するので、今は気にしないでください。\n",
        "\n",
        "**main** のすぐ後ろの **()** の部分には、プログラムに受け渡すデータを書きます。今回は特に渡すものがないので何も書いていません。\n",
        "\n",
        "その次の行の **{** (波かっこ)から、プログラムの一番下の **}** (閉じ波かっこ)までが、 **main** 関数の内容です。この部分が「アプリのプログラム」になります。\n",
        "\n",
        "そして、C++言語のプログラムは、 **main** 関数から実行されるというルールになっています。\n"
      ],
      "metadata": {
        "id": "FHjrtjkX1iSx"
      }
    },
    {
      "cell_type": "markdown",
      "source": [
        "### 2.7 変数\n",
        "\n",
        "**main** 関数が実行されると、関数に書かれているプログラムが上から下へと順番に実行されます。 **main** 関数の最初のプログラムは次の行です。\n",
        "\n",
        "```cpp\n",
        "string enemy_name = \"殺人ウサギ\";\n",
        "```\n",
        "\n",
        "この行は、「 **enemy_name** (エネミー・ネーム)という名前に、 **殺人ウサギ** という単語を割り当てる」という意味です。\n",
        "\n",
        "このように、名前のついたデータのことを「変数(へんすう)」といいます。変数を作ることを「変数を定義する」といいます。\n",
        "\n",
        "名前の前にある **string** (ストリング)は、変数の種類をあらわす「型(かた)」です。「型」はコンピュータに、変数が使える機能を指示します。例えば、 **string** 型は「文字列(もじれつ)」を扱うための型です。\n",
        "\n",
        "「文字列」は、名前のとおり「文字を並べた列」です。`\"殺人ウサギ\"`のように文章を **\"** (ダブルクォーテーション)記号で囲うと、 **\"** で囲まれた部分が文字列になります。\n"
      ],
      "metadata": {
        "id": "h4As2aKg9Qh5"
      }
    },
    {
      "cell_type": "markdown",
      "source": [
        "### 2.8 出力\n",
        "\n",
        "**cout** (シー・アウト)を使うと、文字列を画面に出力できます。\n",
        "\n",
        "```cpp\n",
        "cout << enemy_name << \"が現れた！\\n\";\n",
        "```\n",
        "\n",
        "**cout** (シー・アウト)は、最初にインクルードした **iostream** に含まれる部品のひとつで、「標準出力」をあらわす「変数」です。\n",
        "\n",
        "文字や数値を画面に出力するには、 **cout** と出力したい文字や数値を **<<** 記号でつなぎます。複数の文字や数値を出力したい場合は、 **<<** 記号でそれらをつなぎます。\n",
        "\n",
        "このプログラムの場合、 **enemy_name** には「殺人ウサギ」という文字列が割り当てられているので、まず「殺人ウサギ」が出力されます。次に、「が現れた！」という文字列が出力されます。\n",
        "\n",
        "最後の **￥n** は「改行」を意味します。画面に **￥n** は表示されません。\n",
        "\n",
        "全体として、この行は「殺人ウサギが現れた！」と出力し、最後に改行する、という動作になります。\n",
        "\n",
        "このプログラムも、最後に **;** (セミコロン)があることに注目してください。C++言語では、行の終わりには **;** が必要です。\n"
      ],
      "metadata": {
        "id": "HuONUZp4Boe8"
      }
    },
    {
      "cell_type": "markdown",
      "source": [
        "----\n",
        "\n",
        "## 3 プログラムを改造しよう\n",
        "\n",
        "----\n"
      ],
      "metadata": {
        "id": "6SAcOWePIMRN"
      }
    },
    {
      "cell_type": "markdown",
      "source": [
        "### 3.1 殺人ウサギを表示しよう\n",
        "\n",
        "さて、現在のプログラムの状態は、殺人ウサギと遭遇し、1回攻撃するだけで倒しています。これはあまり面白い読み物ではありませんし、それ以前にプレイヤーが操作できるゲームになっていません。\n",
        "\n",
        "そこで、少しずつプログラムを付け足して、もう少しゲームっぽく改造しましょう。\n",
        "\n",
        "手始めに、敵の殺人ウサギの表示を追加してみます。右側の「コード」タブに、以下のプログラムを追加してください。\n",
        "\n",
        ">以下のプログラムは **diff** (ディフ)という表記法を使っています。 **diff** では、先頭に **+** (プラス)記号が付いていると「元のプログラムに追加する行」、 **-** (マイナス)記号が付いていると「元のプログラムから削除する行」という意味になります。プログラムを書き写すときは、先頭の **+** 記号は書かないでください。例えば、\n",
        ">```txt\n",
        ">+  cout << \"+-----+\\n\";\n",
        ">```\n",
        ">を書き写すときは、先頭の **+** を抜いた残りの\n",
        ">```txt\n",
        ">  cout << \"+-----+\\n\";\n",
        ">```\n",
        "の部分だけを書きます。\n",
        "\n",
        "**diff**\n",
        "\n",
        "<pre><code><span class=\"mtk1\">   // 敵の出現</span>\n",
        "<span class=\"mtk1\">   cout << enemy_name << \"が現れた！\\n\";</span>\n",
        "<span class=\"mtk14\">+</span>\n",
        "<span class=\"mtk14\">+  // 敵の表示</span>\n",
        "<span class=\"mtk14\">+  cout << \"+-----+\\n\";</span>\n",
        "<span class=\"mtk14\">+  cout << \"| 🐰 |\\n\";</span>\n",
        "<span class=\"mtk14\">+  cout << \"+-----+\\n\";</span>\n",
        "<span class=\"mtk20\"></span>\n",
        "<span class=\"mtk1\">   // プレイヤーのターン</span>\n",
        "<span class=\"mtk1\">   cout << \"あなたの攻撃！\\n\";</span></code></pre>\n"
      ],
      "metadata": {
        "id": "Q4nmGwBykAsH"
      }
    },
    {
      "cell_type": "markdown",
      "source": [
        "ここで追加する文字列は、 **+** (プラス)と **-** (マイナス)を使って「枠」を作成し、中央にウサギアイコンを配置したものです。ウサギアイコンは「うさぎ」と入力して変換すると出てくると思います。\n",
        "\n",
        "プログラムを追加したら、「コード」タブの▶アイコンをクリックして変更を保存してください。次に、「実行」タブを開いて▶アイコンをクリックすると、変更したプログラムが実行されます。\n",
        "\n",
        "「枠に囲まれたウサギアイコン」が出力されたら成功です。このように、 **cout** を使うと好きな文章を出力できます。\n"
      ],
      "metadata": {
        "id": "EVE7nzcgC_XY"
      }
    },
    {
      "cell_type": "markdown",
      "source": [
        "### 3.2 殺人ウサギの体力を設定しよう\n",
        "\n",
        "今のところ、殺人ウサギは一撃でやられてしまいます。明らかに名前負けしているので、体力を表すHPを設定して、簡単にはやられないようにしましょう。\n",
        "\n",
        "HPのような整数を扱うには **int** (イント)という型を使います。 **int** は **integer** (インテジャー、「整数」という意味)を省略したものです。\n",
        "\n",
        "**int** 型の変数を定義するには、次のように書きます。\n",
        "\n",
        "```cpp\n",
        " int 名前 = 数値;\n",
        "```\n",
        "\n",
        "**enemy_name** 変数と同じく、名前の後ろに **=**( イコール)を書き、その次に数値を書きます。\n",
        "\n",
        "それでは、殺人ウサギのHPを作りましょう。名前は **enemy_hp** (エネミー・エイチピー)とします。「コード」タブのプログラムに、殺人ウサギのHPをあらわす変数を追加してください。\n",
        "\n",
        ">変数名には空白や **-** 記号などが使えないので、 **_** (アンダーバー)記号で代用します。見づらい場合はブラウザのズーム機能で拡大してください。\n",
        "\n",
        "**diff**\n",
        "\n",
        "<pre><code><span class=\"mtk1\"> int main()</span>\n",
        "<span class=\"mtk1\"> {</span>\n",
        "<span class=\"mtk1\">   // 敵の設定</span>\n",
        "<span class=\"mtk14\">+  int enemy_hp = 16;</span>\n",
        "<span class=\"mtk1\">   string enemy_name = \"殺人ウサギ\";</span>\n",
        "<span class=\"mtk1\"></span>\n",
        "<span class=\"mtk1\">   // 敵の出現</span>\n",
        "<span class=\"mtk1\">   cout << enemy_name << \"が現れた！\\n\";</span>\n",
        "</code></pre>\n"
      ],
      "metadata": {
        "id": "BbGndqgZEpY9"
      }
    },
    {
      "cell_type": "markdown",
      "source": [
        "### 3.3 殺人ウサギの体力を減らそう\n",
        "\n",
        "次は、HPを減らすプログラムを追加します。C++では以下の書きかたで数値の計算ができます。\n",
        "\n",
        "```cpp\n",
        " 名前 = 式;\n",
        "```\n",
        "\n",
        "「式」の部分は算数や数学の式と同じように書きます。例えば「100+100」や「5-(10+1)」などです。また、数値の部分を変数に置き換えることもできます。\n",
        "\n",
        "C++言語の **=** (イコール)記号は「数値の割り当て」、つまり「代入」を意味します。数学の **=** にある「等しい」という意味は持ちません。\n",
        "\n",
        ">あとで説明しますが、「等しい」という意味には **==** (イコール・イコール)を使います。\n",
        "\n",
        "それでは、HPを減らすプログラムを追加しましょう。「コード」タブのプレイヤーのターンを処理するプログラムに、次のプログラムを追加してください。\n",
        "\n",
        "**diff**\n",
        "\n",
        "<pre><code><span class=\"mtk1\">   // プレイヤーのターン</span>\n",
        "<span class=\"mtk1\">   cout << \"あなたの攻撃！\\n\";</span>\n",
        "<span class=\"mtk14\">+  cout << enemy_name << \"に３点のダメージを与えた！\\n\";</span>\n",
        "<span class=\"mtk14\">+  enemy_hp = enemy_hp - 3;</span>\n",
        "<span class=\"mtk1\">   cout << enemy_name << \"を倒した！\\n\";</span>\n",
        "<span class=\"mtk1\"></span>\n",
        "<span class=\"mtk1\">   // ゲーム終了</span>\n",
        "<span class=\"mtk1\">   cout << \"[戦闘終了]\\n\";</span>\n",
        "</code></pre>\n",
        "\n",
        "ここで追加した\n",
        "\n",
        "```cpp\n",
        "enemy_hp = enemy_hp - 3;\n",
        "```\n",
        "\n",
        "の部分は、「 **enemy_hp** から3を引いた数値を、 **enemy_hp** に割り当てなおす」という意味です。\n",
        "\n",
        "次のように **=** を **←** (矢印)に読み替えたほうが、理解しやすいかもしれません。\n",
        "\n",
        "```cpp\n",
        "enemy_hp ← enemy_hp - 3\n",
        "```\n",
        "\n",
        "なお、計算だけでなく「３点のダメージを与えた」と出力するプログラムを追加した理由は、プレイヤーに状況を伝えるためです。\n",
        "\n",
        "プログラムを追加したら、「コード」タブの▶アイコンをクリックして変更を保存してください。次に、「実行」タブを開いて▶アイコンをクリックすると、変更したプログラムが実行されます。\n",
        "\n",
        "「殺人ウサギに３点のダメージを与えた！」とい文章が出力されたら成功です。しかし、殺人ウサギは一撃でやられてしまいます。\n"
      ],
      "metadata": {
        "id": "5eGuuhOJVWqm"
      }
    },
    {
      "cell_type": "markdown",
      "source": [
        "### 3.4 残ったHPを調べよう\n",
        "\n",
        "HPが残っているのにやられてしまうのは、「HPが残っていたら死なない」という判定をしていないからです。<br>\n",
        "このような判定には **if** (イフ、「もしも～ならば」という意味)を使います。 **if** は次のように書きます。\n",
        "\n",
        "```cpp\n",
        "if (条件) {\n",
        "  条件が満たされたときだけ実行するプログラム\n",
        "}\n",
        "```\n",
        "\n",
        "**if** に続く **()** の内側に「条件」を書きます。条件が成立したときだけ、次の **{}** の内側にあるプログラムが実行されます。条件が不成立の場合、 **{}** の内側は無視され、全く実行されません。\n",
        "\n",
        "殺人ウサギがやられる条件は「HPが0以下」の場合とします。<br>\n",
        "そして、「殺人ウサギを倒した！」という文章は、「条件が成立したときだけ出力される」ようにします。\n",
        "\n",
        "条件に書く式は数学と似ていますが、記号の書きかたが違います。条件として使える記号を以下に示します。\n",
        "\n",
        "| 意味           | 数学の<br>書き方 | C++の<br>書き方 |\n",
        "|:--------------:|:------:|:------:|\n",
        "| AはB以下       | A ≦ B | A <= B |\n",
        "| AはB以上       | A ≧ B | A >= B |\n",
        "| AはB未満       | A ＜ B | A < B  |\n",
        "| AはBより大きい | A ＞ B | A > B  |\n",
        "| AとBは等しい   | A ＝ B | A == B |\n",
        "| AとBは異なる   | A ≠ B | A != B |\n",
        "\n",
        "この表にあるように、「ある数値以下」という条件は、数学では **≦** 記号を使います。しかし、C++にはこの記号がないので、代わりに **<** と **=** を横につなげて **<=** のように書きます。このとき、2つの記号の間に空白を入れないように注意してください。\n",
        "\n",
        "また、C++で「等しい」を表すときは、 **==** のように「イコールを2つ」書かなくてはなりません。なぜなら、「イコール１つは代入」を意味するからです。これは忘れやすいので、条件を書くときは必ず確認してください。\n",
        "\n",
        "さて、殺人ウサギのHPは **enemy_hp** 変数であらわされます。ということは、「殺人ウサギのHPが0以下」という条件式は、\n",
        "\n",
        "```cpp\n",
        "enemy_hp <= 0\n",
        "```\n",
        "\n",
        "となります。\n",
        "\n",
        "それでは、殺人ウサギのHPを判定しましょう。<br>\n",
        "「殺人ウサギを倒した！」と表示するプログラムの前後に、次のプログラムを書き加えてください。\n",
        "\n",
        "**diff**\n",
        "\n",
        "<pre><code><span class=\"mtk1\">   // プレイヤーのターン</span>\n",
        "<span class=\"mtk1\">   cout << \"あなたの攻撃！\\n\";</span>\n",
        "<span class=\"mtk1\">   cout << enemy_name << \"に３点のダメージを与えた！\\n\";</span>\n",
        "<span class=\"mtk1\">   enemy_hp = enemy_hp - 3;</span>\n",
        "<span class=\"mtk14\">+  if (enemy_hp <= 0) {</span>\n",
        "<span class=\"mtk1\">     cout << enemy_name << \"を倒した！\\n\";</span>\n",
        "<span class=\"mtk14\">+  }</span>\n",
        "<span class=\"mtk1\"></span>\n",
        "<span class=\"mtk1\">   // ゲーム終了</span>\n",
        "<span class=\"mtk1\">   cout << \"[戦闘終了]\\n\";</span>\n",
        "</code></pre>\n",
        "\n",
        "プログラムを追加したら、「コード」タブの▶アイコンをクリックして変更を保存してください。<br>\n",
        "次に、「実行」タブを開いて▶アイコンをクリックすると、変更したプログラムが実行されます。\n",
        "\n",
        "殺人ウサギが倒されなければ成功です。\n"
      ],
      "metadata": {
        "id": "GmWBDAgkYpz5"
      }
    },
    {
      "cell_type": "markdown",
      "source": [
        "### 3.5 プレイヤーの体力を設定しよう\n",
        "\n",
        "殺人ウサギは攻撃に耐えて生き残りました。今度は殺人ウサギが攻撃する番です。<br>\n",
        "そうなると、プレイヤーにもHPがなければ、その攻撃に耐えることができません。\n",
        "\n",
        "そこで、プレイヤーのHPを作りましょう。HPは数値であらわされるので、 **int** 型を使います。次のように、殺人ウサギのHPの上に、 **player_hp** (プレイヤー・エイチピー)という名前の、勇者のHPを表す変数を作成してください。\n",
        "\n",
        "**diff**\n",
        "\n",
        "<pre><code><span class=\"mtk1\"> // プログラムはmainから始まる</span>\n",
        "<span class=\"mtk1\"> int main()</span>\n",
        "<span class=\"mtk1\"> {</span>\n",
        "<span class=\"mtk14\">+  // プレイヤーの設定</span>\n",
        "<span class=\"mtk14\">+  int player_hp = 20;</span>\n",
        "<span class=\"mtk14\">+</span>\n",
        "<span class=\"mtk1\">   // 敵の設定</span>\n",
        "<span class=\"mtk1\">   int enemy_hp = 16;</span>\n",
        "<span class=\"mtk1\">   string enemy_name = \"殺人ウサギ\";</span>\n",
        "</code></pre>\n",
        "\n",
        "これで、殺人ウサギの攻撃にも耐えられるでしょう。\n"
      ],
      "metadata": {
        "id": "sT1fwTznZ6GW"
      }
    },
    {
      "cell_type": "markdown",
      "source": [
        "### 3.6 殺人ウサギに攻撃させよう\n",
        "\n",
        "それでは、殺人ウサギに攻撃してもらいましょう。殺人ウサギの判定の下に、次のプログラムを書き加えてください。\n",
        "\n",
        "**diff**\n",
        "\n",
        "<pre><code><span class=\"mtk1\">   if (enemy_hp <= 0) {</span>\n",
        "<span class=\"mtk1\">     cout << enemy_name << \"を倒した！\\n\";</span>\n",
        "<span class=\"mtk1\">   }</span>\n",
        "<span class=\"mtk1\"></span>\n",
        "<span class=\"mtk14\">+  // 敵のターン</span>\n",
        "<span class=\"mtk14\">+  cout << enemy_name << \"の攻撃！\\n\";</span>\n",
        "<span class=\"mtk14\">+  cout << \"あなたは４点のダメージを受けた\\n\";</span>\n",
        "<span class=\"mtk14\">+  player_hp = player_hp - 4;</span>\n",
        "<span class=\"mtk14\">+</span>\n",
        "<span class=\"mtk1\">   // ゲーム終了</span>\n",
        "<span class=\"mtk1\">   cout << \"[戦闘終了]\\n\";</span>\n",
        "<span class=\"mtk1\"> }</span>\n",
        "</code></pre>\n",
        "\n",
        "プレイヤーが死んでしまう場合も考えなくてはなりません。殺人ウサギのHPを調べたときと同じく、 **if** を使ってプレイヤーのHPを判定しましょう。殺人ウサギの攻撃プログラムの下に、次のプログラムを追加してください。\n",
        "\n",
        "**diff**\n",
        "\n",
        "<pre><code><span class=\"mtk1\">   // 敵のターン</span>\n",
        "<span class=\"mtk1\">   cout << enemy_name << \"の攻撃！\\n\";</span>\n",
        "<span class=\"mtk1\">   cout << \"あなたは４点のダメージを受けた\\n\";</span>\n",
        "<span class=\"mtk1\">   player_hp = player_hp - 4;</span>\n",
        "<span class=\"mtk14\">+  if (player_hp <= 0) {</span>\n",
        "<span class=\"mtk14\">+    cout << \"あなたは死んでしまった\\n\";</span>\n",
        "<span class=\"mtk14\">+  }</span>\n",
        "<span class=\"mtk1\"></span>\n",
        "<span class=\"mtk1\">   // ゲーム終了</span>\n",
        "<span class=\"mtk1\">   cout << \"[戦闘終了]\\n\";</span>\n",
        "<span class=\"mtk1\"> }</span>\n",
        "</code></pre>\n",
        "\n",
        "プログラムを追加したら、「コード」タブの▶アイコンをクリックして変更を保存してください。次に、「実行」タブを開いて▶アイコンをクリックすると、変更したプログラムが実行されます。\n",
        "\n",
        "殺人ウサギが攻撃してきて、プレイヤーにダメージを与えていたら成功です。\n"
      ],
      "metadata": {
        "id": "nOFE2xkHJeuj"
      }
    },
    {
      "cell_type": "markdown",
      "source": [
        "### 3.7 戦いを続けよう\n",
        "\n",
        "殺人ウサギは一撃で死ななくなりました。しかし、一度しか攻撃していないので、このままでは殺人ウサギを倒せません。そこで、プログラムの繰り返し機能を使って、何度も攻撃するようにしましょう。\n",
        "\n",
        "プログラムを繰り返し実行するには **for** (フォー)を使います。 **for** は次のように書きます。\n",
        "\n",
        "```cpp\n",
        "for (;;) {\n",
        "  繰り返し実行するプログラム\n",
        "}\n",
        "```\n",
        "\n",
        "繰り返したいプログラムの手前に **for (;;) {** を書き、繰り返し範囲の最後に **}** を書くと、その範囲にあるプログラムは、無限に繰り返し実行されます。\n",
        "\n",
        "**for** を使って、プレイヤーのターンと敵のターンを無限に繰り返するようにしましょう。敵の表示から敵のターンの範囲を囲うように、 **for** を書き加えてください。\n",
        "\n",
        "**diff**\n",
        "\n",
        "<pre><code><span class=\"mtk1\">   // 敵の出現</span>\n",
        "<span class=\"mtk1\">   cout << enemy_name << \"が現れた！\\n\";</span>\n",
        "<span class=\"mtk1\"> </span>\n",
        "<span class=\"mtk14\">+  for (;;) {</span>\n",
        "<span class=\"mtk1\">     // 敵の表示</span>\n",
        "<span class=\"mtk1\">     cout << \"+-----+\\n\";</span>\n",
        "<span class=\"mtk1\">     cout << \"| 🐇 |\\n\";</span>\n",
        "<span class=\"mtk1\">     cout << \"+-----+\\n\";</span>\n",
        "<span class=\"mtk1\"> </span>\n",
        "<span class=\"mtk1\">     // プレイヤーのターン</span>\n",
        "<span class=\"mtk1\">     cout << \"あなたの攻撃！\\n\";</span>\n",
        "<span class=\"mtk1\">     cout << enemy_name << \"に３点のダメージを与えた！\\n\";</span>\n",
        "<span class=\"mtk1\">     enemy_hp = enemy_hp - 3;</span>\n",
        "<span class=\"mtk1\">     if (enemy_hp <= 0) {</span>\n",
        "<span class=\"mtk1\">       cout << enemy_name << \"を倒した！\\n\";</span>\n",
        "<span class=\"mtk1\">     }</span>\n",
        "<span class=\"mtk1\"> </span>\n",
        "<span class=\"mtk1\">     // 敵のターン</span>\n",
        "<span class=\"mtk1\">     cout << enemy_name << \"の攻撃！\\n\";</span>\n",
        "<span class=\"mtk1\">     cout << \"あなたは４点のダメージを受けた\\n\";</span>\n",
        "<span class=\"mtk1\">     player_hp = player_hp - 4;</span>\n",
        "<span class=\"mtk1\">     if (player_hp <= 0) {</span>\n",
        "<span class=\"mtk1\">       cout << \"あなたは死んでしまった\\n\";</span>\n",
        "<span class=\"mtk1\">     }</span>\n",
        "<span class=\"mtk14\">+  }</span>\n",
        "<span class=\"mtk1\"> </span>\n",
        "<span class=\"mtk1\">   // ゲーム終了</span>\n",
        "<span class=\"mtk1\">   cout << \"[戦闘終了]\\n\";</span>\n",
        "<span class=\"mtk1\"> }</span>\n",
        "</code></pre>\n",
        "\n",
        "プログラムを追加したら、「コード」タブの▶アイコンをクリックして変更を保存してください。次に、「実行」タブを開いて▶アイコンをクリックすると、変更したプログラムが実行されます。\n",
        "\n",
        "攻撃が無限に続いて、プレイヤーも殺人ウサギも死に続けていたら成功です。\n",
        "\n",
        "無限ループに入ってしまうと、もうプログラムは終わりません。プログラムを停止するには、「コード」タブの□アイコン(▶アイコンが変化したもの)をクリックして、強制的に停止させます。\n"
      ],
      "metadata": {
        "id": "XfRMQlnzHUq2"
      }
    },
    {
      "cell_type": "markdown",
      "source": [
        "### 3.8 戦いを終わらせよう\n",
        "\n",
        "繰り返しが終わらないので、プレイヤーも殺人ウサギも死んでいるのに戦いを止めることができません。原因は、繰り返しを終わらせるプログラムを書いていないからです。こうした終わりのない繰り返しのことを「無限ループ」といいます。\n",
        "\n",
        "無限ループを終わらせるには **break** (ブレイク)を使います。 **break** が実行されると、 **for** の最後の **}** までのプログラムは飛ばされ、繰り返しが終了します。今回は、プレイヤーが死んだときと、敵を倒したときに無限ループを終わらせるようにします。次のように、プログラムに **break** を追加してください。\n",
        "\n",
        "**diff**\n",
        "\n",
        "<pre><code><span class=\"mtk1\">     cout << enemy_name << \"に３点のダメージを与えた！\\n\";</span>\n",
        "<span class=\"mtk1\">     enemy_hp = enemy_hp - 3;</span>\n",
        "<span class=\"mtk1\">     if (enemy_hp <= 0) {</span>\n",
        "<span class=\"mtk1\">       cout << enemy_name << \"を倒した！\\n\";</span>\n",
        "<span class=\"mtk14\">+      break;</span>\n",
        "<span class=\"mtk1\">     }</span>\n",
        "<span class=\"mtk1\"> </span>\n",
        "<span class=\"mtk1\">     // 敵のターン</span>\n",
        "<span class=\"mtk1\">     cout << enemy_name << \"の攻撃！\\n\";</span>\n",
        "<span class=\"mtk1\">     cout << \"あなたは４点のダメージを受けた\\n\";</span>\n",
        "<span class=\"mtk1\">     player_hp = player_hp - 4;</span>\n",
        "<span class=\"mtk1\">     if (player_hp <= 0) {</span>\n",
        "<span class=\"mtk1\">       cout << \"あなたは死んでしまった\\n\";</span>\n",
        "<span class=\"mtk14\">+      break;</span>\n",
        "<span class=\"mtk1\">     }</span>\n",
        "<span class=\"mtk1\">   }</span>\n",
        "<span class=\"mtk1\"> </span>\n",
        "<span class=\"mtk1\">   // ゲーム終了</span>\n",
        "<span class=\"mtk1\">   cout << \"[戦闘終了]\\n\";</span>\n",
        "</code></pre>\n",
        "\n",
        "プログラムを追加したら、「コード」タブの▶アイコンをクリックして変更を保存してください。次に、「実行」タブを開いて▶アイコンをクリックすると、変更したプログラムが実行されます。\n",
        "\n",
        "「[戦闘終了]」と表示されて、プログラムが終了したら成功です。\n"
      ],
      "metadata": {
        "id": "N_jk7h5QIzfm"
      }
    },
    {
      "cell_type": "markdown",
      "source": [
        "### 3.9 行動を選べるようにしよう\n",
        "\n",
        "殺人ウサギは凶暴で、ただ攻撃するだけではプレイヤーはやられてしまいます。このままでは勝てないので、必要に応じて薬草を使って体力を回復できるようにしましょう。\n",
        "\n",
        "プログラムに入力を与えるには **cin**( シー・イン)変数を使います。 **cin** による入力は次のように書きます。\n",
        "\n",
        "```cpp\n",
        "int n;\n",
        "cin >> n;\n",
        "```\n",
        "\n",
        "書きかたは **cout** と似ていて、 **cin** と変数を **>>** 記号でつなぎます。 **cout** とは記号の向きが逆なので注意してください。\n",
        "\n",
        "次のように、 **cin** を使って行動を選ぶプログラムを追加してください。\n",
        "\n",
        "**diff**\n",
        "\n",
        "<pre><code><span class=\"mtk1\">     // 敵の表示</span>\n",
        "<span class=\"mtk1\">     cout << \"+-----+\\n\";</span>\n",
        "<span class=\"mtk1\">     cout << \"| 🐇 |\\n\";</span>\n",
        "<span class=\"mtk1\">     cout << \"+-----+\\n\";</span>\n",
        "<span class=\"mtk1\"> </span>\n",
        "<span class=\"mtk1\">     // プレイヤーのターン</span>\n",
        "<span class=\"mtk14\">+    cout << \"行動の番号を選んでください\\n1=攻撃する\\n2=薬草を使う\\n\";</span>\n",
        "<span class=\"mtk14\">+    int player_action;</span>\n",
        "<span class=\"mtk14\">+    cin >> player_action;</span>\n",
        "<span class=\"mtk1\">     cout << \"あなたの攻撃！\\n\";</span>\n",
        "<span class=\"mtk1\">     cout << enemy_name << \"に３点のダメージを与えた！\\n\";</span>\n",
        "<span class=\"mtk1\">     enemy_hp = enemy_hp - 3;</span>\n",
        "</code></pre>\n",
        "\n",
        "プログラムを追加したら、「コード」タブの▶アイコンをクリックして変更を保存し、次に「実行」タブの▶アイコンをクリックしてください。\n",
        "\n",
        "プログラムが実行されると「行動の番号を選んでください」と表示されます。ただ、この画面では入力ができません。次の手順で入力できる状態にしてください。\n",
        "\n",
        "1. 「行動の番号を選んでください」という文章のあたりを右クリック\n",
        "2. メニューが開くので、「出力を全画面表示」をクリック\n",
        "3. 全画面表示に切り替わるので、左のほうで点滅している入力カーソルをクリック\n",
        "\n",
        "ちょっと面倒ですが、これでキーボードからの入力が可能になります。**1**か**2**を入力して**Enter**キーを押してください。すると数値が入力されます。\n",
        "\n",
        "ですが、行動を選んでも何も変わりません。それは、「入力された数値をもとに行動を変える」というプログラムがないからです。\n",
        "\n",
        ">全画面表示を終了するには**ESC**キーを押します。\n"
      ],
      "metadata": {
        "id": "35vRDm0FQ95G"
      }
    },
    {
      "cell_type": "markdown",
      "source": [
        "### 3.10 選ばれた行動を実行しよう\n",
        "\n",
        "入力された数値をもとに行動を変えるには、 **if** を使います。プレイヤーのターンに次のプログラムを追加してください。\n",
        "\n",
        "**diff**\n",
        "\n",
        "<pre><code><span class=\"mtk1\">     // プレイヤーのターン</span>\n",
        "<span class=\"mtk1\">     cout << \"行動の番号を選んでください\\n1=攻撃する\\n2=薬草を使う\\n\";</span>\n",
        "<span class=\"mtk1\">     int player_action;</span>\n",
        "<span class=\"mtk1\">     cin >> player_action;</span>\n",
        "<span class=\"mtk14\">+    if (player_action == 1) {</span>\n",
        "<span class=\"mtk1\">       cout << \"あなたの攻撃！\\n\";</span>\n",
        "<span class=\"mtk1\">       cout << enemy_name << \"に３点のダメージを与えた！\\n\";</span>\n",
        "<span class=\"mtk1\">       enemy_hp = enemy_hp - 3;</span>\n",
        "<span class=\"mtk14\">+    }</span>\n",
        "<span class=\"mtk14\">+    if (player_action == 2) {</span>\n",
        "<span class=\"mtk14\">+      cout << \"あなたは薬草を使った\\n体力が１０点回復した\\n\";</span>\n",
        "<span class=\"mtk14\">+      player_hp = player_hp + 10;</span>\n",
        "<span class=\"mtk14\">+    }</span>\n",
        "<span class=\"mtk1\">     if (enemy_hp <= 0) {</span>\n",
        "<span class=\"mtk1\">       cout << enemy_name << \"を倒した！\\n\";</span>\n",
        "<span class=\"mtk1\">       break;</span>\n",
        "<span class=\"mtk1\">     }</span>\n",
        "</code></pre>\n",
        "\n",
        "プログラムを追加したら、「コード」タブの▶アイコンをクリックして変更を保存し、次に「実行」タブの▶アイコンをクリックしてください。そして、全画面表示に切り替え、行動を選択してください。\n",
        "\n",
        "選択した番号の行動が行われたら成功です。上手に行動すれば、殺人ウサギを倒すことができるでしょう。\n",
        "\n"
      ],
      "metadata": {
        "id": "IgevESLKUxo9"
      }
    },
    {
      "cell_type": "markdown",
      "source": [
        "----\n",
        "\n",
        "## 4 おわりに\n",
        "\n",
        "----\n",
        "\n",
        "これで、「プレイヤーが選んだ行動によって違う結果になる」という、ゲームの基本的な仕組みが完成しました。\n",
        "\n",
        "ですが、ゲームを面白くするためにできることは、まだいくらでも残っています。例えば、次のようなアイデアを追加できるでしょう。\n",
        "\n",
        "* 行動選択の文章の前に、プレイヤーのHPを表示する\n",
        "* 戦闘が始まる前に、簡単なストーリーを出力する\n",
        "* 薬草を使ったとき、HPの最大値を越えないようにする\n",
        "* 薬草を使える回数を制限する\n",
        "* 敵が数ターンに1回、魔法攻撃をしてくるようにする\n",
        "* 魔法攻撃を防ぐための行動を追加する\n",
        "\n",
        "これらはできることの一部です。いろいろなことを試してください。\n",
        "\n",
        "次回からは、C++の機能を個別に取り上げて、基本的な使いかたを説明していきます。\n",
        "\n",
        ">Google ColabのC++では絵や音を出せません。絵や音を出したい場合はVisual Studioなどの開発ツールを使ってください(多少設定が必要ですが、同じプログラムが動きます)。\n"
      ],
      "metadata": {
        "id": "FaML3grkruUE"
      }
    }
  ]
}