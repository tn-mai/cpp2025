{
  "nbformat": 4,
  "nbformat_minor": 0,
  "metadata": {
    "colab": {
      "provenance": [],
      "toc_visible": true
    },
    "kernelspec": {
      "name": "python3",
      "display_name": "Python 3"
    },
    "language_info": {
      "name": "python"
    }
  },
  "cells": [
    {
      "cell_type": "markdown",
      "source": [
        "# 変数\n"
      ],
      "metadata": {
        "id": "v2Bm49T62lhr"
      }
    },
    {
      "cell_type": "markdown",
      "source": [
        "## キーポイント\n",
        "\n",
        "* メモリは「メモ帳」のようなもので、変数は「メモ帳に書かれたメモ」に当たる\n",
        "* 「型」や「クラス」はデータの種類のこと\n",
        "* `=`(イコール)は変数にデータを書き込む記号"
      ],
      "metadata": {
        "id": "bCTG7NVn2p3i"
      }
    },
    {
      "cell_type": "markdown",
      "source": [
        "## 1 変数\n",
        "\n",
        "変数は「プログラムが必要とするデータを扱う」機能です。変数の役割は、同じデータを何度も使えるように、「データに名前を付けてメモしておく」というものです。"
      ],
      "metadata": {
        "id": "345KkZql38Vn"
      }
    },
    {
      "cell_type": "markdown",
      "source": [
        "### 1.1 宣言\n",
        "\n",
        "変数を使うには、最初に宣言を行う必要があります。\n",
        "変数を宣言するときは、「データの種類」と「変数の名前」を指定します。\n",
        "\n",
        "```cpp\n",
        "int number;\n",
        "```\n",
        "\n",
        "上のプログラムでは、「整数」のデータを書き込む変数を`number`という名前で宣言しています。`int`の部分がデータの種類が整数だと指定している部分です。\n",
        "\n",
        "「データの種類」のことを「型（かた）」や「クラス」と言います。「変数の名前」のことを変数名と言います。"
      ],
      "metadata": {
        "id": "lx1xPBw5LIym"
      }
    },
    {
      "cell_type": "markdown",
      "source": [
        "### 1.2 代入\n",
        "\n",
        "宣言した変数にデータをメモするには、以下のように`=`を使います。\n",
        "\n",
        "```cpp\n",
        "number = 10;\n",
        "```\n",
        "\n",
        "これで`number`という名前の変数に`10`が書き込まれます。また、`10`のように、変数に書き込む数値や文章にことを、「データ」または「値（あたい）」といいます。\n",
        "\n",
        "> 算数や数学では`=`記号を「代入」と「等しい」の２つの意味で使いますが、C++の`=`記号の意味は「代入」だけです。「等しい」という意味を表すには`==`を使う必要があります。"
      ],
      "metadata": {
        "id": "sGchp1xALGBa"
      }
    },
    {
      "cell_type": "markdown",
      "source": [
        "### 1.3 変数の初期化\n",
        "\n",
        "変数の宣言と代入は同時に行うこともできます。\n",
        "\n",
        "```cpp\n",
        "int number = 10;\n",
        "```\n",
        "\n",
        "変数を宣言した後の最初の代入を「初期化(しょきか)」といいます。上のプログラムでは、変数`number`は`10`という値で初期化されています。"
      ],
      "metadata": {
        "id": "Au0Z2ybPK9y9"
      }
    },
    {
      "cell_type": "markdown",
      "source": [
        "### 1.4 読み出し\n",
        "\n",
        "変数を代入以外の場所で使うと、変数に書き込まれたデータが読み出されます。例えば、変数にメモした値を読み出しで出力するには、次のようにプログラムします。\n",
        "\n",
        "**コード**\n",
        "\n",
        "```cpp\n",
        "#include <iostream>\n",
        "using namespace std;\n",
        "\n",
        "int main() {\n",
        "  int number;\n",
        "  number = 10;\n",
        "  cout << number << endl; // 10 が出力される\n",
        "}\n",
        "```\n",
        "\n",
        "**実行結果**\n",
        "\n",
        "```txt\n",
        "10\n",
        "```\n",
        "\n",
        "変数の値を読み書きすることを「変数にアクセスする」ということもあります。"
      ],
      "metadata": {
        "id": "voLuj1wWLDJD"
      }
    },
    {
      "cell_type": "markdown",
      "source": [
        "### 1.5 変数はコピーされる\n",
        "\n",
        "`変数1 = 変数2;`のように書いた場合、変数の値そのものがコピーされます。その後にどちらかの変数の値が変更されても、もう片方の変数は影響を受けません。\n",
        "\n",
        "**コード**\n",
        "\n",
        "```cpp\n",
        "#include <bits/stdc++.h>\n",
        "using namespace std;\n",
        "\n",
        "int main() {\n",
        "\n",
        "  int a = 10;\n",
        "  int b;\n",
        "  b = a; // aの値がコピーされ、bに10が代入される\n",
        "  a = 5; // aの値は5に書き換わるが、bは10のまま\n",
        "\n",
        "  cout << a << endl; // 5が出力される\n",
        "  cout << b << endl; // 10が出力される\n",
        "}\n",
        "```\n",
        "\n",
        "**実行結果**\n",
        "\n",
        "```txt\n",
        "5\n",
        "10\n",
        "```\n",
        "\n",
        "変数`b`の値が`10`のままであることに注意してください。"
      ],
      "metadata": {
        "id": "95a0Wac4K6zK"
      }
    },
    {
      "cell_type": "markdown",
      "source": [
        "### 1.6 複数の変数を同時に宣言する\n",
        "\n",
        "変数の宣言時に,を間に入れることで複数の変数を同時に宣言することもできます。\n",
        "\n",
        "**コード**\n",
        "\n",
        "```cpp\n",
        "#include <bits/stdc++.h>\n",
        "using namespace std;\n",
        "\n",
        "int main() {\n",
        "\n",
        "  int a = 10, b = 5;\n",
        "\n",
        "  cout << a << endl; // 10が出力される\n",
        "  cout << b << endl; // 5が出力される\n",
        "}\n",
        "```\n",
        "\n",
        "**実行結果**\n",
        "\n",
        "```txt\n",
        "10\n",
        "5\n",
        "```\n",
        "\n",
        "`int a = 10, b = 5`の部分は、次のように書いた場合と同じ意味になります。\n",
        "\n",
        "```cpp\n",
        "int a = 10;\n",
        "int b = 5;\n",
        "```\n"
      ],
      "metadata": {
        "id": "ZHyRk8fMK2bL"
      }
    },
    {
      "cell_type": "markdown",
      "source": [
        "### 1.7 変数名のルール\n",
        "\n",
        "変数名は基本的に自由に決められます。ただし、次に示すルールを守る必要があります。変数名がひとつでもこのルールに違反する場合、コンパイルエラーになります。\n",
        "\n",
        "1. 変数名に使える文字は英数字、`_`(アンダーバー)だけ。※`_`以外の記号(`-`や`@`など)は使えません。\n",
        "\n",
        "2. 最初の文字は英字または`_`(アンダーバー)でなくてはならない。※数字で始まる名前は使えません。\n",
        "3. C++のキーワードではない。※「キーワード」は、C++で予約されている単語(`int`や`for`など)です。\n",
        "\n",
        "エラーになる名前の例をいくつか示します。\n",
        "\n",
        "```cpp\n",
        "int 10count; // 数字で始まる名前にはできない\n",
        "int na+me;   // 変数名に+を使うことはできない\n",
        "int int;     // intはキーワードなので変数名にできない\n",
        "```\n",
        "\n",
        "以下のような名前は変数名にできます。\n",
        "\n",
        "```cpp\n",
        "int count10;  // 2文字目以降は数字にできる\n",
        "int na_me;    // アンダーバーは変数名に使える\n",
        "int Int;      // 大文字と小文字は区別されるので、intとIntは違う名前になる\n",
        "```\n",
        "\n",
        "無意識にキーワードを変数名にしてしまうことはあまり無いので、キーワードに関してはあまり気にしなくて構いません。気になる人は「C++ キーワード」等でWebで検索してみてください。"
      ],
      "metadata": {
        "id": "lIjVLXKFKzof"
      }
    },
    {
      "cell_type": "markdown",
      "source": [
        "### 1.8 同じ名前の変数は宣言できない\n",
        "\n",
        "同じ名前の変数を複数宣言することはできません。\n",
        "\n",
        "```cpp\n",
        "#include <bits/stdc++.h>\n",
        "using namespace std;\n",
        "\n",
        "int main() {\n",
        "  int a = 0;\n",
        "  int a = 5; // この行でコンパイルエラーになる\n",
        "\n",
        "  cout << a << endl;\n",
        "}\n",
        "```\n",
        "\n",
        "このプログラムをビルドすると、次のようなコンパイルエラーが出力されます。\n",
        "\n",
        "```txt\n",
        "./Main.cpp: In function ‘int main()’:\n",
        "./Main.cpp:6:9: error: redeclaration of ‘int a’\n",
        "     int a = 5; // この行でコンパイルエラーになる\n",
        "         ^\n",
        "./Main.cpp:5:9: note: ‘int a’ previously declared here\n",
        "     int a = 0;\n",
        "         ^\n",
        "```\n",
        "\n",
        "２行目に`error: redeclaration of ‘int a’`というエラーメッセージが表示されています(`redeclaration`(リ・デクラレーション)は「再宣言」という意味)。つまり、この行は「`Main.cpp`の6行目で`int a`が再び宣言されました」というエラーを報告しているのです。\n",
        "\n",
        "また、その下の`note: ‘int a’ previously declared here`は「`int a`は以前ここで宣言されています」という意味です(`previously`は「前に」という意味)。エラー発生位置を見ると`Main.cpp:5:9`なので、`Main.cpp`の5行目で変数宣言していたことが分かります。\n",
        "\n",
        ">ただし、「スコープ」という機能を使うと、同じ名前の変数を宣言できます。"
      ],
      "metadata": {
        "id": "0dk3qI18KwQ1"
      }
    },
    {
      "cell_type": "markdown",
      "source": [
        "### 1.9 変数名の決めかた\n",
        "\n",
        "変数名は、ここまでに示したルールに従うかぎり自由に決められます。<br>\n",
        "といっても、慣れないうちは、どんな名前を付けたらいいか迷うことが多いと思います。\n",
        "\n",
        "基本的には、「変数に代入する情報を意味する単語」を名前にします。<br>\n",
        "英単語が望ましいですが、思いつかない場合は日本語のローマ字表記でも構いません。\n",
        "\n",
        "以下に、いくつか例を挙げます。\n",
        "\n",
        "| 情報 | 変数の名前(英語) | 変数の名前(ローマ字) |\n",
        "|:-----|:-----------------|:---------------------|\n",
        "| 人やモノの数 | count, number | kazu, ninzu |\n",
        "| 得点   | score | tokuten |\n",
        "| 最大値 | max_value | saidai |\n",
        "| 最小値 | min_value | saisyo |\n",
        "| 体力   | hit_point, hp, health | tairyoku |\n",
        "| 名前   | name | namae |\n",
        "\n",
        "\n",
        "名前が全く思いつかない場合は、とりあえず`a`とか`b`と名付けても構いません。\n",
        "\n",
        ">場合によっては、単語の頭文字だけを使うこともあります。<br>\n",
        ">例えば「数」をあらわす変数名に`n`(`number`の頭文字)を使うなどです。"
      ],
      "metadata": {
        "id": "-kiqOkUc-PdO"
      }
    },
    {
      "cell_type": "markdown",
      "source": [
        "## 2 型\n",
        "\n",
        "`int`以外にもC++には様々な型があります。ここでは重要な4つの型だけを紹介します。\n",
        "\n",
        "| 型の名前 | データの種類 |\n",
        "|:---------|:------------:|\n",
        "| int\t     | 整数         |\n",
        "| double   | 小数（実数） |\n",
        "| char     | 文字         |\n",
        "| string   | 文字列       |\n",
        "\n",
        "**コード**\n",
        "\n",
        "```cpp\n",
        "#include <iostream>\n",
        "#include <string>\n",
        "using namespace std;\n",
        "\n",
        "int main() {\n",
        "  int i = 10;\n",
        "  double d = 0.5;\n",
        "  char c = 'C';\n",
        "  string s = \"Hello\";\n",
        "\n",
        "  cout << i << endl; // 10 が出力される\n",
        "  cout << d << endl; // 0.5 が出力される\n",
        "  cout << c << endl; // C が出力される\n",
        "  cout << s << endl; // Hello が出力される\n",
        "}\n",
        "```\n",
        "\n",
        "**実行結果**\n",
        "\n",
        "```txt\n",
        "10\n",
        "0.5\n",
        "C\n",
        "Hello\n",
        "```\n"
      ],
      "metadata": {
        "id": "SkCz0HmS6_WU"
      }
    },
    {
      "cell_type": "markdown",
      "source": [
        "### 2.1 異なる型を混ぜて計算する\n",
        "\n",
        "数値を扱う型であれば、型が違っても混ぜて式を作れます。計算結果の型は「より大きな値を表現できる側の型」になります。例えば、`int`型と`double`型の計算結果は`double`型になります。\n",
        "\n",
        "`string`型は少し特殊で、文字列型同士なら「加算」が可能でます。文字列型同士を加算すると、２つの文字列をつなげた新しい文字列が作成されます。\n",
        "\n",
        "ただし、数値型と文字列型を式に混ぜることはできません。もし混ぜてしまうとコンパイルエラーになります。\n",
        "\n",
        "**コード**\n",
        "\n",
        "```cpp\n",
        "#include <iostream>\n",
        "#include <string>\n",
        "using namespace std;\n",
        "\n",
        "int main() {\n",
        "  int i = 31;\n",
        "  double d = 1.5;\n",
        "  string s = \"20\";\n",
        "  string t = \"25\";\n",
        "\n",
        "  cout << i + d << endl;     // 32.5が出力される\n",
        "  cout << i / 2 << endl;     // 15が出力される(小数点以下切り捨て)\n",
        "  cout << i * d / 2 << endl; // 23.25が出力される(小数点以下も残る)\n",
        "  cout << s + t << endl;     // 2025が出力される\n",
        "\n",
        "  // 以下のプログラムはエラーになる\n",
        "  // cout << s + i << endl; // string型とint型\n",
        "  // cout << d + s << endl; // double型とstring型\n",
        "}\n",
        "```\n",
        "\n",
        "**実行結果**\n",
        "\n",
        "```txt\n",
        "32.5\n",
        "15\n",
        "23.25\n",
        "2025\n",
        "```\n",
        "\n",
        "計算の途中に`double`型のデータが入ってくるかどうかで、小数点以下を切り捨てるかどうかが変わってきます。\n",
        "\n",
        "`string`型と`int`型や、`string`型と`double`型のように、変換できない型を同じ式に入れてしまうとエラーになります。"
      ],
      "metadata": {
        "id": "mIkn-xPGJavf"
      }
    },
    {
      "cell_type": "markdown",
      "source": [
        "### 2.2 異なる型同士の代入\n",
        "\n",
        "異なる型同士の代入でも型変換は行われます。計算と同様、変換できない型同士の代入はコンパイルエラーになります。\n",
        "\n",
        "**コード**\n",
        "\n",
        "```cpp\n",
        "#include <iostream>\n",
        "#include <string>\n",
        "using namespace std;\n",
        "\n",
        "int main() {\n",
        "  int i = 10;\n",
        "  double d = 1.5;\n",
        "  string s = \"Hello\";\n",
        "\n",
        "  i = d; // doubleとintは互いに代入できる(小数点以下切り捨て)\n",
        "  // i = s; // エラー(int型とstring型は互いに代入できない)\n",
        "\n",
        "  cout << i << endl;\n",
        "}\n",
        "```\n",
        "\n",
        "**実行結果**\n",
        "\n",
        "```txt\n",
        "1\n",
        "```\n",
        "\n",
        "`double`型と`int`型は変換できる型同士なので互いに代入できます。`double`型を`int`型に変換したときは小数点以下切り捨てになります。"
      ],
      "metadata": {
        "id": "Ug7yabOSJVbT"
      }
    },
    {
      "cell_type": "markdown",
      "source": [
        "### 2.3 初期化する前の変数の値\n",
        "\n",
        "初期化する前のint型やdouble型の変数の値を読み込んだ場合、どのような値になっているか分かりません。\n",
        "\n",
        "次のプログラムは初期化する前の変数の値を読み込む例です。\n",
        "\n",
        "```cpp\n",
        "#include <iostream>\n",
        "using namespace std;\n",
        "\n",
        "int main() {\n",
        "  int number;\n",
        "  cout << number << endl; //なにが出力されるかわからない\n",
        "}\n",
        "```\n",
        "\n",
        "変数の初期化をし忘れてしまい、このプログラムのような状況になることがしばしばあります。これは重大なバグの原因になりがちなので、最近のコンパイラは「初期化忘れ」を教えてくれます。初期化忘れがあると、以下のような「警告メッセージ」が出力されます。\n",
        "\n",
        "```txt\n",
        "Main.cpp: In function ‘int main()’:\n",
        "Main.cpp:6:11: warning: ‘number’ is used uninitialized [-Wuninitialized]\n",
        "    6 |   cout << number << endl; //なにが出力されるかわからない\n",
        "      |\n",
        "```\n",
        "\n",
        "`warning`(ワーニング)は「警告」という意味で、これがエラーではなく警告に過ぎないことを示します。`‘number’ is used uninitialized`は「初期化されていない変数`number`が使われている」という意味です(`uninitialized`(アン・イニシャライズドは「初期化されていない」という意味)。\n",
        "\n",
        "警告はエラーではないのですが、現実には「論理エラーの原因」になっていることが多いです。そのため、警告はエラーと同じだと考えて、問題を修正するべきです。\n",
        "\n",
        ">より厳密には「初期化する前の変数の値は、宣言するより前の処理内容で決まります」。そのため、「運良く`0`が代入されていて、プログラムが正しく動作しているように見える」ことがあります。しかし、これは運が良かっただけです。初期化忘れの警告に気づいたら、すぐに初期化を追加して修正しましょう。"
      ],
      "metadata": {
        "id": "dlQKxQPsJPIv"
      }
    },
    {
      "cell_type": "markdown",
      "source": [
        "### 2.4 組み込み型と複合型\n",
        "\n",
        "`string`型の変数は例外で、初期化しなかった場合は自動的に`\"\"`(空の文字列)で初期化されます。これは、`string`型が「複合型」だからです。\n",
        "\n",
        "C++の型には、次の２種類があります。\n",
        "\n",
        "* 組み込み型: ヘッダファイルをインクルードしなくても使える。「基本型」とも呼ばれる。\n",
        "* 複合型: ヘッダファイルをインクルードして使う型や、プログラマが定義する型。「組み込み型」以外すべて。\n",
        "\n",
        "「組み込み型」の変数は、初期化しない限り何が書かれているか分かりません。対して「複合型」の変数を初期化しなかった場合、型ごとに決まった値が自動で書き込まれます。"
      ],
      "metadata": {
        "id": "bDFp1Z_OJKhL"
      }
    },
    {
      "cell_type": "markdown",
      "source": [
        "## 3 練習問題\n",
        "\n",
        "以下の手順にしたがって、4つのプログラムを完成させなさい。<br>\n",
        "うまく完成できていたら、出力セルには`AC`とだけ表示されます。<br>\n",
        "間違っている場合は`WA`と表示されます(エラーメッセージが表示される場合もあります)。\n",
        "\n",
        "1. `%%writefile ...`の下の行からがプログラムです。ここにプログラムを追加します。\n",
        "2. プログラムを追加したら、セルの右側にある`▶`をクリックします。すると、ファイルが保存されます。\n",
        "3. 「実行」セルをクリックすると、下側に`▶`が表示されます。<br>\n",
        "   表示された`▶`クリックすると、2で保存したファイルがコンパイル＆実行され、実行結果が表示されます。\n",
        "4. 実行結果が`AC`だけになったらプログラムは完成です。次の問題に進んでください。"
      ],
      "metadata": {
        "id": "RJFhYWr5IHxK"
      }
    },
    {
      "cell_type": "markdown",
      "source": [
        "### 問題１\n",
        "\n",
        "変数`a`と`b`を初期化して、コメントに書かれているとおりの値を出力しなさい。\n",
        "\n",
        "**出力例**\n",
        "\n",
        "```txt\n",
        "2025\n",
        "3.5\n",
        "```\n"
      ],
      "metadata": {
        "id": "_ZmcIui8nEmd"
      }
    },
    {
      "cell_type": "code",
      "source": [
        "%%writefile practice_01.cpp\n",
        "#include <iostream>\n",
        "using namespace std;\n",
        "\n",
        "int main() {\n",
        "  int a;\n",
        "  double b;\n",
        "\n",
        "  cout << a << endl; // 2025を出力する\n",
        "  cout << b << endl; // 3.5を出力する\n",
        "}"
      ],
      "metadata": {
        "id": "HF3uWmPanIL6"
      },
      "execution_count": null,
      "outputs": []
    },
    {
      "cell_type": "code",
      "source": [
        "# @title 実行\n",
        "!echo -e \"2025\\n3.5\" > b.txt\n",
        "!g++ practice_01.cpp -o practice_01 -Wall && ./practice_01 > a.txt && diff -Z a.txt b.txt > nil && test $? -eq 0 && echo -e \"\\033[32;1mAC\" || echo -e \"\\033[31;1mWA\""
      ],
      "metadata": {
        "cellView": "form",
        "id": "D1FAxSkTqrLK"
      },
      "execution_count": null,
      "outputs": []
    },
    {
      "cell_type": "markdown",
      "source": [
        "### 問題２\n",
        "\n",
        "変数aとbを初期化して、コメントに書かれているとおりの文字列を出力しなさい。\n",
        "\n",
        "**出力例**\n",
        "\n",
        "```txt\n",
        "All your base are belong to us.\n",
        "```"
      ],
      "metadata": {
        "id": "ufR5bZKtrjJd"
      }
    },
    {
      "cell_type": "code",
      "source": [
        "%%writefile practice_02.cpp\n",
        "#include <iostream>\n",
        "#include <string>\n",
        "using namespace std;\n",
        "\n",
        "int main() {\n",
        "  string a;\n",
        "  string b;\n",
        "\n",
        "  cout << a + \" your base are \" + b + \" to us.\" << endl; // All your base are belong to us.を出力する\n",
        "}"
      ],
      "metadata": {
        "id": "KxuEH6ierlca"
      },
      "execution_count": null,
      "outputs": []
    },
    {
      "cell_type": "code",
      "source": [
        "# @title 実行\n",
        "!echo -e \"All your base are belong to us.\"> b.txt\n",
        "!g++ practice_02.cpp -o practice_02 -Wall && ./practice_02 > a.txt && diff -Z a.txt b.txt > nil && test $? -eq 0 && echo -e \"\\033[32;1mAC\" || echo -e \"\\033[31;1mWA\""
      ],
      "metadata": {
        "cellView": "form",
        "id": "0p5fi5S00fZ-"
      },
      "execution_count": null,
      "outputs": []
    },
    {
      "cell_type": "markdown",
      "source": [
        "### 問題３\n",
        "\n",
        "次のプログラムは、ある人物の情報を出力するプログラムです。ところが、変数の型が間違っているため、意図した出力になっていません。意図した出力が得られるように、変数の型を修正しなさい。\n",
        "\n",
        "**出力例**\n",
        "\n",
        "```txt\n",
        "名前:Isaac Asimov\n",
        "年齢:30\n",
        "身長:1.75m\n",
        "体重:82.5kg\n",
        "```\n"
      ],
      "metadata": {
        "id": "FkdTcGj_1CSr"
      }
    },
    {
      "cell_type": "code",
      "source": [
        "%%writefile practice_03.cpp\n",
        "#include <iostream>\n",
        "#include <string>\n",
        "using namespace std;\n",
        "\n",
        "int main() {\n",
        "  int name = \"Isaac Asimov\";\n",
        "  int age = 30;\n",
        "  int height = 1.75;\n",
        "  int weight = 82.5;\n",
        "\n",
        "  cout << \"名前:\" << name << endl;           // 名前:Isaac Asimov を出力する\n",
        "  cout << \"年齢:\" << age << endl;            // 年齢:30 を出力する\n",
        "  cout << \"身長:\" << height << \"m\" << endl;  // 身長:1.75m を出力する\n",
        "  cout << \"体重:\" << weight << \"kg\" << endl; // 体重:82.5kg を出力する\n",
        "}"
      ],
      "metadata": {
        "id": "QaqOXX3Z1E1c"
      },
      "execution_count": null,
      "outputs": []
    },
    {
      "cell_type": "code",
      "source": [
        "# @title 実行\n",
        "!echo -e \"名前:Isaac Asimov\\n年齢:30\\n身長:1.75m\\n体重:82.5kg\" > b.txt\n",
        "!g++ practice_03.cpp -o practice_03 -Wall && ./practice_03 > a.txt && diff -Z a.txt b.txt > nil && test $? -eq 0 && echo -e \"\\033[32;1mAC\" || echo -e \"\\033[31;1mWA\""
      ],
      "metadata": {
        "id": "zJfAeXQx8O-D",
        "cellView": "form"
      },
      "execution_count": null,
      "outputs": []
    },
    {
      "cell_type": "markdown",
      "source": [
        "### 問題４\n",
        "\n",
        "以下の処理を行うプログラムを作成しなさい。\n",
        "\n",
        "1. `int`型の変数`i`を宣言し、整数`3`で初期化する\n",
        "2. `double`型の整数`d`を宣言し、小数`0.14159`で初期化する\n",
        "3. `i`と`d`を足した結果を出力する\n",
        "4. `i`を`19`倍する\n",
        "5. `i`を出力する\n",
        "\n",
        "**出力例**\n",
        "\n",
        "```txt\n",
        "3.14159\n",
        "57\n",
        "```"
      ],
      "metadata": {
        "id": "5of6xPei2EC-"
      }
    },
    {
      "cell_type": "code",
      "source": [
        "%%writefile practice_04.cpp\n",
        "#include <iostream>\n",
        "using namespace std;\n",
        "\n",
        "int main() {\n",
        "  // この下に1～5を行うプログラムを書く\n",
        "}"
      ],
      "metadata": {
        "id": "y27WY6ie2GVk"
      },
      "execution_count": null,
      "outputs": []
    },
    {
      "cell_type": "code",
      "source": [
        "# @title 実行\n",
        "!echo -e \"3.14159\\n57\" > b.txt\n",
        "!g++ practice_04.cpp -o practice_04 -Wall && ./practice_04 > a.txt && diff -Z a.txt b.txt > nil && test $? -eq 0 && echo -e \"\\033[32;1mAC\" || echo -e \"\\033[31;1mWA\""
      ],
      "metadata": {
        "cellView": "form",
        "id": "w6YCY-4v4bvW"
      },
      "execution_count": null,
      "outputs": []
    }
  ]
}