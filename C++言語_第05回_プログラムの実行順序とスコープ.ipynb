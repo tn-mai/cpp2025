{
  "nbformat": 4,
  "nbformat_minor": 0,
  "metadata": {
    "colab": {
      "provenance": [],
      "toc_visible": true
    },
    "kernelspec": {
      "name": "python3",
      "display_name": "Python 3"
    },
    "language_info": {
      "name": "python"
    }
  },
  "cells": [
    {
      "cell_type": "markdown",
      "source": [
        "# プログラムの実行順序とスコープ"
      ],
      "metadata": {
        "id": "wDmWPErWiGvJ"
      }
    },
    {
      "cell_type": "markdown",
      "source": [
        "## キーポイント\n",
        "\n",
        "* プログラムは上から下に向かって、順番に実行される\n",
        "* if文を使うと、プログラムの流れを２つに分岐し、どちらかの一方の流れを選べるようになる\n",
        "* `{`と`}`で囲われた範囲を「ブロック」という\n",
        "* 変数が使える範囲を「スコープ」という\n",
        "* スコープは、「変数の宣言」から「宣言したブロックの終わり」まで\n",
        "* ブロック内では、ブロックの外にあるのと同じ名前の変数を宣言できる\n",
        "* 同じ名前の変数のスコープが重複する場合、もっとも内側のブロックで宣言した変数が使われる\n",
        "* if文では、より厳しい条件を先にチェックする\n"
      ],
      "metadata": {
        "id": "5JBWX5xriJ6V"
      }
    },
    {
      "cell_type": "markdown",
      "source": [
        "----\n",
        "\n",
        "## 1 プログラムの実行順序\n",
        "\n",
        "----\n"
      ],
      "metadata": {
        "id": "UOLgN-jKiNO8"
      }
    },
    {
      "cell_type": "markdown",
      "source": [
        "### 1.1 プログラムは上から下に向かって順番に実行される\n",
        "\n",
        "プログラムは上から下に向かって、順番に実行されます。それを、以下のプログラムで確認してみましょう。\n",
        "\n",
        "**コード**\n",
        "\n",
        "```cpp\n",
        "#include <iostream>\n",
        "using namespace std;\n",
        "\n",
        "int main() {\n",
        "\n",
        "  int number;\n",
        "\n",
        "  number = 8;\n",
        "\n",
        "  cout << number << endl;\n",
        "\n",
        "  number = 15;\n",
        "\n",
        "  cout << number << endl;\n",
        "\n",
        "}\n",
        "```\n",
        "**実行結果**\n",
        "\n",
        "```txt\n",
        "8\n",
        "15\n",
        "```\n",
        "\n",
        "このプログラムの実行順は、次のようになります。\n",
        "\n",
        "<img src=\"https://raw.githubusercontent.com/tn-mai/cpp2025/refs/heads/main/images/program_flow.png\" width=300px />\n",
        "\n",
        "`number`には最終的に15が代入されますが、最初に`cout`を実行する時点ではまだ8が代入された状態です。<br>\n",
        "そのため、まず8が出力され、次に15が出力されるのです。\n",
        "\n",
        "このように、プログラムの実行順は、上から下に向かって流れます。\n"
      ],
      "metadata": {
        "id": "xL7i1vbwiR8r"
      }
    },
    {
      "cell_type": "markdown",
      "source": [
        "### 1.2 if文は流れを2つに分岐する\n",
        "\n",
        "if文を使うと、プログラムに2つの流れを作り出せます。\n",
        "\n",
        "**コード**\n",
        "\n",
        "```cpp\n",
        "#include <iostream>\n",
        "using namespace std;\n",
        "\n",
        "int main() {\n",
        "\n",
        "  int number;\n",
        "\n",
        "  number = 8;\n",
        "\n",
        "  cout << number << endl;\n",
        "\n",
        "  if (number != 8) {\n",
        "\n",
        "    number = 15;\n",
        "\n",
        "  }\n",
        "\n",
        "  cout << number << endl;\n",
        "\n",
        "}\n",
        "```\n",
        "\n",
        "**実行結果**\n",
        "\n",
        "```txt\n",
        "8\n",
        "8\n",
        "```\n",
        "\n",
        "このプログラムの実行順は、次のようになります。\n",
        "\n",
        "<img src=\"https://raw.githubusercontent.com/tn-mai/cpp2025/refs/heads/main/images/program_flow_with_if.png\" width=300px />\n",
        "\n",
        "if文によって`number = 15;`の行が飛ばされ、if文の終わりの`}`まで進みます。その結果、`number`は`8`のままになり、後半の`cout`でも`8`が出力されます。\n",
        "\n",
        "次に、else句を使ったプログラムを見てみます。\n",
        "\n",
        "**コード**\n",
        "\n",
        "```cpp\n",
        "#include <iostream>\n",
        "using namespace std;\n",
        "\n",
        "int main() {\n",
        "\n",
        "  int number;\n",
        "\n",
        "  number = 8;\n",
        "\n",
        "  cout << number << endl;\n",
        "\n",
        "  if (number != 8) {\n",
        "\n",
        "    number = 15;\n",
        "\n",
        "  }\n",
        "\n",
        "  else {\n",
        "\n",
        "    number = 12;\n",
        "\n",
        "  }\n",
        "\n",
        "  cout << number << endl;\n",
        "\n",
        "}\n",
        "```\n",
        "\n",
        "**実行結果**\n",
        "\n",
        "```txt\n",
        "8\n",
        "12\n",
        "```\n",
        "\n",
        "このプログラムの実行順は、次のようになります。\n",
        "\n",
        "<img src=\"https://raw.githubusercontent.com/tn-mai/cpp2025/refs/heads/main/images/program_flow_with_if_else.png\" width=300px />\n",
        "\n",
        "前のプログラムとの違いは、if文で「条件が偽」の場合の流れが、else句に接続されている点です。\n",
        "\n",
        "これらの図から分かるように、if文を使っても、「上から下へ」という流れ自体は変えられません。<br>\n",
        "しかし、プログラムの流れを2つに分岐させて、どちらか進みたい道を選べるようになります。\n"
      ],
      "metadata": {
        "id": "m3PqzMlut0J-"
      }
    },
    {
      "cell_type": "markdown",
      "source": [
        "#### 3つ以上の分岐を作るには\n",
        "\n",
        "else ifを使ったり、if文をネストすることで、2つに分かれた分岐をさらに分岐させて、3つ以上の分岐を作り出せます。\n",
        "\n",
        "以下のプログラムは、入力された成績を4段階で評価し、評価結果を出力します。<br>\n",
        "このプログラムでは、else ifを使って、4つの「プログラムの流れ」を作り出しています。\n",
        "\n",
        "```cpp\n",
        "#include <iostream>\n",
        "using namespace std;\n",
        "\n",
        "int main() {\n",
        "  int a;\n",
        "  cin >> a;\n",
        "\n",
        "  if (a >= 80) {\n",
        "    cout << \"A\" << endl;\n",
        "  }\n",
        "  else if (a >= 60) {\n",
        "    cout << \"B\" << endl;\n",
        "  }\n",
        "  else if (a >= 30) {\n",
        "    cout << \"C\" << endl;\n",
        "  }\n",
        "  else {\n",
        "    cout << \"D\" << endl;\n",
        "  }\n",
        "}\n",
        "```\n"
      ],
      "metadata": {
        "id": "q65fdSBC2ilA"
      }
    },
    {
      "cell_type": "markdown",
      "source": [
        "#### より厳しい条件を先に調べる\n",
        "\n",
        "if文やelse ifを使って、同じデータを何度も調べるようなプログラムでは、より厳しい条件を先に判定しなくてはならない、という点に注意してください。\n",
        "\n",
        "例えば、さきほどのプログラムの判定順を逆にしてみます。\n",
        "\n",
        "```cpp\n",
        "#include <iostream>\n",
        "using namespace std;\n",
        "\n",
        "int main() {\n",
        "  int a;\n",
        "  cin >> a;\n",
        "\n",
        "  if (a >= 30) {\n",
        "    cout << \"C\" << endl;\n",
        "  }\n",
        "  else if (a >= 60) {\n",
        "    cout << \"B\" << endl;\n",
        "  }\n",
        "  else if (a >= 80) {\n",
        "    cout << \"A\" << endl;\n",
        "  }\n",
        "  else {\n",
        "    cout << \"D\" << endl;\n",
        "  }\n",
        "}\n",
        "```\n",
        "\n",
        "このプログラムでは、`a >= 30`の判定が最初に実行されます。なぜなら、「プログラムは上から順番に実行される」からです。その結果、30点以上の特典はすべてC評価になってしまいます。60点でも80点でも、30点以上であることに違いはないからです。\n",
        "\n",
        "これも「論理エラー」です。<br>\n",
        "このようなエラーが起きないように、「if文では、より厳しい条件を先に調べる」ようにしましょう。"
      ],
      "metadata": {
        "id": "TZvclg61mTj2"
      }
    },
    {
      "cell_type": "markdown",
      "source": [
        "----\n",
        "\n",
        "## 2 ブロックとスコープ\n",
        "\n",
        "----\n"
      ],
      "metadata": {
        "id": "IRHMM4-RAJSt"
      }
    },
    {
      "cell_type": "markdown",
      "source": [
        "### 2.1 ブロック\n",
        "\n",
        "mainやif文が実行するプログラムは、`{`と`}`で囲われています。この、`{`と`}`で囲われた部分のことを「ブロック」といいます。\n",
        "\n",
        "ブロックは「入れ子」構造にすることができます。これは例えば、main関数の`{}`の内側にif文の`{}`がある、のような構造です。\n",
        "\n",
        "ブロックの重要な機能は、変数の「有効範囲」を制御することです。これは、次の機能によって実現されます。\n",
        "\n",
        "* ブロック内で宣言した変数は、そのブロックの終わりで削除される。\n",
        "* ブロックが異なると、同じ名前の変数を新しく宣言できる。\n",
        "\n",
        "ブロックの例を見てみましょう。\n",
        "\n",
        "**コード**\n",
        "\n",
        "```cpp\n",
        "#include <iostream>\n",
        "#include <string>\n",
        "using namespace std;\n",
        "\n",
        "int main() {\n",
        "\n",
        "  string a = \"mainのa\"; // mainブロックのa\n",
        "  cout << a << endl;    // 「mainブロックのa」を出力\n",
        "\n",
        "  if (a == \"mainのa\") { // ←この { で、if文のブロックが開始される\n",
        "\n",
        "    string a = \"ifのa\"; // if文ブロックのa\n",
        "    cout << a << endl;  // 「if文ブロックのa」を出力\n",
        "\n",
        "  } // ←ここでif文ブロックが終わり、「if文ブロックのa」が削除される\n",
        "\n",
        "  cout << a << endl;    // 「mainブロックのa」を出力\n",
        "}\n",
        "```\n",
        "\n",
        "**実行結果**\n",
        "\n",
        "```txt\n",
        "mainのa\n",
        "ifのa\n",
        "mainのa\n",
        "```\n",
        "\n",
        "このプログラム例では、mainブロックの中に、if文のブロックを作成しています。\n",
        "\n",
        "まず、mainブロック内で`string`型の変数`a`を宣言し、文字列`mainのa`で初期化しています。この変数はmainブロックが続く限り有効です。<br>\n",
        "次の行の`cout << a << endl;`の`a`は、前の行で宣言した変数`a`を指します。そのため、`mainのa`が出力されます。\n",
        "\n",
        "続いて、if文のブロックでも、`a`という名前の変数を宣言しています。<br>\n",
        "ブロックの効果によって、「mainブロックの`a`」と「if文ブロックの`a`」は、それぞれ別の変数として認識されます。\n",
        "\n",
        "また、変数は、新しく宣言したほうが優先的に使われます。<br>\n",
        "そのため、if文ブロック内で`cout << a << endl;`を実行すると、if文ブロックで宣言した`a`が使われ、`ifのa`が出力されます。\n",
        "\n",
        "プログラムの流れが、if文ブロックの終りを示す`}`に到達すると、「if文ブロックで宣言した変数`a`」が削除されます。<br>\n",
        "結果として、最後の`cout << a << endl;`に出てくる`a`は、「mainブロックで宣言した変数`a`」を指すことになり、再び`mainのa`が出力されます。\n"
      ],
      "metadata": {
        "id": "BGEyDgdHX84u"
      }
    },
    {
      "cell_type": "markdown",
      "source": [
        "### 2.2 スコープ\n",
        "\n",
        "「変数の使える範囲」のことを「スコープ」といいます(スコープは「範囲」という意味)。\n",
        "\n",
        "例えば、ブロック内で宣言した変数を、ブロックの外で使おうとすると、コンパイルエラーになります。\n",
        "\n",
        "**コード**\n",
        "\n",
        "```cpp\n",
        "#include <iostream>\n",
        "#include <string>\n",
        "using namespace std;\n",
        "\n",
        "int main() {\n",
        "\n",
        "  string a = \"mainのa\"; // mainブロックのa\n",
        "  cout << a << endl;    // 「mainブロックのa」を出力\n",
        "\n",
        "  if (a == \"mainのa\") { // ←この { で、if文のブロックが開始される\n",
        "\n",
        "    string b = \"ifのb\"; // if文ブロックのb\n",
        "    cout << b << endl;  // 「if文ブロックのb」を出力\n",
        "\n",
        "  } // ←ここでif文ブロックが終わり、「if文ブロックのb」が削除される\n",
        "\n",
        "  cout << b << endl;    // コンパイルエラー(mainブロックに変数bがない)\n",
        "}\n",
        "```\n",
        "\n",
        "最後の`cout`の行がコンパイルエラーになるのは、変数`b`を使える範囲が「宣言した行」から「if文ブロックの終わり」までに限られるからです。\n",
        "\n",
        "つまり、「変数の宣言」から「ブロックの終わり」までが、その変数の「スコープ」になるわけです。\n",
        "\n",
        "このルールは、「宣言するまでは前に宣言した変数が使える」ことを意味します。例を見てみましょう。\n",
        "\n",
        "**コード**\n",
        "\n",
        "```cpp\n",
        "#include <iostream>\n",
        "#include <string>\n",
        "using namespace std;\n",
        "\n",
        "int main() {\n",
        "\n",
        "  string a = \"mainのa\"; // mainブロックのa\n",
        "  cout << a << endl;    // 「mainブロックのa」を出力\n",
        "\n",
        "  if (a == \"mainのa\") { // ←この { で、if文のブロックが開始される\n",
        "    cout << \"ifブロック開始\" << endl;\n",
        "\n",
        "    cout << a << endl;  // 「mainブロックのa」を出力\n",
        "\n",
        "    string a = \"ifのa\"; // if文ブロックのa\n",
        "    cout << a << endl;  // 「if文ブロックのa」を出力\n",
        "\n",
        "    cout << \"ifブロック終了\" << endl;\n",
        "  } // ←ここでif文ブロックが終わり、「if文ブロックのa」が削除される\n",
        "\n",
        "  cout << a << endl;    // 「mainブロックのa」を出力\n",
        "}\n",
        "```\n",
        "\n",
        "**実行結果**\n",
        "\n",
        "```txt\n",
        "mainのa\n",
        "ifブロック開始\n",
        "mainのa\n",
        "ifのa\n",
        "ifブロック終了\n",
        "mainのa\n",
        "```\n",
        "\n",
        "if文ブロックが始まった時点では、まだ「if文ブロックの変数`a`」は宣言されていません。この時点では、まだ「mainブロックの変数`a`」を使うことができます。\n",
        "\n",
        "そのため、2番目の`cout`では、if文ブロックが始まった後でも、`mainのa`が出力されます。\n",
        "\n",
        "その次に、if文ブロックの変数`a`が宣言されると、ここで`a`という名前が指す対象が切り替わります。<br>\n",
        "結果、3番目の`cout`では、`ifのa`が出力されるわけです。\n",
        "\n",
        "このように、同じ名前の変数は、以前に宣言された変数のスコープを、一時的に隠す効果があります。\n",
        "\n",
        ">**【同じ名前は使わないほうがよい】**<br>\n",
        ">ここまでの説明を読んで、「同じ名前の変数の挙動が分かりにくい」と感じたかもしれません。それは正しい感覚です。<br>\n",
        ">同じ名前の変数はスコープが分かりにくいので、エラーの原因になることが多いのです。<br>\n",
        ">ですから、変数にはそれぞれ違う名前を付けるようにしてください。\n"
      ],
      "metadata": {
        "id": "x4e3TJpiqF19"
      }
    },
    {
      "cell_type": "markdown",
      "source": [
        "### 2.3 複数のブロックとスコープ\n",
        "\n",
        "「ブロックは互いに独立」しています。例えば、if文とelse句のブロックは互いに独立しているため、if文ブロックで定義された変数をelse句ブロックで使うことはできません。\n",
        "\n",
        "**コード**\n",
        "\n",
        "```cpp\n",
        "#include <iostream>\n",
        "#include <string>\n",
        "using namespace std;\n",
        "\n",
        "int main() {\n",
        "\n",
        "  string a = \"mainのa\";        // mainブロックのa\n",
        "  cout << a << endl;           // 「mainブロックのa」を出力\n",
        "\n",
        "  if (a == \"subのb\") { // ←ここでif文ブロックが開始される\n",
        "\n",
        "    cout << \"if文ブロック開始\" << endl;\n",
        "    cout << \"  \" << a << endl; // 「mainブロックのa」を出力\n",
        "    string a = \"ifのa\";        // if文ブロックのa\n",
        "    cout << \"  \" << a << endl; // 「if文ブロックのa」を出力\n",
        "    cout << \"if文ブロック終了\" << endl;\n",
        "\n",
        "  } // ←ここでif文ブロックが終了し、「if文ブロックのa」が削除される\n",
        "  else { // ←ここで、else句ブロックが開始される\n",
        "\n",
        "    cout << \"else句ブロック開始\" << endl;\n",
        "    cout << \"  \" << a << endl; // 「mainブロックのa」を出力\n",
        "    string a = \"elseのa\";      // else句ブロックのa\n",
        "    cout << \"  \" << a << endl; // 「else句ブロックのa」を出力\n",
        "    cout << \"else句ブロック終了\" << endl;\n",
        "\n",
        "  } // ←ここで、else句ブロックが終了し、「else句ブロックのa」が削除される\n",
        "\n",
        "  cout << a << endl;           // 「mainブロックのa」を出力\n",
        "}\n",
        "```\n",
        "\n",
        "**実行結果**\n",
        "\n",
        "```txt\n",
        "mainのa\n",
        "else句ブロック開始\n",
        "  mainのa\n",
        "  elseのa\n",
        "else句ブロック終了\n",
        "mainのa\n",
        "```\n",
        "\n",
        "else句ブロックの最初に出力されるのは、`mainのa`であって、`ifのa`ではありません。<br>\n",
        "これは、if文ブロックの変数aのスコープは、if文ブロックの終端で終わるためです。\n",
        "\n",
        "つまり、else句ブロックの開始時点で、すでに「ifブロックの変数`a`」は削除されているのです。<br>\n",
        "そのため、else句ブロックでは「mainブロックの変数`a`」が見えることになります。\n"
      ],
      "metadata": {
        "id": "58Z62dgx6JeM"
      }
    },
    {
      "cell_type": "markdown",
      "source": [
        "### 2.4 無名ブロック\n",
        "\n",
        "mainやifを書かずに、ブロックだけを作ることもできます。\n",
        "\n",
        "**コード**\n",
        "\n",
        "```cpp\n",
        "#include <iostream>\n",
        "#include <string>\n",
        "using namespace std;\n",
        "\n",
        "int main() {\n",
        "\n",
        "  string a = \"mainのa\"; // mainブロックのa\n",
        "  cout << a << endl;    // 「mainブロックのa」を出力\n",
        "\n",
        "  { // ←この { で、無名のロックが開始される\n",
        "\n",
        "    string a = \"無名のa\"; // 無名ブロックのa\n",
        "    cout << a << endl;    // 「無名ブロックのa」を出力\n",
        "\n",
        "  } // ←ここで無名ブロックが終わり、「無名ブロックのa」が削除される\n",
        "\n",
        "  cout << a << endl; // 「mainブロックのa」を出力\n",
        "}\n",
        "```\n",
        "\n",
        "無名ブロックはあまり使われませんが、動作テスト用のプログラムを無名ブロックで囲んで、テストでしか使わない変数をうっかり使ってしまうことを防ぐ、といった利用法はあります。\n",
        "\n"
      ],
      "metadata": {
        "id": "8Q6FbG_houYW"
      }
    },
    {
      "cell_type": "markdown",
      "source": [
        "----\n",
        "\n",
        "## 3 練習問題\n",
        "\n",
        "----\n",
        "\n",
        "以下の手順にしたがって、以下のプログラムを、正しく動作するように修正しなさい。<br>\n",
        "正しく修正できていれば、出力セルには`AC`とだけ表示されます。<br>\n",
        "間違っている場合は`WA`と表示されます。\n",
        "\n",
        "1. `%%writefile ...`の下の行からがプログラムです。問題文に従ってプログラムを修正、または追加してください。\n",
        "2. プログラムを修正したら、セルの右側にある`▶`をクリックします。すると、ファイルが保存されます。\n",
        "3. 「動作テスト」セルの`▶`をクリックすると、2で保存したファイルがコンパイル＆実行され、実行結果が表示されます。<br>\n",
        "   このセルは、修正したプログラムの動作を確認するために使ってください。\n",
        "4. 「実行」セルの`▶`をクリックすると、2で保存したファイルがコンパイル＆実行され、結果の成否が判定されます。\n",
        "5. 判定に成功したら`AC`と表示されます。次の問題に進んでください。\n",
        "6. 失敗したら`WA`と表示されます(その前にエラーメッセージが表示される場合もあります)。<br>\n",
        "   これは、プログラムのどこかにエラーがあることを意味します。<br>\n",
        "   「動作テスト」を使ってエラーを修正し、`AC`を目指してください。\n"
      ],
      "metadata": {
        "id": "CEDGptaf3dVi"
      }
    },
    {
      "cell_type": "markdown",
      "source": [
        "### ❓️問題１ 数字の並び\n",
        "\n",
        "実行順序を確認するためのプログラムがあります。<br>\n",
        "プログラムの？記号を数値に置き換えて、プログラムを完成させなさい。\n"
      ],
      "metadata": {
        "id": "5eBwdUwVNilb"
      }
    },
    {
      "cell_type": "code",
      "source": [
        "%%writefile practice_01a.cpp\n",
        "#include <iostream>\n",
        "using namespace std;\n",
        "\n",
        "int main() {\n",
        "  // ここから下は変更しない\n",
        "  int a = 1;\n",
        "\n",
        "  cout << a;\n",
        "\n",
        "  a = a + 2;\n",
        "\n",
        "  int b = 5;\n",
        "\n",
        "  cout << a;\n",
        "  cout << b;\n",
        "\n",
        "  b = 7;\n",
        "\n",
        "  cout << b;\n",
        "\n",
        "  b = 9;\n",
        "\n",
        "  cout << a << endl;\n",
        "  // ここから上は変更しない\n",
        "\n",
        "       // ↓この？を数字に置き換えて、上のプログラムと同じ出力になるようにする\n",
        "  cout << ？ << endl;\n",
        "}"
      ],
      "metadata": {
        "id": "IrP35rJdNilc"
      },
      "execution_count": null,
      "outputs": []
    },
    {
      "cell_type": "code",
      "source": [
        "# @title 動作テスト\n",
        "!g++ -std=c++20 -O2 -Wall -Wextra -o practice_01a practice_01a.cpp && ./practice_01a"
      ],
      "metadata": {
        "cellView": "form",
        "id": "4tU5VuSgNilc"
      },
      "execution_count": null,
      "outputs": []
    },
    {
      "cell_type": "code",
      "source": [
        "# @title 実行\n",
        "!diff <(echo -e \"13573\\n13573\") <(g++ -std=c++20 -O2 -Wall -Wextra -o practice_01a practice_01a.cpp && ./practice_01a) >nil && test $? -eq 0 && echo -e \"\\033[32;1mAC\" || echo -e \"\\033[31;1mWA\""
      ],
      "metadata": {
        "cellView": "form",
        "id": "hHcxIH3uNilc"
      },
      "execution_count": null,
      "outputs": []
    },
    {
      "cell_type": "code",
      "source": [
        "# @title 🔒️解答例(どうしても問題を解けない場合に見てください)\n",
        "%%writefile practice_01a.cpp\n",
        "#include <iostream>\n",
        "using namespace std;\n",
        "\n",
        "int main() {\n",
        "  // ここから下は変更しない\n",
        "  int a = 1;\n",
        "\n",
        "  cout << a;\n",
        "\n",
        "  a = a + 2;\n",
        "\n",
        "  int b = 5;\n",
        "\n",
        "  cout << a;\n",
        "  cout << b;\n",
        "\n",
        "  b = 7;\n",
        "\n",
        "  cout << b;\n",
        "\n",
        "  b = 9;\n",
        "\n",
        "  cout << a << endl;\n",
        "  // ここから上は変更しない\n",
        "\n",
        "       // ↓この？を数字に置き換えて、上のプログラムと同じ出力になるようにする\n",
        "  cout << 13573 << endl;\n",
        "}"
      ],
      "metadata": {
        "cellView": "form",
        "id": "i0ZHYaLYNilc"
      },
      "execution_count": null,
      "outputs": []
    },
    {
      "cell_type": "markdown",
      "source": [
        "### ❓️問題２ 肥後手まり唄\n",
        "\n",
        "以下のプログラムが、正しい「肥後手まり唄(別名:あんたがたどこさ)」の前半を出力するように、変数`a`, `b`, `c`を適切な値で初期化しなさい。\n"
      ],
      "metadata": {
        "id": "v5oc12JMRxrK"
      }
    },
    {
      "cell_type": "code",
      "source": [
        "%%writefile practice_01b.cpp\n",
        "#include <iostream>\n",
        "#include <string>\n",
        "using namespace std;\n",
        "\n",
        "int main() {\n",
        "\n",
        "  // 変数a, b, cに適切な初期値を指定して、「肥後手まり唄」を完成させる\n",
        "  int a = 0;\n",
        "  int b = 0;\n",
        "  int c = 0;\n",
        "\n",
        "  // ここから下は変更しない\n",
        "  string x;\n",
        "  if (a == 5) {\n",
        "    x = \"肥後\";\n",
        "  } else {\n",
        "    x = \"難波\";\n",
        "  }\n",
        "\n",
        "  string y;\n",
        "  if (b == 0) {\n",
        "    y = \"大阪\";\n",
        "  } else {\n",
        "    y = \"熊本\";\n",
        "  }\n",
        "\n",
        "  string z;\n",
        "  if (c == 9) {\n",
        "    z = \"船場\";\n",
        "  } else {\n",
        "    z = \"生駒\";\n",
        "  }\n",
        "\n",
        "  cout << \"あんたがたどこさ？\" << x << \"さ。\";\n",
        "  cout << x << \"どこさ？\" << y << \"さ。\";\n",
        "  cout << y << \"どこさ？\" << z << \"さ。\" << endl;\n",
        "}"
      ],
      "metadata": {
        "id": "iTn7j-2lRxrL"
      },
      "execution_count": null,
      "outputs": []
    },
    {
      "cell_type": "code",
      "source": [
        "# @title 動作テスト\n",
        "!g++ -std=c++20 -O2 -Wall -Wextra -o practice_01b practice_01b.cpp && ./practice_01b"
      ],
      "metadata": {
        "cellView": "form",
        "id": "1ijffRpZRxrM"
      },
      "execution_count": null,
      "outputs": []
    },
    {
      "cell_type": "code",
      "source": [
        "# @title 実行\n",
        "!diff <(echo -e \"あんたがたどこさ？肥後さ。肥後どこさ？熊本さ。熊本どこさ？船場さ。\") <(g++ -std=c++20 -O2 -Wall -Wextra -o practice_01b practice_01b.cpp && ./practice_01b) >nil && test $? -eq 0 && echo -e \"\\033[32;1mAC\" || echo -e \"\\033[31;1mWA\""
      ],
      "metadata": {
        "cellView": "form",
        "id": "8DYZ8va1RxrM"
      },
      "execution_count": null,
      "outputs": []
    },
    {
      "cell_type": "code",
      "source": [
        "# @title 🔒️解答例(どうしても問題を解けない場合に見てください)\n",
        "%%writefile practice_01b.cpp\n",
        "#include <iostream>\n",
        "#include <string>\n",
        "using namespace std;\n",
        "\n",
        "int main() {\n",
        "\n",
        "  // 変数a, b, cに適切な初期値を指定して、「肥後手まり唄」を完成させる\n",
        "  int a = 5;\n",
        "  int b = 1;\n",
        "  int c = 9;\n",
        "\n",
        "  // ここから下は変更しない\n",
        "  string x;\n",
        "  if (a == 5) {\n",
        "    x = \"肥後\";\n",
        "  } else {\n",
        "    x = \"難波\";\n",
        "  }\n",
        "\n",
        "  string y;\n",
        "  if (b == 0) {\n",
        "    y = \"大阪\";\n",
        "  } else {\n",
        "    y = \"熊本\";\n",
        "  }\n",
        "\n",
        "  string z;\n",
        "  if (c == 9) {\n",
        "    z = \"船場\";\n",
        "  } else {\n",
        "    z = \"生駒\";\n",
        "  }\n",
        "\n",
        "  cout << \"あんたがたどこさ？\" << x << \"さ。\";\n",
        "  cout << x << \"どこさ？\" << y << \"さ。\";\n",
        "  cout << y << \"どこさ？\" << z << \"さ。\" << endl;\n",
        "}"
      ],
      "metadata": {
        "cellView": "form",
        "id": "nPi6-9dlRxrM"
      },
      "execution_count": null,
      "outputs": []
    },
    {
      "cell_type": "markdown",
      "source": [
        "### ❓️問題３ 冬と春\n",
        "\n",
        "入力された気温Xに応じて、季節を出力するプログラムがあります。<br>\n",
        "気温が15未満なら`winter`、15以上なら`spring`と出力されるように、if文を追加して、プログラムを完成させなさい。\n",
        "\n",
        "**入力データ例（１）**\n",
        "\n",
        "```txt\n",
        "10\n",
        "```\n",
        "\n",
        "**出力例（１）**\n",
        "\n",
        "```txt\n",
        "winter\n",
        "```\n",
        "\n",
        "**入力データ例（２）**\n",
        "\n",
        "```txt\n",
        "15\n",
        "```\n",
        "\n",
        "**出力例（２）**\n",
        "\n",
        "```txt\n",
        "spring\n",
        "```\n"
      ],
      "metadata": {
        "id": "5vMQFnOWGp5j"
      }
    },
    {
      "cell_type": "code",
      "source": [
        "%%writefile practice_01c.cpp\n",
        "#include <iostream>\n",
        "using namespace std;\n",
        "\n",
        "int main() {\n",
        "\n",
        "  int x;\n",
        "  cin >> x;\n",
        "  // ここから上は変更しない\n",
        "\n",
        "  // この下に、気温に対応した季節を出力をするif文を書く\n",
        "\n",
        "}"
      ],
      "metadata": {
        "id": "DX7Rw_7RGp5k"
      },
      "execution_count": null,
      "outputs": []
    },
    {
      "cell_type": "code",
      "source": [
        "# @title 動作テスト\n",
        "!g++ -std=c++20 -O2 -Wall -Wextra -o practice_01c practice_01c.cpp && echo \"この下の点滅をクリックして、気温を入力\" && ./practice_01c"
      ],
      "metadata": {
        "cellView": "form",
        "id": "roHsFklKGp5l"
      },
      "execution_count": null,
      "outputs": []
    },
    {
      "cell_type": "code",
      "source": [
        "# @title 実行\n",
        "!diff <(echo -e \"spring\\nspring\\nwinter\\nwinter\") <(g++ -std=c++20 -O2 -Wall -Wextra -o practice_01c practice_01c.cpp && echo \"15\" | ./practice_01c && echo \"40\" | ./practice_01c && echo \"14\" | ./practice_01c && echo \"-20\" | ./practice_01c) >nil && test $? -eq 0 && echo -e \"\\033[32;1mAC\" || echo -e \"\\033[31;1mWA\""
      ],
      "metadata": {
        "id": "KjXSZaPGGp5l",
        "cellView": "form"
      },
      "execution_count": null,
      "outputs": []
    },
    {
      "cell_type": "code",
      "source": [
        "# @title 🔒️解答例(どうしても問題を解けない場合に見てください)\n",
        "%%writefile practice_01c.cpp\n",
        "#include <iostream>\n",
        "using namespace std;\n",
        "\n",
        "int main() {\n",
        "\n",
        "  int x;\n",
        "  cin >> x;\n",
        "  // ここから上は変更しない\n",
        "\n",
        "  // この下に、気温に対応した季節を出力をするif文を書く\n",
        "  if (x < 15) {\n",
        "    cout << \"winter\" << endl;\n",
        "  } else {\n",
        "    cout << \"spring\" << endl;\n",
        "  }\n",
        "}"
      ],
      "metadata": {
        "id": "ApbbIE-9Gp5l",
        "cellView": "form"
      },
      "execution_count": null,
      "outputs": []
    },
    {
      "cell_type": "markdown",
      "source": [
        "### ❓️問題４ 成績評価\n",
        "\n",
        "試験の点数Aから、成績を評価するプログラムを作りたいです。<br>\n",
        "if文やelse if文を追加して、プログラムを完成させなさい。\n",
        "\n",
        "評価はA, B, C, Dの4段階です。点数と評価の対応は、次の表のとおりです。\n",
        "\n",
        "| 点数 | 評価 |\n",
        "|-----:|:----:|\n",
        "| <font size=3> 0～ 29</font> | <font size=3>D</font> |\n",
        "| <font size=3>30～ 59</font> | <font size=3>C</font> |\n",
        "| <font size=3>60～ 79</font> | <font size=3>B</font> |\n",
        "| <font size=3>80～100</font> | <font size=3>A</font> |\n",
        "\n",
        "**入力データ例（１）**\n",
        "\n",
        "```txt\n",
        "59\n",
        "```\n",
        "\n",
        "**出力例（１）**\n",
        "\n",
        "```txt\n",
        "C\n",
        "```\n",
        "\n",
        "**入力データ例（２）**\n",
        "\n",
        "```txt\n",
        "100\n",
        "```\n",
        "\n",
        "**出力例（２）**\n",
        "\n",
        "```txt\n",
        "A\n",
        "```\n"
      ],
      "metadata": {
        "id": "spp5Q0OSl-TV"
      }
    },
    {
      "cell_type": "code",
      "source": [
        "%%writefile practice_01d.cpp\n",
        "#include <iostream>\n",
        "using namespace std;\n",
        "\n",
        "int main() {\n",
        "\n",
        "  int a; // 点数\n",
        "  cin >> a;\n",
        "  // ここから上は変更しない\n",
        "\n",
        "  // この下に、点数に対応する評価を出力をするプログラムを書く\n",
        "\n",
        "}"
      ],
      "metadata": {
        "id": "X8PxW10hl-TW"
      },
      "execution_count": null,
      "outputs": []
    },
    {
      "cell_type": "code",
      "source": [
        "# @title 動作テスト\n",
        "!g++ -std=c++20 -O2 -Wall -Wextra -o practice_01d practice_01d.cpp && echo \"この下の点滅をクリックして、点数(0～100)を入力\" && ./practice_01d"
      ],
      "metadata": {
        "id": "mu9HZ4hYl-TX",
        "cellView": "form"
      },
      "execution_count": null,
      "outputs": []
    },
    {
      "cell_type": "code",
      "source": [
        "# @title 実行\n",
        "!diff <(echo -e \"D\\nD\\nC\\nC\\nB\\nB\\nA\\nA\") <(g++ -std=c++20 -O2 -Wall -Wextra -o practice_01d practice_01d.cpp && echo \"0\" | ./practice_01d && echo \"29\" | ./practice_01d && echo \"30\" | ./practice_01d && echo \"59\" | ./practice_01d && echo \"60\" | ./practice_01d && echo \"79\" | ./practice_01d && echo \"80\" | ./practice_01d && echo \"100\" | ./practice_01d) >nil && test $? -eq 0 && echo -e \"\\033[32;1mAC\" || echo -e \"\\033[31;1mWA\""
      ],
      "metadata": {
        "id": "3an7ELl-l-TX",
        "cellView": "form"
      },
      "execution_count": null,
      "outputs": []
    },
    {
      "cell_type": "code",
      "source": [
        "# @title 🔒️解答例(どうしても問題を解けない場合に見てください)\n",
        "%%writefile practice_01d.cpp\n",
        "#include <iostream>\n",
        "using namespace std;\n",
        "\n",
        "int main() {\n",
        "\n",
        "  int a; // 点数\n",
        "  cin >> a;\n",
        "  // ここから上は変更しない\n",
        "\n",
        "  // この下に、点数に対応する評価を出力をするプログラムを書く\n",
        "  if (a >= 80) {\n",
        "    cout << \"A\" << endl;\n",
        "  }\n",
        "  else if (a >= 60) {\n",
        "    cout << \"B\" << endl;\n",
        "  }\n",
        "  else if (a >= 30) {\n",
        "    cout << \"C\" << endl;\n",
        "  }\n",
        "  else {\n",
        "    cout << \"D\" << endl;\n",
        "  }\n",
        "}"
      ],
      "metadata": {
        "id": "NhICeZjhl-TX",
        "cellView": "form"
      },
      "execution_count": null,
      "outputs": []
    },
    {
      "cell_type": "markdown",
      "source": [
        "### ❓️問題５ 役割\n",
        "\n",
        "あるMMO RPGでは、キャラクターは「攻撃力」、「防御力」、「回復力」という3つのパラメータを持っています。<br>\n",
        "パーティ内の役割は、次のように一番高いパラメータに応じて決まります。\n",
        "\n",
        "* 攻撃力が一番高い: `DPS`(ディーピーエス)\n",
        "* 防御力が一番高い: `Tank`(タンク)\n",
        "* 回復力が一番高い: `Healer`(ヒーラー)\n",
        "\n",
        "攻撃力A, 防御力B, 回復力Cという3つのパラメータが入力されるので、適切な役割の名前を出力するプログラムを作成しなさい。\n",
        "\n",
        "<br><details><summary>🗝️(クリックでヒントを見る)</summary>\n",
        "\n",
        "**プログラム例**\n",
        "\n",
        "1. 攻撃力、防御力、回復力をあらわす`int`型の変数`a`, `b`, `c`を宣言する\n",
        "2. 標準入力`cin`から、攻撃力、防御力、回復力をそれぞれ変数`a`, `b`, `c`に読み込む\n",
        "3. if文を使って、`a`が`b`より大きく、かつ`c`より大きい場合、標準出力`cout`に文字列`DPS`と改行を出力する\n",
        "4. if文を使って、`b`が`a`より大きく、かつ`c`より大きい場合、標準出力`cout`に文字列`Tank`と改行を出力する\n",
        "5. if文を使って、`c`が`a`より大きく、かつ`b`より大きい場合、標準出力`cout`に文字列`Healer`と改行を出力する\n",
        "\n",
        "</details></br>\n",
        "\n",
        "**入力データ例（１）**\n",
        "\n",
        "```txt\n",
        "5 10 6\n",
        "```\n",
        "\n",
        "**出力例（１）**\n",
        "\n",
        "```txt\n",
        "Tank\n",
        "```\n",
        "\n",
        "**入力データ例（２）**\n",
        "\n",
        "```txt\n",
        "8 3 5\n",
        "```\n",
        "\n",
        "**出力例（２）**\n",
        "\n",
        "```txt\n",
        "DPS\n",
        "```\n",
        "\n",
        "**入力データ例（３）**\n",
        "\n",
        "```txt\n",
        "1 2 3\n",
        "```\n",
        "\n",
        "**出力例（３）**\n",
        "\n",
        "```txt\n",
        "Healer\n",
        "```\n"
      ],
      "metadata": {
        "id": "ySQmaG5fCbM_"
      }
    },
    {
      "cell_type": "code",
      "source": [
        "%%writefile practice_01e.cpp\n",
        "#include <iostream>\n",
        "using namespace std;\n",
        "\n",
        "int main() {\n",
        "  // この下に、役割を出力するプログラムを書く\n",
        "\n",
        "}"
      ],
      "metadata": {
        "id": "BbPJedTHCbM_"
      },
      "execution_count": null,
      "outputs": []
    },
    {
      "cell_type": "code",
      "source": [
        "# @title 動作テスト\n",
        "!g++ -std=c++20 -O2 -Wall -Wextra -o practice_01e practice_01e.cpp && echo \"この下の点滅をクリックして、攻撃力、防御力、回復力を入力\" && ./practice_01e"
      ],
      "metadata": {
        "cellView": "form",
        "id": "OKfAe0guCbM_"
      },
      "execution_count": null,
      "outputs": []
    },
    {
      "cell_type": "code",
      "source": [
        "# @title 実行\n",
        "!diff <(echo -e \"Healer\\nTank\\nHealer\\nTank\\nDPS\\nDPS\") <(g++ -std=c++20 -O2 -Wall -Wextra -o practice_01e practice_01e.cpp && echo \"1 2 3\" | ./practice_01e && echo \"1 3 2\" | ./practice_01e && echo \"2 1 3\" | ./practice_01e && echo \"2 3 1\" | ./practice_01e && echo \"3 1 2\" | ./practice_01e && echo \"3 2 1\" | ./practice_01e) >nil && test $? -eq 0 && echo -e \"\\033[32;1mAC\" || echo -e \"\\033[31;1mWA\""
      ],
      "metadata": {
        "cellView": "form",
        "id": "Qo-aiMwzCbM_"
      },
      "execution_count": null,
      "outputs": []
    },
    {
      "cell_type": "code",
      "source": [
        "# @title 🔒️解答例(どうしても問題を解けない場合に見てください)\n",
        "%%writefile practice_01e.cpp\n",
        "#include <iostream>\n",
        "using namespace std;\n",
        "\n",
        "int main() {\n",
        "  // この下に、役割を出力するプログラムを書く\n",
        "  int a, b, c;\n",
        "  cin >> a >> b >> c;\n",
        "\n",
        "  if (a > b && a > c) {\n",
        "    cout << \"DPS\" << endl;\n",
        "  }\n",
        "  if (b > a && b > c) {\n",
        "    cout << \"Tank\" << endl;\n",
        "  }\n",
        "  if (c > a && c > b) {\n",
        "    cout << \"Healer\" << endl;\n",
        "  }\n",
        "}"
      ],
      "metadata": {
        "cellView": "form",
        "id": "-_Dv_2YMCbM_"
      },
      "execution_count": null,
      "outputs": []
    },
    {
      "cell_type": "markdown",
      "source": [
        "### ❓️問題６ 数字の並び（その２)\n",
        "\n",
        "スコープの動作を確認するためのプログラムがあります。<br>\n",
        "プログラム中の？記号を、上にあるプログラムが出力するのと同じ数値で置き換えなさい。\n"
      ],
      "metadata": {
        "id": "ucA2RPJPFkdv"
      }
    },
    {
      "cell_type": "code",
      "source": [
        "%%writefile practice_02a.cpp\n",
        "#include <iostream>\n",
        "using namespace std;\n",
        "\n",
        "int main() {\n",
        "\n",
        "  int a = 3;\n",
        "\n",
        "  cout << a;\n",
        "\n",
        "  if (a == 3) {\n",
        "\n",
        "    a = a - 2;\n",
        "    cout << a;\n",
        "\n",
        "    int a = 4;\n",
        "    cout << a;\n",
        "\n",
        "    a = a + 3;\n",
        "  }\n",
        "\n",
        "  cout << a;\n",
        "\n",
        "  a = a + 4;\n",
        "  cout << a << endl;\n",
        "  // ここから上は変更しない\n",
        "\n",
        "       // ↓この？を数字に置き換えて、上のプログラムと同じ出力になるようにする\n",
        "  cout << ？ << endl;\n",
        "}"
      ],
      "metadata": {
        "id": "HL8Y3Fl_Fkdw"
      },
      "execution_count": null,
      "outputs": []
    },
    {
      "cell_type": "code",
      "source": [
        "# @title 動作テスト\n",
        "!g++ -std=c++20 -O2 -Wall -Wextra -o practice_02a practice_02a.cpp && ./practice_02a"
      ],
      "metadata": {
        "cellView": "form",
        "id": "IlHWWBhjFkdw"
      },
      "execution_count": null,
      "outputs": []
    },
    {
      "cell_type": "code",
      "source": [
        "# @title 実行\n",
        "!diff <(echo -e \"31415\\n31415\") <(g++ -std=c++20 -O2 -Wall -Wextra -o practice_02a practice_02a.cpp && ./practice_02a) >nil && test $? -eq 0 && echo -e \"\\033[32;1mAC\" || echo -e \"\\033[31;1mWA\""
      ],
      "metadata": {
        "cellView": "form",
        "id": "dZPApEgHFkdw"
      },
      "execution_count": null,
      "outputs": []
    },
    {
      "cell_type": "code",
      "source": [
        "# @title 🔒️解答例(どうしても問題を解けない場合に見てください)\n",
        "%%writefile practice_02a.cpp\n",
        "#include <iostream>\n",
        "using namespace std;\n",
        "\n",
        "int main() {\n",
        "\n",
        "  int a = 3;\n",
        "\n",
        "  cout << a;\n",
        "\n",
        "  if (a == 3) {\n",
        "    a = a - 2;\n",
        "    cout << a;\n",
        "\n",
        "    int a = 4;\n",
        "    cout << a;\n",
        "\n",
        "    a = a + 3;\n",
        "  }\n",
        "\n",
        "  cout << a;\n",
        "  a = a + 4;\n",
        "  cout << a << endl;\n",
        "  // ここから上は変更しない\n",
        "\n",
        "       // ↓この？を数字に置き換えて、上のプログラムと同じ出力になるようにする\n",
        "  cout << 31415 << endl;\n",
        "}"
      ],
      "metadata": {
        "cellView": "form",
        "id": "9_PyVj4oFkdw"
      },
      "execution_count": null,
      "outputs": []
    },
    {
      "cell_type": "markdown",
      "source": [
        "### ❓️問題７ ２つのブロック\n",
        "\n",
        "スコープの動作を確認するためのプログラムがあります。<br>\n",
        "プログラム中の２つの？記号を数値に置き換えて、プログラムの実際の動作と一致する説明文が出力されるようにしなさい。\n"
      ],
      "metadata": {
        "id": "Z1F-sDgTdqTU"
      }
    },
    {
      "cell_type": "code",
      "source": [
        "%%writefile practice_02b.cpp\n",
        "#include <iostream>\n",
        "using namespace std;\n",
        "\n",
        "int main() {\n",
        "\n",
        "  int a;\n",
        "  cin >> a;\n",
        "\n",
        "  if (a == 0) {\n",
        "    int a = 8;\n",
        "    cout << a - 3 << endl;\n",
        "  } else {\n",
        "    int a = 5;\n",
        "    cout << a - 7 << endl;\n",
        "  }\n",
        "\n",
        "  // この下の２つの？記号を、数値で置き換える\n",
        "  cout << \"aが0のとき\" << ？ << \"、aが0以外のとき\" << ？ << \"が出力される\" << endl;\n",
        "}"
      ],
      "metadata": {
        "id": "i_X_x8VldqTV"
      },
      "execution_count": null,
      "outputs": []
    },
    {
      "cell_type": "code",
      "source": [
        "# @title 動作テスト\n",
        "!g++ -std=c++20 -O2 -Wall -Wextra -o practice_02b practice_02b.cpp && echo \"この下の点滅をクリックして、数値を入力\" && ./practice_02b"
      ],
      "metadata": {
        "cellView": "form",
        "id": "QiafEnm2dqTV"
      },
      "execution_count": null,
      "outputs": []
    },
    {
      "cell_type": "code",
      "source": [
        "# @title 実行\n",
        "!diff <(echo -e \"-2\\naが0のとき5、aが0以外のとき-2が出力される\\n5\\naが0のとき5、aが0以外のとき-2が出力される\") <(g++ -std=c++20 -O2 -Wall -Wextra -o practice_02b practice_02b.cpp && echo \"1\" | ./practice_02b && echo \"0\" | ./practice_02b) >nil && test $? -eq 0 && echo -e \"\\033[32;1mAC\" || echo -e \"\\033[31;1mWA\""
      ],
      "metadata": {
        "cellView": "form",
        "id": "cn3YGzcDdqTW"
      },
      "execution_count": null,
      "outputs": []
    },
    {
      "cell_type": "code",
      "source": [
        "# @title 🔒️解答例(どうしても問題を解けない場合に見てください)\n",
        "%%writefile practice_02b.cpp\n",
        "#include <iostream>\n",
        "using namespace std;\n",
        "\n",
        "int main() {\n",
        "\n",
        "  int a;\n",
        "  cin >> a;\n",
        "\n",
        "  if (a == 0) {\n",
        "    int a = 8;\n",
        "    cout << a - 3 << endl;\n",
        "  } else {\n",
        "    int a = 5;\n",
        "    cout << a - 7 << endl;\n",
        "  }\n",
        "\n",
        "  // この下の２つの？記号を、数値で置き換える\n",
        "  cout << \"aが0のとき\" << 5 << \"、aが0以外のとき\" << -2 << \"が出力される\" << endl;\n",
        "}"
      ],
      "metadata": {
        "cellView": "form",
        "id": "GzECwZhJdqTW"
      },
      "execution_count": null,
      "outputs": []
    },
    {
      "cell_type": "markdown",
      "source": [
        "### ❓️問題８ ネストされたブロック\n",
        "\n",
        "スコープが重複する場合の動作を確認するためのプログラムがあります。<br>\n",
        "プログラム中の２つの？記号を数値に置き換えて、プログラムの実際の動作と一致する説明文が出力されるようにしなさい。\n"
      ],
      "metadata": {
        "id": "ql1RiGBfH5lM"
      }
    },
    {
      "cell_type": "code",
      "source": [
        "%%writefile practice_02c.cpp\n",
        "#include <iostream>\n",
        "using namespace std;\n",
        "\n",
        "int main() {\n",
        "\n",
        "  int a;\n",
        "  cin >> a;\n",
        "\n",
        "  if (a == 0) {\n",
        "\n",
        "    int a = 8;\n",
        "\n",
        "    if (a != 0) {\n",
        "      int a = 3;\n",
        "      cout << a;\n",
        "    }\n",
        "\n",
        "    cout << a - 3;\n",
        "\n",
        "  } else {\n",
        "\n",
        "    int a = 5;\n",
        "\n",
        "    if (a != 0) {\n",
        "      cout << a - 7;\n",
        "      int a = 9;\n",
        "      cout << a - 8;\n",
        "    }\n",
        "\n",
        "    cout << a - 5;\n",
        "\n",
        "  }\n",
        "\n",
        "  cout << endl;\n",
        "\n",
        "  // この下の２つの？記号を、数値で置き換える\n",
        "  cout << \"aが0のとき\" << ？ << \"、aが0以外のとき\" << ？ << \"が出力される\" << endl;\n",
        "}"
      ],
      "metadata": {
        "id": "WUPETEc1H5lN"
      },
      "execution_count": null,
      "outputs": []
    },
    {
      "cell_type": "code",
      "source": [
        "# @title 動作テスト\n",
        "!g++ -std=c++20 -O2 -Wall -Wextra -o practice_02c practice_02c.cpp && echo \"この下の点滅をクリックして、数値を入力\" && ./practice_02c"
      ],
      "metadata": {
        "cellView": "form",
        "id": "8-TaXhnKH5lN"
      },
      "execution_count": null,
      "outputs": []
    },
    {
      "cell_type": "code",
      "source": [
        "# @title 実行\n",
        "!diff <(echo -e \"35\\naが0のとき35、aが0以外のとき-210が出力される\\n-210\\naが0のとき35、aが0以外のとき-210が出力される\") <(g++ -std=c++20 -O2 -Wall -Wextra -o practice_02c practice_02c.cpp && echo \"0\" | ./practice_02c && echo \"1\" | ./practice_02c) >nil  && test $? -eq 0 && echo -e \"\\033[32;1mAC\" || echo -e \"\\033[31;1mWA\""
      ],
      "metadata": {
        "cellView": "form",
        "id": "8cIZ3rBuH5lN"
      },
      "execution_count": null,
      "outputs": []
    },
    {
      "cell_type": "code",
      "source": [
        "# @title 🔒️解答例(どうしても問題を解けない場合に見てください)\n",
        "%%writefile practice_02c.cpp\n",
        "#include <iostream>\n",
        "using namespace std;\n",
        "\n",
        "int main() {\n",
        "\n",
        "  int a;\n",
        "  cin >> a;\n",
        "\n",
        "  if (a == 0) {\n",
        "\n",
        "    int a = 8;\n",
        "\n",
        "    if (a != 0) {\n",
        "      int a = 3;\n",
        "      cout << a;\n",
        "    }\n",
        "\n",
        "    cout << a - 3;\n",
        "\n",
        "  } else {\n",
        "\n",
        "    int a = 5;\n",
        "\n",
        "    if (a != 0) {\n",
        "      cout << a - 7;\n",
        "      int a = 9;\n",
        "      cout << a - 8;\n",
        "    }\n",
        "\n",
        "    cout << a - 5;\n",
        "\n",
        "  }\n",
        "\n",
        "  cout << endl;\n",
        "\n",
        "  // この下の２つの？記号を、数値で置き換える\n",
        "  cout << \"aが0のとき\" << 35 << \"、aが0以外のとき\" << -210 << \"が出力される\" << endl;\n",
        "}"
      ],
      "metadata": {
        "cellView": "form",
        "id": "9a3jdrWeH5lN"
      },
      "execution_count": null,
      "outputs": []
    },
    {
      "cell_type": "markdown",
      "source": [
        "### ❓️問題９ ハンバーガーセット\n",
        "\n",
        "ハンバーガーの価格を表示するプログラムを作りたいです。次の仕様にしたがって、プログラムを完成させなさい。\n",
        "\n",
        "**プログラムの仕様**\n",
        "\n",
        "* プログラムは単品またはセットのどちらかの価格情報を出力する\n",
        "* 最初の入力Aとして、単品なら`1`、セットなら`2`が入力される\n",
        "* 単品の場合、価格Bが入力されるので、文字列`\"単品\"`、変数B、文字列`\"円\"`、改行の順で出力する\n",
        "* セットの場合、セット名Bと価格Cが入力されるので、変数B、変数C、文字列`\"円\"`、改行の順で出力する\n",
        "\n",
        "<br><details><summary>🗝️(クリックでヒントを見る)</summary>\n",
        "\n",
        "**プログラム例**\n",
        "\n",
        "1. 情報の種類をあらわす`int`型変数`a`を宣言する\n",
        "2. 標準入力`cin`から、変数`a`に、情報の種類を読み込む\n",
        "3. if文を使って、`a == 1`の場合に以下の処理を行う\n",
        "   1. 価格をあらわす`int`型の変数`b`を宣言する\n",
        "   2. 標準入力`cin`から、変数`b`に、価格を読み込む\n",
        "   3. 標準出力`cout`に、文字列`\"単品\"`、変数`b`、文字列`\"円\"`をこの順で出力し、改行する\n",
        "4. else句を使って、`a == 1`でない場合の処理を行う\n",
        "   1. セット名をあらわす`string`型の変数`b`を宣言する\n",
        "   2. 価格をあらわす`int`型の変数`c`を宣言する\n",
        "   3. 標準入力`cin`から、変数`b`と`c`に、セット名と価格を読み込む\n",
        "   4. 標準出力`cout`に、変数`b`、変数`c`、文字列`\"円\"`をこの順で出力し、改行する\n",
        "\n",
        "</details><br>\n",
        "\n",
        "**入力データ例（１）**\n",
        "\n",
        "```txt\n",
        "2 しあわせセット 510\n",
        "```\n",
        "\n",
        "**出力例（１）**\n",
        "\n",
        "```txt\n",
        "しあわせセット510円\n",
        "```\n",
        "\n",
        "**入力データ例（２）**\n",
        "\n",
        "```txt\n",
        "1 220\n",
        "```\n",
        "\n",
        "**出力例（２）**\n",
        "\n",
        "```txt\n",
        "単品220円\n",
        "```\n"
      ],
      "metadata": {
        "id": "dX3jmLM5kqHz"
      }
    },
    {
      "cell_type": "code",
      "source": [
        "%%writefile practice_03a.cpp\n",
        "#include <iostream>\n",
        "#include <string>\n",
        "using namespace std;\n",
        "\n",
        "int main() {\n",
        "  // この下に、商品名と価格を出力するプログラムを書く\n",
        "\n",
        "}"
      ],
      "metadata": {
        "id": "n8fvFdtUkqH0"
      },
      "execution_count": null,
      "outputs": []
    },
    {
      "cell_type": "code",
      "source": [
        "# @title 動作テスト\n",
        "!g++ -std=c++20 -O2 -Wall -Wextra -o practice_03a practice_03a.cpp && echo \"この下をクリックして、データを入力する\" && ./practice_03a"
      ],
      "metadata": {
        "cellView": "form",
        "id": "KKFtEZE0kqH0"
      },
      "execution_count": null,
      "outputs": []
    },
    {
      "cell_type": "code",
      "source": [
        "# @title 実行\n",
        "!diff <(echo -e \"単品190円\\nしあわせチーズセット540円\") <(g++ -std=c++20 -O2 -Wall -Wextra -o practice_03a practice_03a.cpp && echo \"1 190\" | ./practice_03a && echo \"2 しあわせチーズセット 540\" | ./practice_03a) >nil && test $? -eq 0 && echo -e \"\\033[32;1mAC\" || echo -e \"\\033[31;1mWA\""
      ],
      "metadata": {
        "cellView": "form",
        "id": "2sGY0EQBkqH0"
      },
      "execution_count": null,
      "outputs": []
    },
    {
      "cell_type": "code",
      "source": [
        "# @title 🔒️解答例(どうしても問題を解けない場合に見てください)\n",
        "%%writefile practice_03a.cpp\n",
        "#include <iostream>\n",
        "#include <string>\n",
        "using namespace std;\n",
        "\n",
        "int main() {\n",
        "  // この下に、商品名と価格を出力するプログラムを書く\n",
        "  int a;\n",
        "  cin >> a;\n",
        "\n",
        "  if (a == 1) {\n",
        "    int b;\n",
        "    cin >> b;\n",
        "    cout << \"単品\" << b << \"円\" << endl;\n",
        "  } else {\n",
        "    string b;\n",
        "    int c;\n",
        "    cin >> b >> c;\n",
        "    cout << b << c << \"円\" << endl;\n",
        "  }\n",
        "}"
      ],
      "metadata": {
        "cellView": "form",
        "id": "S6HchdyGkqH0"
      },
      "execution_count": null,
      "outputs": []
    },
    {
      "cell_type": "markdown",
      "source": [
        "### ❓️問題１０ データ型\n",
        "\n",
        "データ型と数値をを読み込み、型に合わせた出力を行うプログラムを作成しなさい。\n",
        "\n",
        "**プログラムの仕様**\n",
        "\n",
        "* データ型Aは文字列`int`, 文字列`double`, 文字列`string`のいずれかで入力される\n",
        "* Aが`int`の場合、データを`int`型で読み込み、`int`型で出力する\n",
        "* Aが`double`の場合、データを`double`型で読み込み、`double`型で出力する\n",
        "* Aが`string`の場合、データを`string`型で読み込み、`string`型で出力する\n",
        "\n",
        "<br><details><summary>🗝️(クリックでヒントを見る)</summary>\n",
        "\n",
        "**プログラム例**\n",
        "\n",
        "1. データ型をあらわす`string`型の変数`a`を宣言する\n",
        "2. 標準入力`cin`から、変数`a`に、データ型を読み込む\n",
        "3. if文を使って、`a == \"int\"`の場合に以下の処理を行う\n",
        "   1. `int`型の変数`b`を宣言する\n",
        "   2. 標準入力`cin`から、変数`b`に、データを読み込む\n",
        "   3. 標準出力`cout`に変数`b`を出力し、改行する\n",
        "4. else if文を使って、`a == \"double\"`の場合に以下の処理を行う\n",
        "   1. `double`型の変数`b`を宣言する\n",
        "   2. 標準入力`cin`から、変数`b`に、データを読み込む\n",
        "   3. 標準出力`cout`に変数`b`を出力し、改行する\n",
        "5. else if文を使って、`a == \"string\"`の場合に以下の処理を行う\n",
        "   1. `string`型の変数`b`を宣言する\n",
        "   2. 標準入力`cin`から、変数`b`に、データを読み込む\n",
        "   3. 標準出力`cout`に変数`b`を出力し、改行する\n",
        "\n",
        "</details><br>\n",
        "\n",
        "**入力データ例（１）**\n",
        "\n",
        "```txt\n",
        "int 3.14159265\n",
        "```\n",
        "\n",
        "**出力例（１）**\n",
        "\n",
        "```txt\n",
        "3\n",
        "```\n",
        "\n",
        "**入力データ例（２）**\n",
        "\n",
        "```txt\n",
        "double 3.14159265\n",
        "```\n",
        "\n",
        "**出力例（２）**\n",
        "\n",
        "```txt\n",
        "3.14159\n",
        "```\n",
        "\n",
        "**入力データ例（３）**\n",
        "\n",
        "```txt\n",
        "string 3.14159265\n",
        "```\n",
        "\n",
        "**出力例（３）**\n",
        "\n",
        "```txt\n",
        "3.14159265\n",
        "```\n"
      ],
      "metadata": {
        "id": "5y_7r2JF_aSP"
      }
    },
    {
      "cell_type": "code",
      "source": [
        "%%writefile practice_03b.cpp\n",
        "#include <iostream>\n",
        "#include <string>\n",
        "using namespace std;\n",
        "\n",
        "int main() {\n",
        "  // この下に、仕様を満たすプログラムを書く\n",
        "\n",
        "}"
      ],
      "metadata": {
        "id": "yYF0-n3Z_aSQ"
      },
      "execution_count": null,
      "outputs": []
    },
    {
      "cell_type": "code",
      "source": [
        "# @title 動作テスト\n",
        "!g++ -std=c++20 -O2 -Wall -Wextra -o practice_03b practice_03b.cpp && echo \"この下をクリックして、データ型とデータを入力する\" && ./practice_03b"
      ],
      "metadata": {
        "cellView": "form",
        "id": "IPhZwBCg_aSQ"
      },
      "execution_count": null,
      "outputs": []
    },
    {
      "cell_type": "code",
      "source": [
        "# @title 実行\n",
        "!diff <(echo -e \"3\\n3.14159\\n3.14159265\") <(g++ -std=c++20 -O2 -Wall -Wextra -o practice_03b practice_03b.cpp && echo \"int 3.14159265\" | ./practice_03b && echo \"double 3.14159265\" | ./practice_03b && echo \"string 3.14159265\" | ./practice_03b) >nil && test $? -eq 0 && echo -e \"\\033[32;1mAC\" || echo -e \"\\033[31;1mWA\""
      ],
      "metadata": {
        "cellView": "form",
        "id": "c9WqBOFU_aSQ"
      },
      "execution_count": null,
      "outputs": []
    },
    {
      "cell_type": "code",
      "source": [
        "# @title 🔒️解答例(どうしても問題を解けない場合に見てください)\n",
        "%%writefile practice_03b.cpp\n",
        "#include <iostream>\n",
        "#include <string>\n",
        "using namespace std;\n",
        "\n",
        "int main() {\n",
        "  // この下に、仕様を満たすプログラムを書く\n",
        "  string a;\n",
        "  cin >> a;\n",
        "\n",
        "  if (a == \"int\") {\n",
        "    int b;\n",
        "    cin >> b;\n",
        "    cout << b << endl;\n",
        "  }\n",
        "  else if (a == \"double\") {\n",
        "    double b;\n",
        "    cin >> b;\n",
        "    cout << b << endl;\n",
        "  }\n",
        "  else if (a == \"string\") {\n",
        "    string b;\n",
        "    cin >> b;\n",
        "    cout << b << endl;\n",
        "  }\n",
        "}"
      ],
      "metadata": {
        "cellView": "form",
        "id": "CRrzV07V_aSQ"
      },
      "execution_count": null,
      "outputs": []
    },
    {
      "cell_type": "markdown",
      "source": [
        "### ❓️問題１１ ３と５の倍数のときだけ\n",
        "\n",
        "数値がひとつ入力されます。<br>\n",
        "以下のルールに従って、標準出力に結果を出力するプログラムを作成しなさい。\n",
        "\n",
        "* 数値が「3の倍数(3で割ったあまりが0)」の場合は`Three`と出力する\n",
        "* 数値が「5の倍数」の場合は`Five`と出力する\n",
        "* 数値が「3の倍数でもあり、5の倍数でもある」場合は`ThreeFive`と出力する\n",
        "* 上記以外の場合は、数値をそのまま出力する\n",
        "\n",
        "<br><details><summary>🗝️(クリックでヒントを見る)</summary>\n",
        "\n",
        "**プログラム例**\n",
        "\n",
        "1. 数値をあらわす変数`n`を宣言する\n",
        "2. `cin`と`>>`記号を使って、変数`n`に数値を読み取る\n",
        "3. `if`文を使って、数値が15で割り切れる場合は`ThreeFive`と出力し、改行する\n",
        "4. `else if`文を使って、数値が5で割り切れる場合は`Five`と出力し、改行する\n",
        "5. `else if`文を使って、数値が3で割り切れる場合は`Three`と出力し、改行する\n",
        "6. `else`句を使って、数値を出力し、改行する\n",
        "\n",
        "</details><br>\n",
        "\n",
        "**入力データ例（１）**\n",
        "\n",
        "```txt\n",
        "57\n",
        "```\n",
        "\n",
        "**出力例（１）**\n",
        "\n",
        "```txt\n",
        "Three\n",
        "```\n",
        "\n",
        "**入力データ例（２）**\n",
        "\n",
        "```txt\n",
        "20\n",
        "```\n",
        "\n",
        "**出力例（２）**\n",
        "\n",
        "```txt\n",
        "Five\n",
        "```\n",
        "\n",
        "**入力データ例（３）**\n",
        "\n",
        "```txt\n",
        "15\n",
        "```\n",
        "\n",
        "**出力例（３）**\n",
        "\n",
        "```txt\n",
        "ThreeFive\n",
        "```\n",
        "\n",
        "**入力データ例（４）**\n",
        "\n",
        "```txt\n",
        "7\n",
        "```\n",
        "\n",
        "**出力例（４）**\n",
        "\n",
        "```txt\n",
        "7\n",
        "```\n"
      ],
      "metadata": {
        "id": "zwfrzmJJ42z-"
      }
    },
    {
      "cell_type": "code",
      "source": [
        "%%writefile practice_03c.cpp\n",
        "#include <iostream>\n",
        "using namespace std;\n",
        "\n",
        "int main() {\n",
        "  // この下に、ルールに従って結果を出力するプログラムを書く\n",
        "\n",
        "}"
      ],
      "metadata": {
        "id": "TeTqut8c42z-"
      },
      "execution_count": null,
      "outputs": []
    },
    {
      "cell_type": "code",
      "source": [
        "# @title 動作テスト\n",
        "!g++ -std=c++20 -O2 -Wall -Wextra -o practice_03c practice_03c.cpp && echo \"この下をクリックして数値を入力:\" && ./practice_03c"
      ],
      "metadata": {
        "cellView": "form",
        "id": "8oyyDNht42z-"
      },
      "execution_count": null,
      "outputs": []
    },
    {
      "cell_type": "code",
      "source": [
        "# @title 実行\n",
        "!diff -Z <(echo -e \"Three\\nFive\\nThreeFive\\n22\") <(g++ -std=c++20 -O2 -Wall -Wextra -o practice_03c practice_03c.cpp && echo 57 | ./practice_03c && echo 20 | ./practice_03c && echo 30 | ./practice_03c && echo 22 | ./practice_03c) >nil && test $? -eq 0 && echo -e \"\\033[32;1mAC\" || echo -e \"\\033[31;1mWA\""
      ],
      "metadata": {
        "cellView": "form",
        "id": "UoHK3T5q42z-"
      },
      "execution_count": null,
      "outputs": []
    },
    {
      "cell_type": "code",
      "source": [
        "# @title 🔒解答例(どうしても問題を解けない場合に見てください)\n",
        "%%writefile practice_03c.cpp\n",
        "#include <iostream>\n",
        "using namespace std;\n",
        "\n",
        "int main() {\n",
        "  // この下に、ルールに従って結果を出力するプログラムを書く\n",
        "  int n;\n",
        "  cin >> n;\n",
        "\n",
        "  // 条件が厳しいものを先に書く\n",
        "  // else ifで他の条件を判定させないことも重要\n",
        "  if (n % 3 == 0 && n % 5 == 0) { // ここは n % 15 == 0 でもよい\n",
        "    cout << \"ThreeFive\" << endl;\n",
        "  } else if (n % 5 == 0) {\n",
        "    cout << \"Five\" << endl;\n",
        "  } else if (n % 3 == 0) {\n",
        "    cout << \"Three\" << endl;\n",
        "  } else {\n",
        "    cout << n << endl;\n",
        "  }\n",
        "}"
      ],
      "metadata": {
        "id": "uREHpx_61gVd",
        "cellView": "form"
      },
      "execution_count": null,
      "outputs": []
    },
    {
      "cell_type": "markdown",
      "source": [
        "### ❓️問題１２ ブラックジャック\n",
        "\n",
        "ブラックジャックをプレイするプログラムを作成したいです。<br>\n",
        "以下の仕様にしたがって、ブラックジャックのプログラムを完成させなさい。\n",
        "\n",
        "**プログラムの仕様**\n",
        "\n",
        "1. プレイヤーの手札の合計値Aと、ディーラーの手札の合計値Bが与えられる\n",
        "2. プレイヤーの合計値が、ディーラーの合計値以下なら、新しいカードの数値を読み込み、プレイヤーの合計値に加算する\n",
        "3. まだプレイヤーの合計値がディーラーの合計値以下なら、もう一枚のカードの数値を読み込み、プレイヤーの合計値に加算する。\n",
        "4. ここまでにディーラーの合計値を越えられなかった場合、`Lose`を出力する\n",
        "5. 合計値が21を超えた場合も、`Lose`を出力する\n",
        "6. プレイヤーの合計値が21以下で、ディーラーの合計値より大きい場合、`Win`を出力する\n",
        "\n",
        "<br><details><summary>🗝️(クリックでヒントを見る)</summary>\n",
        "\n",
        "**プログラム例**\n",
        "\n",
        "1. プレイヤーの合計値と、ディーラーの合計値をあらわす`int`型の変数`a`, `b`を宣言する\n",
        "2. 標準入力`cin`から、変数`a`, `b`に、プレイヤーの合計値とディーラーの合計値を読み込む\n",
        "3. if文を使って、`a <= b`の場合に以下の処理を行う\n",
        "   1. `int`型の変数`c`を宣言する\n",
        "   2. 標準入力`cin`から、変数`c`に、カードの数値を読み込む\n",
        "   3. `a`に`c`を足す\n",
        "   4. if文を使って、`a <= b`の場合に以下の処理を行う\n",
        "      1. `int`型の変数`d`を宣言する\n",
        "      2. 標準入力`cin`から、変数`d`に、カードの数値を読み込む\n",
        "      3. `a`に`d`を足す\n",
        "4. if文を使って、`a <= 21`かつ`a > b`なら、標準出力`cout`に文字列`Win`と改行を出力する\n",
        "5. else句を使って、標準出力`cout`に文字列`Lose`と改行を出力する\n",
        "\n",
        "</details><br>\n",
        "\n",
        "**入力データ例（１）**\n",
        "\n",
        "```txt\n",
        "9 18 7 3\n",
        "```\n",
        "\n",
        "**出力例（１）**\n",
        "\n",
        "```txt\n",
        "Win\n",
        "```\n",
        "\n",
        "**入力データ例（２）**\n",
        "\n",
        "```txt\n",
        "6 20 4 5\n",
        "```\n",
        "\n",
        "**出力例（２）**\n",
        "\n",
        "```txt\n",
        "Lose\n",
        "```\n",
        "\n",
        "**入力データ例（３）**\n",
        "\n",
        "```txt\n",
        "11 19 8 7\n",
        "```\n",
        "\n",
        "**出力例（３）**\n",
        "\n",
        "```txt\n",
        "Lose\n",
        "```\n"
      ],
      "metadata": {
        "id": "wGvwxi2_voUm"
      }
    },
    {
      "cell_type": "code",
      "source": [
        "%%writefile practice_03d.cpp\n",
        "#include <iostream>\n",
        "#include <string>\n",
        "using namespace std;\n",
        "\n",
        "int main() {\n",
        "  // この下に、ブラックジャックを行うプログラムを書く\n",
        "\n",
        "}"
      ],
      "metadata": {
        "id": "QY9iv8KJvoUn"
      },
      "execution_count": null,
      "outputs": []
    },
    {
      "cell_type": "code",
      "source": [
        "# @title 動作テスト\n",
        "!g++ -std=c++20 -O2 -Wall -Wextra -o practice_03d practice_03d.cpp && echo \"この下をクリックして、2つの合計値と2枚の追加カードの数値を入力する\" && ./practice_03d"
      ],
      "metadata": {
        "cellView": "form",
        "id": "wNAalSyIvoUn"
      },
      "execution_count": null,
      "outputs": []
    },
    {
      "cell_type": "code",
      "source": [
        "# @title 実行\n",
        "!diff <(echo -e \"Win\\nLose\\nLose\\nWin\") <(g++ -std=c++20 -O2 -Wall -Wextra -o practice_03d practice_03d.cpp && echo \"9 18 7 3\" | ./practice_03d && echo \"11 19 8 7\" | ./practice_03d && echo \"6 20 4 5\" | ./practice_03d && echo \"6 17 8 5\" | ./practice_03d) >nil && test $? -eq 0 && echo -e \"\\033[32;1mAC\" || echo -e \"\\033[31;1mWA\""
      ],
      "metadata": {
        "cellView": "form",
        "id": "ggAcdUGDvoUn"
      },
      "execution_count": null,
      "outputs": []
    },
    {
      "cell_type": "code",
      "source": [
        "# @title 🔒️解答例(どうしても問題を解けない場合に見てください)\n",
        "%%writefile practice_03d.cpp\n",
        "#include <iostream>\n",
        "using namespace std;\n",
        "\n",
        "int main() {\n",
        "  // この下に、ブラックジャックを行うプログラムを書く\n",
        "  int a, b;\n",
        "  cin >> a >> b;\n",
        "\n",
        "  if (a <= b) {\n",
        "    int c;\n",
        "    cin >> c;\n",
        "    a += c;\n",
        "\n",
        "    if (a <= b) {\n",
        "      int d;\n",
        "      cin >> d;\n",
        "      a += d;\n",
        "    }\n",
        "  }\n",
        "\n",
        "  if (a <= 21 && a > b) {\n",
        "    cout << \"Win\" << endl;\n",
        "  } else {\n",
        "    cout << \"Lose\" << endl;\n",
        "  }\n",
        "}"
      ],
      "metadata": {
        "cellView": "form",
        "id": "aEVLk8XgvoUn"
      },
      "execution_count": null,
      "outputs": []
    },
    {
      "cell_type": "markdown",
      "source": [
        "### ❓️問題１３ 二本の棒\n",
        "\n",
        "左方向がマイナス、右方向がプラスの数直線上、に２本の棒が置かれています。<br>\n",
        "棒１の左端は座標Acm、右端は座標Bcmにあります。棒２の左端は座標Ccm、右端は座標Dcmにあります。\n",
        "\n",
        "棒１を右下左に最小の距離だけ動かして、棒２と重ならないようにしたいです。<br>\n",
        "棒１を何cm動かせばいいかを出力するプログラムを作成しなさい。ただし、最初から重なっていない場合は`0`を出力しなさい。\n",
        "\n",
        "<br><details><summary>🗝️(クリックでヒントを見る)</summary>\n",
        "\n",
        "**プログラム例**\n",
        "\n",
        "1. 棒１と棒２の座標をあらわす`int`型の変数`a`, `b`, `c`, `d`を宣言する\n",
        "2. 標準入力`cin`から、変数`a`, `b`に、棒１の左端と右端の座標を読み込む\n",
        "3. 標準入力`cin`から、変数`c`, `d`に、棒２の左端と右端の座標を読み込む\n",
        "4. 棒１が棒２の左側で重なっている距離をあらわす`int`型の変数`s`を宣言し、`b - c`で初期化する\n",
        "5. 棒１が棒２の右側で重なっている距離をあらわす`int`型の変数`t`を宣言し、`d - a`で初期化する\n",
        "6. if文を使って、`s`または`t`が0以下の場合は標準出力`cout`に`0`を出力し、改行する\n",
        "7. else if文を使って、`s`が`t`未満の場合は標準出力`cout`に`-s`を出力し、改行する\n",
        "8. else句を使って、標準出力`cout`に`t`を出力し、改行する\n",
        "\n",
        "</details><br>\n",
        "\n",
        "**入力データ例（１）**\n",
        "\n",
        "```txt\n",
        "3 10 8 15\n",
        "```\n",
        "\n",
        "**出力例（１）**\n",
        "\n",
        "```txt\n",
        "-2\n",
        "```\n",
        "\n",
        "**入力データ例（２）**\n",
        "\n",
        "```txt\n",
        "6 11 3 10\n",
        "```\n",
        "\n",
        "**出力例（２）**\n",
        "\n",
        "```txt\n",
        "4\n",
        "```\n",
        "\n",
        "**入力データ例（３）**\n",
        "\n",
        "```txt\n",
        "10 12 6 9\n",
        "```\n",
        "\n",
        "**出力例（３）**\n",
        "\n",
        "```txt\n",
        "0\n",
        "```\n"
      ],
      "metadata": {
        "id": "UIoDenYUXh6S"
      }
    },
    {
      "cell_type": "code",
      "source": [
        "%%writefile practice_04a.cpp\n",
        "#include <iostream>\n",
        "using namespace std;\n",
        "\n",
        "int main() {\n",
        "  // この下に、棒を動かす距離を計算するプログラムを書く\n",
        "\n",
        "}"
      ],
      "metadata": {
        "id": "Jdg1S8ISXh6S"
      },
      "execution_count": null,
      "outputs": []
    },
    {
      "cell_type": "code",
      "source": [
        "# @title 動作テスト\n",
        "!g++ -std=c++20 -O2 -Wall -Wextra -o practice_04a practice_04a.cpp && echo \"この下をクリックして、棒１の左端座標と右端座標、棒２の左端座標と右端座標を入力\" && ./practice_04a"
      ],
      "metadata": {
        "id": "k-Ovmey-Xh6S",
        "cellView": "form"
      },
      "execution_count": null,
      "outputs": []
    },
    {
      "cell_type": "code",
      "source": [
        "# @title 実行\n",
        "!diff <(echo -e \"-2\\n4\\n0\\n0\") <(g++ -std=c++20 -O2 -Wall -Wextra -o practice_04a practice_04a.cpp && echo \"3 10 8 15\" | ./practice_04a && echo \"6 11 3 10\" | ./practice_04a && echo \"11 14 7 11\" | ./practice_04a && echo \"1 5 5 9\" | ./practice_04a) >nil && test $? -eq 0 && echo -e \"\\033[32;1mAC\" || echo -e \"\\033[31;1mWA\""
      ],
      "metadata": {
        "id": "gJLfPm0bXh6S",
        "cellView": "form"
      },
      "execution_count": null,
      "outputs": []
    },
    {
      "cell_type": "code",
      "source": [
        "# @title 🔒️解答例(どうしても問題を解けない場合に見てください)\n",
        "%%writefile practice_04a.cpp\n",
        "#include <iostream>\n",
        "using namespace std;\n",
        "\n",
        "int main() {\n",
        "  // この下に、棒を動かす距離を計算するプログラムを書く\n",
        "  int a, b, c, d;\n",
        "  cin >> a >> b >> c >> d;\n",
        "\n",
        "  int s = b - c;\n",
        "  int t = d - a;\n",
        "\n",
        "  if (s <= 0 || t <= 0) {\n",
        "    cout << 0 << endl;\n",
        "  }\n",
        "  else if (s < t) {\n",
        "    cout << -s << endl;\n",
        "  }\n",
        "  else {\n",
        "    cout << t << endl;\n",
        "  }\n",
        "}"
      ],
      "metadata": {
        "id": "m5Ud65tVXh6S",
        "cellView": "form"
      },
      "execution_count": null,
      "outputs": []
    },
    {
      "cell_type": "markdown",
      "source": [
        "### ❓️問題１４ 朝のおかず\n",
        "\n",
        "モーニングさんは、気分が`0`のときはベーコンエッグ、`1`のときはハムエッグを作ります。<br>\n",
        "しかし、食材が足りない場合は他方の料理を作ります。どちらも作れない場合はおかずなしで我慢します。\n",
        "\n",
        "* ベーコンエッグを作るには、卵2個とベーコン1枚が必要です。\n",
        "* ハムエッグを作るには、卵2個とハム1枚が必要です。\n",
        "\n",
        "今日の気分Mと、卵の数A、ベーコンの枚数B、ハムの枚数Cが入力されます。\n",
        "\n",
        "今日のメニューがベーコンエッグなら`bacon and eggs`、ハムエッグなら`ham and eggs`と出力するプログラムを作成しなさい。<br>\n",
        "どちらも作れない場合は`no side dishes`と出力しなさい。\n",
        "\n",
        ">`side dish`(サイド・ディッシュ)は「おかず」という意味。\n",
        "\n",
        "<br><details><summary>🗝️(クリックでヒントを見る)</summary>\n",
        "\n",
        "**プログラム例**\n",
        "\n",
        "1. 気分をあらわす`int`型の変数`m`を宣言する\n",
        "2. 標準入力`cin`から、変数`m`に気分を読み込む\n",
        "3. 卵、ベーコン、ハムの数をあらわす変数`eggs`, `bacons`, `hams`を宣言する\n",
        "4. 標準入力`cin`から、変数`eggs`, `bacons`, `hams`に、卵、ベーコン、ハムの数を読み込む\n",
        "5. if文を使って、`m`が`0`の場合に以下の処理を行う\n",
        "   1. if文を使って、`eggs`が2以上、`bacons`が1以上の場合、標準出力`cout`に文字列`bacon and eggs`を出力し、改行する\n",
        "   2. else if文を使って、`eggs`が2以上、`hams`が1以上の場合、標準出力`cout`に文字列`ham and eggs`を出力し、改行する\n",
        "   3. else句を使って、標準出力`cout`に文字列`no side dishes`を出力し、改行する\n",
        "5. else句を使って、以下の処理を行う\n",
        "   1. if文を使って、`eggs`が2以上、`hams`が1以上の場合、標準出力`cout`に文字列`ham and eggs`を出力し、改行する\n",
        "   2. else if文を使って、`eggs`が2以上、`bacons`が1以上の場合、標準出力`cout`に文字列`bacon and eggs`を出力し、改行する\n",
        "   3. else句を使って、標準出力`cout`に文字列`no side dishes`を出力し、改行する\n",
        "\n",
        "</details><br>\n",
        "\n",
        "**入力データ例（１）**\n",
        "\n",
        "```txt\n",
        "0 3 2 1\n",
        "```\n",
        "\n",
        "**出力例（１）**\n",
        "\n",
        "```txt\n",
        "bacon and eggs\n",
        "```\n",
        "\n",
        "**入力データ例（２）**\n",
        "\n",
        "```txt\n",
        "0 3 0 2\n",
        "```\n",
        "\n",
        "**出力例（２）**\n",
        "\n",
        "```txt\n",
        "ham and eggs\n",
        "```\n",
        "\n",
        "**入力データ例（３）**\n",
        "\n",
        "```txt\n",
        "1 1 2 3\n",
        "```\n",
        "\n",
        "**出力例（３）**\n",
        "\n",
        "```txt\n",
        "no side dishs\n",
        "```\n"
      ],
      "metadata": {
        "id": "5UmwMinbdYX1"
      }
    },
    {
      "cell_type": "code",
      "source": [
        "%%writefile practice_04b.cpp\n",
        "#include <iostream>\n",
        "using namespace std;\n",
        "\n",
        "int main() {\n",
        "  // この下に、今日のメニューを出力するプログラムを書く\n",
        "\n",
        "}"
      ],
      "metadata": {
        "id": "jhAs8FlhdYX2"
      },
      "execution_count": null,
      "outputs": []
    },
    {
      "cell_type": "code",
      "source": [
        "# @title 動作テスト\n",
        "!g++ -std=c++20 -O2 -Wall -Wextra -o practice_04b practice_04b.cpp && echo \"この下をクリックして、気分、卵の数、ベーコンの数、ハムの数を入力する\" && ./practice_04b"
      ],
      "metadata": {
        "id": "f9lrrn63dYX3",
        "cellView": "form"
      },
      "execution_count": null,
      "outputs": []
    },
    {
      "cell_type": "code",
      "source": [
        "# @title 実行\n",
        "!diff <(echo -e \"bacon and eggs\\nham and eggs\\nbacon and eggs\\nham and eggs\\nno side dishes\\nno side dishes\") <(g++ -std=c++20 -O2 -Wall -Wextra -o practice_04b practice_04b.cpp && echo \"0 2 1 0\" | ./practice_04b && echo \"1 2 0 1\" | ./practice_04b && echo \"1 2 1 0\" | ./practice_04b && echo \"0 2 0 1\" | ./practice_04b && echo \"0 2 0 0\" | ./practice_04b && echo \"1 1 2 2\" | ./practice_04b) >nil && test $? -eq 0 && echo -e \"\\033[32;1mAC\" || echo -e \"\\033[31;1mWA\""
      ],
      "metadata": {
        "id": "aJe6Oj0HdYX3",
        "cellView": "form"
      },
      "execution_count": null,
      "outputs": []
    },
    {
      "cell_type": "code",
      "source": [
        "# @title 🔒️解答例(どうしても問題を解けない場合に見てください)\n",
        "%%writefile practice_04b.cpp\n",
        "#include <iostream>\n",
        "using namespace std;\n",
        "\n",
        "int main() {\n",
        "  // この下に、今日のメニューを出力するプログラムを書く\n",
        "  int m, eggs, bacons, hams;\n",
        "  cin >> m >> eggs >> bacons >> hams;\n",
        "\n",
        "  if (m == 0) {\n",
        "    if (eggs >= 2 && bacons >= 1) {\n",
        "      cout << \"bacon and eggs\" << endl;\n",
        "    }\n",
        "    else if (eggs >= 2 && hams >= 1) {\n",
        "      cout << \"ham and eggs\" << endl;\n",
        "    }\n",
        "    else {\n",
        "      cout << \"no side dishes\" << endl;\n",
        "    }\n",
        "  }\n",
        "  else {\n",
        "    if (eggs >= 2 && hams >= 1) {\n",
        "      cout << \"ham and eggs\" << endl;\n",
        "    }\n",
        "    else if (eggs >= 2 && bacons >= 1) {\n",
        "      cout << \"bacon and eggs\" << endl;\n",
        "    }\n",
        "    else {\n",
        "      cout << \"no side dishes\" << endl;\n",
        "    }\n",
        "  }\n",
        "}"
      ],
      "metadata": {
        "id": "0eX27rppdYX3",
        "cellView": "form"
      },
      "execution_count": null,
      "outputs": []
    },
    {
      "cell_type": "markdown",
      "source": [
        "### ❓️問題１５ 一方通行の最短経路\n",
        "\n",
        "A, B, C, D, E, F, Gの7つの町があります。これらの町は、次の図のように一方通行の道路でつながっています。\n",
        "\n",
        "<img src=\"https://raw.githubusercontent.com/tn-mai/cpp2025/refs/heads/main/images/cpp2025_path_finding.png\" width=300px />\n",
        "\n",
        "それぞれの道路は、次の町に着くまでにかかる時間(所要時間)が決まっています。<br>\n",
        "例えば、A町からB町に行くには`ab`分かかります。F町からG町に行くには`fg`分かかります。\n",
        "\n",
        "`ab`, `ac`, `bd`, `be`, `cd`, `cf`, `de`, `df`, `eg`, `fg`の順で、各道路の所要時間が入力されます。<br>\n",
        "全体の所要時間が一番短くなる道順を通ったときに通過する町の名前を、Aから順番に出力するプログラムを作成しなさい。\n",
        "\n",
        ">ありうる全ての道順について、所要時間の合計を計算して比較するとよい。\n",
        "\n",
        "<br><details><summary>🗝️(クリックでヒントを見る)</summary>\n",
        "\n",
        "**プログラム例**\n",
        "\n",
        "1. 道の所要時間をあらわす10個の`int`型の変数`ab`, `ac`, `bd`, `be`, `cd`, `cf`, `de`, `df`, `eg`, `ef`を宣言する\n",
        "2. 標準入力`cin`から、10個の道の所要時間をあらわす変数に、10個の所要時間を読み込む\n",
        "3. 道順ABEGの所要時間をあらわす変数`a`を宣言し、`ab + be + eg`で初期化する\n",
        "4. 道順ABDEGの所要時間をあらわす変数`b`を宣言し、`ab + bd + de + eg`で初期化する\n",
        "5. 道順ABDFGの所要時間をあらわす変数`c`を宣言し、`ab + bd + df + fg`で初期化する\n",
        "6. 道順ACDEGの所要時間をあらわす変数`d`を宣言し、`ac + cd + eg`で初期化する\n",
        "7. 道順ACDFGの所要時間をあらわす変数`e`を宣言し、`ac + cd + fg`で初期化する\n",
        "8. 道順ACFGの所要時間をあらわす変数`f`を宣言し、`ac + cf + fg`で初期化する\n",
        "9. if文を使って、`a`から`f`のうち`a`が最小の場合に、文字列`ABEG`と改行を出力する\n",
        "10. else if文を使って、`a`から`f`のうち`b`が最小の場合に、文字列`ABDEG`と改行を出力する\n",
        "11. else if文を使って、`a`から`f`のうち`c`が最小の場合に、文字列`ABDFG`と改行を出力する\n",
        "12. else if文を使って、`a`から`f`のうち`d`が最小の場合に、文字列`ACDEG`と改行を出力する\n",
        "13. else if文を使って、`a`から`f`のうち`e`が最小の場合に、文字列`ACDFG`と改行を出力する\n",
        "14. else句を使って、文字列`ACFG`と改行を出力する\n",
        "\n",
        "</details><br>\n",
        "\n",
        "**入力データ例（１）**\n",
        "\n",
        "```txt\n",
        "10 20 80 23 8 60 30 18 7 12\n",
        "```\n",
        "\n",
        "**出力例（１）**\n",
        "\n",
        "```txt\n",
        "ABEG\n",
        "```\n",
        "\n",
        "**入力データ例（２）**\n",
        "\n",
        "```txt\n",
        "30 10 15 38 25 40 22 30 20 40\n",
        "```\n",
        "\n",
        "**出力例（２）**\n",
        "\n",
        "```txt\n",
        "ACDEG\n",
        "```\n",
        "\n",
        "**入力データ例（３）**\n",
        "\n",
        "```txt\n",
        "10 20 23 60 8 60 30 18 7 12\n",
        "```\n",
        "\n",
        "**出力例（３）**\n",
        "\n",
        "```txt\n",
        "ACDFG\n",
        "```\n"
      ],
      "metadata": {
        "id": "khdM_xARgwj_"
      }
    },
    {
      "cell_type": "code",
      "source": [
        "%%writefile practice_04c.cpp\n",
        "#include <iostream>\n",
        "using namespace std;\n",
        "\n",
        "int main() {\n",
        "  // この下に、最短経路を見つけて出力するプログラムを書く\n",
        "\n",
        "}"
      ],
      "metadata": {
        "id": "BjKn-7BlgwkA"
      },
      "execution_count": null,
      "outputs": []
    },
    {
      "cell_type": "code",
      "source": [
        "# @title 動作テスト\n",
        "!g++ -std=c++20 -O2 -Wall -Wextra -o practice_04c practice_04c.cpp && echo \"この下をクリックして、10本の道の所要時間を入力\" && ./practice_04c"
      ],
      "metadata": {
        "cellView": "form",
        "id": "Dx2FK0nkgwkA"
      },
      "execution_count": null,
      "outputs": []
    },
    {
      "cell_type": "code",
      "source": [
        "# @title 実行\n",
        "!diff <(echo -e \"ABEG\\nACDEG\\nACDFG\\nACFG\\nABDEG\\nABDFG\") <(g++ -std=c++20 -O2 -Wall -Wextra -o practice_04c practice_04c.cpp && echo \"10 20 15 23 8 30 40 18 7 12\" | ./practice_04c && echo \"30 10 15 38 25 40 22 30 20 40\" | ./practice_04c && echo \"10 20 23 60 8 60 30 18 7 12\" | ./practice_04c && echo \"10 9 8 7 6 5 4 3 2 1\" | ./practice_04c && echo \"5 10 8 40 10 30 10 20 5 8\" | ./practice_04c && echo \"10 15 20 50 30 60 20 10 10 10\" | ./practice_04c) >nil && test $? -eq 0 && echo -e \"\\033[32;1mAC\" || echo -e \"\\033[31;1mWA\""
      ],
      "metadata": {
        "cellView": "form",
        "id": "Pir_DmRXgwkA"
      },
      "execution_count": null,
      "outputs": []
    },
    {
      "cell_type": "code",
      "source": [
        "# @title 🔒️解答例(どうしても問題を解けない場合に見てください)\n",
        "%%writefile practice_04c.cpp\n",
        "#include <iostream>\n",
        "using namespace std;\n",
        "\n",
        "int main() {\n",
        "  // この下に、最短経路を見つけて出力するプログラムを書く\n",
        "\n",
        "  //   B-→E\n",
        "  //  ↗ ↘ ↗ ↘\n",
        "  // A   D   G\n",
        "  //  ↘ ↗ ↘ ↗\n",
        "  //   C-→F\n",
        "  //\n",
        "  // 上図で取りうる道順は以下の6種類\n",
        "  //\n",
        "  // ABEG\n",
        "  // ABDEG\n",
        "  // ABDFG\n",
        "  // ACDEG\n",
        "  // ACDFG\n",
        "  // ACFG\n",
        "  //\n",
        "  // これらすべての道順について所要時間を計算し、一番短い道順を出力する\n",
        "\n",
        "  int ab, ac, bd, be, cd, cf, de, df, eg, fg;\n",
        "  cin >> ab >> ac >> bd >> be >> cd >> cf >> de >> df >> eg >> fg;\n",
        "\n",
        "  int a = ab + be + eg;\n",
        "  int b = ab + bd + de + eg;\n",
        "  int c = ab + bd + df + fg;\n",
        "  int d = ac + cd + de + eg;\n",
        "  int e = ac + cd + df + fg;\n",
        "  int f = ac + cf + fg;\n",
        "\n",
        "  if (a <= b && a <= c && a <= d && a <= e && a <= f) {\n",
        "    cout << \"ABEG\" << endl;\n",
        "  }\n",
        "  else if (b <= a && b <= c && b <= d && b <= e && b <= f) {\n",
        "    cout << \"ABDEG\" << endl;\n",
        "  }\n",
        "  else if (c <= a && c <= b && c <= d && c <= e && c <= f) {\n",
        "    cout << \"ABDFG\" << endl;\n",
        "  }\n",
        "  else if (d <= a && d <= b && d <= c && d <= e && d <= f) {\n",
        "    cout << \"ACDEG\" << endl;\n",
        "  }\n",
        "  else if (e <= a && e <= b && e <= c && e <= d && e <= f) {\n",
        "    cout << \"ACDFG\" << endl;\n",
        "  }\n",
        "  else {\n",
        "    cout << \"ACFG\" << endl;\n",
        "  }\n",
        "}"
      ],
      "metadata": {
        "cellView": "form",
        "id": "teRqa43wgwkA"
      },
      "execution_count": null,
      "outputs": []
    }
  ]
}