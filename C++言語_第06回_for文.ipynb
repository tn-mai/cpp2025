{
  "nbformat": 4,
  "nbformat_minor": 0,
  "metadata": {
    "colab": {
      "provenance": [],
      "toc_visible": true
    },
    "kernelspec": {
      "name": "python3",
      "display_name": "Python 3"
    },
    "language_info": {
      "name": "python"
    }
  },
  "cells": [
    {
      "cell_type": "markdown",
      "source": [
        "# for文"
      ],
      "metadata": {
        "id": "X4L1-1Pwzjqo"
      }
    },
    {
      "cell_type": "markdown",
      "source": [
        "## キーポイント\n",
        "\n",
        "* `for`文を使うと繰り返し処理ができる\n",
        "* `for`文は次の形式で書く\n",
        "  ```cpp\n",
        "  for (初期化; 条件式; 更新) {\n",
        "    処理\n",
        "  }\n",
        "  ```\n",
        "* 「初期化」の部分は、最初の繰り返しの前に一度だけ実行される\n",
        "* 初期化が実行されたあとは、「条件式→処理→更新」の順で繰り返し実行される\n",
        "* 条件式が偽になると繰り返しが終了する\n",
        "* `break`を使うと強制的に繰り返しを終了できる\n",
        "* 2重`for`文は次の形式で書く\n",
        "  ```cpp\n",
        "  for (初期化1; 条件式1; 更新1) {\n",
        "    for (初期化2; 条件式2; 更新2) {\n",
        "      処理\n",
        "    }\n",
        "  }\n",
        "  ```\n"
      ],
      "metadata": {
        "id": "nLsoW5cGA_En"
      }
    },
    {
      "cell_type": "markdown",
      "source": [
        "----\n",
        "\n",
        "## 1 for文の基本\n",
        "\n",
        "----\n"
      ],
      "metadata": {
        "id": "J-lp0nbc5qPD"
      }
    },
    {
      "cell_type": "markdown",
      "source": [
        "### 1.1 for文の書きかた\n",
        "\n",
        "for(フォー)文は「なにかの処理をN回行う」というような、繰り返し処理でよくあるパターンを書くための構文です。\n",
        "\n",
        "for文は次のように書き、「条件式」が真であるかぎり、「処理」を繰り返し続けます。\n",
        "\n",
        "```cpp\n",
        "for (初期化; 条件式; 更新) {\n",
        "  処理\n",
        "}\n",
        "```\n",
        "\n",
        "例えば、3回繰り返すプログラムをfor文で書くと次のようになります。\n",
        "\n",
        "**コード**\n",
        "\n",
        "```cpp\n",
        "#include <iostream>\n",
        "using namespace std;\n",
        "\n",
        "int main() {\n",
        "  for (int i = 0; i < 3; i++) {\n",
        "    cout << \"Hello for: \" << i << endl;\n",
        "  }\n",
        "}\n",
        "```\n",
        "\n",
        "**実行結果**\n",
        "\n",
        "```txt\n",
        "Hello for: 0\n",
        "Hello for: 1\n",
        "Hello for: 2\n",
        "```\n",
        "\n",
        "このfor文が実行される順序は次のとおりです。\n",
        "\n",
        ">1. for文の実行を開始\n",
        ">2. 「初期化」の`int i = 0;`を実行\n",
        ">3. 「条件式」の`i < 3`が偽なら7番へ\n",
        ">4. 「処理」の`cout << Hello for: \" << i << endl;`を実行\n",
        ">5. 「更新」の`i++`を実行\n",
        ">6. 3番に戻る\n",
        ">7. for文を終了\n",
        "\n",
        "<img src=\"https://raw.githubusercontent.com/tn-mai/cpp2025/refs/heads/main/images/cpp2025_for_loop.png\" width=400px />\n"
      ],
      "metadata": {
        "id": "zpmiAJnUzt19"
      }
    },
    {
      "cell_type": "markdown",
      "source": [
        "### 1.2 N回の繰り返し処理\n",
        "\n",
        "for文を使うとき、そのほとんどは「なにかの処理をN回繰り返す」という場合です。<br>\n",
        "これには、次のような定番の書きかたがあります。まずは、この書きかたを覚えてください(Nの部分を繰り返し回数で置き換えます)。\n",
        "\n",
        "```cpp\n",
        "for (int i = 0; i < N; i++) {\n",
        "  処理\n",
        "}\n",
        "```\n",
        "\n",
        "この書きかたのfor文を使うときは、「初期化」「条件式」「更新」の細かい動作を気にしないようにしましょう。最初のうちは、\n",
        "\n",
        ">for文は、変数`i`の値を`1`ずつ増やしながら、「処理」を`N`回繰り返す機能\n",
        "\n",
        "とだけ考えたほうが、for文を使うプログラムを書きやすくなります。\n",
        "\n",
        "また、for文でどう書けばよいか分からなくなったときは、まずfor文を使わずにプログラムを書いてください。<br>\n",
        "そして、プログラムがちゃんと動くことが確認できたら、for文を使うように書き直します。\n",
        "\n",
        "以下の2つのプログラムは、このやり方の例です。\n",
        "\n",
        "**ループを使わないプログラム**\n",
        "\n",
        "```cpp\n",
        "#include <iostream>\n",
        "using namespace std;\n",
        "\n",
        "int main() {\n",
        "  cout << \"0回目\" << endl;\n",
        "  cout << \"1回目\" << endl;\n",
        "  cout << \"2回目\" << endl;\n",
        "  cout << \"3回目\" << endl;\n",
        "}\n",
        "```\n",
        "\n",
        "**for文で書き直したプログラム**\n",
        "\n",
        "```cpp\n",
        "#include <iostream>\n",
        "using namespace std;\n",
        "\n",
        "int main() {\n",
        "  for (int i = 0; i < 4; i++) {\n",
        "    cout << i << \"回目\" << endl;\n",
        "  }\n",
        "}\n",
        "```"
      ],
      "metadata": {
        "id": "8btE54cY3-J2"
      }
    },
    {
      "cell_type": "markdown",
      "source": [
        "### 1.3 breakとcontinueとreturn\n",
        "\n",
        "for文の動作を制御するキーワードとして、以下の3種類があります。\n",
        "\n",
        "* break(ブレイク)\n",
        "* continue(コンティニュー)\n",
        "* return(リターン)\n",
        "\n",
        "以下では、それぞれの機能の違いについて説明します。\n",
        "\n",
        "**breakについて**\n",
        "\n",
        "`break`は、ループを途中で終了させるキーワードです。`break`を使ったプログラムは、次のようになります。\n",
        "\n",
        "**コード**\n",
        "\n",
        "```cpp\n",
        "#include <iostream>\n",
        "using namespace std;\n",
        "\n",
        "int main() {\n",
        "\n",
        "  for (int i = 0; i < 5; i++) {\n",
        "    if (i == 3) {\n",
        "      cout << \"ぬける\" << endl;\n",
        "      break; // ループを終了して ---->+\n",
        "    }                              // |\n",
        "    cout << i << endl;             // |\n",
        "  }                                // V\n",
        "  // ここに飛んで来る <---------------+\n",
        "\n",
        "  cout << \"終了\" << endl;\n",
        "}\n",
        "```\n",
        "\n",
        "**実行結果**\n",
        "\n",
        "```txt\n",
        "0\n",
        "1\n",
        "2\n",
        "ぬける\n",
        "終了\n",
        "```\n",
        "\n",
        "if文で`i == 3`が真になったとき、`break`が実行されます。すると、`break`の効果でfor文が終了します。その後、「終了」が出力されます。\n",
        "\n",
        "**continueについて**\n",
        "\n",
        "`continue`は、以降の処理をとばして、繰り返しを続けさせるキーワードです。`continue`を使ったプログラムは、次のようになります。\n",
        "\n",
        "**コード**\n",
        "\n",
        "```cpp\n",
        "#include <iostream>\n",
        "using namespace std;\n",
        "\n",
        "int main() {\n",
        "                      // +<------------------+  \n",
        "                      // |                   A\n",
        "                      // V ここに飛んでくる  |\n",
        "  for (int i = 0; i < 5; i++) {           // |\n",
        "    if (i == 3) {                         // |\n",
        "      cout << \"とばす\" << endl;           // |\n",
        "      continue; // 以降の処理を飛ばして ---->+\n",
        "    }\n",
        "    cout << i << endl;\n",
        "  }\n",
        "\n",
        "  cout << \"終了\" << endl;\n",
        "}\n",
        "```\n",
        "\n",
        "**実行結果**\n",
        "\n",
        "```txt\n",
        "0\n",
        "1\n",
        "2\n",
        "とばす\n",
        "4\n",
        "終了\n",
        "```\n",
        "\n",
        "上のプログラムでは、if文で`i == 3`が真になったとき、`continue`キーワードが実行されます。すると、`continue`の効果で以降の処理が飛ばされて、「更新」に進みます。\n",
        "\n",
        "`continue`を使う機会は`break`と比べて少ないですが、うまく使えば読みやすいプログラムを書く助けになります。\n",
        "\n",
        "**returnについて**\n",
        "\n",
        "for文の中で`return`文を実行すると、その時点で関数が終了します。`main`関数の終了は、プログラムの終了を意味します。「`return`文より下のプログラムが、for文より下のプログラムも含めて全て無視される」ので、`break`より強力です。\n",
        "\n",
        "以下は、`return`を使ったプログラムの例です。\n",
        "\n",
        "**コード**\n",
        "\n",
        "```cpp\n",
        "#include <iostream>\n",
        "using namespace std;\n",
        "\n",
        "int main() {\n",
        "\n",
        "  for (int i = 0; i < 5; i++) {\n",
        "    if (i == 3) {\n",
        "      cout << \"おわる\" << endl;\n",
        "      return 0; // 関数を終了して -->+\n",
        "    }                             // |\n",
        "    cout << i << endl;            // |\n",
        "  }                               // |\n",
        "                                  // |\n",
        "  cout << \"終了\" << endl;         // |\n",
        "} // ここに飛んでくる <--------------+\n",
        "```\n",
        "\n",
        "**実行結果**\n",
        "\n",
        "```txt\n",
        "0\n",
        "1\n",
        "2\n",
        "おわる\n",
        "```\n",
        "\n",
        "実行結果の最後に、「終了」が出力されていない点に注目してください。このように、`return`文の特徴は「`return`文より下にある全てのプログラムが実行されない」ことです。\n",
        "\n",
        "for文の中で`return`文を書く機会は、`break`ほどではありませんが、それなりに多いです。結構、役に立つ機能なのです。\n"
      ],
      "metadata": {
        "id": "b7MKJ3MV7TZl"
      }
    },
    {
      "cell_type": "markdown",
      "source": [
        "----\n",
        "\n",
        "## 2 for文の使いかた\n",
        "\n",
        "----"
      ],
      "metadata": {
        "id": "pcYOe7D8eEyl"
      }
    },
    {
      "cell_type": "markdown",
      "source": [
        "### 2.1 for文を使って合計を求める\n",
        "\n",
        "連続する数値の合計を求めるには、次のプログラムのように、for文の前に合計値を記録する変数を宣言します。\n",
        "\n",
        "**コード**\n",
        "\n",
        "```cpp\n",
        "#include <iostream>\n",
        "using namespace std;\n",
        "\n",
        "int main() {\n",
        "\n",
        "  int total = 0; // 合計を記録する変数\n",
        "\n",
        "  for (int i = 0; i < 10; i++) {\n",
        "    total += i + 1; // 変数に1～10を足していく\n",
        "  }\n",
        "\n",
        "  cout << \"1から10の合計は\" << total << endl;\n",
        "}\n",
        "```\n",
        "\n",
        "**実行結果**\n",
        "\n",
        "```txt\n",
        "1から10の合計は55\n",
        "```\n"
      ],
      "metadata": {
        "id": "Py3y7V9QbPKe"
      }
    },
    {
      "cell_type": "markdown",
      "source": [
        "### 2.2 無限ループ\n",
        "\n",
        "for文の初期化、条件式、更新は、常にすべてを書く必要はありません。その部分が不要なら省略できます。例えば、条件式を省略すると「無限ループ」が作れます。\n",
        "\n",
        "**コード**\n",
        "\n",
        "```cpp\n",
        "#include <iostream>\n",
        "using namespace std;\n",
        "\n",
        "int main() {\n",
        "  //            ↓条件式を省略\n",
        "  for (int i = 0; ; i++) {\n",
        "    cout << i << endl;\n",
        "  }\n",
        "}\n",
        "```\n",
        "\n",
        "**実行結果**\n",
        "\n",
        "```txt\n",
        "0\n",
        "1\n",
        "2\n",
        "3\n",
        "⋮\n",
        "(以下、無限に出力され続ける)\n",
        "```\n",
        "\n",
        "変数`i`も不要な場合は、全て省略して次のように書けます。\n",
        "\n",
        "**コード**\n",
        "\n",
        "```cpp\n",
        "#include <iostream>\n",
        "using namespace std;\n",
        "\n",
        "int main() {\n",
        "  //   ↓初期化、条件式、更新の3つを全て省略\n",
        "  for (;;) {\n",
        "    cout << \"無限ループ\" << endl;\n",
        "  }\n",
        "}\n",
        "```\n",
        "\n",
        "**実行結果**\n",
        "\n",
        "```txt\n",
        "無限ループ\n",
        "無限ループ\n",
        "無限ループ\n",
        "無限ループ\n",
        "    ⋮\n",
        "(以下無限に出力され続ける)\n",
        "```\n",
        "\n",
        "実際のプログラムで無限ループが使われるのは、次のような場合です。\n",
        "\n",
        "* 「条件式」に書くことが難しい、複雑な条件がある\n",
        "* 特定の「入力データ」が見つかるまでループさせたい\n"
      ],
      "metadata": {
        "id": "-7mn8R3MTnlm"
      }
    },
    {
      "cell_type": "markdown",
      "source": [
        "### 2.3 逆順のループ\n",
        "\n",
        "プログラムによっては「`0`から`N`まで」の逆で「`N`から`0`まで」ループさせたい、という場合があります。<br>\n",
        "例えば「`2`から`0`まで逆順で`3`回ループしたい」場合は、次のように書きます。\n",
        "\n",
        "**コード**\n",
        "\n",
        "```cpp\n",
        "for (int i = 2; i >= 0; i--) {\n",
        "  cout << i << \"回目\" << endl;\n",
        "}\n",
        "```\n",
        "\n",
        "**実行例**\n",
        "\n",
        "```txt\n",
        "2回目\n",
        "1回目\n",
        "0回目\n",
        "```"
      ],
      "metadata": {
        "id": "mlZiFGXYk1jg"
      }
    },
    {
      "cell_type": "markdown",
      "source": [
        "### 2.4 繰り返し回数やデータを標準入力から読み込む\n",
        "\n",
        "決まった回数を繰り返すだけでなく、標準入力から読み込んだデータを使って繰り返し回数を決めることもできます。\n",
        "\n",
        "**コード**\n",
        "\n",
        "```cpp\n",
        "#include <iostream>\n",
        "using namespace std;\n",
        "\n",
        "int main() {\n",
        "  int n;\n",
        "  cin >> n; // 繰り返し回数を標準入力から読み込む\n",
        "\n",
        "  for (int i = 0; i < n; i++) {\n",
        "    cout << i << ' ';\n",
        "  }\n",
        "\n",
        "  cout << endl;\n",
        "}\n",
        "```\n",
        "\n",
        "**入力データ例**\n",
        "\n",
        "```txt\n",
        "7\n",
        "```\n",
        "\n",
        "**出力例**\n",
        "\n",
        "```txt\n",
        "0 1 2 3 4 5 6\n",
        "```\n",
        "\n",
        "同様に、データの読み込みも標準入力から行えます。<br>\n",
        "次のプログラムは、指定された個数の整数を読み込み、その合計を計算して出力します。\n",
        "\n",
        "**コード**\n",
        "\n",
        "```cpp\n",
        "#include <iostream>\n",
        "using namespace std;\n",
        "\n",
        "int main() {\n",
        "  int n;\n",
        "  cin >> n; // 繰り返し回数を標準入力から読み込む\n",
        "\n",
        "  int total = 0; // 合計を記録する変数\n",
        "\n",
        "  for (int i = 0; i < n; i++) {\n",
        "    int a;\n",
        "    cin >> a; // データを標準入力から読み込む\n",
        "    total += a; // 読み込んだデータを足していく\n",
        "  }\n",
        "\n",
        "  cout << total << endl; // 合計を出力する\n",
        "}\n",
        "```\n",
        "\n",
        "**入力データ例**\n",
        "\n",
        "```txt\n",
        "4\n",
        "10 30 12 5\n",
        "```\n",
        "\n",
        "**出力例**\n",
        "\n",
        "```txt\n",
        "57\n",
        "```\n"
      ],
      "metadata": {
        "id": "25nDvWZsdT03"
      }
    },
    {
      "cell_type": "markdown",
      "source": [
        "### 2.5 多重for文\n",
        "\n",
        "if文と同様に、for文もネストさせることができます。そのような書き方をしたfor文は「多重for文」や「多重ループ」と呼ばれます。\n",
        "\n",
        "以下は2重ループの例です。\n",
        "\n",
        "**コード**\n",
        "\n",
        "```cpp\n",
        "#include <iostream>\n",
        "using namespace std;\n",
        "\n",
        "int main() {\n",
        "\n",
        "  for (int a = 0; a < 2; a++) {\n",
        "    for (int b = 0; b < 3; b++) {\n",
        "      cout << \"a: \" << a << \", b:\" << b << endl;\n",
        "    }\n",
        "  }\n",
        "\n",
        "}\n",
        "```\n",
        "\n",
        "**実行例**\n",
        "\n",
        "```txt\n",
        "a:0, b:0\n",
        "a:0, b:1\n",
        "a:0, b:2\n",
        "a:1, b:0\n",
        "a:1, b:1\n",
        "a:1, b:2\n",
        "```\n",
        "\n",
        "実行結果を見ると、まず`b`が`0`から`2`まで順番に増えていき、また`0`に戻るという動作を繰り返していることが分かります。そして、`b`が`0`に戻るのと同時に、`a`が`1`増えています。\n",
        "\n",
        "つまり、`a`が`1`回増えるあいだに`b`は`3`回増えて`0`に戻る、という動作をしているわけです。\n",
        "\n",
        "多重ループの総実行回数は、すべてのループの実行回数`N`を掛け合わせた値になります。この例の場合は`2×3`なので、処理は`6`回実行されます。\n",
        "\n",
        ">**【for文で使われがちな変数`i`について】**<br>\n",
        ">この`i`は`index`(インデックス)の頭文字です。また、多重ループで`j`や`k`が使われるのは、アルファベット順で`i`の続きにある文字だからです。ただ、`i`と`j`は見間違えやすいので、多重ループでは間違えにくい`a`, `b`, `c`を使うことをおすすめします。"
      ],
      "metadata": {
        "id": "94GcTw2B8rsh"
      }
    },
    {
      "cell_type": "markdown",
      "source": [
        "----\n",
        "\n",
        "## 3 その他のループ文\n",
        "\n",
        "----\n",
        "\n",
        "C++にはfor文のほかに、2つのループ構文が用意されています。\n",
        "\n",
        "* while(ホワイル)\n",
        "* do while(ドゥ・ホワイル)\n",
        "\n",
        "これらはfor文に比べると使う機会が少ないのですが、場合によってはfor文よりも簡潔なプログラムを書けたりします。\n",
        "\n",
        ">最初のうちは、ループにはfor文を使ってください(その他のループ文を紹介しておいて申し訳ありありませんが)。<br>\n",
        ">ループ文の使い分けに悩むより、for文の使いかたに習熟することのほうが重要です。\n"
      ],
      "metadata": {
        "id": "ogOu_7musIW2"
      }
    },
    {
      "cell_type": "markdown",
      "source": [
        "### 3.1 while(ホワイル)\n",
        "\n",
        "while文は、for文の条件式だけを取り出したような書きかたをします。\n",
        "\n",
        "```cpp\n",
        "while (条件式) {\n",
        "  処理\n",
        "}\n",
        "```\n",
        "\n",
        "for文と同じく、条件式が真であるかぎりループします。while文では「更新」は処理の一部として書きます。<br>\n",
        "初期化が必要ならwhile文の上に書きますが、初期化が必要になるようなループはfor文を使うほうがよいでしょう。\n",
        "\n",
        "また、`for(; 条件式;) {}`のように初期化と更新を省略すれば、for文でもwhile文と全く同じ挙動を再現できます。\n"
      ],
      "metadata": {
        "id": "Ooq3Uh5febVy"
      }
    },
    {
      "cell_type": "markdown",
      "source": [
        "### 3.2 do while(ドゥ・ホワイル)\n",
        "\n",
        "do while文は、処理の後にwhile文を実行する書きかたです。\n",
        "\n",
        "```cpp\n",
        "do {\n",
        "  処理\n",
        "} while (条件式);\n",
        "```\n",
        "\n",
        "while文との違いは、「処理が必ず1回は実行される」という点です。do while文でも「更新」は処理の一部として書きます。<br>\n",
        "初期化が必要な場合はdoの上に書きます。\n",
        "\n",
        "do while文の特徴は「処理が必ず1回は実行される」という点ですが、これが役に立つ場面は少ないです。<br>\n",
        "素直にfor文を使うほうが、あとあと良い結果になることが多いです。\n"
      ],
      "metadata": {
        "id": "ADegUOMoeZGr"
      }
    },
    {
      "cell_type": "markdown",
      "source": [
        "----\n",
        "\n",
        "## 4 練習問題\n",
        "\n",
        "----\n",
        "\n",
        "以下の手順にしたがって、各問題のプログラムを完成させなさい。\n",
        "\n",
        "1. `%%writefile ...`の下の行からがプログラムです。問題文に従ってプログラムを修正、または追加してください。\n",
        "2. プログラムを修正したら、セルの右側にある`▶`をクリックします。すると、ファイルが保存されます。\n",
        "3. 「動作テスト」セルの`▶`をクリックすると、2で保存したファイルがコンパイル＆実行され、実行結果が表示されます。<br>\n",
        "   このセルは、修正したプログラムの動作を確認するために使ってください。\n",
        "4. 「実行」セルの`▶`をクリックすると、2で保存したファイルがコンパイル＆実行され、結果の成否が判定されます。\n",
        "5. 判定に成功したら`AC`と表示されます。次の問題に進んでください。\n",
        "6. 失敗したら`WA`と表示されます(その前にエラーメッセージが表示される場合もあります)。<br>\n",
        "   これは、プログラムのどこかにエラーがあることを意味します。<br>\n",
        "   「動作テスト」を使ってエラーを修正し、`AC`を目指してください。\n"
      ],
      "metadata": {
        "id": "idPNDs8r8mAT"
      }
    },
    {
      "cell_type": "markdown",
      "source": [
        "### ❓️問題１ 続ける条件\n",
        "\n",
        "1～5の数字を出力するプログラムがあります。しかし、「条件式」の部分が抜けているため、思ったように動きません。<br>\n",
        "for文に「条件式」を書き加えて、プログラムを完成させなさい。\n",
        "\n",
        "**出力例**\n",
        "\n",
        "```txt\n",
        "1\n",
        "2\n",
        "3\n",
        "4\n",
        "5\n",
        "```\n"
      ],
      "metadata": {
        "id": "bUEdqyTn7CUh"
      }
    },
    {
      "cell_type": "code",
      "source": [
        "%%writefile practice_01a.cpp\n",
        "#include <iostream>\n",
        "using namespace std;\n",
        "\n",
        "int main() {\n",
        "  // 以下のfor文に条件式を書き加えて、処理が5回繰り返されるようにする\n",
        "  for (int i = 0; ; i++) {\n",
        "    cout << i + 1 << endl;\n",
        "  }\n",
        "}"
      ],
      "metadata": {
        "id": "rUSzEqsf7CUi"
      },
      "execution_count": null,
      "outputs": []
    },
    {
      "cell_type": "code",
      "source": [
        "# @title 動作テスト\n",
        "!g++ -std=c++20 -O2 -Wall -Wextra -o practice_01a practice_01a.cpp && ./practice_01a"
      ],
      "metadata": {
        "cellView": "form",
        "id": "0CF0N0Mc7CUi"
      },
      "execution_count": null,
      "outputs": []
    },
    {
      "cell_type": "code",
      "source": [
        "# @title 実行\n",
        "!diff -Z <(echo -e \"1\\n2\\n3\\n4\\n5\") <(g++ -std=c++20 -O2 -Wall -Wextra -o practice_01a practice_01a.cpp && ./practice_01a) > nil && test $? -eq 0 && echo -e \"\\033[32;1mAC\" || echo -e \"\\033[31;1mWA\""
      ],
      "metadata": {
        "cellView": "form",
        "id": "L6cF-H4R7CUi"
      },
      "execution_count": null,
      "outputs": []
    },
    {
      "cell_type": "code",
      "source": [
        "# @title 🔒解答例(どうしても問題を解けない場合に見てください)\n",
        "%%writefile practice_01a.cpp\n",
        "#include <iostream>\n",
        "using namespace std;\n",
        "\n",
        "int main() {\n",
        "  // 以下のfor文に条件式を書き加えて、処理が5回繰り返すされるようにする\n",
        "  // N=5として、for文の基本形をそのまま書く\n",
        "  for (int i = 0; i < 5; i++) {\n",
        "    cout << i + 1 << endl;\n",
        "  }\n",
        "}"
      ],
      "metadata": {
        "cellView": "form",
        "id": "0tFSYclj7Iup"
      },
      "execution_count": null,
      "outputs": []
    },
    {
      "cell_type": "markdown",
      "source": [
        "### ❓️問題２ 初期化、条件式、更新\n",
        "\n",
        "2の倍数を出力するプログラムがあります。<br>\n",
        "2から始まる倍数が5個出力されるように、for文の`()`の中に「初期化」、「条件式」、「更新」を追加しなさい。\n",
        "\n",
        "**出力例**\n",
        "\n",
        "```txt\n",
        "2 4 6 8 10\n",
        "```\n"
      ],
      "metadata": {
        "id": "51reqyhuTpBd"
      }
    },
    {
      "cell_type": "code",
      "source": [
        "%%writefile practice_01b.cpp\n",
        "#include <iostream>\n",
        "using namespace std;\n",
        "\n",
        "int main() {\n",
        "  // 初期化、条件式、更新、の3つを追加して、処理が5回繰り返されるようにする\n",
        "  for ( ; ; ) {\n",
        "    cout << (i + 1) * 2 << ' ';\n",
        "  }\n",
        "  cout << endl;\n",
        "}"
      ],
      "metadata": {
        "id": "9CZZGlS6TpBd"
      },
      "execution_count": null,
      "outputs": []
    },
    {
      "cell_type": "code",
      "source": [
        "# @title 動作テスト\n",
        "!g++ -std=c++20 -O2 -Wall -Wextra -o practice_01b practice_01b.cpp && ./practice_01b"
      ],
      "metadata": {
        "cellView": "form",
        "id": "b9C2i_qTTpBd"
      },
      "execution_count": null,
      "outputs": []
    },
    {
      "cell_type": "code",
      "source": [
        "# @title 実行\n",
        "!diff -Z <(echo -e \"2 4 6 8 10\") <(g++ -std=c++20 -O2 -Wall -Wextra -o practice_01b practice_01b.cpp && ./practice_01b) > nil && test $? -eq 0 && echo -e \"\\033[32;1mAC\" || echo -e \"\\033[31;1mWA\""
      ],
      "metadata": {
        "cellView": "form",
        "id": "9nHujt5UTpBd"
      },
      "execution_count": null,
      "outputs": []
    },
    {
      "cell_type": "code",
      "source": [
        "# @title 🔒解答例(どうしても問題を解けない場合に見てください)\n",
        "%%writefile practice_01b.cpp\n",
        "#include <iostream>\n",
        "using namespace std;\n",
        "\n",
        "int main() {\n",
        "  // 初期化、条件式、更新、の3つを追加して、処理が5回繰り返すされるようにする\n",
        "  // N=5として、for文の基本形をそのまま書く\n",
        "  for (int i = 0; i < 5; i++) {\n",
        "    cout << (i + 1) * 2 << ' ';\n",
        "  }\n",
        "  cout << endl;\n",
        "}"
      ],
      "metadata": {
        "cellView": "form",
        "id": "ts5zTAnZTpBe"
      },
      "execution_count": null,
      "outputs": []
    },
    {
      "cell_type": "markdown",
      "source": [
        "### ❓️問題３ for文で書き換える\n",
        "\n",
        "0～4の5個の数値を出力するプログラムがあります。<br>\n",
        "このプログラムにある、同じ処理を繰り返している部分を、for文を使うように書き換えなさい。\n",
        "\n",
        "<br><details><summary>🗝️(クリックでヒントを見る)</summary>\n",
        "\n",
        "**プログラム例**\n",
        "\n",
        "1. iを1ずつ増やしながら5回繰り返すfor文を書く\n",
        "2. for文の波カッコの中に、coutにiを出力して改行するプログラムを書く\n",
        "3. 元の5行のcoutを削除する\n",
        "\n",
        "</details><br>\n",
        "\n",
        "**出力例**\n",
        "\n",
        "```txt\n",
        "0\n",
        "1\n",
        "2\n",
        "3\n",
        "4\n",
        "```"
      ],
      "metadata": {
        "id": "ctrq1fr47Uro"
      }
    },
    {
      "cell_type": "code",
      "source": [
        "%%writefile practice_01c.cpp\n",
        "#include <iostream>\n",
        "using namespace std;\n",
        "\n",
        "int main() {\n",
        "  // 以下の5行をfor文で書き換える\n",
        "  cout << 0 << endl;\n",
        "  cout << 1 << endl;\n",
        "  cout << 2 << endl;\n",
        "  cout << 3 << endl;\n",
        "  cout << 4 << endl;\n",
        "}"
      ],
      "metadata": {
        "id": "wweXlJgGmIOi"
      },
      "execution_count": null,
      "outputs": []
    },
    {
      "cell_type": "code",
      "source": [
        "# @title 動作テスト\n",
        "!g++ -std=c++20 -O2 -Wall -Wextra -o practice_01c practice_01c.cpp && ./practice_01c"
      ],
      "metadata": {
        "cellView": "form",
        "id": "14XjiQMtHDyq"
      },
      "execution_count": null,
      "outputs": []
    },
    {
      "cell_type": "code",
      "source": [
        "# @title 実行\n",
        "!diff -Z <(echo -e \"0\\n1\\n2\\n3\\n4\") <(g++ -std=c++20 -O2 -Wall -Wextra -o practice_01c practice_01c.cpp && ./practice_01c) > nil && test $? -eq 0 && echo -e \"\\033[32;1mAC\" || echo -e \"\\033[31;1mWA\""
      ],
      "metadata": {
        "cellView": "form",
        "id": "mCxmVPh7ZBxA"
      },
      "execution_count": null,
      "outputs": []
    },
    {
      "cell_type": "code",
      "source": [
        "# @title 🔒解答例(どうしても問題を解けない場合に見てください)\n",
        "%%writefile practice_01c.cpp\n",
        "#include <iostream>\n",
        "using namespace std;\n",
        "\n",
        "int main() {\n",
        "  // 以下の5行をfor文で書き換える\n",
        "  for (int i = 0; i < 5; i++) {\n",
        "    cout << i << endl;\n",
        "  }\n",
        "}"
      ],
      "metadata": {
        "cellView": "form",
        "id": "0akrMBY59Mbj"
      },
      "execution_count": null,
      "outputs": []
    },
    {
      "cell_type": "markdown",
      "source": [
        "### ❓️問題４ 繰り返す部分だけをfor文で書き換える\n",
        "\n",
        "魔法で敵を倒す様子を出力するプログラムがあります。<br>\n",
        "このプログラムにある、同じ処理を繰り返している部分を、for文を使うように書き換えなさい。\n",
        "\n",
        "<br><details><summary>🗝️(クリックでヒントを見る)</summary>\n",
        "\n",
        "**プログラム例**\n",
        "\n",
        "このプログラムは、`\"スライムを倒した！\"`と出力する部分と、`count`を1増やす部分を3回繰り返している。この２行をfor文で3回繰り返すように書き換える。\n",
        "\n",
        "1. 「倒した数」を出力するプログラムの上に、iを1ずつ増やしながら3回繰り返すfor文を書く。\n",
        "2. for文の波括弧の中に、「スライムを倒した！」と出力する行と、`count`を1増やす行の２行をコピーして貼り付ける。\n",
        "3. 元の「スライムを倒した！」と`count`を1増やすプログラムを３つすべて削除する。\n",
        "\n",
        "</details><br>\n",
        "\n",
        "\n",
        "**出力例**\n",
        "\n",
        "```txt\n",
        "あなたはTILTOWAITOの呪文をとなえた\n",
        "スライムを倒した！\n",
        "スライムを倒した！\n",
        "スライムを倒した！\n",
        "倒した数=3\n",
        "```"
      ],
      "metadata": {
        "id": "Nwdn0BwWR425"
      }
    },
    {
      "cell_type": "code",
      "source": [
        "%%writefile practice_01d.cpp\n",
        "#include <iostream>\n",
        "using namespace std;\n",
        "\n",
        "int main() {\n",
        "  // 以下のプログラムの一部をfor文で置き換える\n",
        "\n",
        "  int count = 0;\n",
        "\n",
        "  cout << \"あなたはTILTOWAITOの呪文をとなえた\" << endl;\n",
        "\n",
        "  cout << \"スライムを倒した！\" << endl;\n",
        "  count++;\n",
        "\n",
        "  cout << \"スライムを倒した！\" << endl;\n",
        "  count++;\n",
        "\n",
        "  cout << \"スライムを倒した！\" << endl;\n",
        "  count++;\n",
        "\n",
        "  cout << \"倒した数=\" << count << endl;\n",
        "}"
      ],
      "metadata": {
        "id": "mL48NZWTR9go"
      },
      "execution_count": null,
      "outputs": []
    },
    {
      "cell_type": "code",
      "source": [
        "# @title 動作テスト\n",
        "!g++ -std=c++20 -O2 -Wall -Wextra -o practice_01d practice_01d.cpp && ./practice_01d"
      ],
      "metadata": {
        "cellView": "form",
        "id": "-FXu3NiTR9go"
      },
      "execution_count": null,
      "outputs": []
    },
    {
      "cell_type": "code",
      "source": [
        "# @title 実行\n",
        "!diff -Z <(echo -e \"あなたはTILTOWAITOの呪文をとなえた\\nスライムを倒した！\\nスライムを倒した！\\nスライムを倒した！\\n倒した数=3\") <(g++ -std=c++20 -O2 -Wall -Wextra -o practice_01d practice_01d.cpp && ./practice_01d) > nil && test $? -eq 0 && echo -e \"\\033[32;1mAC\" || echo -e \"\\033[31;1mWA\""
      ],
      "metadata": {
        "cellView": "form",
        "id": "nzzmi6bQR9go"
      },
      "execution_count": null,
      "outputs": []
    },
    {
      "cell_type": "code",
      "source": [
        "# @title 🔒解答例(どうしても問題を解けない場合に見てください)\n",
        "%%writefile practice_01d.cpp\n",
        "#include <iostream>\n",
        "using namespace std;\n",
        "\n",
        "int main() {\n",
        "  // 以下のプログラムの一部をfor文で置き換える\n",
        "\n",
        "  int count = 0;\n",
        "\n",
        "  cout << \"あなたはTILTOWAITOの呪文をとなえた\" << endl;\n",
        "\n",
        "  for (int i = 0; i < 3; i++) {\n",
        "    cout << \"スライムを倒した！\" << endl;\n",
        "    count++;\n",
        "  }\n",
        "\n",
        "  cout << \"倒した数=\" << count << endl;\n",
        "}"
      ],
      "metadata": {
        "cellView": "form",
        "id": "XdsstX3gR9go"
      },
      "execution_count": null,
      "outputs": []
    },
    {
      "cell_type": "markdown",
      "source": [
        "### ❓️問題５ 棒グラフ\n",
        "\n",
        "`n`個の`#`記号を表示するプログラムを作成しなさい。<br>\n",
        "例えば`n = 3`のときは`###`、`n = 5`のときは`#####`と表示します。<br>\n",
        "すべての`#`記号を出力したら、最後に`endl`で「改行」を出力すること。\n",
        "\n",
        "<br><details><summary>🗝️(クリックでヒントを見る)</summary>\n",
        "\n",
        "**プログラム例**\n",
        "\n",
        "1. `int`型の変数`n`を宣言する\n",
        "2. `cin`から`n`を読み込む\n",
        "3. for文を使って、`#`を`n`回出力する\n",
        "4. `endl`を出力する\n",
        "\n",
        "</details><br>\n",
        "\n",
        "**入力データ例（１）**\n",
        "\n",
        "```txt\n",
        "3\n",
        "```\n",
        "\n",
        "**出力例（１）**\n",
        "\n",
        "```txt\n",
        "###\n",
        "```\n",
        "\n",
        "**入力データ例（２）**\n",
        "\n",
        "```txt\n",
        "8\n",
        "```\n",
        "\n",
        "**出力例（２）**\n",
        "\n",
        "```txt\n",
        "########\n",
        "```\n"
      ],
      "metadata": {
        "id": "MhYGs0EmgOfA"
      }
    },
    {
      "cell_type": "code",
      "source": [
        "%%writefile practice_02a.cpp\n",
        "#include <iostream>\n",
        "using namespace std;\n",
        "\n",
        "int main() {\n",
        "  int n;\n",
        "  cin >> n;\n",
        "  // ここから上は変更しない\n",
        "\n",
        "  // この下に、n個の#を出力し、最後に改行するプログラムを書く\n",
        "}"
      ],
      "metadata": {
        "id": "NWd5pamHjyb4"
      },
      "execution_count": null,
      "outputs": []
    },
    {
      "cell_type": "code",
      "source": [
        "# @title 動作テスト\n",
        "!g++ -std=c++20 -O2 -Wall -Wextra -o practice_02a practice_02a.cpp && echo \"この下をクリックして個数を入力:\" && ./practice_02a"
      ],
      "metadata": {
        "cellView": "form",
        "id": "XYyfZMXMHiI3"
      },
      "execution_count": null,
      "outputs": []
    },
    {
      "cell_type": "code",
      "source": [
        "# @title 実行\n",
        "!diff -Z <(echo -e \"#\\n###\\n#########\") <(g++ -std=c++20 -O2 -Wall -Wextra -o practice_02a practice_02a.cpp && echo 1 | ./practice_02a && echo 3 | ./practice_02a && echo 9 | ./practice_02a) > nil && test $? -eq 0 && echo -e \"\\033[32;1mAC\" || echo -e \"\\033[31;1mWA\""
      ],
      "metadata": {
        "cellView": "form",
        "id": "0tmWjowClFdB"
      },
      "execution_count": null,
      "outputs": []
    },
    {
      "cell_type": "code",
      "source": [
        "# @title 🔒解答例(どうしても問題を解けない場合に見てください)\n",
        "%%writefile practice_02a.cpp\n",
        "#include <iostream>\n",
        "using namespace std;\n",
        "\n",
        "int main() {\n",
        "  int n;\n",
        "  cin >> n;\n",
        "  // ここから上は変更しない\n",
        "\n",
        "  // この下に、n個の#を出力し、最後に改行するプログラムを書く\n",
        "  for (int i = 0; i < n; i++) {\n",
        "    cout << \"#\";\n",
        "  }\n",
        "  cout << endl;\n",
        "}"
      ],
      "metadata": {
        "cellView": "form",
        "id": "A2_-8fCj99MH"
      },
      "execution_count": null,
      "outputs": []
    },
    {
      "cell_type": "markdown",
      "source": [
        "### ❓️問題６ レーザー\n",
        "\n",
        "レーザーは、左端のひとつの「始点」文字ではじまり、N個の「中間」文字があって、右端のひとつの「終点」文字で終わります。\n",
        "\n",
        "「始点」「中間」「終点」の3つの文字と、レーザーの長さNが入力されるので、レーザーを表示するプログラムを作成しなさい。<br>\n",
        "最後に改行を出力すること。\n",
        "\n",
        "<br><details><summary>🗝️(クリックでヒントを見る)</summary>\n",
        "\n",
        "**プログラム例**\n",
        "\n",
        "1. 始点、中間、終点の文字をあらわす変数`start`, `middle`, `end`を宣言する\n",
        "2. 長さをあらわす変数`n`を宣言する\n",
        "3. `cin`から、始点、中間、終点、長さ、の順番でデータを読み込む\n",
        "4. `cout`に「始点の文字」を出力する\n",
        "5. for文を使って、「中間の文字」を`n`個出力する\n",
        "6. 「終点の文字」と改行を出力する\n",
        "\n",
        "</details><br>\n",
        "\n",
        "**入力データ例（１）**\n",
        "\n",
        "```txt\n",
        "* - > 3\n",
        "```\n",
        "\n",
        "**出力例（１）**\n",
        "\n",
        "```txt\n",
        "*--->\n",
        "```\n",
        "\n",
        "**入力データ例（２）**\n",
        "\n",
        "```txt\n",
        "< = ) 5\n",
        "```\n",
        "\n",
        "**出力例（２）**\n",
        "\n",
        "```txt\n",
        "<=====)\n",
        "```\n"
      ],
      "metadata": {
        "id": "IqCm8aFw0Erd"
      }
    },
    {
      "cell_type": "code",
      "source": [
        "%%writefile practice_02b.cpp\n",
        "#include <iostream>\n",
        "#include <string>\n",
        "using namespace std;\n",
        "\n",
        "int main() {\n",
        "  // この下に、データを読み込んでレーザーを表示するプログラムを書く\n",
        "\n",
        "}"
      ],
      "metadata": {
        "id": "9yKjJlwR0IU4"
      },
      "execution_count": null,
      "outputs": []
    },
    {
      "cell_type": "code",
      "source": [
        "# @title 動作テスト\n",
        "!g++ -std=c++20 -O2 -Wall -Wextra -o practice_02b practice_02b.cpp && echo \"この下をクリックして3つの文字と長さを入力:\" && ./practice_02b"
      ],
      "metadata": {
        "cellView": "form",
        "id": "Ev6Zud_00SzX"
      },
      "execution_count": null,
      "outputs": []
    },
    {
      "cell_type": "code",
      "source": [
        "# @title 実行\n",
        "!diff -Z <(echo -e \"*--->\\n<=====)\\nO>>>>>>>>>>>\") <(g++ -std=c++20 -O2 -Wall -Wextra -o practice_02b practice_02b.cpp && echo \"* - > 3\" | ./practice_02b && echo \"< = ) 5\" | ./practice_02b && echo \"O > > 10\" | ./practice_02b) > nil && test $? -eq 0 && echo -e \"\\033[32;1mAC\" || echo -e \"\\033[31;1mWA\""
      ],
      "metadata": {
        "cellView": "form",
        "id": "LTuPDyxL0SzX"
      },
      "execution_count": null,
      "outputs": []
    },
    {
      "cell_type": "code",
      "source": [
        "# @title 🔒解答例(どうしても問題を解けない場合に見てください)\n",
        "%%writefile practice_02b.cpp\n",
        "#include <iostream>\n",
        "#include <string>\n",
        "using namespace std;\n",
        "\n",
        "int main() {\n",
        "  // この下に、データを読み込んでレーザーを表示するプログラムを書く\n",
        "  string start, middle, end;\n",
        "  int n;\n",
        "  cin >> start >> middle >> end >> n;\n",
        "\n",
        "  cout << start;\n",
        "  for (int i = 0; i < n; i++) {\n",
        "    cout << middle;\n",
        "  }\n",
        "  cout << end << endl;\n",
        "}"
      ],
      "metadata": {
        "cellView": "form",
        "id": "yo7H9nLF0SzY"
      },
      "execution_count": null,
      "outputs": []
    },
    {
      "cell_type": "markdown",
      "source": [
        "### ❓️問題７ 積み上げ棒グラフ\n",
        "\n",
        "ある商品について、3つの会社のシェア(市場占有率)を積み上げ棒グラフで表示したいです。棒グラフの長さは10目盛りで、1目盛りが10%に相当します。\n",
        "\n",
        "A社とB社のシェアが10%単位で入力されるので、積み上げ棒グラフを出力するプログラムを作成しなさい。\n",
        "\n",
        "なお、A社のシェアは文字`/`、B社のシェアは文字`X`(大文字のエックス)、C社のシェアは文字`#`であらわすものとします。\n",
        "\n",
        "<br><details><summary>🗝️(クリックでヒントを見る)</summary>\n",
        "\n",
        "**プログラム例**\n",
        "\n",
        "1. A社とB社のシェアをあらわす変数`a`, `b`を宣言する\n",
        "2. `cin`と`>>`記号を使って、A社とB社のシェアを読み込む\n",
        "3. C社のシェアをあらわす変数`c`を宣言し、`10 - a - b`で初期化する。\n",
        "4. for文を使って、`/`を`a`回出力する\n",
        "5. for文を使って、`X`を`b`回出力する\n",
        "6. for文を使って、`#`を`c`回出力する\n",
        "7. `endl`を出力する\n",
        "\n",
        "</details><br>\n",
        "\n",
        "**入力データ例（１）**\n",
        "\n",
        "```txt\n",
        "4 4\n",
        "```\n",
        "\n",
        "**出力例（１）**\n",
        "\n",
        "```txt\n",
        "////XXXX##\n",
        "```\n",
        "\n",
        "A社のシェアは40%、B社のシェアも40%なので、C社のシェアは20%です。<br>\n",
        "まず`/`を4個出力し、次に`X`を4個出力し、最後に`#`を2個出力して改行します。\n",
        "\n",
        "**入力データ例（２）**\n",
        "\n",
        "```txt\n",
        "7 0\n",
        "```\n",
        "\n",
        "**出力例（２）**\n",
        "\n",
        "```txt\n",
        "///////###\n",
        "```\n"
      ],
      "metadata": {
        "id": "xc216ADHBrzS"
      }
    },
    {
      "cell_type": "code",
      "source": [
        "%%writefile practice_02c.cpp\n",
        "#include <iostream>\n",
        "using namespace std;\n",
        "\n",
        "int main() {\n",
        "  // この下に、データを読み込んで積み上げ棒グラフを表示するプログラムを書く\n",
        "\n",
        "}"
      ],
      "metadata": {
        "id": "aqAiKeXJBrzS"
      },
      "execution_count": null,
      "outputs": []
    },
    {
      "cell_type": "code",
      "source": [
        "# @title 動作テスト\n",
        "!g++ -std=c++20 -O2 -Wall -Wextra -o practice_02c practice_02c.cpp && echo \"この下をクリックしてA社とB社のシェアを入力:\" && ./practice_02c"
      ],
      "metadata": {
        "cellView": "form",
        "id": "VtPE-rABBrzT"
      },
      "execution_count": null,
      "outputs": []
    },
    {
      "cell_type": "code",
      "source": [
        "# @title 実行\n",
        "!diff -Z <(echo -e \"///////XX#\\n//XXXX####\\n##########\") <(g++ -std=c++20 -O2 -Wall -Wextra -o practice_02c practice_02c.cpp && echo 7 2 | ./practice_02c && echo 2 4 | ./practice_02c && echo 0 0 | ./practice_02c) > nil && test $? -eq 0 && echo -e \"\\033[32;1mAC\" || echo -e \"\\033[31;1mWA\""
      ],
      "metadata": {
        "cellView": "form",
        "id": "o9L_ea8VBrzT"
      },
      "execution_count": null,
      "outputs": []
    },
    {
      "cell_type": "code",
      "source": [
        "# @title 🔒解答例(どうしても問題を解けない場合に見てください)\n",
        "%%writefile practice_02c.cpp\n",
        "#include <iostream>\n",
        "using namespace std;\n",
        "\n",
        "int main() {\n",
        "  // この下に、データを読み込んで積み上げ棒グラフを表示するプログラムを書く\n",
        "  int a, b;\n",
        "  cin >> a >> b;\n",
        "\n",
        "  int c = 10 - a - b;\n",
        "\n",
        "  for (int i = 0; i < a; i++) {\n",
        "    cout << \"/\";\n",
        "  }\n",
        "\n",
        "  for (int i = 0; i < b; i++) {\n",
        "    cout << \"X\";\n",
        "  }\n",
        "\n",
        "  for (int i = 0; i < c; i++) {\n",
        "    cout << \"#\";\n",
        "  }\n",
        "\n",
        "  cout << endl;\n",
        "\n",
        "  // 別解: string型の機能を使う\n",
        "  // cout << string(a, '/') << string(b, `X`) << string(c, `#`) << endl;\n",
        "}"
      ],
      "metadata": {
        "cellView": "form",
        "id": "70VIYUf-BrzT"
      },
      "execution_count": null,
      "outputs": []
    },
    {
      "cell_type": "markdown",
      "source": [
        "### ❓️問題８ 終わりのゼロ\n",
        "\n",
        "0～9の数字が入力されます。0が入力されたら入力終了とします。<br>\n",
        "最後の0を除いて、入力されたすべての数字を出力するプログラムを作成しなさい。\n",
        "\n",
        "例えば、`1 2 3 0`というデータが入力された場合、`123`を出力して改行します。\n",
        "\n",
        "<br><details><summary>🗝️(クリックでヒントを見る)</summary>\n",
        "\n",
        "**プログラム例**\n",
        "\n",
        "1. for文を使って無限ループを作成し、次の処理を行う\n",
        "    1. 整数型の変数`a`を宣言する\n",
        "    2. `cin`から、変数`a`に整数を読み込む\n",
        "    3. `a`が`0`なら`break`でループを終了する\n",
        "    4. `cout`に`a`を出力する\n",
        "2. `cout`に改行を出力する\n",
        "\n",
        "</details><br>\n",
        "\n",
        "**入力データ例（１）**\n",
        "\n",
        "```txt\n",
        "1 2 3 0\n",
        "```\n",
        "\n",
        "**出力例（１）**\n",
        "\n",
        "```txt\n",
        "123\n",
        "```\n",
        "\n",
        "**入力データ例（２）**\n",
        "\n",
        "```txt\n",
        "9 0\n",
        "```\n",
        "\n",
        "**出力例（２）**\n",
        "\n",
        "```txt\n",
        "9\n",
        "```\n",
        "\n",
        "**入力データ例（３）**\n",
        "\n",
        "```txt\n",
        "3 1 4 1 5 9 0\n",
        "```\n",
        "\n",
        "**出力例（３）**\n",
        "\n",
        "```txt\n",
        "314159\n",
        "```\n"
      ],
      "metadata": {
        "id": "WXZ5vohM9O_e"
      }
    },
    {
      "cell_type": "code",
      "source": [
        "%%writefile practice_02d.cpp\n",
        "#include <iostream>\n",
        "using namespace std;\n",
        "\n",
        "int main() {\n",
        "  // この下に、整数を読み込んで出力するプログラムを書く\n",
        "\n",
        "}"
      ],
      "metadata": {
        "id": "XiXYV2AY9O_e"
      },
      "execution_count": null,
      "outputs": []
    },
    {
      "cell_type": "code",
      "source": [
        "# @title 動作テスト\n",
        "!g++ -std=c++20 -O2 -Wall -Wextra -o practice_02d practice_02d.cpp && echo \"この下をクリックして数字を入力:\" && ./practice_02d"
      ],
      "metadata": {
        "cellView": "form",
        "id": "L7cU90Wd9O_e"
      },
      "execution_count": null,
      "outputs": []
    },
    {
      "cell_type": "code",
      "source": [
        "# @title 実行\n",
        "!diff -Z <(echo -e \"Yes\\nNo\\nNo\\nYes\\nNo\") <(g++ -std=c++20 -O2 -Wall -Wextra -o practice_02d practice_02d.cpp && echo 3 | ./practice_02d && echo 8 | ./practice_02d && echo 39 | ./practice_02d && echo 59 | ./practice_02d && echo 91 | ./practice_02d) > nil && test $? -eq 0 && echo -e \"\\033[32;1mAC\" || echo -e \"\\033[31;1mWA\""
      ],
      "metadata": {
        "cellView": "form",
        "id": "lcvTLwWl9O_e"
      },
      "execution_count": null,
      "outputs": []
    },
    {
      "cell_type": "code",
      "source": [
        "# @title 🔒解答例(どうしても問題を解けない場合に見てください)\n",
        "%%writefile practice_02d.cpp\n",
        "#include <iostream>\n",
        "using namespace std;\n",
        "\n",
        "int main() {\n",
        "  // この下に、整数を読み込んで出力するプログラムを書く\n",
        "\n",
        "  for (;;) {\n",
        "    int a;\n",
        "    cin >> a;\n",
        "\n",
        "    if (a == 0) {\n",
        "      break;\n",
        "    }\n",
        "\n",
        "    cout << a;\n",
        "  }\n",
        "\n",
        "  cout << endl;\n",
        "}"
      ],
      "metadata": {
        "id": "KU9METpn9O_e",
        "cellView": "form"
      },
      "execution_count": null,
      "outputs": []
    },
    {
      "cell_type": "markdown",
      "source": [
        "### ❓️問題９ 合計\n",
        "\n",
        "`n`個の数値が与えられるので、すべての数値の合計を出力するプログラムを作成しなさい。<br>\n",
        "例えば`n = 2`, `数値 = 1, 3`の場合、`4`を出力します。\n",
        "\n",
        "ヒント: for文の「処理」部分に`cin`を書くと、数値をひとつずつ読み込めます。\n",
        "\n",
        "<br><details><summary>🗝️(クリックでヒントを見る)</summary>\n",
        "\n",
        "**プログラム例**\n",
        "\n",
        "1. 繰り返し回数をあらわす変数`n`を宣言する\n",
        "2. `cin`から変数`n`に繰り返し回数を読み込む\n",
        "3. 合計をあらわす変数`total`を宣言し、`0`で初期化する\n",
        "4. for文を使って、次の処理を`n`回実行する\n",
        "   1. データをあらわす変数`a`を宣言する\n",
        "   2. `cin`から変数`a`にデータを読み込む\n",
        "   3. `total`に`a`を足す\n",
        "5. 標準出力`cout`に`total`を出力し、`endl`で改行する\n",
        "\n",
        "</details><br>\n",
        "\n",
        "**入力データ例（１）**\n",
        "\n",
        "```txt\n",
        "2\n",
        "1 3\n",
        "```\n",
        "\n",
        "**出力例（１）**\n",
        "\n",
        "```txt\n",
        "4\n",
        "```\n",
        "\n",
        "データ数が2個、数値が1と3なので、1+3=4で、4を出力します。\n",
        "\n",
        "**入力データ例（２）**\n",
        "\n",
        "```txt\n",
        "5\n",
        "1 1 1 1 1\n",
        "```\n",
        "\n",
        "**出力例（２）**\n",
        "\n",
        "```txt\n",
        "5\n",
        "```\n"
      ],
      "metadata": {
        "id": "hCo1RPbGmcNl"
      }
    },
    {
      "cell_type": "code",
      "source": [
        "%%writefile practice_03a.cpp\n",
        "#include <iostream>\n",
        "using namespace std;\n",
        "\n",
        "int main() {\n",
        "  // この下に、n個の数値を合計するプログラムを書く\n",
        "\n",
        "}"
      ],
      "metadata": {
        "id": "SQbOeEkameEL"
      },
      "execution_count": null,
      "outputs": []
    },
    {
      "cell_type": "code",
      "source": [
        "# @title 動作テスト\n",
        "!g++ -std=c++20 -O2 -Wall -Wextra -o practice_03a practice_03a.cpp && echo \"この下をクリックして個数と数値を入力:\" && ./practice_03a"
      ],
      "metadata": {
        "cellView": "form",
        "id": "jfgcYgnXH6O3"
      },
      "execution_count": null,
      "outputs": []
    },
    {
      "cell_type": "code",
      "source": [
        "# @title 実行\n",
        "!diff -Z <(echo -e \"3\\n5\\n10\") <(g++ -std=c++20 -O2 -Wall -Wextra -o practice_03a practice_03a.cpp && echo 2 1 2 | ./practice_03a && echo 5 1 1 1 1 1 | ./practice_03a && echo 1 10 | ./practice_03a) > nil && test $? -eq 0 && echo -e \"\\033[32;1mAC\" || echo -e \"\\033[31;1mWA\""
      ],
      "metadata": {
        "cellView": "form",
        "id": "0lDXwh_FMCfD"
      },
      "execution_count": null,
      "outputs": []
    },
    {
      "cell_type": "code",
      "source": [
        "# @title 🔒解答例(どうしても問題を解けない場合に見てください)\n",
        "%%writefile practice_03a.cpp\n",
        "#include <iostream>\n",
        "using namespace std;\n",
        "\n",
        "int main() {\n",
        "  // この下に、n個の数値を合計するプログラムを書く\n",
        "  int n;\n",
        "  cin >> n;\n",
        "\n",
        "  int total = 0;\n",
        "\n",
        "  for (int i = 0; i < n; i++) {\n",
        "    int a;\n",
        "    cin >> a;\n",
        "    total += a;\n",
        "  }\n",
        "\n",
        "  cout << total << endl;\n",
        "}"
      ],
      "metadata": {
        "cellView": "form",
        "id": "An-Whv_SpYzg"
      },
      "execution_count": null,
      "outputs": []
    },
    {
      "cell_type": "markdown",
      "source": [
        "### ❓️問題１０ 最大と最小\n",
        "\n",
        "`n`個の数値が与えられるので、最大の数と最小の数を出力するプログラムを作成しなさい。<br>\n",
        "なお、数値の範囲は`1`～`99`とします。\n",
        "\n",
        "<br><details><summary>🗝️(クリックでヒントを見る)</summary>\n",
        "\n",
        "**プログラム例**\n",
        "\n",
        "1. 繰り返し回数をあらわす変数`n`を宣言する\n",
        "2. `cin`から変数`n`に繰り返し回数を読み込む\n",
        "3. 最大値をあらわす変数`maxi`を宣言し、`0`で初期化する\n",
        "4. 最小値をあらわす変数`mini`を宣言し、`100`で初期化する\n",
        "5. for文を使って、次の処理を`n`回実行する\n",
        "   1. データをあらわす変数`a`を宣言する\n",
        "   2. `cin`から変数`a`にデータを読み込む\n",
        "   3. `a`が`maxi`より大きければ、`maxi`に`a`を代入する\n",
        "   4. `a`が`mini`より小さければ、`mini`に`a`を代入する\n",
        "6. 標準出力`cout`に`maxi`, 空白1個, `mini`の順で出力し、`endl`で改行する\n",
        "\n",
        "</details><br>\n",
        "\n",
        "**入力データ例（１）**\n",
        "\n",
        "```txt\n",
        "5\n",
        "10 20 30 40 50\n",
        "```\n",
        "\n",
        "**出力例（１）**\n",
        "\n",
        "```txt\n",
        "50 10\n",
        "```\n",
        "\n",
        "**入力データ例（２）**\n",
        "\n",
        "```txt\n",
        "1\n",
        "99\n",
        "```\n",
        "\n",
        "**出力例（２）**\n",
        "\n",
        "```txt\n",
        "99 99\n",
        "```\n"
      ],
      "metadata": {
        "id": "9-D4iUJu1wfM"
      }
    },
    {
      "cell_type": "code",
      "source": [
        "%%writefile practice_03b.cpp\n",
        "#include <iostream>\n",
        "using namespace std;\n",
        "\n",
        "int main() {\n",
        "  // この下に、最大値と最小値を求めるプログラムを書く\n",
        "}"
      ],
      "metadata": {
        "id": "0oCvAmwr1wfM"
      },
      "execution_count": null,
      "outputs": []
    },
    {
      "cell_type": "code",
      "source": [
        "# @title 動作テスト\n",
        "!g++ -std=c++20 -O2 -Wall -Wextra -o practice_03b practice_03b.cpp && echo \"この下をクリックして個数と数値を入力:\" && ./practice_03b"
      ],
      "metadata": {
        "cellView": "form",
        "id": "YCxMxZrs1wfN"
      },
      "execution_count": null,
      "outputs": []
    },
    {
      "cell_type": "code",
      "source": [
        "# @title 実行\n",
        "!diff -Z <(echo -e \"50 10\\n99 99\\n57 57\") <(g++ -std=c++20 -O2 -Wall -Wextra -o practice_03b practice_03b.cpp && echo 5 10 20 30 40 50 | ./practice_03b && echo 1 99 | ./practice_03b && echo 3 57 57 57 | ./practice_03b) > nil && test $? -eq 0 && echo -e \"\\033[32;1mAC\" || echo -e \"\\033[31;1mWA\""
      ],
      "metadata": {
        "cellView": "form",
        "id": "BZy3B0M71wfN"
      },
      "execution_count": null,
      "outputs": []
    },
    {
      "cell_type": "code",
      "source": [
        "# @title 🔒解答例(どうしても問題を解けない場合に見てください)\n",
        "%%writefile practice_03b.cpp\n",
        "#include <iostream>\n",
        "using namespace std;\n",
        "\n",
        "int main() {\n",
        "  // この下に、最大値と最小値を求めるプログラムを書く\n",
        "  int n;\n",
        "  cin >> n;\n",
        "\n",
        "  int maxi = 0;\n",
        "  int mini = 100;\n",
        "\n",
        "  for (int i = 0; i < n; i++) {\n",
        "    int a;\n",
        "    cin >> a;\n",
        "\n",
        "    // 最大値と最小値は互いに無関係なので、elseでつないではいけない\n",
        "    if (a > maxi) {\n",
        "      maxi = a;\n",
        "    }\n",
        "    if (a < mini) {\n",
        "      mini = a;\n",
        "    }\n",
        "  }\n",
        "\n",
        "  cout << maxi << \" \" << mini << endl;\n",
        "}"
      ],
      "metadata": {
        "cellView": "form",
        "id": "FBr9oxm4qfms"
      },
      "execution_count": null,
      "outputs": []
    },
    {
      "cell_type": "markdown",
      "source": [
        "### ❓️問題１１ 商品の入れ替え\n",
        "\n",
        "ある商店ではN個の商品を売っています。<br>\n",
        "売り上げを維持するため、半期ごとに売れ行きを調査し、最も売れなかった商品を新しい商品に入れ替えたいです。\n",
        "\n",
        "N個の商品の名前と販売数が入力されるので、最も売れなかった商品の名前を出力するプログラムを作成しなさい。\n",
        "\n",
        "なお、この商店では、少なくとも2種類の商品を売っています。<br>\n",
        "それぞれの商品は99個までしか仕入れられません(販売数は最大でも99個)。\n",
        "\n",
        "<br><details><summary>🗝️(クリックでヒントを見る)</summary>\n",
        "\n",
        "**プログラム例**\n",
        "\n",
        "1. 商品の種類数をあらわす変数`n`を宣言する\n",
        "2. `cin`から種類数を変数`n`に読み込む\n",
        "3. 最も売れなかった商品名をあらわす変数`worst_name`を宣言する\n",
        "4. 最も売れなかった商品の販売数をあらわす変数`worst_count`を宣言し、100で初期化する\n",
        "5. for文を使って、次の処理を`n`回実行する\n",
        "   1. 商品名をあらわす変数`s`を宣言する\n",
        "   2. 販売数をあらわす変数`a`を宣言する\n",
        "   3. `cin`から商品名、販売数の順でデータを読み込む\n",
        "   4. `if`文を使って、販売数が`worst_count`以下なら`worst_count`と`worst_name`に`a`と`s`を代入する\n",
        "6. `cout`に`worst_name`を出力し、改行する\n",
        "\n",
        "</details><br>\n",
        "\n",
        "**入力データ例（１）**\n",
        "\n",
        "```txt\n",
        "3\n",
        "どうのつるぎ 15\n",
        "こんぼう 30\n",
        "たけざお 10\n",
        "```\n",
        "\n",
        "**出力例（１）**\n",
        "\n",
        "```txt\n",
        "たけざお\n",
        "```\n",
        "\n",
        "**入力データ例（２）**\n",
        "\n",
        "```txt\n",
        "5\n",
        "ロングソード 43\n",
        "ショートソード 15\n",
        "メイス 18\n",
        "ダガー 29\n",
        "メイジスタッフ 21\n",
        "```\n",
        "\n",
        "**出力例（２）**\n",
        "\n",
        "```txt\n",
        "ショートソード\n",
        "```\n"
      ],
      "metadata": {
        "id": "WhyTNRTMrUtF"
      }
    },
    {
      "cell_type": "code",
      "source": [
        "%%writefile practice_03c.cpp\n",
        "#include <iostream>\n",
        "#include <string>\n",
        "using namespace std;\n",
        "\n",
        "int main() {\n",
        "  // この下に、最も売れなかった商品を出力するプログラムを書く\n",
        "\n",
        "}"
      ],
      "metadata": {
        "id": "-IVs4JD-rUtF"
      },
      "execution_count": null,
      "outputs": []
    },
    {
      "cell_type": "code",
      "source": [
        "# @title 動作テスト\n",
        "!g++ -std=c++20 -O2 -Wall -Wextra -o practice_03c practice_03c.cpp && echo \"この下をクリックして、種類数と商品名と販売数を入力:\" && ./practice_03c"
      ],
      "metadata": {
        "cellView": "form",
        "id": "2I40AmWErUtF"
      },
      "execution_count": null,
      "outputs": []
    },
    {
      "cell_type": "code",
      "source": [
        "# @title 実行\n",
        "!diff -Z <(echo -e \"たけざお\\nショートソード\\nつえ\") <(g++ -std=c++20 -O2 -Wall -Wextra -o practice_03c practice_03c.cpp && echo \"3 どうのつるぎ 15 こんぼう 30 たけざお 10\" | ./practice_03c && echo \"5 ロングソード 43 ショートソード 15 メイス 18 ダガー 29 メイジスタッフ 21\" | ./practice_03c && echo \"4 ナイフ 20 つえ 8 レイピア 33 ハンマー 20\" | ./practice_03c) > nil && test $? -eq 0 && echo -e \"\\033[32;1mAC\" || echo -e \"\\033[31;1mWA\""
      ],
      "metadata": {
        "cellView": "form",
        "id": "WPAhwuV-rUtF"
      },
      "execution_count": null,
      "outputs": []
    },
    {
      "cell_type": "code",
      "source": [
        "# @title 🔒解答例(どうしても問題を解けない場合に見てください)\n",
        "%%writefile practice_03c.cpp\n",
        "#include <iostream>\n",
        "#include <string>\n",
        "using namespace std;\n",
        "\n",
        "int main() {\n",
        "  // この下に、最も売れなかった商品を出力するプログラムを書く\n",
        "  int n;\n",
        "  cin >> n;\n",
        "\n",
        "  string worst_name;\n",
        "  int worst_count = 100;\n",
        "\n",
        "  for (int i = 0; i < n; i++) {\n",
        "    string s;\n",
        "    int a;\n",
        "    cin >> s >> a;\n",
        "\n",
        "    if (a < worst_count) {\n",
        "      worst_count = a;\n",
        "      worst_name = s;\n",
        "    }\n",
        "  }\n",
        "\n",
        "  cout << worst_name << endl;\n",
        "}"
      ],
      "metadata": {
        "cellView": "form",
        "id": "GyyVYehbrUtF"
      },
      "execution_count": null,
      "outputs": []
    },
    {
      "cell_type": "markdown",
      "source": [
        "### ❓️問題１２ 数値表示装置\n",
        "\n",
        "`0`から`9`の数字と文字`B`だけが入力できるキーボードがあり、8桁の数値が表示できるディスプレイにつながっています。\n",
        "\n",
        "画面には最初、`0`が表示されています。キーボードの各キーを押したとき、画面は次のように変化します。\n",
        "\n",
        "* `0`キー:<br>\n",
        "  表示されている数値が1桁以上7桁以下の場合、右端に`0`が追加される。<br>`0`が表示されている、または8桁の場合は何も起きない。\n",
        "* `0`以外の数字キー:<br>\n",
        "  `0`が表示されている場合、1桁目を押した数字に変更する。<br>\n",
        "  `0`ではなく、表示されている数値が7桁以下の場合、右端に押した数字が追加される。<br>8桁の場合は何も起きない。\n",
        "* `B`キー:<br>\n",
        "  2桁以上の数値が表示されている場合、右端の1桁が削除される。<br>1桁の数値(`0`を含む)が表示されている場合、1桁目を`0`にする。\n",
        "\n",
        "このキーボードのキーを押した回数Nと、押したキーのデータが入力されます。<br>\n",
        "最終的に画面に表示されている数値を出力するプログラムを作成しなさい。\n",
        "\n",
        ">数字の文字から`'0'`を引くと、実際の数値に変換できます。\n",
        "\n",
        "<br><details><summary>🗝️(クリックでヒントを見る)</summary>\n",
        "\n",
        "**プログラム例**\n",
        "\n",
        "1. 操作回数をあらわす変数`n`を宣言する\n",
        "2. `cin`から、変数`n`に操作回数を読み込む\n",
        "3. 数値をあらわす変数`a`を宣言し、`0`で初期化する\n",
        "3. for文を使って、以下の処理を`n`回繰り返す\n",
        "   1. 押されたキーをあらわす`char`型の変数`key`を宣言する\n",
        "   2. `cin`から、変数`key`に押されたキーを読み込む\n",
        "   3. 押されたのが`B`キーなら、変数`a`を10で割る\n",
        "   4. 押されたのが`B`キー以外の場合、変数`a`が10の7乗(1千万)未満なら、`a`を10倍して押されたキーの数値を足す。変数`a`が10の7乗以上なら何もしない。\n",
        "4. `cout`に変数`a`、改行の順番で出力する\n",
        "\n",
        "</details><br>\n",
        "\n",
        "**入力データ例（１）**\n",
        "\n",
        "```txt\n",
        "4\n",
        "4 0 B 2\n",
        "```\n",
        "\n",
        "**出力例（１）**\n",
        "\n",
        "```txt\n",
        "42\n",
        "```\n",
        "\n",
        "**入力データ例（２）**\n",
        "\n",
        "```txt\n",
        "5\n",
        "1 B B 0 3\n",
        "```\n",
        "\n",
        "**出力例（２）**\n",
        "\n",
        "```txt\n",
        "3\n",
        "```\n",
        "\n",
        "**入力データ例（３）**\n",
        "\n",
        "```txt\n",
        "10\n",
        "1 2 3 4 5 6 7 8 9 0\n",
        "```\n",
        "\n",
        "**出力例（３）**\n",
        "\n",
        "```txt\n",
        "12345678\n",
        "```\n"
      ],
      "metadata": {
        "id": "6_ctX8NArSSu"
      }
    },
    {
      "cell_type": "code",
      "source": [
        "%%writefile practice_03d.cpp\n",
        "#include <iostream>\n",
        "#include <string>\n",
        "using namespace std;\n",
        "\n",
        "int main() {\n",
        "  // この下に、表示される数値を作って出力するプログラムを書く\n",
        "\n",
        "}"
      ],
      "metadata": {
        "id": "ugQ-gKdGrSSv"
      },
      "execution_count": null,
      "outputs": []
    },
    {
      "cell_type": "code",
      "source": [
        "# @title 動作テスト\n",
        "!g++ -std=c++20 -O2 -Wall -Wextra -o practice_03d practice_03d.cpp && echo \"この下をクリックして、操作回数と押したキーを入力:\" && ./practice_03d"
      ],
      "metadata": {
        "cellView": "form",
        "id": "CbGBuZBBrSSv"
      },
      "execution_count": null,
      "outputs": []
    },
    {
      "cell_type": "code",
      "source": [
        "# @title 実行\n",
        "!diff -Z <(echo -e \"11\\n0\\n10101\") <(g++ -std=c++20 -O2 -Wall -Wextra -o practice_03d practice_03d.cpp && echo \"4 1 0 B 1\" | ./practice_03d && echo \"4 1 B B 0\" | ./practice_03d && echo \"8 B 1 0 1 B 1 0 1\" | ./practice_03d) > nil && test $? -eq 0 && echo -e \"\\033[32;1mAC\" || echo -e \"\\033[31;1mWA\""
      ],
      "metadata": {
        "cellView": "form",
        "id": "xD8kw54rrSSv"
      },
      "execution_count": null,
      "outputs": []
    },
    {
      "cell_type": "code",
      "source": [
        "# @title 🔒解答例(どうしても問題を解けない場合に見てください)\n",
        "%%writefile practice_03d.cpp\n",
        "#include <iostream>\n",
        "using namespace std;\n",
        "\n",
        "int main() {\n",
        "  // この下に、表示される数値を作って出力するプログラムを書く\n",
        "  int n;\n",
        "  cin >> n;\n",
        "\n",
        "  int a = 0;\n",
        "  for (int i = 0; i < n; i++) {\n",
        "    char key;\n",
        "    cin >> key;\n",
        "\n",
        "    if (key == 'B') {\n",
        "      a /= 10;\n",
        "    } else if (a < 10'000'000) {\n",
        "      a *= 10;\n",
        "      a += key - '0';\n",
        "    }\n",
        "  }\n",
        "\n",
        "  cout << a << endl;\n",
        "}"
      ],
      "metadata": {
        "cellView": "form",
        "id": "g_SJxFGTrSSv"
      },
      "execution_count": null,
      "outputs": []
    },
    {
      "cell_type": "markdown",
      "source": [
        "### ❓️問題１３ スイカ割り\n",
        "\n",
        "平らな砂浜の座標(0, 0)に人が、座標(X, Y)にスイカがあります。人とスイカの座標が一致したら、スイカを割ることができます。1回の声かけで、人をXまたはY方向に何マスか移動させられます。\n",
        "\n",
        "スイカの座標と、声掛け回数、N個の声掛けデータが入力されるので、スイカを割ることができたら`Success`、割ることができなかったら`Fail`と出力するプログラムを作成しなさい。\n",
        "\n",
        "1回の声掛けデータは`x`または`y`のいずれかの文字と、移動マス数のペアで構成されます。\n",
        "\n",
        "<br><details><summary>🗝️(クリックでヒントを見る)</summary>\n",
        "\n",
        "**プログラム例**\n",
        "\n",
        "1. スイカの座標をあらわす変数`wx`と`wy`を宣言する\n",
        "2. `cin`から、スイカの座標をX, Yの順番で読み込む\n",
        "3. 声掛け回数をあらわす変数`n`を宣言する\n",
        "4. `cin`から、声掛け回数を読み込む\n",
        "5. 人の座標をあらわす変数`hx`と`hy`を宣言し、どちらも`0`で初期化する\n",
        "6. 成功失敗をあらわす`bool`型の変数`success`を宣言し、`false`で初期化する\n",
        "7. fo文を使って、以下の処理を`n`回実行する\n",
        "   1. 方向をあらわす変数`a`と、移動マス数をあらわす変数`b`を宣言する\n",
        "   2. `cin`から、方向と移動マス数を読み込む\n",
        "   3. if文を使って、方向が`x`なら、人のX座標に移動マス数を足す\n",
        "   4. if文を使って、方向が`y`なら、人のY座標に移動マス数を足す\n",
        "   5. if文を使って、人の座標とスイカの座標が等しければ、変数`success`に`true`を代入して`break`する\n",
        "8. if文を使って、変数`success`が`true`なら`Success`と改行を出力し、`false`なら`Fail`を出力する\n",
        "\n",
        "</details><br>\n",
        "\n",
        "**入力データ例（１）**\n",
        "\n",
        "```txt\n",
        "5 5\n",
        "2\n",
        "x 5\n",
        "y 5\n",
        "```\n",
        "\n",
        "**出力例（１）**\n",
        "\n",
        "```txt\n",
        "Success\n",
        "```\n",
        "\n",
        "**入力データ例（２）**\n",
        "\n",
        "```txt\n",
        "1 1\n",
        "3\n",
        "x 1\n",
        "y 1\n",
        "x -1\n",
        "```\n",
        "\n",
        "**出力例（２）**\n",
        "\n",
        "```txt\n",
        "Success\n",
        "```\n",
        "\n",
        "声掛けの途中でもスイカを割れます。\n",
        "\n",
        "**入力データ例（２）**\n",
        "\n",
        "```txt\n",
        "-3 7\n",
        "5\n",
        "x -5\n",
        "y 5\n",
        "y 3\n",
        "y -2\n",
        "x 2\n",
        "```\n",
        "\n",
        "**出力例（２）**\n",
        "\n",
        "```txt\n",
        "Fail\n",
        "```\n"
      ],
      "metadata": {
        "id": "FoIB7ESzrUJ_"
      }
    },
    {
      "cell_type": "code",
      "source": [
        "%%writefile practice_03e.cpp\n",
        "#include <iostream>\n",
        "#include <string>\n",
        "using namespace std;\n",
        "\n",
        "int main() {\n",
        "  // この下に、スイカ割りの成功・失敗を判定するプログラムを書く\n",
        "\n",
        "}"
      ],
      "metadata": {
        "id": "xtZE-0tsrUKA"
      },
      "execution_count": null,
      "outputs": []
    },
    {
      "cell_type": "code",
      "source": [
        "# @title 動作テスト\n",
        "!g++ -std=c++20 -O2 -Wall -Wextra -o practice_03e practice_03e.cpp && echo \"この下をクリックしてスイカの座標、声掛け回数、声掛けデータを入力:\" && ./practice_03e"
      ],
      "metadata": {
        "cellView": "form",
        "id": "4wXciZ6wrUKA"
      },
      "execution_count": null,
      "outputs": []
    },
    {
      "cell_type": "code",
      "source": [
        "# @title 実行\n",
        "!diff -Z <(echo -e \"Success\\nSuccess\\nFail\") <(g++ -std=c++20 -O2 -Wall -Wextra -o practice_03e practice_03e.cpp && echo \"5 5 2 x 5 y 5\" | ./practice_03e && echo \"1 1 3 x 1 y 1 x -1\" | ./practice_03e && echo \"-3 7 5 x -5 y 5 y 3 y -2 x 2\" | ./practice_03e) > nil && test $? -eq 0 && echo -e \"\\033[32;1mAC\" || echo -e \"\\033[31;1mWA\""
      ],
      "metadata": {
        "cellView": "form",
        "id": "-u_GiLE_rUKA"
      },
      "execution_count": null,
      "outputs": []
    },
    {
      "cell_type": "code",
      "source": [
        "# @title 🔒解答例(どうしても問題を解けない場合に見てください)\n",
        "%%writefile practice_03e.cpp\n",
        "#include <iostream>\n",
        "#include <string>\n",
        "using namespace std;\n",
        "\n",
        "int main() {\n",
        "  // この下に、スイカ割りの成功・失敗を判定するプログラムを書く\n",
        "  int wx, wy;\n",
        "  cin >> wx >> wy;\n",
        "\n",
        "  int n;\n",
        "  cin >> n;\n",
        "\n",
        "  int hx = 0, hy = 0;\n",
        "  bool success = false;\n",
        "  for (int i = 0; i < n; i++) {\n",
        "    string a;\n",
        "    int b;\n",
        "    cin >> a >> b;\n",
        "\n",
        "    if (a == \"x\") {\n",
        "      hx += b;\n",
        "    } else if (a == \"y\") {\n",
        "      hy += b;\n",
        "    }\n",
        "\n",
        "    if (wx == hx && wy == hy) {\n",
        "      success = true;\n",
        "      break;\n",
        "    }\n",
        "  }\n",
        "\n",
        "  if (success) {\n",
        "    cout << \"Success\" << endl;\n",
        "  } else {\n",
        "    cout << \"Fail\" << endl;\n",
        "  }\n",
        "}"
      ],
      "metadata": {
        "cellView": "form",
        "id": "tGxdsVl9rUKA"
      },
      "execution_count": null,
      "outputs": []
    },
    {
      "cell_type": "markdown",
      "source": [
        "### ❓️問題１４ プライム・ナンバー\n",
        "\n",
        "2～100の範囲の整数Xが入力されます。Xが「素数」なら`Yes`、「素数ではない」なら`No`を出力するプログラムを作成しなさい。\n",
        "\n",
        ">**【素数とは】**<br>\n",
        ">`1`とその数自身でしか割り切れない、つまり「約数が2つの自然数」のこと。<br>\n",
        ">言い換えると、`2`～`その数-1`まで範囲に、ひとつでも割り切れる数があるなら素数ではない。\n",
        "\n",
        "<br><details><summary>🗝️(クリックでヒントを見る)</summary>\n",
        "\n",
        "* ループ変数`i`を`2`で初期化する。\n",
        "* `return 0`を使ってループを終わらせる。\n",
        "\n",
        "**プログラム例**\n",
        "\n",
        "1. 整数を表す変数`n`を宣言する\n",
        "2. `cin`から、変数`n`に整数を読み込む\n",
        "3. for文を使って、「変数`i`が`2`から`n - 1`まで1ずつ大きくなる」ループを作成し、以下の処理を行う\n",
        "   1. if文を使って、整数を`i`で割ったあまりが`0`なら、`cout`に`No`と改行を出力し、`return 0`を実行する\n",
        "5. `cout`に`Yes`と改行を出力する\n",
        "\n",
        "</details><br>\n",
        "\n",
        "**入力データ例（１）**\n",
        "\n",
        "```txt\n",
        "3\n",
        "```\n",
        "\n",
        "**出力例（１）**\n",
        "\n",
        "```txt\n",
        "Yes\n",
        "```\n",
        "\n",
        "3は、1と3でしか割り切れないので素数です。\n",
        "\n",
        "**入力データ例（２）**\n",
        "\n",
        "```txt\n",
        "8\n",
        "```\n",
        "\n",
        "**出力例（２）**\n",
        "\n",
        "```txt\n",
        "No\n",
        "```\n",
        "\n",
        "8は、1と2と4と8で割り切れるので素数ではありません。\n",
        "\n",
        "**入力データ例（３）**\n",
        "\n",
        "```txt\n",
        "57\n",
        "```\n",
        "\n",
        "**出力例（３）**\n",
        "\n",
        "```txt\n",
        "No\n",
        "```\n",
        "\n",
        "57は、1と3と19で割り切れるので素数ではありません。\n"
      ],
      "metadata": {
        "id": "hJzrQva9yRdS"
      }
    },
    {
      "cell_type": "code",
      "source": [
        "%%writefile practice_03f.cpp\n",
        "#include <iostream>\n",
        "using namespace std;\n",
        "\n",
        "int main() {\n",
        "  // この下に、整数Xを読み込んで素数の判定を行うプログラムを書く\n",
        "\n",
        "}"
      ],
      "metadata": {
        "id": "-GePEPh0yRdS"
      },
      "execution_count": null,
      "outputs": []
    },
    {
      "cell_type": "code",
      "source": [
        "# @title 動作テスト\n",
        "!g++ -std=c++20 -O2 -Wall -Wextra -o practice_03f practice_03f.cpp && echo \"この下をクリックして自然数を入力:\" && ./practice_03f"
      ],
      "metadata": {
        "cellView": "form",
        "id": "oWqWX2n8yRdT"
      },
      "execution_count": null,
      "outputs": []
    },
    {
      "cell_type": "code",
      "source": [
        "# @title 実行\n",
        "!diff -Z <(echo -e \"Yes\\nNo\\nNo\\nYes\\nNo\") <(g++ -std=c++20 -O2 -Wall -Wextra -o practice_03f practice_03f.cpp && echo 3 | ./practice_03f && echo 8 | ./practice_03f && echo 39 | ./practice_03f && echo 59 | ./practice_03f && echo 91 | ./practice_03f) > nil && test $? -eq 0 && echo -e \"\\033[32;1mAC\" || echo -e \"\\033[31;1mWA\""
      ],
      "metadata": {
        "cellView": "form",
        "id": "0yK96gIQyRdT"
      },
      "execution_count": null,
      "outputs": []
    },
    {
      "cell_type": "code",
      "source": [
        "# @title 🔒解答例(どうしても問題を解けない場合に見てください)\n",
        "%%writefile practice_03f.cpp\n",
        "#include <iostream>\n",
        "using namespace std;\n",
        "\n",
        "int main() {\n",
        "   // この下に、整数Xを読み込んで素数の判定を行うプログラムを書く\n",
        "  int x;\n",
        "  cin >> x;\n",
        "\n",
        "  // 2以上の数値について、ひとつでも割り切れる数があれば、素数ではないと判定する\n",
        "  for (int i = 2; i < x; i++) {\n",
        "    if (x % i == 0) {\n",
        "      cout << \"No\" << endl;\n",
        "      return 0;\n",
        "    }\n",
        "  }\n",
        "\n",
        "  // 割り切れる数が見つからなかったので、素数と判定する\n",
        "  cout << \"Yes\" << endl;\n",
        "}"
      ],
      "metadata": {
        "cellView": "form",
        "id": "gkNJNhGRyRdT"
      },
      "execution_count": null,
      "outputs": []
    },
    {
      "cell_type": "markdown",
      "source": [
        "### ❓️問題１５ 九九\n",
        "\n",
        "九九の表を出力するプログラムを作成しなさい。\n",
        "\n",
        "* 数値の前に、1文字の半角空白を出力すること。\n",
        "* 数値が一桁の場合、さらに1文字の半角空白を出力すること(合計2文字)。\n",
        "\n",
        "<br><details><summary>🗝️(クリックでヒントを見る)</summary>\n",
        "\n",
        "**プログラム例**\n",
        "\n",
        "1. for文を使って、変数`a`を1から9まで増やしながら、以下の処理を繰り返す\n",
        "   >1. for文を使って、変数`b`を1から9まで増やしながら、以下の処理を繰り返す\n",
        "   >   >1. if文を使って、`a * b`の結果が1桁なら空白を2個出力し、そうでなければ空白を1個出力する\n",
        "   >   >2. `a * b`を出力する\n",
        "   >2. 改行を出力する\n",
        "\n",
        "</details><br>\n",
        "\n",
        "**出力例：**\n",
        "\n",
        "```txt\n",
        " 1  2  3  4  5  6  7  8  9\n",
        " 2  4  6  8 10 12 14 16 18\n",
        " 3  6  9 12 15 18 21 24 27\n",
        " 4  8 12 16 20 24 28 32 26\n",
        " 5 10 15 20 25 30 35 40 45\n",
        " 6 12 18 24 30 36 42 48 54\n",
        " 7 14 21 28 35 42 49 56 63\n",
        " 8 16 24 32 40 48 56 64 72\n",
        " 9 18 27 36 45 54 63 72 81\n",
        "```\n"
      ],
      "metadata": {
        "id": "Aeps-ULkgIJF"
      }
    },
    {
      "cell_type": "code",
      "source": [
        "%%writefile practice_04a.cpp\n",
        "#include <iostream>\n",
        "using namespace std;\n",
        "\n",
        "int main() {\n",
        "  // この下に、九九の表を出力するプログラムを書く\n",
        "\n",
        "}"
      ],
      "metadata": {
        "id": "WQXO5DOwhvE9"
      },
      "execution_count": null,
      "outputs": []
    },
    {
      "cell_type": "code",
      "source": [
        "# @title 動作テスト\n",
        "!g++ -std=c++20 -O2 -Wall -Wextra -o practice_04a practice_04a.cpp && ./practice_04a"
      ],
      "metadata": {
        "cellView": "form",
        "id": "cQiewG2nIPrg"
      },
      "execution_count": null,
      "outputs": []
    },
    {
      "cell_type": "code",
      "source": [
        "# @title 実行\n",
        "!diff -Z <(echo -e \"  1  2  3  4  5  6  7  8  9\\n  2  4  6  8 10 12 14 16 18\\n  3  6  9 12 15 18 21 24 27\\n  4  8 12 16 20 24 28 32 36\\n  5 10 15 20 25 30 35 40 45\\n  6 12 18 24 30 36 42 48 54\\n  7 14 21 28 35 42 49 56 63\\n  8 16 24 32 40 48 56 64 72\\n  9 18 27 36 45 54 63 72 81\") <(g++ -std=c++20 -O2 -Wall -Wextra -o practice_04a practice_04a.cpp && ./practice_04a) > nil && test $? -eq 0 && echo -e \"\\033[32;1mAC\" || echo -e \"\\033[31;1mWA\""
      ],
      "metadata": {
        "cellView": "form",
        "id": "6W9lyMsChvE-"
      },
      "execution_count": null,
      "outputs": []
    },
    {
      "cell_type": "code",
      "source": [
        "# @title 🔒解答例(どうしても問題を解けない場合に見てください)\n",
        "%%writefile practice_04a.cpp\n",
        "#include <iostream>\n",
        "#include <string>\n",
        "using namespace std;\n",
        "\n",
        "int main() {\n",
        "  // この下に、九九の表を出力するプログラムを書く\n",
        "  for (int a = 1; a <= 9; a++) {\n",
        "    for (int b = 1; b <= 9; b++) {\n",
        "      if (a * b < 10) {\n",
        "        cout << \"  \" << a * b;\n",
        "      } else {\n",
        "        cout << \" \" << a * b;\n",
        "      }\n",
        "    }\n",
        "    cout << endl;\n",
        "  }\n",
        "}"
      ],
      "metadata": {
        "cellView": "form",
        "id": "sJrrqtPhV8I5"
      },
      "execution_count": null,
      "outputs": []
    },
    {
      "cell_type": "markdown",
      "source": [
        "### ❓️問題１６ ハイエスト・スコアラー\n",
        "\n",
        "N人の学生がM回の試験を受けた結果から、合計点が最も高い学生の名前を出力するプログラムを作成しなさい。\n",
        "\n",
        "試験結果は以下の形式で入力されます。\n",
        "\n",
        "```txt\n",
        "学生の人数 試験回数\n",
        "1人目の名前 1回目の成績 2回目の成績 ... M回目の成績\n",
        "2人目の名前 1回目の成績 2回目の成績 ... M回目の成績\n",
        "...\n",
        "N人目の名前 1回目の成績 2回目の成績 ... M回目の成績\n",
        "```\n",
        "\n",
        "<br><details><summary>🗝️(クリックでヒントを見る)</summary>\n",
        "\n",
        "**プログラム例**\n",
        "\n",
        "1. 学生の人数をあらわす変数`n`と、試験回数をあらわす変数`m`を宣言する\n",
        "2. `cin`から、学生の人数と試験回数を読み込む\n",
        "3. 最高得点をあらわす変数`best_score`を宣言し、`0`で初期化する\n",
        "4. 最高得点を取った学生の名前をあらわす変数`best_name`を宣言する\n",
        "5. for文を使って、以下の処理を`n`回繰り返す\n",
        "   >1. 名前をあらわす変数`name`を宣言する\n",
        "   >2. `cin`から、学生の名前を読み込む\n",
        "   >3. 合計点をあらわす変数`total`を宣言し、`0`で初期化する\n",
        "   >4. for文を使って、以下の処理を`m`回繰り返す\n",
        "   >   >1. 得点をあらわす変数`a`を宣言する\n",
        "   >   >2. `cin`から、得点を読み込む\n",
        "   >   >3. `total`に`a`を足す\n",
        "   >5. if文を使って、`total`が`best_score`より大きければ以下の処理を行う\n",
        "   >   >1. `best_score`に`total`を代入する\n",
        "   >   >2. `best_name`に`name`を代入する\n",
        "6. `cout`に、`best_name`と改行をこの順番で出力する\n",
        "\n",
        "</details><br>\n",
        "\n",
        "**入力データ例（１）**\n",
        "\n",
        "```txt\n",
        "3 4\n",
        "コーディ 8 6 5 6\n",
        "ハガー 6 10 7 3\n",
        "ガイ 9 4 6 8\n",
        "```\n",
        "\n",
        "**出力例（１）**\n",
        "\n",
        "```txt\n",
        "ガイ\n",
        "```\n",
        "\n",
        "**入力データ例（１）**\n",
        "\n",
        "```txt\n",
        "2 9\n",
        "アンジェリーク 7 8 6 4 5 9 4 7 6\n",
        "ロザリア 8 8 5 5 7 6 3 5 8\n",
        "```\n",
        "\n",
        "**出力例（１）**\n",
        "\n",
        "```txt\n",
        "アンジェリーク\n",
        "```\n"
      ],
      "metadata": {
        "id": "hiNXw3SCtJgT"
      }
    },
    {
      "cell_type": "code",
      "source": [
        "%%writefile practice_04b.cpp\n",
        "#include <iostream>\n",
        "using namespace std;\n",
        "\n",
        "int main() {\n",
        "  // この下に、最高得点を取った学生の名前を出力するプログラムを書く\n",
        "\n",
        "}"
      ],
      "metadata": {
        "id": "DRzNKl7PtJgT"
      },
      "execution_count": null,
      "outputs": []
    },
    {
      "cell_type": "code",
      "source": [
        "# @title 動作テスト\n",
        "!g++ -std=c++20 -O2 -Wall -Wextra -o practice_04b practice_04b.cpp && echo \"この下をクリックして、試験結果を入力する:\" && ./practice_04b"
      ],
      "metadata": {
        "cellView": "form",
        "id": "x6I6QFq8tJgU"
      },
      "execution_count": null,
      "outputs": []
    },
    {
      "cell_type": "code",
      "source": [
        "# @title 実行\n",
        "!diff -Z <(echo -e \"ガイ\\nアンジェリーク\") <(g++ -std=c++20 -O2 -Wall -Wextra -o practice_04b practice_04b.cpp && echo \"3 4 コーディ 8 6 5 6 ハガー 6 10 7 3 ガイ 9 4 6 8\" | ./practice_04b && echo \"2 9 アンジェリーク 7 8 6 4 5 9 4 7 6 ロザリア 8 8 5 5 7 6 3 5 8\" | ./practice_04b) > nil && test $? -eq 0 && echo -e \"\\033[32;1mAC\" || echo -e \"\\033[31;1mWA\""
      ],
      "metadata": {
        "cellView": "form",
        "id": "80LyHigptJgU"
      },
      "execution_count": null,
      "outputs": []
    },
    {
      "cell_type": "code",
      "source": [
        "# @title 🔒解答例(どうしても問題を解けない場合に見てください)\n",
        "%%writefile practice_04b.cpp\n",
        "#include <iostream>\n",
        "#include <string>\n",
        "using namespace std;\n",
        "\n",
        "int main() {\n",
        "  // この下に、最高得点を取った学生の名前を出力するプログラムを書く\n",
        "  int n, m;\n",
        "  cin >> n >> m;\n",
        "\n",
        "  string best_name;\n",
        "  int best_score = 0;\n",
        "\n",
        "  for (int a = 0; a < n; a++) {\n",
        "    string name;\n",
        "    cin >> name;\n",
        "\n",
        "    int total = 0;\n",
        "\n",
        "    for (int b = 0; b < m; b++) {\n",
        "      int a;\n",
        "      cin >> a;\n",
        "      total += a;\n",
        "    }\n",
        "\n",
        "    if (total > best_score) {\n",
        "      best_score = total;\n",
        "      best_name = name;\n",
        "    }\n",
        "  }\n",
        "\n",
        "  cout << best_name << endl;\n",
        "}"
      ],
      "metadata": {
        "cellView": "form",
        "id": "nM4ayZcftJgU"
      },
      "execution_count": null,
      "outputs": []
    }
  ]
}