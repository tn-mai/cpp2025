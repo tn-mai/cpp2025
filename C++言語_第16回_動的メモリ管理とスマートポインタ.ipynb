{
  "nbformat": 4,
  "nbformat_minor": 0,
  "metadata": {
    "colab": {
      "provenance": [],
      "toc_visible": true
    },
    "kernelspec": {
      "name": "python3",
      "display_name": "Python 3"
    },
    "language_info": {
      "name": "python"
    }
  },
  "cells": [
    {
      "cell_type": "markdown",
      "source": [
        "# 動的メモリ管理とスマートポインタ\n"
      ],
      "metadata": {
        "id": "gmf-TFF4O2cr"
      }
    },
    {
      "cell_type": "markdown",
      "source": [
        "----\n",
        "\n",
        "## 1 　３種類のメモリ管理\n",
        "\n",
        "----\n"
      ],
      "metadata": {
        "id": "CFcQ6EDBO7ua"
      }
    },
    {
      "cell_type": "markdown",
      "source": [
        "### 1.1 メモリの管理方法について\n",
        "\n",
        "これまで何度か「変数はメモ帳に書かれたメモ」という例え話をしてきました。<br>\n",
        "実は、コンピュータがメモを扱う方法は、次の3種類に分けられます。\n",
        "\n",
        "* 自動的な管理\n",
        "* 静的(せいてき)な管理\n",
        "* 動的(どうてき)な管理\n"
      ],
      "metadata": {
        "id": "HT2nz2mWYwmg"
      }
    },
    {
      "cell_type": "markdown",
      "source": [
        "### 1.2 自動的な管理\n",
        "\n",
        "「自動的な管理」は、関数の中で宣言する変数の扱い方です。<br>\n",
        "宣言した時点でメモ帳に書かれ、スコープが終了するとメモ帳から消されます。\n",
        "\n",
        "この種類の変数は「ローカル変数」と呼ばれます。<br>\n",
        "次のプログラムで使われている変数は、すべてローカル変数です。\n",
        "\n",
        "**コード**\n",
        "\n",
        "```cpp\n",
        "#include <iostream>\n",
        "#include <string>\n",
        "using namespace std;\n",
        "\n",
        "double f(int a) { // aはローカル変数\n",
        "  double x = a * 2; // xはローカル変数\n",
        "  return x;\n",
        "}\n",
        "\n",
        "int main() {\n",
        "  int y = f(10); // yはローカル変数\n",
        "  cout << y << endl;\n",
        "\n",
        "  string s = \"123\"; // sはローカル変数\n",
        "  for (int i = 0; i < (int)s.size(); i++) { // iはローカル変数\n",
        "    cout << s[i] << \" \";\n",
        "  }\n",
        "}\n",
        "```\n",
        "\n",
        "同じスコープに属するローカル変数は、宣言とは逆順に削除されます。<br>\n",
        "例えば、上記のプログラムの場合、同じスコープに属する`y`と`s`は、`s`→`y`の順で削除されます。\n"
      ],
      "metadata": {
        "id": "_iOTjqiDHgIA"
      }
    },
    {
      "cell_type": "markdown",
      "source": [
        "### 1.3 静的(せいてき)な管理\n",
        "\n",
        "「静的な管理」は、関数の外で定義する、または`static`(スタティック)キーワードを付けて宣言する変数の扱い方です。<br>\n",
        "プログラムの実行直後、`main`関数が始まるより前にメモが作られ、プログラムが終了するまで消えません。\n",
        "\n",
        "この種類の変数は「スタティック変数」と呼ばれます。<br>\n",
        "さらに、関数の外で宣言したスタティック変数は、特別に「グローバル変数」と呼ばれます。\n",
        "\n",
        "スタティック変数は安全に使うことが難しいため、多用してはいけません。\n",
        "\n",
        "次のプログラムは、スタティック変数を使った例です。\n",
        "\n",
        "**コード**\n",
        "\n",
        "```cpp\n",
        "#include <iostream>\n",
        "#include <string>\n",
        "using namespace std;\n",
        "\n",
        "int x = 3; // xはグローバル変数(スタティック変数)\n",
        "string s = \"abc\"; // sはグローバル変数(スタティック変数)\n",
        "\n",
        "int f(int a) {\n",
        "  static int y = 0; // yはスタティック変数\n",
        "  y += a;\n",
        "  return y;\n",
        "}\n",
        "\n",
        "int main() {\n",
        "  cout << f(x) << endl;\n",
        "  cout << f(5) << endl;\n",
        "  cout << s << endl;\n",
        "}\n",
        "```\n",
        "\n",
        "**実行結果**\n",
        "\n",
        "```txt\n",
        "3\n",
        "8\n",
        "abc\n",
        "```\n",
        "\n",
        "関数`f`の2回目の呼び出しで、戻り値が`5`ではなく`8`になっている点に注目してください。<br>\n",
        "スタティック変数は関数が終了しても削除されないので、最後に関数を実行したときの値が残っているのです。\n",
        "\n",
        "スタティック変数は、宣言とは逆順に削除されます。<br>\n",
        "例えば、上記のプログラムのスタティック変数`x`と`s`は、`s`→`x`の順で削除されます。\n",
        "\n",
        ">`static`(スタティック)は「長い間動かず、変化せず、その場に留まる。静的。」という意味です。<br>\n",
        ">`global`(グローバル)は「全世界。世界的な」という意味です。プログラミング用語では「プログラムのどこからでも見える、使える」ことを意味します。\n"
      ],
      "metadata": {
        "id": "UrBk7xt2JGJj"
      }
    },
    {
      "cell_type": "markdown",
      "source": [
        "### 1.4 動的(どうてき)な管理\n",
        "\n",
        "「動的な管理」では、プログラムからの指示で、好きなときにメモを作ったり消したりできます。<br>\n",
        "メモがどこに作られるかはコンピュータまかせです。<br>\n",
        "プログラムからは「メモの位置」、つまりポインタや参照を使ってメモを読み書きします。\n",
        "\n",
        "動的な管理で作成されたデータは、「オブジェクト」などと呼ばれます。\n",
        "\n",
        "動的な管理では、`new`キーワードや`delete`キーワードを使って確保したメモリに、データを保存します。<br>\n",
        "データの読み書きには、メモリアドレスを記録したポインタを使います。\n",
        "\n",
        "\n",
        "\n",
        "```cpp\n",
        "#include <iostream>\n",
        "#include <string>\n",
        "using namespace std;\n",
        "\n",
        "int* f(int a) {\n",
        "  int* p = new int(a); // int型のオブジェクトを作成\n",
        "  return p; // オブジェクトのアドレスを返す\n",
        "}\n",
        "\n",
        "int main() {\n",
        "  int* x = f(1); // オブジェクトのアドレスを受け取る\n",
        "  string* y = new string(\"23\"); // string型のオブジェクトを作成\n",
        "\n",
        "  cout << *x << *y << endl;\n",
        "\n",
        "  delete y; // yが指すアドレスにあるオブジェクトを削除\n",
        "  delete x; // xが指すアドレスにあるオブジェクトを削除\n",
        "}\n",
        "```\n",
        "\n",
        "**実行結果**\n",
        "\n",
        "```txt\n",
        "123\n",
        "```\n",
        "\n",
        "`new`によって作成されたデータは、`delete`されるまで消えることはありません。<br>\n",
        "そのため、スコープを超えてデータをやり取りできます。\n",
        "\n",
        "自動的な管理や静的な管理では、データの削除はコンピュータが管理しました。<br>\n",
        "ですが、動的な管理では、プログラマが責任を持ってデータを削除(`delete`を使うなど)しなくてはなりません。\n"
      ],
      "metadata": {
        "id": "M-Jg_HuNJUdo"
      }
    },
    {
      "cell_type": "markdown",
      "source": [
        "----\n",
        "\n",
        "## 2 安全でない動的メモリ管理\n",
        "\n",
        "----\n"
      ],
      "metadata": {
        "id": "mjtCW58pJ327"
      }
    },
    {
      "cell_type": "markdown",
      "source": [
        "### 2.1 動的メモリ管理を使う理由\n",
        "\n",
        "プログラムから利用できるメモリは、コンピュータに搭載されている物理的な「メモリ」そのものです。<br>\n",
        "コンピュータのOSがプログラムを実行するとき、「物理的なメモリ」の一部をプログラム用に割り当てます。<br>\n",
        "そして、プログラムは、割り当てられたメモリの範囲内で、必要な処理を実行します。\n",
        "\n",
        "以下の図は、OSから割り当てられたメモリの概念図です。\n",
        "\n",
        "$$\n",
        "\\boxed{プログラム本体}\\boxed{スタティック}\\boxed{　　　　ヒープ　　　　}\\boxed{スタック}\n",
        "$$\n",
        "\n",
        "* プログラム本体: プログラム自身が読み込まれるメモリ領域です。\n",
        "* スタティック: 「静的メモリ管理」用のメモリ領域です。\n",
        "* ヒープ: 「動的メモリ管理」用のメモリ領域です。\n",
        "* スタック: 「自動的メモリ管理」用のメモリ領域です。\n",
        "\n",
        "一般的には、「ヒープ」が最大のメモリ容量を持ちます。柔軟なメモリ管理ができるのは、動的メモリ管理だけだからです。\n",
        "\n",
        "小規模なプログラムであれば、「自動的な管理」と「静的な管理」に必要なだけのメモリがあれば、十分に処理を完了させられます。\n",
        "\n",
        "しかし、ある程度以上の規模を持つプログラムでは、割り当てられたメモリが、すべての処理を行うために必要なメモリ量より少ない、という事態が発生します。\n",
        "\n",
        ">例えば、2025年現在のゲーム機のメモリ容量はおよそ4GB～32GBです。しかし、ゲームアプリの容量は数百GBに達することもあり、とてもすべてをメモリに読み込むことはできません。\n",
        "\n",
        "「動的メモリ管理」を使うと、「ある処理を実行中だけ必要なメモリ」を作成し、必要がなくなったら「他の処理のために削除」できるようになります。\n",
        "\n",
        "C++には、標準で以下の2つの動的メモリ管理が組み込まれています。\n",
        "\n",
        "* `new`(ニュー)キーワードと`delete`キーワードを使ったメモリ管理\n",
        "* `malloc`(マロック)関数と`free`(フリー)関数を使ったメモリ管理\n",
        "\n",
        "ただし、これらの基本機能は安全性に問題があるため、2025年現在では直接使われことは少なくなっています。<br>\n",
        "しかし、あとで説明する「安全な動的メモリ管理」でも、内部的にはこれらの機能を使っています。\n",
        "\n",
        "また、これらの機能が使われているプログラムを見たり、利用したりすることもあるでしょう。<br>\n",
        "そこで、この章では、基本的なメモリ管理の使いかたを解説します。\n"
      ],
      "metadata": {
        "id": "-EAB7cvzQvS-"
      }
    },
    {
      "cell_type": "markdown",
      "source": [
        "### 2.2 newとdelete\n",
        "\n",
        "`new`(ニュー)と`delete`(デリート)は、C++言語の最も基本的な動的メモリ管理の仕組みです。\n",
        "\n",
        "動的メモリ管理では、実際には「ヒープ」と呼ばれるメモリ領域を管理します。\n",
        "\n",
        "プログラムが起動すると、ヒープメモリ全体が「未使用」状態に設定されます。<br>\n",
        "`new`が呼ばれると、ヒープメモリの一部を「使用中」に設定し、そのアドレスを返します。<br>\n",
        "`delete`が呼ばれると、アドレスで指定されたメモリを「未使用」に戻します。\n",
        "\n",
        "`new`キーワードの書式は次のようになっています。\n",
        "\n",
        ">**書式**\n",
        ">\n",
        ">```cpp\n",
        ">new 型;\n",
        ">new 型(初期値);\n",
        ">new 型[要素数];\n",
        ">```\n",
        ">\n",
        ">**戻り値**\n",
        ">\n",
        ">最初の2つの形式では、指定された型を格納するためのメモリを確保し、型のコンストラクタを呼び出し、確保したメモリのアドレスを返します。\n",
        ">\n",
        ">`new 型[要素数]`の形式では、「要素数」で指定されたサイズの配列を格納するメモリを確保し、すべての要素にコンストラクタを呼び出して、配列の先頭アドレスを返します。この形式では初期値を指定できません。\n",
        ">\n",
        ">どの形式でも、戻り値の型は「指定した型のポインタ型」となります(例: `new int`の場合`int*`)。\n",
        "\n",
        "`delete`キーワードの書式は次のようになっています。\n",
        "\n",
        ">**書式**\n",
        ">\n",
        ">```cpp\n",
        ">delete ポインタ変数;\n",
        ">delete[] ポインタ変数;\n",
        ">```\n",
        ">\n",
        ">**戻り値**\n",
        ">\n",
        ">ポインタ変数が指すオブジェクトのデストラクタを実行し、メモリを開放して他のプログラムから使えるようにします。<br>\n",
        ">`delete[]`形式は配列用です。配列ではない変数に`delete[]`を使ったり、逆に配列変数に`delete`を使ってしまうと、論理エラーや実行時エラーが起こりります。\n",
        "\n",
        "次のプログラムは、`new`と`delete`の使用例です。\n",
        "\n",
        "**コード**\n",
        "\n",
        "```cpp\n",
        "#include <iostream>\n",
        "using namespace std;\n",
        "\n",
        "struct Enemy {\n",
        "  Enemy(int h, int p, int a) : hp(h), power(p), armor(a) { cout << \"コンストラクタを実行\" << endl; }\n",
        "  ~Enemy() { cout << \"デストラクタを実行\" << endl; }\n",
        "\n",
        "  int hp, power, armor;\n",
        "};\n",
        "\n",
        "int main() {\n",
        "  Enemy* p = new Enemy(6, 4, 3); // Enemyオブジェクトを作成\n",
        "\n",
        "  cout << p->hp << ' ' << p->power << ' ' << p->armor << endl;\n",
        "\n",
        "  delete p; // Enemyオブジェクトを削除\n",
        "}\n",
        "```\n",
        "\n",
        "**実行結果**\n",
        "\n",
        "```txt\n",
        "コンストラクタを実行\n",
        "6 4 3\n",
        "デストラクタを実行\n",
        "```\n",
        "\n",
        "`new`と`delete`をつかうとき、最も重要なことは「必ず`delete`を実行する」ことです。<br>\n",
        "動的な管理で作成されたオブジェクトは、`delete`を実行しない限り削除されないからです。<br>\n",
        "もし削除し忘れると、オブジェクトが占めていたメモリ領域は「使用中」のままになり、プログラムが終了するまで二度と使えなくなってしまうからです。<br>\n",
        "この状態は「メモリ・リーク(メモリ漏れ)」と呼ばれています。\n"
      ],
      "metadata": {
        "id": "l1-e6pZyYyWp"
      }
    },
    {
      "cell_type": "markdown",
      "source": [
        "#### メモリ・リーク\n",
        "\n",
        "コンピュータに搭載されているメモリは有限なので、メモリ・リークが頻発すると、コンピュータ全体で使用できるメモリがどんどん減っていきます。\n",
        "その結果、徐々にコンピュータの実行効率が低下し、最終的には実行時エラーを起こしてアプリが強制終了します。\n",
        "\n",
        "また、ポインタは「どこかの変数を参照している」状態と、「`new`で作られたオブジェクトを参照している」状態を区別できません。\n",
        "\n",
        "そのため、プログラマが「このポインタは`new`で作ったやつを参照してるから、`delete`しなくちゃ」という判断をしなくてはなりません。<br>\n",
        "もし判断を間違えると「メモリ・リーク」が起こります。\n"
      ],
      "metadata": {
        "id": "G_p0LVDQACHQ"
      }
    },
    {
      "cell_type": "markdown",
      "source": [
        "#### deleteしたメモリを読み書きしない\n",
        "\n",
        "`delete`によって削除したあとのオブジェクトを読み書きしないように、注意する必要があります。<br>\n",
        "もし削除したオブジェクトを読み書きしようとすると「実行時エラー」や「論理エラー」が発生します。\n",
        "\n",
        "**コード**\n",
        "\n",
        "```cpp\n",
        "#include <iostream>\n",
        "using namespace std;\n",
        "\n",
        "struct Enemy {\n",
        "  Enemy(int h, int p, int a) : hp(h), power(p), armor(a) { cout << \"コンストラクタを実行\" << endl; }\n",
        "  ~Enemy() { cout << \"デストラクタを実行\" << endl; }\n",
        "\n",
        "  int hp, power, armor;\n",
        "};\n",
        "\n",
        "int main() {\n",
        "  Enemy* p = new Enemy(6, 4, 3); // Enemyオブジェクトを作成\n",
        "\n",
        "  cout << p->hp << ' ' << p->power << ' ' << p->armor << endl;\n",
        "\n",
        "  delete p; // Enemyオブジェクトを削除\n",
        "\n",
        "  // 削除したオブジェクトのデータを読もうとすると…\n",
        "  cout << p->hp << ' ' << p->power << ' ' << p->armor << endl;\n",
        "}\n",
        "```\n",
        "\n",
        "**実行結果**\n",
        "\n",
        "```txt\n",
        "コンストラクタを実行\n",
        "6 4 3\n",
        "デストラクタを実行\n",
        "83096 0 -1910714224\n",
        "```\n"
      ],
      "metadata": {
        "id": "Rciv_z_E_5fJ"
      }
    },
    {
      "cell_type": "markdown",
      "source": [
        "#### 多重deleteをしない\n",
        "\n",
        "同じオブジェクトに`delete`を2回以上実行してしまうと、2回目の`delete`で「実行時エラー」が発生します。\n",
        "\n",
        "**コード**\n",
        "\n",
        "```cpp\n",
        "#include <iostream>\n",
        "using namespace std;\n",
        "\n",
        "struct Enemy {\n",
        "  Enemy(int h, int p, int a) : hp(h), power(p), armor(a) { cout << \"コンストラクタを実行\" << endl; }\n",
        "  ~Enemy() { cout << \"デストラクタを実行\" << endl; }\n",
        "\n",
        "  int hp, power, armor;\n",
        "};\n",
        "\n",
        "int main() {\n",
        "  Enemy* p = new Enemy(6, 4, 3); // Enemyオブジェクトを作成\n",
        "\n",
        "  cout << p->hp << ' ' << p->power << ' ' << p->armor << endl;\n",
        "\n",
        "  delete p; // Enemyオブジェクトを削除\n",
        "  delete p; // 削除済みのオブジェクトを再び削除しようとすると…\n",
        "}\n",
        "```\n",
        "\n",
        "**実行結果**\n",
        "\n",
        "```txt\n",
        "コンストラクタを実行\n",
        "6 4 3\n",
        "デストラクタを実行\n",
        "デストラクタを実行\n",
        "free(): double free detected in tcache 2\n",
        "```\n",
        "\n",
        "この多重`delete`問題に限れば、ポインタ変数に`nullptr`を代入することで回避できます(`delete`は`nullptr`に対して何もしないため)。<br>\n",
        "ただし、`nullptr`の代入で防げるのは多重`delete`だけです。他の問題は防げません。\n",
        "\n",
        "**コード**\n",
        "\n",
        "```cpp\n",
        "#include <iostream>\n",
        "using namespace std;\n",
        "\n",
        "struct Enemy {\n",
        "  Enemy(int h, int p, int a) : hp(h), power(p), armor(a) { cout << \"コンストラクタを実行\" << endl; }\n",
        "  ~Enemy() { cout << \"デストラクタを実行\" << endl; }\n",
        "\n",
        "  int hp, power, armor;\n",
        "};\n",
        "\n",
        "int main() {\n",
        "  Enemy* p = new Enemy(6, 4, 3); // Enemyオブジェクトを作成\n",
        "\n",
        "  cout << p->hp << ' ' << p->power << ' ' << p->armor << endl;\n",
        "\n",
        "  delete p; // Enemyオブジェクトを削除\n",
        "  p = nullptr; // 削除後に nullptr を代入\n",
        "  delete p; // p は nullptr なので何も起こらない\n",
        "}\n",
        "```\n",
        "\n",
        "**実行結果**\n",
        "\n",
        "```txt\n",
        "コンストラクタを実行\n",
        "6 4 3\n",
        "デストラクタを実行\n",
        "```\n"
      ],
      "metadata": {
        "id": "IE0Xscb6_sJF"
      }
    },
    {
      "cell_type": "markdown",
      "source": [
        "### 2.3 vectorと動的メモリ管理\n",
        "\n",
        "動的メモリ管理で作成したポインタを、`vector`配列に設定する場合、データを削除する前に`delete`を実行しなくてはなりません。\n",
        "\n",
        "**コード**\n",
        "\n",
        "```cpp\n",
        "#include <iostream>\n",
        "#include <vector>\n",
        "using namespace std;\n",
        "\n",
        "int main() {\n",
        "  vector<int*> v(5); // int*の配列\n",
        "\n",
        "  // newを使ってメモリを確保\n",
        "  for (int i = 0; i < 5; i++) {\n",
        "    v[i] = new int(i + 1);\n",
        "  }\n",
        "\n",
        "  for (auto i = v.begin(); i != v.end(); i++) {\n",
        "    cout << **i << \" \"; // イテレータとポインタで、'*'記号が2つ必要\n",
        "  }\n",
        "  cout << endl;\n",
        "\n",
        "  //v.pop_back(); // NG: メモリ・リーク\n",
        "  //v.claer(); // NG: メモリ・リーク\n",
        "\n",
        "  // OK\n",
        "  delete v.back();\n",
        "  v.pop_back();\n",
        "\n",
        "  // OK\n",
        "  for (auto i = v.begin() + 2; i != v.end(); i++) {\n",
        "    delete *i;\n",
        "  }\n",
        "  v.clear();\n",
        "}\n",
        "```\n",
        "\n",
        "`delete`せずにポインタ変数を削除してしまうと、メモリ・リークが起こります。<br>\n",
        "これは汎用アルゴリズムでも同様です。`remove`関数など、削除が起こりうる関数はすべて使えないと考えてください。\n"
      ],
      "metadata": {
        "id": "VH0MYMz1ZHjQ"
      }
    },
    {
      "cell_type": "markdown",
      "source": [
        "### 2.3 mallocとfree\n",
        "\n",
        "`malloc`(マロック)関数と`free`(フリー)関数は、C言語の動的メモリ管理の仕組みです。<br>\n",
        "C++ではほとんど使われないため、最低限の解説だけを行います。\n",
        "\n",
        "`malloc`関数の書式は次のようになっています。\n",
        "\n",
        ">**書式**\n",
        ">\n",
        ">```cpp\n",
        ">void* malloc(size_t size);\n",
        ">```\n",
        ">\n",
        ">**引数**\n",
        ">\n",
        ">* size&emsp;確保するメモリのバイト数\n",
        ">\n",
        ">**戻り値**\n",
        ">\n",
        ">少なくとも`size`バイトのメモリ領域を確保し、確保したメモリ領域の先頭アドレスを返します。<br>\n",
        ">戻り値の型は`void*`なので、必要な型にキャストして使います。\n",
        "\n",
        "`free`関数の書式は次のようになっています。\n",
        "\n",
        ">**書式**\n",
        ">\n",
        ">```cpp\n",
        ">void free(void* p);\n",
        ">```\n",
        ">\n",
        ">**引数**\n",
        ">\n",
        ">* p&emsp;解放するメモリアドレス\n",
        ">\n",
        "> 引数`p`が指すアドレスのメモリ領域を解放し、他のプログラムから使えるようにします。\n",
        "\n",
        "`new`と`delete`と比較したとき、最大の違いは「コンストラクタもデストラクタも実行しない」ことです。<br>\n",
        "そのため、コンストラクタやデストラクタを持つ構造体やクラスを`malloc`で作成しようとすると、かなり面倒なことになります。\n",
        "\n",
        "`int`などの組み込み型や、メンバ変数だけの構造体、クラスの場合は、`malloc`と`free`を使っても問題もありません。\n",
        "\n",
        "**コード**\n",
        "\n",
        "```cpp\n",
        "#include <iostream>\n",
        "using namespace std;\n",
        "\n",
        "struct Enemy {\n",
        "  int hp, power, armor;\n",
        "};\n",
        "\n",
        "int main() {\n",
        "  Enemy* p = (Enemy*)malloc(sizeof(Enemy));\n",
        "  p->hp = 6;\n",
        "  p->power = 4;\n",
        "  p->armor = 3;\n",
        "\n",
        "  cout << p->hp << ' ' << p->power << ' ' << p->armor << endl;\n",
        "\n",
        "  free(p);\n",
        "}\n",
        "```\n",
        "\n",
        "**実行結果**\n",
        "\n",
        "```txt\n",
        "6 4 3\n",
        "```\n",
        "\n",
        "`malloc`関数で確保したメモリは`free`関数で解放しなくてはなりません。<br>\n",
        "`new`と`delete`の場合と同様に、解放し忘れると「メモリ・リーク」が起こります。<br>\n",
        "削除したオブジェクトを読み書きすると「実行時エラー」や「論理エラー」が発生するのも同様です。\n",
        "\n",
        "また、あるポインタが`new`で作られたのか、`malloc`で作られたのかを区別する方法はありません。<br>\n",
        "そのため、プログラマが「このポインタは`malloc`で作ったやつだから、`free`を使わなくちゃ」という判断をする必要があります。<br>\n",
        "もし判断を間違えると「論理エラー」や「実行時エラー」が発生します。\n"
      ],
      "metadata": {
        "id": "JlmmejKkZzlU"
      }
    },
    {
      "cell_type": "markdown",
      "source": [
        "----\n",
        "\n",
        "## 3 安全な動的メモリ管理\n",
        "\n",
        "----\n"
      ],
      "metadata": {
        "id": "n6WF4TQGKAtJ"
      }
    },
    {
      "cell_type": "markdown",
      "source": [
        "### 3.1 スマート・ポインタ\n"
      ],
      "metadata": {
        "id": "eACLgpOKhsgB"
      }
    },
    {
      "cell_type": "markdown",
      "source": [
        "#### new, deleteの問題点\n",
        "\n",
        "`new`と`delete`を使う場合、問題のひとつは「`delete`のタイミングをプログラマが適切に管理する必要がある」ということでした。<br>\n",
        "そのため、うっかり必要なオブジェクトを`delete`してしまったり、些細な勘違いで`delete`を書き忘れてしまう危険性があります。\n",
        "\n",
        "これらの問題は、コンピュータが管理する「自動的なメモリ管理」や「静的なメモリ管理」では起こりません。<br>\n",
        "もし「動的なメモリ管理」でも、コンピュータに削除のタイミングを任せられるなら、問題の多くが解決されると期待できます。\n"
      ],
      "metadata": {
        "id": "5W3v3WHIB6F8"
      }
    },
    {
      "cell_type": "markdown",
      "source": [
        "#### スマートポインタで問題を解決\n",
        "\n",
        "そこで、「スマート・ポインタ」が開発されました。<br>\n",
        "スマートポインタは、オブジェクトを削除するタイミングを、コンピュータが管理できるように設計されたクラスです。<br>\n",
        "そのため、プログラマは削除のタイミングを考える必要はありません。\n",
        "\n",
        "C++には、次に示す3種類のスマート・ポインタがあります。\n",
        "\n",
        "* `shared_ptr`(シェアード・ポインタ): 標準的なスマートポインタ\n",
        "* `unique_ptr`(ユニーク・ポインタ): オブジェクトを指すポインタがひとつだけのスマートポインタ\n",
        "* `weak_ptr`(ウィーク・ポインタ): 「循環参照(じゅんかん・さんしょう)」という問題を解決するためのスマートポインタ\n",
        "\n",
        "これらのスマートポインタに共通する仕組みは、「デストラクタでメモリを解放する」というものです。<br>\n",
        "デストラクタは、変数を削除するときに自動的に呼び出されるので、変数が削除されると、自動的にメモリも解放されるわけです。\n",
        "\n",
        "この章では、基本となる`shared_ptr`だけ解説します。<br>\n",
        "`unique_ptr`と`weak_ptr`については、`cpprefjp.github.io`などのリファレンスサイトを見てください。\n"
      ],
      "metadata": {
        "id": "JIT9wtyUB3lw"
      }
    },
    {
      "cell_type": "markdown",
      "source": [
        "### 3.2 shared_ptr(シェアード・ポインタ)\n",
        "\n",
        "`shared_ptr`クラスは、C++の標準的なスマートポインタです。\n",
        "\n",
        "`shared_ptr`を使うには`<memory>`ヘッダをインクルードします。<br>\n",
        "`shared_ptr`は、テンプレートを使って次のように宣言されています。\n",
        "\n",
        "```cpp\n",
        "template<typename T>\n",
        "class shared_ptr;\n",
        "```\n",
        "\n",
        "動的メモリ管理される「オブジェクト」を作るには、`make_shared`(メイク・シェアード)関数を使います。\n",
        "\n",
        ">**書式**\n",
        ">\n",
        ">```cpp\n",
        ">template<typename T>\n",
        ">shared_ptr make_shared<T>(コンストラクタに渡す引数);\n",
        ">```\n",
        ">\n",
        ">**テンプレート引数**\n",
        ">\n",
        ">T&emsp;作成する型の名前\n",
        ">\n",
        ">**引数**\n",
        ">\n",
        ">Tに指定した型のコンストラクタに渡す引数です。<br>\n",
        ">内容はコンストラクタによって異なります。\n",
        ">\n",
        ">**戻り値**\n",
        ">\n",
        ">確保したメモリアドレスを管理する`shared_ptr`型の値を返します。\n",
        "\n",
        "`make_shared`関数は、次の処理を行います。\n",
        "\n",
        "1. 指定された「データの型」を記録するためのメモリ領域を、コンピュータの自由に使えるメモリ領域から確保する\n",
        "2. 確保したメモリ領域に対して「データの型」のコンストラクタを実行する\n",
        "3. 確保したメモリを管理する`shared_ptr`型のデータを返す。\n",
        "\n",
        "そして、`shared_ptr`型の変数が削除されると、次の処理が順番に実行されます。\n",
        "\n",
        "1. 「データの型」のデストラクタを実行する\n",
        "2. 参照しているメモリを開放し、他のプログラムから使えるようにする\n",
        "\n",
        ">より正確には、上記の処理が行われるのは「同じメモリを参照しているすべての`shared_ptr`が削除されたとき」です。\n",
        "\n",
        "次のプログラムは、`shared_ptr`型を使った例です。\n",
        "\n",
        "**コード**\n",
        "\n",
        "```cpp\n",
        "#include <iostream>\n",
        "#include <memory>\n",
        "using namespace std;\n",
        "\n",
        "struct Enemy {\n",
        "  Enemy(int h, int p, int a) : hp(h), power(p), armor(a) { cout << \"コンストラクタを実行\" << endl; }\n",
        "  ~Enemy() { cout << \"デストラクタを実行\" << endl; }\n",
        "\n",
        "  int hp, power, armor;\n",
        "};\n",
        "\n",
        "int main() {\n",
        "  auto p = make_shared<Enemy>(6, 4, 3);\n",
        "  cout << p->hp << ' ' << p->power << ' ' << p->armor << endl;\n",
        "}\n",
        "```\n",
        "\n",
        "**実行結果**\n",
        "\n",
        "```txt\n",
        "コンストラクタを実行\n",
        "6 4 3\n",
        "デストラクタを実行\n",
        "```\n",
        "\n",
        "プログラムでは、返された「アドレス」を`shared_ptr`変数に代入し、ポインタを使ってデータを読み書きします。<br>\n",
        "作成方法こそ普通のポインタとは異なりますが、使いかたは普通のポインタと同じです。\n"
      ],
      "metadata": {
        "id": "qdqbRaoA6kXJ"
      }
    },
    {
      "cell_type": "markdown",
      "source": [
        "#### 変数をコピーしたときの挙動\n",
        "\n",
        "普通のポインタ変数をコピーすると、コピー先のポインタ変数もおなじメモリアドレスを指します。<br>\n",
        "次のプログラムは、ポインタ変数のコピーの動作を示す例です。\n",
        "\n",
        "**コード**\n",
        "\n",
        "```cpp\n",
        "#include <iostream>\n",
        "using namespace std;\n",
        "\n",
        "int main() {\n",
        "  int* a = new int(10);\n",
        "\n",
        "  int* b = a; // aとbは同じメモリアドレスを指す\n",
        "\n",
        "  *b += 5;\n",
        "  cout << *a << endl; // 15が出力される\n",
        "\n",
        "  delete b; // OK: aとbは同じメモリアドレスを指している\n",
        "            //     bを通じてメモリを解放したので、aはdeleteする必要はない\n",
        "}\n",
        "```\n",
        "\n",
        "このくらい短いプログラムであれば、ポインタ変数`a`と`b`のどちらか片方を`delete`すれば、もう片方を`delete`する必要はないし、してはいけない、ということを覚えていられるでしょう。\n",
        "\n",
        "ですが、もっと長いプログラムで、さまざまな場所にポインタ変数のコピーがある、という状況では、「正しく1度だけ`delete`する」というのは非常に困難になります。\n",
        "\n",
        "この問題も、`shared_ptr`を使えば解決できます。`shared_ptr`は「コピーされた回数」を覚える機能を持っているからです。\n",
        "\n",
        "次のプログラムは、`shared_ptr`を使って上のプログラムを書き直した例です。\n",
        "\n",
        "**コード**\n",
        "\n",
        "```cpp\n",
        "#include <iostream>\n",
        "#include <memory>\n",
        "using namespace std;\n",
        "\n",
        "int main() {\n",
        "  shared_ptr<int> a = make_shared<int>(10);\n",
        "\n",
        "  shared_ptr<int> b = a; // aとbは同じメモリアドレスを指す\n",
        "                         // aはコピーされたことを記録する\n",
        "  *b += 5;\n",
        "  cout << *a << endl; // 15が出力される\n",
        "} // ここでaとbが削除され、メモリの解放が1度だけ行われる\n",
        "```\n",
        "\n",
        "このように、`shared_ptr`を使うと、ポインタのコピーの管理とメモリの解放を、全てコンピュータに任せられます。<br>\n",
        "どれだけコピーを作ろうと、頭を悩ませて、いつ、どこに`delete`を書くべきかを考える必要はありません。\n"
      ],
      "metadata": {
        "id": "yc-VZafsilli"
      }
    },
    {
      "cell_type": "markdown",
      "source": [
        "### 3.3 vectorとshared_ptr\n",
        "\n",
        "`new`で取得したポインタを`vector`配列に格納する場合、削除する前に`delete`しなくてはならない、という説明をしました。<br>\n",
        "ですが、`shared_ptr`を使えば、削除の心配はなくなります。\n",
        "\n",
        "また、汎用アルゴリズムも使えるようになります。<br>\n",
        "というのも、汎用アルゴリズムで削除された場合でも、必ずデストラクタが呼び出されるからです。\n",
        "\n",
        "次のプログラムは、`vector`と動的メモリ管理を組み合わせたプログラムを、`shared_ptr`を使うように修正したものです。\n",
        "\n",
        "**コード**\n",
        "\n",
        "```cpp\n",
        "#include <iostream>\n",
        "#include <vector>\n",
        "#include <memory>\n",
        "using namespace std;\n",
        "\n",
        "int main() {\n",
        "  vector<shared_ptr<int>> v(5); // shared_ptr<int>の配列\n",
        "\n",
        "  // make_sharedを使ってメモリを確保\n",
        "  for (int i = 0; i < 5; i++) {\n",
        "    v[i] = make_shared<int>(i + 1);\n",
        "  }\n",
        "\n",
        "  for (auto i = v.begin(); i != v.end(); i++) {\n",
        "    cout << **i << \" \"; // イテレータとポインタで、'*'記号が2つ必要\n",
        "  }\n",
        "  cout << endl;\n",
        "\n",
        "  v.pop_back(); // OK\n",
        "  v.clear(); // OK\n",
        "\n",
        "  // NG: shared_ptrが管理しているメモリを、勝手にdeleteしてはいけない\n",
        "  //delete v.back();\n",
        "  //v.pop_back();\n",
        "\n",
        "  // NG: shared_ptrが管理しているメモリを、勝手にdeleteしてはいけない\n",
        "  //for (auto i = v.begin(); i != v.end(); i++) {\n",
        "  //  delete *i;\n",
        "  //}\n",
        "  //v.clear();\n",
        "}\n",
        "```\n",
        "\n",
        "`delete`がなくなり、`pop_back`や`clear`メンバ関数でいつでも要素を削除できるようになっています。<br>\n",
        "プログラムに登場してはいませんが、もちろん`erase`も使えます。\n",
        "\n"
      ],
      "metadata": {
        "id": "UUN30u6X5HUw"
      }
    },
    {
      "cell_type": "markdown",
      "source": [
        "### 3.4 安全な動的メモリ管理を使おう\n",
        "\n",
        "ここまで説明したように、`new`, `delete`または`malloc`, `free`による動的メモリ管理は、`shared_ptr`と比べて以下の問題があります。\n",
        "\n",
        "* ポインタの参照先が普通の変数なのか、動的メモリ管理で作られたものなのかの判断が難しい\n",
        "* 削除を忘れると「メモリ・リーク」が発生する\n",
        "* 削除したオブジェクトを読み書きすると「実行時エラー」や「論理エラー」が発生する\n",
        "* `vector`と組み合わせる場合、要素を削除する前に`delete`が必要になる\n",
        "* 要素の削除を伴う汎用アルゴリズムが使えない\n",
        "\n",
        "多くのプログラム書いて経験を積むまでは、これらは大した問題ではないように思えるかもしれません。<br>\n",
        "それでも、特に理由がないかぎり、動的メモリ管理には`shared_ptr`クラスと`make_shared`関数を使うことをおすすめします。\n"
      ],
      "metadata": {
        "id": "D2ES8BObu7Qw"
      }
    },
    {
      "cell_type": "markdown",
      "source": [
        "----\n",
        "\n",
        "## 4 練習問題\n",
        "\n",
        "----\n",
        "\n",
        "以下の手順にしたがって、各問題のプログラムを完成させなさい。\n",
        "\n",
        "1. `%%writefile ...`の下の行からがプログラムです。問題文に従ってプログラムを修正、または追加してください。\n",
        "2. プログラムを修正したら、セルの右側にある`▶`をクリックします。すると、ファイルが保存されます。\n",
        "3. 「動作テスト」セルの`▶`をクリックすると、2で保存したファイルがコンパイル＆実行され、実行結果が表示されます。<br>\n",
        "   このセルは、修正したプログラムの動作を確認するために使ってください。\n",
        "4. 「実行」セルの`▶`をクリックすると、2で保存したファイルがコンパイル＆実行され、結果の成否が判定されます。\n",
        "5. 判定に成功したら`AC`と表示されます。次の問題に進んでください。\n",
        "6. 失敗したら`WA`と表示されます(その前にエラーメッセージが表示される場合もあります)。<br>\n",
        "   これは、プログラムのどこかにエラーがあることを意味します。<br>\n",
        "   「動作テスト」を使ってエラーを修正し、`AC`を目指してください。\n"
      ],
      "metadata": {
        "id": "rTpxTWsUxkP4"
      }
    },
    {
      "cell_type": "code",
      "source": [
        "# 自動メモリ管理と静的メモリ管理で各1問\n",
        "# new, deleteで2問\n",
        "# malloc, freeで1問\n",
        "# shared_ptrで3問\n",
        "# 応用問題を2問"
      ],
      "metadata": {
        "id": "cP_7DEZ6MlAE"
      },
      "execution_count": null,
      "outputs": []
    },
    {
      "cell_type": "markdown",
      "source": [
        "### ❓️問題１ 自動的なメモリ管理\n",
        "\n",
        "自動的なメモリ管理によって、変数が削除される順番を確認したいです。<br>\n",
        "数字が`1`, `2`, `3`, `4`の順番で出力されるように、変数`a`, `b`, `c`, `d`のコンストラクタ引数に`1`～`4`のいずれかの数字を入れなさい。\n",
        "\n",
        "**出力例**\n",
        "\n",
        "```txt\n",
        "1\n",
        "2\n",
        "3\n",
        "4\n",
        "```\n"
      ],
      "metadata": {
        "id": "RnTTS8R1APhR"
      }
    },
    {
      "cell_type": "code",
      "source": [
        "%%writefile practice_01a.cpp\n",
        "#include <iostream>\n",
        "using namespace std;\n",
        "\n",
        "struct S {\n",
        "  S(int n) : x(n) {} // コンストラクタ\n",
        "  ~S() { cout << x << endl; } // デストラクタ\n",
        "\n",
        "  int x = 0;\n",
        "};\n",
        "\n",
        "int main() {\n",
        "\n",
        "  // 以下の4つの？を、1～4のいずれかの数字に書き換える\n",
        "  S a(？);\n",
        "  {\n",
        "    S b(？);\n",
        "    {\n",
        "      S c(？);\n",
        "    }\n",
        "    S d(？);\n",
        "  }\n",
        "}"
      ],
      "metadata": {
        "id": "aZKGwoKdDCQv"
      },
      "execution_count": null,
      "outputs": []
    },
    {
      "cell_type": "code",
      "source": [
        "# @title 動作テスト\n",
        "!g++ -std=c++20 -O2 -Wall -Wextra -o practice_01a practice_01a.cpp && ./practice_01a"
      ],
      "metadata": {
        "cellView": "form",
        "id": "RcN7Wavoee1J"
      },
      "execution_count": null,
      "outputs": []
    },
    {
      "cell_type": "code",
      "source": [
        "# @title 実行\n",
        "!diff -Z <(echo -e \"1\\n2\\n3\\n4\") <(g++ -std=c++20 -O2 -Wall -Wextra -o practice_01a practice_01a.cpp && ./practice_01a) > nil && test $? -eq 0 && echo -e \"\\033[32;1mAC\" || echo -e \"\\033[31;1mWA\""
      ],
      "metadata": {
        "cellView": "form",
        "id": "UACB1zePNew-"
      },
      "execution_count": null,
      "outputs": []
    },
    {
      "cell_type": "code",
      "source": [
        "# @title 🔒解答例(どうしても問題を解けない場合に見てください)\n",
        "%%writefile practice_01a.cpp\n",
        "#include <iostream>\n",
        "using namespace std;\n",
        "\n",
        "struct S {\n",
        "  S(int n) : x(n) {} // コンストラクタ\n",
        "  ~S() { cout << x << endl; } // デストラクタ\n",
        "\n",
        "  int x = 0;\n",
        "};\n",
        "\n",
        "int main() {\n",
        "\n",
        "  // 以下の4つの？を、1～4のいずれかの数字に書き換える\n",
        "  S a(4);\n",
        "  {\n",
        "    S b(3);\n",
        "    {\n",
        "      S c(1);\n",
        "    }\n",
        "    S d(2);\n",
        "  }\n",
        "}"
      ],
      "metadata": {
        "cellView": "form",
        "id": "pO96k065l9rf"
      },
      "execution_count": null,
      "outputs": []
    },
    {
      "cell_type": "markdown",
      "source": [
        "### ❓️問題２ 静的なメモリ管理\n",
        "\n",
        "自動的なメモリ管理に加えて、静的なメモリ管理によって、変数が削除される順番を確認したいです。<br>\n",
        "数字が`1`, `2`, `3`, `4`, `5`の順番で出力されるように、変数`a`, `b`, `c`, `d`, `e`のコンストラクタ引数に`1`～`5`のいずれかの数字を入れなさい。\n",
        "\n",
        "**出力例**\n",
        "\n",
        "```txt\n",
        "1\n",
        "2\n",
        "3\n",
        "4\n",
        "5\n",
        "```\n"
      ],
      "metadata": {
        "id": "pb1rl1FtoD9i"
      }
    },
    {
      "cell_type": "code",
      "source": [
        "%%writefile practice_01b.cpp\n",
        "#include <iostream>\n",
        "using namespace std;\n",
        "\n",
        "struct S {\n",
        "  S(int n) : x(n) {} // コンストラクタ\n",
        "  ~S() { cout << x << endl; } // デストラクタ\n",
        "\n",
        "  int x = 0;\n",
        "};\n",
        "\n",
        "// 以下の5つの？を、1～5のいずれかの数字に書き換える\n",
        "S e(？);\n",
        "\n",
        "int main() {\n",
        "\n",
        "  S a(？);\n",
        "  {\n",
        "    S b(？);\n",
        "    {\n",
        "      static S c(？);\n",
        "    }\n",
        "    static S d(？);\n",
        "  }\n",
        "}"
      ],
      "metadata": {
        "id": "kk0CVHGZoD9j"
      },
      "execution_count": null,
      "outputs": []
    },
    {
      "cell_type": "code",
      "source": [
        "# @title 動作テスト\n",
        "!g++ -std=c++20 -O2 -Wall -Wextra -o practice_01b practice_01b.cpp && ./practice_01b"
      ],
      "metadata": {
        "id": "BpJwvllfoD9k"
      },
      "execution_count": null,
      "outputs": []
    },
    {
      "cell_type": "code",
      "source": [
        "# @title 実行\n",
        "!diff -Z <(echo -e \"1\\n2\\n3\\n4\\n5\") <(g++ -std=c++20 -O2 -Wall -Wextra -o practice_01b practice_01b.cpp && ./practice_01b) > nil && test $? -eq 0 && echo -e \"\\033[32;1mAC\" || echo -e \"\\033[31;1mWA\""
      ],
      "metadata": {
        "cellView": "form",
        "id": "csn6RIXLoD9k"
      },
      "execution_count": null,
      "outputs": []
    },
    {
      "cell_type": "code",
      "source": [
        "# @title 🔒解答例(どうしても問題を解けない場合に見てください)\n",
        "%%writefile practice_01b.cpp\n",
        "#include <iostream>\n",
        "using namespace std;\n",
        "\n",
        "struct S {\n",
        "  S(int n) : x(n) {} // コンストラクタ\n",
        "  ~S() { cout << x << endl; } // デストラクタ\n",
        "\n",
        "  int x = 0;\n",
        "};\n",
        "\n",
        "// 以下の5つの？を、1～5のいずれかの数字に書き換える\n",
        "S e(5);\n",
        "\n",
        "int main() {\n",
        "\n",
        "  S a(2);\n",
        "  {\n",
        "    S b(1);\n",
        "    {\n",
        "      static S c(4);\n",
        "    }\n",
        "    static S d(3);\n",
        "  }\n",
        "}"
      ],
      "metadata": {
        "cellView": "form",
        "id": "SwHozCK7oD9k"
      },
      "execution_count": null,
      "outputs": []
    },
    {
      "cell_type": "markdown",
      "source": [
        "### ❓️問題３\n",
        "\n",
        "\n",
        "<br><details><summary>🗝️(クリックでヒントを見る)</summary>\n",
        "\n",
        "**プログラム例**\n",
        "\n",
        "1.\n",
        "2.\n",
        "3.\n",
        "\n",
        "</details><br>\n",
        "\n",
        "**入力データ例（１）**\n",
        "\n",
        "```txt\n",
        "\n",
        "```\n",
        "\n",
        "**出力例（１）**\n",
        "\n",
        "```txt\n",
        "\n",
        "```\n",
        "\n",
        "**入力データ例（２）**\n",
        "\n",
        "```txt\n",
        "\n",
        "```\n",
        "\n",
        "**出力例（２）**\n",
        "\n",
        "```txt\n",
        "\n",
        "```\n"
      ],
      "metadata": {
        "id": "7sVAdBPlx31W"
      }
    },
    {
      "cell_type": "code",
      "source": [
        "%%writefile practice_02a.cpp\n",
        "#include <iostream>\n",
        "#include <string>\n",
        "#include <stdlib.h>\n",
        "using namespace std;\n",
        "\n",
        "int main() {\n",
        "  // この下に、\n",
        "\n",
        "}"
      ],
      "metadata": {
        "id": "xCyAOidqx31X"
      },
      "execution_count": null,
      "outputs": []
    },
    {
      "cell_type": "code",
      "source": [
        "# @title 動作テスト\n",
        "!g++ -std=c++20 -O2 -Wall -Wextra -o practice_02a practice_02a.cpp && echo \"この下をクリックして、を入力\" && ./practice_02a"
      ],
      "metadata": {
        "id": "6yuzKQHrx31X"
      },
      "execution_count": null,
      "outputs": []
    },
    {
      "cell_type": "code",
      "source": [
        "# @title 実行\n",
        "!diff -Z <(echo -e \"\") <(g++ -std=c++20 -O2 -Wall -Wextra -o practice_02a practice_02a.cpp && echo \"\" | ./practice_02a && echo \"\" | ./practice_02a && echo \"\" | ./practice_02a && echo \"\" | ./practice_02a) > nil && test $? -eq 0 && echo -e \"\\033[32;1mAC\" || echo -e \"\\033[31;1mWA\""
      ],
      "metadata": {
        "id": "lnr8ZXi_x31X"
      },
      "execution_count": null,
      "outputs": []
    },
    {
      "cell_type": "code",
      "source": [
        "# @title 🔒解答例(どうしても問題を解けない場合に見てください)\n",
        "%%writefile practice_02a.cpp\n",
        "#include <iostream>\n",
        "#include <string>\n",
        "#include <stdlib.h>\n",
        "using namespace std;\n",
        "\n",
        "int main() {\n",
        "  // この下に、\n",
        "\n",
        "}"
      ],
      "metadata": {
        "id": "kMmZVvhsx31X"
      },
      "execution_count": null,
      "outputs": []
    },
    {
      "cell_type": "markdown",
      "source": [
        "### ❓️問題４\n",
        "\n",
        "\n",
        "<br><details><summary>🗝️(クリックでヒントを見る)</summary>\n",
        "\n",
        "**プログラム例**\n",
        "\n",
        "1.\n",
        "2.\n",
        "3.\n",
        "\n",
        "</details><br>\n",
        "\n",
        "**入力データ例（１）**\n",
        "\n",
        "```txt\n",
        "\n",
        "```\n",
        "\n",
        "**出力例（１）**\n",
        "\n",
        "```txt\n",
        "\n",
        "```\n",
        "\n",
        "**入力データ例（２）**\n",
        "\n",
        "```txt\n",
        "\n",
        "```\n",
        "\n",
        "**出力例（２）**\n",
        "\n",
        "```txt\n",
        "\n",
        "```\n"
      ],
      "metadata": {
        "id": "n4jmuLF1yvgj"
      }
    },
    {
      "cell_type": "code",
      "source": [
        "%%writefile practice_02a.cpp\n",
        "#include <iostream>\n",
        "#include <string>\n",
        "#include <stdlib.h>\n",
        "using namespace std;\n",
        "\n",
        "int main() {\n",
        "  // この下に、\n",
        "\n",
        "}"
      ],
      "metadata": {
        "id": "z-6hMMRqyvgk"
      },
      "execution_count": null,
      "outputs": []
    },
    {
      "cell_type": "code",
      "source": [
        "# @title 動作テスト\n",
        "!g++ -std=c++20 -O2 -Wall -Wextra -o practice_02a practice_02a.cpp && echo \"この下をクリックして、を入力\" && ./practice_02a"
      ],
      "metadata": {
        "id": "t2weqiXYyvgk"
      },
      "execution_count": null,
      "outputs": []
    },
    {
      "cell_type": "code",
      "source": [
        "# @title 実行\n",
        "!diff -Z <(echo -e \"\") <(g++ -std=c++20 -O2 -Wall -Wextra -o practice_02a practice_02a.cpp && echo \"\" | ./practice_02a && echo \"\" | ./practice_02a && echo \"\" | ./practice_02a && echo \"\" | ./practice_02a) > nil && test $? -eq 0 && echo -e \"\\033[32;1mAC\" || echo -e \"\\033[31;1mWA\""
      ],
      "metadata": {
        "id": "sLLWH-tGyvgk"
      },
      "execution_count": null,
      "outputs": []
    },
    {
      "cell_type": "code",
      "source": [
        "# @title 🔒解答例(どうしても問題を解けない場合に見てください)\n",
        "%%writefile practice_02a.cpp\n",
        "#include <iostream>\n",
        "#include <string>\n",
        "#include <stdlib.h>\n",
        "using namespace std;\n",
        "\n",
        "int main() {\n",
        "  // この下に、\n",
        "\n",
        "}"
      ],
      "metadata": {
        "id": "8DLEvFdbyvgk"
      },
      "execution_count": null,
      "outputs": []
    },
    {
      "cell_type": "markdown",
      "source": [
        "### ❓️問題５\n",
        "\n",
        "\n",
        "<br><details><summary>🗝️(クリックでヒントを見る)</summary>\n",
        "\n",
        "**プログラム例**\n",
        "\n",
        "1.\n",
        "2.\n",
        "3.\n",
        "\n",
        "</details><br>\n",
        "\n",
        "**入力データ例（１）**\n",
        "\n",
        "```txt\n",
        "\n",
        "```\n",
        "\n",
        "**出力例（１）**\n",
        "\n",
        "```txt\n",
        "\n",
        "```\n",
        "\n",
        "**入力データ例（２）**\n",
        "\n",
        "```txt\n",
        "\n",
        "```\n",
        "\n",
        "**出力例（２）**\n",
        "\n",
        "```txt\n",
        "\n",
        "```\n"
      ],
      "metadata": {
        "id": "sraaDiOuyvqw"
      }
    },
    {
      "cell_type": "code",
      "source": [
        "%%writefile practice_02a.cpp\n",
        "#include <iostream>\n",
        "#include <string>\n",
        "#include <stdlib.h>\n",
        "using namespace std;\n",
        "\n",
        "int main() {\n",
        "  // この下に、\n",
        "\n",
        "}"
      ],
      "metadata": {
        "id": "lp_h46gvyvqx"
      },
      "execution_count": null,
      "outputs": []
    },
    {
      "cell_type": "code",
      "source": [
        "# @title 動作テスト\n",
        "!g++ -std=c++20 -O2 -Wall -Wextra -o practice_02a practice_02a.cpp && echo \"この下をクリックして、を入力\" && ./practice_02a"
      ],
      "metadata": {
        "id": "iKRT86gFyvqx"
      },
      "execution_count": null,
      "outputs": []
    },
    {
      "cell_type": "code",
      "source": [
        "# @title 実行\n",
        "!diff -Z <(echo -e \"\") <(g++ -std=c++20 -O2 -Wall -Wextra -o practice_02a practice_02a.cpp && echo \"\" | ./practice_02a && echo \"\" | ./practice_02a && echo \"\" | ./practice_02a && echo \"\" | ./practice_02a) > nil && test $? -eq 0 && echo -e \"\\033[32;1mAC\" || echo -e \"\\033[31;1mWA\""
      ],
      "metadata": {
        "id": "mX1AW7y5yvqx"
      },
      "execution_count": null,
      "outputs": []
    },
    {
      "cell_type": "code",
      "source": [
        "# @title 🔒解答例(どうしても問題を解けない場合に見てください)\n",
        "%%writefile practice_02a.cpp\n",
        "#include <iostream>\n",
        "#include <string>\n",
        "#include <stdlib.h>\n",
        "using namespace std;\n",
        "\n",
        "int main() {\n",
        "  // この下に、\n",
        "\n",
        "}"
      ],
      "metadata": {
        "id": "YIp1JSzYyvqx"
      },
      "execution_count": null,
      "outputs": []
    },
    {
      "cell_type": "markdown",
      "source": [
        "### ❓️問題６\n",
        "\n",
        "\n",
        "<br><details><summary>🗝️(クリックでヒントを見る)</summary>\n",
        "\n",
        "**プログラム例**\n",
        "\n",
        "1.\n",
        "2.\n",
        "3.\n",
        "\n",
        "</details><br>\n",
        "\n",
        "**入力データ例（１）**\n",
        "\n",
        "```txt\n",
        "\n",
        "```\n",
        "\n",
        "**出力例（１）**\n",
        "\n",
        "```txt\n",
        "\n",
        "```\n",
        "\n",
        "**入力データ例（２）**\n",
        "\n",
        "```txt\n",
        "\n",
        "```\n",
        "\n",
        "**出力例（２）**\n",
        "\n",
        "```txt\n",
        "\n",
        "```\n"
      ],
      "metadata": {
        "id": "yYTRtfbXyvxh"
      }
    },
    {
      "cell_type": "code",
      "source": [
        "%%writefile practice_02a.cpp\n",
        "#include <iostream>\n",
        "#include <string>\n",
        "#include <stdlib.h>\n",
        "using namespace std;\n",
        "\n",
        "int main() {\n",
        "  // この下に、\n",
        "\n",
        "}"
      ],
      "metadata": {
        "id": "rIELQ6qEyvxj"
      },
      "execution_count": null,
      "outputs": []
    },
    {
      "cell_type": "code",
      "source": [
        "# @title 動作テスト\n",
        "!g++ -std=c++20 -O2 -Wall -Wextra -o practice_02a practice_02a.cpp && echo \"この下をクリックして、を入力\" && ./practice_02a"
      ],
      "metadata": {
        "id": "RTlXT1U0yvxj"
      },
      "execution_count": null,
      "outputs": []
    },
    {
      "cell_type": "code",
      "source": [
        "# @title 実行\n",
        "!diff -Z <(echo -e \"\") <(g++ -std=c++20 -O2 -Wall -Wextra -o practice_02a practice_02a.cpp && echo \"\" | ./practice_02a && echo \"\" | ./practice_02a && echo \"\" | ./practice_02a && echo \"\" | ./practice_02a) > nil && test $? -eq 0 && echo -e \"\\033[32;1mAC\" || echo -e \"\\033[31;1mWA\""
      ],
      "metadata": {
        "id": "XhS8L3Ciyvxj"
      },
      "execution_count": null,
      "outputs": []
    },
    {
      "cell_type": "code",
      "source": [
        "# @title 🔒解答例(どうしても問題を解けない場合に見てください)\n",
        "%%writefile practice_02a.cpp\n",
        "#include <iostream>\n",
        "#include <string>\n",
        "#include <stdlib.h>\n",
        "using namespace std;\n",
        "\n",
        "int main() {\n",
        "  // この下に、\n",
        "\n",
        "}"
      ],
      "metadata": {
        "id": "LJ4-lAAXyvxj"
      },
      "execution_count": null,
      "outputs": []
    },
    {
      "cell_type": "markdown",
      "source": [
        "### ❓️問題７\n",
        "\n",
        "\n",
        "<br><details><summary>🗝️(クリックでヒントを見る)</summary>\n",
        "\n",
        "**プログラム例**\n",
        "\n",
        "1.\n",
        "2.\n",
        "3.\n",
        "\n",
        "</details><br>\n",
        "\n",
        "**入力データ例（１）**\n",
        "\n",
        "```txt\n",
        "\n",
        "```\n",
        "\n",
        "**出力例（１）**\n",
        "\n",
        "```txt\n",
        "\n",
        "```\n",
        "\n",
        "**入力データ例（２）**\n",
        "\n",
        "```txt\n",
        "\n",
        "```\n",
        "\n",
        "**出力例（２）**\n",
        "\n",
        "```txt\n",
        "\n",
        "```\n"
      ],
      "metadata": {
        "id": "Pu4Eiy3Iyv4L"
      }
    },
    {
      "cell_type": "code",
      "source": [
        "%%writefile practice_02a.cpp\n",
        "#include <iostream>\n",
        "#include <string>\n",
        "#include <stdlib.h>\n",
        "using namespace std;\n",
        "\n",
        "int main() {\n",
        "  // この下に、\n",
        "\n",
        "}"
      ],
      "metadata": {
        "id": "qTNAORz0yv4L"
      },
      "execution_count": null,
      "outputs": []
    },
    {
      "cell_type": "code",
      "source": [
        "# @title 動作テスト\n",
        "!g++ -std=c++20 -O2 -Wall -Wextra -o practice_02a practice_02a.cpp && echo \"この下をクリックして、を入力\" && ./practice_02a"
      ],
      "metadata": {
        "id": "hAMy4Rdeyv4L"
      },
      "execution_count": null,
      "outputs": []
    },
    {
      "cell_type": "code",
      "source": [
        "# @title 実行\n",
        "!diff -Z <(echo -e \"\") <(g++ -std=c++20 -O2 -Wall -Wextra -o practice_02a practice_02a.cpp && echo \"\" | ./practice_02a && echo \"\" | ./practice_02a && echo \"\" | ./practice_02a && echo \"\" | ./practice_02a) > nil && test $? -eq 0 && echo -e \"\\033[32;1mAC\" || echo -e \"\\033[31;1mWA\""
      ],
      "metadata": {
        "id": "yknj1BCzyv4L"
      },
      "execution_count": null,
      "outputs": []
    },
    {
      "cell_type": "code",
      "source": [
        "# @title 🔒解答例(どうしても問題を解けない場合に見てください)\n",
        "%%writefile practice_02a.cpp\n",
        "#include <iostream>\n",
        "#include <string>\n",
        "#include <stdlib.h>\n",
        "using namespace std;\n",
        "\n",
        "int main() {\n",
        "  // この下に、\n",
        "\n",
        "}"
      ],
      "metadata": {
        "id": "BLwVhSEWyv4L"
      },
      "execution_count": null,
      "outputs": []
    },
    {
      "cell_type": "markdown",
      "source": [
        "### ❓️問題８\n",
        "\n",
        "\n",
        "<br><details><summary>🗝️(クリックでヒントを見る)</summary>\n",
        "\n",
        "**プログラム例**\n",
        "\n",
        "1.\n",
        "2.\n",
        "3.\n",
        "\n",
        "</details><br>\n",
        "\n",
        "**入力データ例（１）**\n",
        "\n",
        "```txt\n",
        "\n",
        "```\n",
        "\n",
        "**出力例（１）**\n",
        "\n",
        "```txt\n",
        "\n",
        "```\n",
        "\n",
        "**入力データ例（２）**\n",
        "\n",
        "```txt\n",
        "\n",
        "```\n",
        "\n",
        "**出力例（２）**\n",
        "\n",
        "```txt\n",
        "\n",
        "```\n"
      ],
      "metadata": {
        "id": "J75MKg-syv-g"
      }
    },
    {
      "cell_type": "code",
      "source": [
        "%%writefile practice_02a.cpp\n",
        "#include <iostream>\n",
        "#include <string>\n",
        "#include <stdlib.h>\n",
        "using namespace std;\n",
        "\n",
        "int main() {\n",
        "  // この下に、\n",
        "\n",
        "}"
      ],
      "metadata": {
        "id": "_YssGPcSyv-g"
      },
      "execution_count": null,
      "outputs": []
    },
    {
      "cell_type": "code",
      "source": [
        "# @title 動作テスト\n",
        "!g++ -std=c++20 -O2 -Wall -Wextra -o practice_02a practice_02a.cpp && echo \"この下をクリックして、を入力\" && ./practice_02a"
      ],
      "metadata": {
        "id": "XYlQQlVxyv-g"
      },
      "execution_count": null,
      "outputs": []
    },
    {
      "cell_type": "code",
      "source": [
        "# @title 実行\n",
        "!diff -Z <(echo -e \"\") <(g++ -std=c++20 -O2 -Wall -Wextra -o practice_02a practice_02a.cpp && echo \"\" | ./practice_02a && echo \"\" | ./practice_02a && echo \"\" | ./practice_02a && echo \"\" | ./practice_02a) > nil && test $? -eq 0 && echo -e \"\\033[32;1mAC\" || echo -e \"\\033[31;1mWA\""
      ],
      "metadata": {
        "id": "YAUKrycYyv-h"
      },
      "execution_count": null,
      "outputs": []
    },
    {
      "cell_type": "code",
      "source": [
        "# @title 🔒解答例(どうしても問題を解けない場合に見てください)\n",
        "%%writefile practice_02a.cpp\n",
        "#include <iostream>\n",
        "#include <string>\n",
        "#include <stdlib.h>\n",
        "using namespace std;\n",
        "\n",
        "int main() {\n",
        "  // この下に、\n",
        "\n",
        "}"
      ],
      "metadata": {
        "id": "AEwQ8KcRyv-h"
      },
      "execution_count": null,
      "outputs": []
    },
    {
      "cell_type": "markdown",
      "source": [
        "### ❓️問題９\n",
        "\n",
        "\n",
        "<br><details><summary>🗝️(クリックでヒントを見る)</summary>\n",
        "\n",
        "**プログラム例**\n",
        "\n",
        "1.\n",
        "2.\n",
        "3.\n",
        "\n",
        "</details><br>\n",
        "\n",
        "**入力データ例（１）**\n",
        "\n",
        "```txt\n",
        "\n",
        "```\n",
        "\n",
        "**出力例（１）**\n",
        "\n",
        "```txt\n",
        "\n",
        "```\n",
        "\n",
        "**入力データ例（２）**\n",
        "\n",
        "```txt\n",
        "\n",
        "```\n",
        "\n",
        "**出力例（２）**\n",
        "\n",
        "```txt\n",
        "\n",
        "```\n"
      ],
      "metadata": {
        "id": "KH_aDag3ywGr"
      }
    },
    {
      "cell_type": "code",
      "source": [
        "%%writefile practice_02a.cpp\n",
        "#include <iostream>\n",
        "#include <string>\n",
        "#include <stdlib.h>\n",
        "using namespace std;\n",
        "\n",
        "int main() {\n",
        "  // この下に、\n",
        "\n",
        "}"
      ],
      "metadata": {
        "id": "mMSmv7-EywGr"
      },
      "execution_count": null,
      "outputs": []
    },
    {
      "cell_type": "code",
      "source": [
        "# @title 動作テスト\n",
        "!g++ -std=c++20 -O2 -Wall -Wextra -o practice_02a practice_02a.cpp && echo \"この下をクリックして、を入力\" && ./practice_02a"
      ],
      "metadata": {
        "id": "S1NvFL0aywGs"
      },
      "execution_count": null,
      "outputs": []
    },
    {
      "cell_type": "code",
      "source": [
        "# @title 実行\n",
        "!diff -Z <(echo -e \"\") <(g++ -std=c++20 -O2 -Wall -Wextra -o practice_02a practice_02a.cpp && echo \"\" | ./practice_02a && echo \"\" | ./practice_02a && echo \"\" | ./practice_02a && echo \"\" | ./practice_02a) > nil && test $? -eq 0 && echo -e \"\\033[32;1mAC\" || echo -e \"\\033[31;1mWA\""
      ],
      "metadata": {
        "id": "qgMQrMDFywGs"
      },
      "execution_count": null,
      "outputs": []
    },
    {
      "cell_type": "code",
      "source": [
        "# @title 🔒解答例(どうしても問題を解けない場合に見てください)\n",
        "%%writefile practice_02a.cpp\n",
        "#include <iostream>\n",
        "#include <string>\n",
        "#include <stdlib.h>\n",
        "using namespace std;\n",
        "\n",
        "int main() {\n",
        "  // この下に、\n",
        "\n",
        "}"
      ],
      "metadata": {
        "id": "fT63mw96ywGs"
      },
      "execution_count": null,
      "outputs": []
    },
    {
      "cell_type": "markdown",
      "source": [
        "### ❓️問題１０\n",
        "\n",
        "\n",
        "<br><details><summary>🗝️(クリックでヒントを見る)</summary>\n",
        "\n",
        "**プログラム例**\n",
        "\n",
        "1.\n",
        "2.\n",
        "3.\n",
        "\n",
        "</details><br>\n",
        "\n",
        "**入力データ例（１）**\n",
        "\n",
        "```txt\n",
        "\n",
        "```\n",
        "\n",
        "**出力例（１）**\n",
        "\n",
        "```txt\n",
        "\n",
        "```\n",
        "\n",
        "**入力データ例（２）**\n",
        "\n",
        "```txt\n",
        "\n",
        "```\n",
        "\n",
        "**出力例（２）**\n",
        "\n",
        "```txt\n",
        "\n",
        "```\n"
      ],
      "metadata": {
        "id": "bwBfiVvjywU2"
      }
    },
    {
      "cell_type": "code",
      "source": [
        "%%writefile practice_02a.cpp\n",
        "#include <iostream>\n",
        "#include <string>\n",
        "#include <stdlib.h>\n",
        "using namespace std;\n",
        "\n",
        "int main() {\n",
        "  // この下に、\n",
        "\n",
        "}"
      ],
      "metadata": {
        "id": "cdK3tJhoywU2"
      },
      "execution_count": null,
      "outputs": []
    },
    {
      "cell_type": "code",
      "source": [
        "# @title 動作テスト\n",
        "!g++ -std=c++20 -O2 -Wall -Wextra -o practice_02a practice_02a.cpp && echo \"この下をクリックして、を入力\" && ./practice_02a"
      ],
      "metadata": {
        "id": "McrQNAB9ywU2"
      },
      "execution_count": null,
      "outputs": []
    },
    {
      "cell_type": "code",
      "source": [
        "# @title 実行\n",
        "!diff -Z <(echo -e \"\") <(g++ -std=c++20 -O2 -Wall -Wextra -o practice_02a practice_02a.cpp && echo \"\" | ./practice_02a && echo \"\" | ./practice_02a && echo \"\" | ./practice_02a && echo \"\" | ./practice_02a) > nil && test $? -eq 0 && echo -e \"\\033[32;1mAC\" || echo -e \"\\033[31;1mWA\""
      ],
      "metadata": {
        "id": "LKld5bP1ywU3"
      },
      "execution_count": null,
      "outputs": []
    },
    {
      "cell_type": "code",
      "source": [
        "# @title 🔒解答例(どうしても問題を解けない場合に見てください)\n",
        "%%writefile practice_02a.cpp\n",
        "#include <iostream>\n",
        "#include <string>\n",
        "#include <stdlib.h>\n",
        "using namespace std;\n",
        "\n",
        "int main() {\n",
        "  // この下に、\n",
        "\n",
        "}"
      ],
      "metadata": {
        "id": "BfKtNfzyywU3"
      },
      "execution_count": null,
      "outputs": []
    }
  ]
}